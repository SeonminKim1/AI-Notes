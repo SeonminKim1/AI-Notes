{
 "cells": [
  {
   "cell_type": "markdown",
   "metadata": {},
   "source": [
    "## RNN\n",
    "- 시계열 데이터 및 자연어 처리하는데 주로 사용\n",
    "- LSTM (Long short term memory), GRU(Gated recurrent unit)등이 언어 모델링(language modeling), 텍스트 감정 분석(text sentiment analysis, 기계 번역(machine translation) 등의 분야에서 활발하게 이용되고 있음\n",
    "\n",
    "### RNN 종류\n",
    "- 1) one to one (일대일) : 일반적인 신경망, CNN과 동일\n",
    "- 2) one to many (일대다) : 이미지를 보고 이미지 안의 상황을 글로 설명하는 문제\n",
    "- 3) many to one (다대일) : 감정 분석 같이 순차적인 데이터를 보고 하나를 내는 경우\n",
    "- 4) many to many1 (다대다1) : 챗봇과 기계 번역 같이 순차적인 데이터를 보고 순차적인 데이터를 출력하는 문제\n",
    "- 5) many to many2 (다대다2) : 비디오 분류 같이 매 프레임을 레이블링 할 때 사용됨\n",
    "![rnn](readme_image/rnn.png)\n",
    "\n",
    "### 영화 리뷰 감정 분석\n",
    "- 다대일\n",
    "- IMDB 데이터\n",
    "    - 긍정은 2, 부정은 1\n",
    "    - 영화 리뷰 데이터 5만 건\n",
    "\n",
    "### 데이터 전처리\n",
    "- 텍스트를 전처리 과정을 거쳐 숫자로 나타내어야 함.\n",
    "\n",
    "- (1) 토크나이징 (Tokenization)\n",
    "    - 언어의 최소 단위인 토큰으로 나누는 것\n",
    "    - split() 함수 또는 Spacy 오픈 소스 라이브러리 사용 가능\n",
    "    - 데이터셋의 모든 단어 수만큼의 벡터를 담는 사전을 정의\n",
    "        - ex) quick brown fox jumps over the lazy dog => ['quick', 'brown', 'fox', 'jumps', 'over', 'the', 'lazy', 'dog']\n",
    "\n",
    "- (2) 워드임베딩(word embedding)\n",
    "    - 문장 속 모든 토큰을 각각의 벡터로 나타내주는 것\n",
    "\n"
   ]
  },
  {
   "cell_type": "code",
   "execution_count": null,
   "metadata": {},
   "outputs": [],
   "source": [
    "import os\n",
    "import torch\n",
    "import torch.nn as nn\n",
    "import torch.nn.functional as F\n",
    "from torchtext import data, datasets # 자연어 처리 데이터셋\n",
    "\n",
    "batch_size =64\n",
    "lr = 0.001\n",
    "epochs = 40\n",
    "\n",
    "USE_CUDA = torch.cuda.is_avialable()\n",
    "DEVICE = torch.device(\"cuda\" if USE_CUDA else \"cpu\")\n",
    "\n",
    "# sequential 파라미터를 이용해 데이터셋이 순차적인 데이터셋인지 명시해줌\n",
    "TEXT = data.Field(sequential=True, batch_first=True, lower=True)\n",
    "LABEL = data.Field(sequential=False, batch_first = True)\n",
    "\n",
    "trainset, testset = datasets.IMDB.splits(TEXT, LABEL)\n",
    "\n",
    "TEXT.build_vocab(trainset, min_freq = 5) # \n",
    "LABEL.build_vocab(trainset)"
   ]
  }
 ],
 "metadata": {
  "kernelspec": {
   "display_name": "Python 3",
   "language": "python",
   "name": "python3"
  },
  "language_info": {
   "codemirror_mode": {
    "name": "ipython",
    "version": 3
   },
   "file_extension": ".py",
   "mimetype": "text/x-python",
   "name": "python",
   "nbconvert_exporter": "python",
   "pygments_lexer": "ipython3",
   "version": "3.7.5"
  }
 },
 "nbformat": 4,
 "nbformat_minor": 4
}
