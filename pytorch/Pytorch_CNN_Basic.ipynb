{
 "cells": [
  {
   "cell_type": "markdown",
   "metadata": {},
   "source": [
    "## Pytorch - Fashion MNIST\n",
    "\n",
    "### 1. Dataset Loader 준비"
   ]
  },
  {
   "cell_type": "code",
   "execution_count": 2,
   "metadata": {},
   "outputs": [],
   "source": [
    "import torch\n",
    "import torch.nn as nn\n",
    "import torch.optim as optim\n",
    "import torch.nn.functional as F\n",
    "from torchvision import transforms, datasets\n",
    "\n",
    "epochs = 10\n",
    "batch_size = 64\n",
    "\n",
    "train_loader = torch.utils.data.DataLoader(\n",
    "    datasets.FashionMNIST('/data', train=True, download=True,\n",
    "                          transform = transforms.Compose([\n",
    "                              transforms.ToTensor(),\n",
    "                              transforms.Normalize((0.1307,), (0.3081,))\n",
    "                          ])),\n",
    "    batch_size = batch_size, shuffle = True\n",
    ")\n",
    "\n",
    "test_loader = torch.utils.data.DataLoader(\n",
    "    datasets.FashionMNIST('/data', train=False, download = True,\n",
    "                         transform = transforms.Compose([\n",
    "                             transforms.ToTensor(),\n",
    "                             transforms.Normalize((0.1307, ), (0.3081,))\n",
    "                         ])),\n",
    "    batch_size = batch_size, shuffle = True\n",
    ")\n"
   ]
  },
  {
   "cell_type": "markdown",
   "metadata": {},
   "source": [
    "## 2. Build Model"
   ]
  },
  {
   "cell_type": "code",
   "execution_count": 3,
   "metadata": {},
   "outputs": [],
   "source": [
    "class Net(nn.Module):\n",
    "    def __init__(self):\n",
    "        super(Net, self).__init__()\n",
    "        self.conv1 = nn.Conv2d(1, 10, kernel_size=5) # input 채널수, output 채널수\n",
    "        self.conv2 = nn.Conv2d(10, 20, kernel_size=5) # 10개의 특징맵 , 20개의 특징맵\n",
    "        self.conv2_drop = nn.Dropout2d()\n",
    "        self.fc1 = nn.Linear(320, 50)\n",
    "        self.fc2 = nn.Linear(50, 10)\n",
    "        \n",
    "    # training 용\n",
    "    def forward(self, x):\n",
    "        x = F.relu(F.max_pool2d(self.conv1(x), 2)) # C -> M\n",
    "        x = F.relu(F.max_pool2d(self.conv2_drop(self.conv2(x)), 2)) # C -> D -> M\n",
    "        x = x.view(-1, 320) # reshape\n",
    "        x = F.relu(self.fc1(x)) # f - relu\n",
    "        x = F.dropout(x, training = self.training)\n",
    "        x = self.fc2(x) \n",
    "        return F.log_softmax(x, dim=1)"
   ]
  },
  {
   "cell_type": "markdown",
   "metadata": {},
   "source": [
    "## 3. Train Model"
   ]
  },
  {
   "cell_type": "code",
   "execution_count": 6,
   "metadata": {},
   "outputs": [],
   "source": [
    "USE_CUDA = torch.cuda.is_available()\n",
    "DEVICE = torch.device(\"cuda\" if USE_CUDA else \"cpu\")\n",
    "\n",
    "def train(model, train_loader, optimizer, epoch):\n",
    "    model.train()\n",
    "    for batch_idx, (data, target) in enumerate(train_loader):\n",
    "        data, target = data.to(DEVICE), target.to(DEVICE) # data, label DEVICE 로 DATA 보내기\n",
    "\n",
    "        # 반복 때마다 기울기를 새로 계산하므로, optimizer.zero_grad() 함수 호출\n",
    "        optimizer.zero_grad() # 최적화 함수에 대한 미분 진행 여부 설정\n",
    "        output = model(data) # model 통과한 결과\n",
    "        loss = F.cross_entropy(output, target) # target 과의 비교를 통한 cross entropy\n",
    "        loss.backward() # 역방향 전파\n",
    "        optimizer.step() # 미분 반복 진행\n",
    "        \n",
    "        if batch_idx % 200==0:\n",
    "            print('Train Epoch: {} [{}/{} ({:.0f}%)]\\tLoss: {:.6f}'.format(epoch, batch_idx*len(data),\n",
    "                                                                           len(train_loader.dataset),\n",
    "                                                                           100.*batch_idx / len(train_loader), loss.item())\n",
    "                 )\n",
    "\n",
    "# 평가때는 기울기를 계산하지 않음\n",
    "def evaluate(model, test_loader):\n",
    "    model.eval() # 평가 모드로 모델 변경\n",
    "    test_loss = 0 # 테스트 오차\n",
    "    correct=0 # 예측이 맞은 수\n",
    "    \n",
    "    with torch.no_grad():\n",
    "        for data, target in test_loader:\n",
    "            data, target = data.to(DEVICE), target.to(DEVICE) # test data, target DEVICE 로 전송\n",
    "            output = model(data) \n",
    "            \n",
    "            # 배치 오차 합산하기\n",
    "            # 교차엔트로피시 미니배치의 합을 받아와야 함. \n",
    "            test_loss += F.cross_entropy(output, target, reduction='sum').item() # item() 함수 - 1개의 값을 가진 텐서의 값을 가져옴\n",
    "        \n",
    "            # 가장 높은 값을 가진 인덱스가 바로 예측값\n",
    "            pred = output.max(1, keepdim=True)[1] # 가장 큰 확률 값을 가진 값 예측 -> 가장 큰 값과, 해당 값의 index 반환 -> index 사용\n",
    "            correct += pred.eq(target.view_as(pred)).sum().item() # view_as => target을 pred의 shape처럼 바꿔줌 / sum().item() => 맞춘갯수의 합\n",
    "\n",
    "    # 정확도 구하기\n",
    "    test_loss /= len(test_loader.dataset)\n",
    "    test_accuracy = 100. * correct / len(test_loader.dataset)\n",
    "\n",
    "    return test_loss, test_accuracy \n",
    "\n"
   ]
  },
  {
   "cell_type": "markdown",
   "metadata": {},
   "source": [
    "## 4. Model Validation"
   ]
  },
  {
   "cell_type": "code",
   "execution_count": 7,
   "metadata": {},
   "outputs": [
    {
     "name": "stdout",
     "output_type": "stream",
     "text": [
      "Train Epoch: 1 [0/60000 (0%)]\tLoss: 2.353333\n",
      "Train Epoch: 1 [12800/60000 (21%)]\tLoss: 1.221063\n",
      "Train Epoch: 1 [25600/60000 (43%)]\tLoss: 1.088006\n",
      "Train Epoch: 1 [38400/60000 (64%)]\tLoss: 0.676425\n",
      "Train Epoch: 1 [51200/60000 (85%)]\tLoss: 0.949381\n",
      "[1] Test Loss: 0.6760, Accuracy: 73.71%\n",
      "Train Epoch: 2 [0/60000 (0%)]\tLoss: 0.825007\n",
      "Train Epoch: 2 [12800/60000 (21%)]\tLoss: 0.797460\n",
      "Train Epoch: 2 [25600/60000 (43%)]\tLoss: 0.659373\n",
      "Train Epoch: 2 [38400/60000 (64%)]\tLoss: 0.947682\n",
      "Train Epoch: 2 [51200/60000 (85%)]\tLoss: 0.692488\n",
      "[2] Test Loss: 0.5860, Accuracy: 77.56%\n",
      "Train Epoch: 3 [0/60000 (0%)]\tLoss: 0.660218\n",
      "Train Epoch: 3 [12800/60000 (21%)]\tLoss: 0.744559\n",
      "Train Epoch: 3 [25600/60000 (43%)]\tLoss: 0.694208\n",
      "Train Epoch: 3 [38400/60000 (64%)]\tLoss: 1.160193\n",
      "Train Epoch: 3 [51200/60000 (85%)]\tLoss: 0.703206\n",
      "[3] Test Loss: 0.5474, Accuracy: 78.64%\n",
      "Train Epoch: 4 [0/60000 (0%)]\tLoss: 0.565432\n",
      "Train Epoch: 4 [12800/60000 (21%)]\tLoss: 0.662279\n",
      "Train Epoch: 4 [25600/60000 (43%)]\tLoss: 0.629750\n",
      "Train Epoch: 4 [38400/60000 (64%)]\tLoss: 0.580279\n",
      "Train Epoch: 4 [51200/60000 (85%)]\tLoss: 0.724189\n",
      "[4] Test Loss: 0.5219, Accuracy: 79.64%\n",
      "Train Epoch: 5 [0/60000 (0%)]\tLoss: 0.680653\n",
      "Train Epoch: 5 [12800/60000 (21%)]\tLoss: 0.672461\n",
      "Train Epoch: 5 [25600/60000 (43%)]\tLoss: 0.798652\n",
      "Train Epoch: 5 [38400/60000 (64%)]\tLoss: 0.640938\n",
      "Train Epoch: 5 [51200/60000 (85%)]\tLoss: 0.533678\n",
      "[5] Test Loss: 0.4922, Accuracy: 81.12%\n",
      "Train Epoch: 6 [0/60000 (0%)]\tLoss: 0.870150\n",
      "Train Epoch: 6 [12800/60000 (21%)]\tLoss: 0.613658\n",
      "Train Epoch: 6 [25600/60000 (43%)]\tLoss: 0.595419\n",
      "Train Epoch: 6 [38400/60000 (64%)]\tLoss: 0.776720\n",
      "Train Epoch: 6 [51200/60000 (85%)]\tLoss: 0.531229\n",
      "[6] Test Loss: 0.4740, Accuracy: 82.64%\n",
      "Train Epoch: 7 [0/60000 (0%)]\tLoss: 0.561346\n",
      "Train Epoch: 7 [12800/60000 (21%)]\tLoss: 0.472317\n",
      "Train Epoch: 7 [25600/60000 (43%)]\tLoss: 0.512271\n",
      "Train Epoch: 7 [38400/60000 (64%)]\tLoss: 0.419791\n",
      "Train Epoch: 7 [51200/60000 (85%)]\tLoss: 0.619212\n",
      "[7] Test Loss: 0.4665, Accuracy: 83.05%\n",
      "Train Epoch: 8 [0/60000 (0%)]\tLoss: 0.881140\n",
      "Train Epoch: 8 [12800/60000 (21%)]\tLoss: 0.469566\n",
      "Train Epoch: 8 [25600/60000 (43%)]\tLoss: 0.477701\n",
      "Train Epoch: 8 [38400/60000 (64%)]\tLoss: 0.455197\n",
      "Train Epoch: 8 [51200/60000 (85%)]\tLoss: 0.737457\n",
      "[8] Test Loss: 0.4507, Accuracy: 84.01%\n",
      "Train Epoch: 9 [0/60000 (0%)]\tLoss: 0.632140\n",
      "Train Epoch: 9 [12800/60000 (21%)]\tLoss: 0.577675\n",
      "Train Epoch: 9 [25600/60000 (43%)]\tLoss: 0.633498\n",
      "Train Epoch: 9 [38400/60000 (64%)]\tLoss: 0.399857\n",
      "Train Epoch: 9 [51200/60000 (85%)]\tLoss: 0.603966\n",
      "[9] Test Loss: 0.4251, Accuracy: 84.26%\n",
      "Train Epoch: 10 [0/60000 (0%)]\tLoss: 0.510426\n",
      "Train Epoch: 10 [12800/60000 (21%)]\tLoss: 0.598414\n",
      "Train Epoch: 10 [25600/60000 (43%)]\tLoss: 0.704073\n",
      "Train Epoch: 10 [38400/60000 (64%)]\tLoss: 0.795928\n",
      "Train Epoch: 10 [51200/60000 (85%)]\tLoss: 0.525287\n",
      "[10] Test Loss: 0.4129, Accuracy: 84.78%\n"
     ]
    }
   ],
   "source": [
    "# to 함수는 모델의 파라미터들을 지정한 장치의 메모리로 보냄\n",
    "model = Net().to(DEVICE)\n",
    "optimizer = optim.SGD(model.parameters(), lr=0.01, momentum=0.5)\n",
    "\n",
    "# 실제 학습 진행\n",
    "for epoch in range(1, epochs+1):\n",
    "    train(model, train_loader, optimizer, epoch)\n",
    "    test_loss, test_accuracy = evaluate(model, test_loader)\n",
    "    \n",
    "    print('[{}] Test Loss: {:.4f}, Accuracy: {:.2f}%'.format(epoch, test_loss, test_accuracy))"
   ]
  }
 ],
 "metadata": {
  "kernelspec": {
   "display_name": "Python 3",
   "language": "python",
   "name": "python3"
  },
  "language_info": {
   "codemirror_mode": {
    "name": "ipython",
    "version": 3
   },
   "file_extension": ".py",
   "mimetype": "text/x-python",
   "name": "python",
   "nbconvert_exporter": "python",
   "pygments_lexer": "ipython3",
   "version": "3.7.5"
  }
 },
 "nbformat": 4,
 "nbformat_minor": 4
}
