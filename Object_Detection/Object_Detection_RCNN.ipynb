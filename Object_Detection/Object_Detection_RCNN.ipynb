{
 "cells": [
  {
   "cell_type": "markdown",
   "metadata": {},
   "source": [
    "## R-CNN\n",
    "- Regions with CNN features\n",
    "\n",
    "## 순서\n",
    "\n",
    "### 1.Region Proposal\n",
    "- 카테고리와 무관하게 물체의 영역을 찾는 모듈\n",
    "- Regions of Interest(ROI) from a proposal method)\n",
    "- Selective Search \n",
    "    - 객체와 주변간의 색감(Color), 질감(Texture)차이, 다른 물체에 애워쌓여있는지 (Enclose) 여부 파악해서 다양한 전략으로 물체의 위치를 파악할 수 있도록 하는 알고리즘\n",
    "    - Bounding box들을 Random하게 많이 생성을 하고 이들을 조금씩 merge 해나가면서 최종 물체를 박스로 판단\n",
    "    - selective search라는 알고리즘을 이용해서 물체가 있을만한 약 2000개의 지역을 도출\n",
    "    \n",
    "![selective_search](img/selective_search.png)\n",
    "\n",
    "### 2. CNN\n",
    "- Warping 된 image 를 CNN에 넣어줌\n",
    "- AlexNet을 Detection class에 맞게 변형한 구조를 이용\n",
    "- 각각의 영역으로부터 고정된 크기의 Feature Vector를 생성\n",
    "\n",
    "### 3. Classification\n",
    "- 분류를 위한 선형 지도학습 모델 Support Vector Machine(SVM)\n",
    "- Forward each region through ConvNet\n",
    "- BoundingBox(BB) Reg을 거치면서 위치를 찾음, SVMs(클래스 예측)\n",
    "- 바운딩박스 위치조정 + SVM클래스예측\n",
    "\n",
    "### 단점\n",
    "- 1. 작업이 오래걸린다\n",
    "    - Selective Search에서 뽑아낸 2000개의 영역 이미지들에 대해서 모두 CNN 모델에 Classification\n",
    "    - Training Time 무려 84시간 / Testing Time은 GPU K40 사용 기준으로 Frame 당 13초\n",
    "    - CPU를 사용하였을 때 Frame 당 53초\n",
    "    \n",
    "- 2. 복잡하다\n",
    "    - R-CNN은 Multi-Stage Training을 수행하며,\n",
    "    - CNN, SVM, Bounding Box Regression까지 세가지의 모델을 필요로 하는 복잡한 구조\n",
    "    \n",
    "- 3. Back Propagation이 안된다.\n",
    "    - SVM, Bounding Box Regression에서 학습한 결과가 CNN을 업데이트 시키지 못함\n",
    "    \n"
   ]
  }
 ],
 "metadata": {
  "kernelspec": {
   "display_name": "Python 3",
   "language": "python",
   "name": "python3"
  },
  "language_info": {
   "codemirror_mode": {
    "name": "ipython",
    "version": 3
   },
   "file_extension": ".py",
   "mimetype": "text/x-python",
   "name": "python",
   "nbconvert_exporter": "python",
   "pygments_lexer": "ipython3",
   "version": "3.7.5"
  }
 },
 "nbformat": 4,
 "nbformat_minor": 4
}
