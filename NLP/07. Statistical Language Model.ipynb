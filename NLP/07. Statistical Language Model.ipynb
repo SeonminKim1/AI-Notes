{
 "cells": [
  {
   "cell_type": "markdown",
   "metadata": {},
   "source": [
    "# 07. Language Model\n",
    "- 언어 모델을 만드는 방법 통계를 이용한 방법과 인공 신경망을 이용한 방법으로 구분\n",
    "- 최근에는 통계를 이용한 방법보다는 인공 신경망을 이용한 방법이 더 좋은 성능을 보여주고 있음\n",
    "\n",
    "## 7.1 언어 모델\n",
    "- 언어 모델은 단어 시퀀스에 확률을 할당(assign)하는 일을 하는 모델\n",
    "- 조금 풀어 쓰면 언어 모델은 가장 자연스러운 단어 시퀀스를 찾아내는 모델\n",
    "\n",
    "\n",
    "## 7.2 통계적 언어 모델(Statistical Language Model, SLM)\n",
    "\n",
    "### 7.2.1 문장에 대한 확률\n",
    "- 각 단어는 문맥이라는 관계로 인해 이전 단어의 영향을 받아 나온 단어\n",
    "- 문장의 확률은 각 단어들이 이전 단어가 주어졌을 때 다음 단어로 등장할 확률의 곱\n",
    "\n",
    "### 7.2.2 카운트 기반의 접근 (N-gram 언어 모델)\n",
    "\n",
    "- SLM은 이전 단어로부터 다음 단어에 대한 확률을 카운트에 기반하여 확률 계산\n",
    "- 한계 희소 문제(Sparsity Problem)\n",
    "    - 많은 코퍼스를 훈련시켜서 언어 모델을 통해 현실에서의 확률 분포를 근사하는 것이 언어 모델의 목표, 카운트 기반으로 접근시, 다시 말해 기계가 훈련하는 데이터는 정말 방대한 양이 필요\n",
    "- 한계를 완화하는 방법\n",
    "    - n-gram / 스무딩 / 백오프 같은 여러가지 일반화(generalization) 기법이 존재\n",
    "    - 이러한 한계로 인해 언어 모델의 트렌드는 통계적 언어 모델에서 인공 신경망 언어 모델로 넘어감\n",
    "    \n"
   ]
  },
  {
   "cell_type": "markdown",
   "metadata": {},
   "source": [
    "##  7.3. 통계적 언어모델 N-Gram\n",
    "- n-gram 언어 모델은 여전히 카운트에 기반한 통계적 접근을 사용 : SLM의 일종\n",
    "- 이전에 등장한 모든 단어를 고려하는 것이 아니라 일부 단어만 고려하는 접근 방법을 사용\n",
    "- 이때 일부 단어를 몇 개 보느냐를 결정하는데 이것이 n-gram에서의 n이 가지는 의미\n",
    "- n-gram은 n개의 연속적인 단어 나열을 의미\n",
    "    - 코퍼스에서 n개의 단어 뭉치 단위로 끊어서 이를 하나의 토큰으로 간주\n",
    "    - unigrams / bigrams / trigrams / 4-grams\n",
    "- n-gram은 뒤의 단어 몇 개만 보다 보니 의도하고 싶은 대로 문장을 끝맺음하지 못하는 경우가 생긴다는 점\n",
    "- n-gram 한계\n",
    "    - 희소 문제(Sparsity Problem)\n",
    "    - n을 선택하는 것은 trade-off 문제\n",
    "- n을 작게 선택하면 훈련 코퍼스에서 카운트는 잘 되겠지만 근사의 정확도는 현실의 확률분포와 멀어짐\n",
    "- 적절한 n을 선택해야 하고, 앞서 언급한 trade-off 문제로 인해 정확도를 높이려면 n은 최대 5를 넘게 잡아서는 안 된다고 권장\n"
   ]
  }
 ],
 "metadata": {
  "kernelspec": {
   "display_name": "Python 3",
   "language": "python",
   "name": "python3"
  },
  "language_info": {
   "codemirror_mode": {
    "name": "ipython",
    "version": 3
   },
   "file_extension": ".py",
   "mimetype": "text/x-python",
   "name": "python",
   "nbconvert_exporter": "python",
   "pygments_lexer": "ipython3",
   "version": "3.8.3"
  }
 },
 "nbformat": 4,
 "nbformat_minor": 4
}
