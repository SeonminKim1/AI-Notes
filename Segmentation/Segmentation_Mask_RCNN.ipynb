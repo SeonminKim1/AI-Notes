{
 "cells": [
  {
   "cell_type": "markdown",
   "metadata": {},
   "source": [
    "## RCNN Family\n",
    "![rcnn_family](readme_img/rcnn_family.png)\n",
    "![rcnn_family2](readme_img/rcnn_family2.PNG)\n",
    "\n",
    "- Detection (RCNN, Fast RCNN, Faster RCNN) \n",
    "- Segmentation (Mask RCNN)\n",
    "\n",
    "### Detection RCNN 계열\n",
    "\n",
    "#### Basic RCNN\n",
    "- 1) Input  \n",
    "- 2) 2000 Bounding Box를 만듬, selective Search (Cropping)\n",
    "- 3) 227x227 pixel size 각각의 이미지를 warping\n",
    "- 4) Put 2000 Warped Image into CNN \n",
    "- 5) Classification (기존 그냥 SVM과 Bouuding Box를 이용한 학습결과가 전달되지 않는, Warping부분에서도 이미지 Location 변형과 Selective Search 도 오래걸린다.\n",
    "\n",
    "#### Fast R-CNN\n",
    "- RCNN의 Multi-stage로 되어있는 문제를 해결하기 위해 Unified Framework로 하려고 노력함 (Feature extractor + Classifier + Regressor)\n",
    "- SVM 대신 FullyConnected Layer를 맨뒤에 넣어서 하나로 만들자 (Softmax와 bounding box (bbox) regressor 가 뒤에있음)\n",
    "- 하나의 통합된 CNN으로 돌리기 위해선 Roi Pulling을 통한 Input단의 크기를 하나의 고정된 사이즈로 맞춰주어야 함\n",
    "- 즉 Region Proposal로 된 그 이미지픽셀이 매 이미지마다 다르니까 하나의 공통된 이미지 크기로 맞추기 위해 그걸 ROI Pooling으로 사용. (RCNN은 Warper)\n",
    "\n",
    "#### Faster RCNN\n",
    "- Selective Search 부분도 오래걸린다. 이부분도 학습으로 해보자\n",
    "- Anchor Box들을 설정(몇가지 박스형태의 모양)\n",
    "- 기존 Box와의 비교를 통해 Objectness 판단과 Region proposal의 맞춤을 통해 anchor box 조정(bbox 조정)\n",
    "\n",
    "<hr>\n"
   ]
  },
  {
   "cell_type": "markdown",
   "metadata": {},
   "source": [
    "### Mask RCNN\n",
    "- Segmentation을 위한 Faster RCNN 변형\n",
    "- Backbone은 ResNet 기반으로 하였다고 함.\n"
   ]
  },
  {
   "cell_type": "markdown",
   "metadata": {},
   "source": [
    "<hr>\n",
    "\n",
    "#### Binary Mask\n",
    "- **해당 박스안에 Mask가 있는지 없는지만 판단**\n",
    "- Objectness Binary Mask (물체가 있다면 1 없다면 0 => 즉 박스를 찾아서 그 박스안에 판단\n",
    "- Masking Layer (물체의 존재 여부)\n",
    "- 1,0으로 이루어진 행렬로, 1 부분이 그 픽셀이 객체에 포함\n"
   ]
  },
  {
   "cell_type": "markdown",
   "metadata": {},
   "source": [
    "<hr>\n",
    "\n",
    "#### ROI Align\n",
    "- 15*25/128 => 2.93 픽셀이고 이런경우 0.93픽셀이 증발함.\n",
    "- Pixel연산단위의 Segmentation에서는 보완되면 좋은 문제 -> Bilinear interpolation을 진행했다고 함.\n",
    "\n",
    "![maskrcnn](readme_img/maskrcnn.png)"
   ]
  }
 ],
 "metadata": {
  "kernelspec": {
   "display_name": "Python 3",
   "language": "python",
   "name": "python3"
  },
  "language_info": {
   "codemirror_mode": {
    "name": "ipython",
    "version": 3
   },
   "file_extension": ".py",
   "mimetype": "text/x-python",
   "name": "python",
   "nbconvert_exporter": "python",
   "pygments_lexer": "ipython3",
   "version": "3.8.5"
  }
 },
 "nbformat": 4,
 "nbformat_minor": 4
}
