{
 "cells": [
  {
   "cell_type": "markdown",
   "metadata": {},
   "source": [
    "## Pytorch API & Library\n",
    "- https://pytorch.org/docs/stable/\n",
    "\n",
    "![pytorch_api_library](img/pytorch_api_library.png)"
   ]
  },
  {
   "cell_type": "markdown",
   "metadata": {},
   "source": [
    "## Pytorch API\n",
    "\n",
    "### 1) torch\n",
    "- torch.Tensor, Tensor Attributes, Tensor Views\n",
    "    - Tensor 정의 (is ~ method(), dtype, device.. )\n",
    "    - View (detach(), expand(), squeeze(), transpose(), t(), unflatten(), unsqueeze(), view(), swapdims())\n",
    "    \n",
    "- torch.Random()\n",
    "    - Random Method\n",
    "- Preprocessing (slicing, indexing, join..)\n",
    "- Generator(distribution)\n",
    "- Math, Ops(Reduction , Comparison, Spectral, BLAS, etc)\n",
    "\n",
    "### 2) torch.nn vs torch.nn.functional\n",
    "- torch.nn : Container들(Module, Sequential..), Conv, Pooling...\n",
    "    - weight를 직접 선언해주지 않음\n",
    "    - ex) nn.conv2d (in_channels, out_channels, kernel_size)\n",
    "\n",
    "- torch.nn.functional : Conv, pooling ..\n",
    "    - weight를 직접 선언 (외부에서 만든 filter 사용)\n",
    "    - ex) nn.functionnal.conv2d (input tensor (minibatch x in_channels x iH x iW), weight)\n",
    "    \n",
    "<hr>"
   ]
  },
  {
   "cell_type": "markdown",
   "metadata": {},
   "source": [
    "\n",
    "### 3) torch.autograd\n",
    "- Automatic Differentiation Package\n",
    "    - 자동 미분을 구현하는 클래스 및 함수를 제공\n",
    "\n",
    "\n",
    "### 4) torch.nn.init\n",
    "- 가중치 초기화 함수\n",
    "    - uniform_, normal_, xavier_uniform_, kaiming_uniform_\n",
    "\n",
    "\n",
    "### 5) torch.optim\n",
    "- 최적화 함수\n",
    "    - class : torch.optim.Optimizer(params(dict), defaults)\n",
    "    - Adagrad, Adadelta, Adam, AdamW, RMSprop, SGD\n",
    "\n",
    "<hr>"
   ]
  },
  {
   "cell_type": "markdown",
   "metadata": {},
   "source": [
    "### 6) torch.utils.data.DataLoader\n",
    "- DataLoader는 Dataset에 대한 Python Iterable 클래스\n",
    "- dataset : 끌어올 데이터셋 객체\n",
    "- PyTorch는 두 개 유형의 데이터셋을 지원\n",
    "    - **Map-style 데이터셋**\n",
    "        - __getitem__()과 __len__()을 구현해 인덱스, 키 등을 활용한 데이터 샘플 매핑을 수행\n",
    "        - Map-style 데이터셋은 dataset[idx]와 같이 접근되었을 때, idx번 째 이미지와 해당 이미지의 라벨을 매핑해 반환\n",
    "\n",
    "    - **Iterable-style 데이터셋**\n",
    "        - __iter__()를 구현하는 IterableDataset의 서브 클래스 인스턴스\n",
    "        - 데이터 샘플에 대한 Iterable 객체로 샘플을 임의로 읽는 작업이 비싼 연산이거나 부적절할 때, 혹은 배치 사이즈가 __iter__() 연산을 통해 읽어온 데이터 갯수에 의해 정해지게끔 하고 싶을 때 사용하기 적합한 데이터셋\n",
    "        - ex) iter(dataset)이 호출되었을 때, 데이터셋은 데이터베이스, 원격 서버, 혹은 실시간으로 생성되는 로그 등에서 데이터 스트림을 읽어와 반환\n",
    "        \n",
    "        \n",
    "### 7) Torch Model\n",
    "- Model management\n",
    "    - Model Serialization (save,load)\n",
    "    - torch.utils.checkpoint\n",
    "\n",
    "\n",
    "- Convert Other Model\n",
    "    - torch.onnx\n",
    "    - torch.utils.model_zoo\n",
    "\n",
    "\n",
    "- etc\n",
    "    - Torch.HUB:A pre-trained model repository\n",
    "    - torch.jit (just in compiler) (Trace, Script ..)\n",
    "    - torch.utils.dlpack\n",
    "\n",
    "<hr>\n"
   ]
  },
  {
   "cell_type": "markdown",
   "metadata": {},
   "source": [
    "\n",
    "### 8) GPU, Backends, \n",
    "- cuda : \n",
    "    - This package adds support for CUDA tensor types\n",
    "    - CPU 함수와 유사, But GPU로 연산.\n",
    "- backend\n",
    "    - cuda(), cudnn(), mkl(), mkldnn(), openmp() 관련\n",
    "\n",
    "\n",
    "### 9) Debuging\n",
    "- torch.utils.bottleneck\n",
    "    - summarizes runs of your script with the Python profiler and PyTorch’s autograd profiler\n",
    "- torch.utils.benchmark\n",
    "    - Helper class for measuring execution time of PyTorch statements.\n",
    "    - 하드웨어에 맞게 사용할 최상의 알고리즘을 찾음\n",
    "- torch.profiler\n",
    "    - 훈련 및 추론 중에 성능 metric 수집을 허용하는 도구, Monitoring 용\n",
    "\n",
    "\n",
    "### 10) Mobile, Lightweight-dl\n",
    "- Quantization\n",
    "- torch.utils.mobile_optimizer\n",
    "\n",
    "### 11) etc\n",
    "- Math\n",
    "    - torch.linalg (선형대수학)\n",
    "- torch.distributed / torch.distributions\n",
    "- torch.fft, torch.futures(RPC Framework)\n",
    "- torch.fx (use to transform nn.Module)\n",
    "- torch.overrides\n",
    "- torch.utils.cpp_extension\n",
    "    - cpp extension\n",
    "    \n",
    "<hr>"
   ]
  },
  {
   "cell_type": "markdown",
   "metadata": {},
   "source": [
    "## 참고문헌\n",
    "- https://dororongju.tistory.com/143 \n",
    "- https://huffon.github.io/2020/05/26/torch-data/ // 데이터 피딩에 활용되는 pytorch 클래스"
   ]
  }
 ],
 "metadata": {
  "kernelspec": {
   "display_name": "Python 3",
   "language": "python",
   "name": "python3"
  },
  "language_info": {
   "codemirror_mode": {
    "name": "ipython",
    "version": 3
   },
   "file_extension": ".py",
   "mimetype": "text/x-python",
   "name": "python",
   "nbconvert_exporter": "python",
   "pygments_lexer": "ipython3",
   "version": "3.7.5"
  }
 },
 "nbformat": 4,
 "nbformat_minor": 4
}
