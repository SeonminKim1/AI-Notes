{
 "cells": [
  {
   "cell_type": "markdown",
   "metadata": {},
   "source": [
    "### Object Detection Model 비교\n",
    "\n",
    "- R-CNN 계열들은 높은 정밀도를 가지지만, FPS가 받쳐주지 못했다\n",
    "- 2 Stage Detector 에서 -> 1 Stage Detector 로 가면서 정밀도, FPS 를 개선해 나갔고 YOLO, YOLO V2, SSD 등이 등장하였다\n",
    "\n",
    "![object_detection_flow](img/object_detection_flow.PNG)\n",
    "\n",
    "### Object Detection - SSD Model\n",
    "- SSD: Single Shot MultiBox Detector\n",
    "- Yolo는 속도 측면에서 당시 Faster R-CNN이 7FPS이었던 것을 45FPS까지 끌어올리는 비약적인 발전을 이루어 냄\n",
    "- 하지만 정확도 측면에선, 작은 물체들은 잘 잡아내지 못한다는 한계점이 존재하였음\n",
    "\n",
    "### SSD vs YOLO\n",
    "- SSD는 Yolo와 달리 컨볼루션 과정을 거치는 중간 중간 피쳐맵들에서 모두 Object Detection을 진행함\n",
    "\n",
    "![SSD_VS_YOLO](img/SSD_VS_YOLO.png)\n",
    "\n",
    "### SSD 특징 : Multi Scale Feature Maps for Detection\n",
    "- SSD는 먼저 300x300 크기의 이미지를 입력받아서 ImageNet으로 pretrained된 VGG-16을 통과하며 특징들 추출\n",
    "\n",
    "![SSD_Structure](img/SSD_Structure.PNG)\n",
    "\n",
    "- 각 단계별 피쳐맵에서 Bounding Box 를 찾아내고, Detector & Classifier를 통과시켜Object Detection 을 진행\n",
    "![SSD_Detection_Classifier](img/SSD_Detection_Classifier.png)\n",
    "\n",
    "- 앞에 Feature(38, 19, 10..)에서는 더 작은 물체를 검출 할 수 있고, 뒤에 Feature 들(5, 3, 1...) 은 더 큰 물체를 검출 할 수 있음\n",
    "- VGG를 통과하며 얻은 피쳐맵을 대상으로 컨볼루션을 계속 진행하며 최종적으로는 1x1 크기의 피쳐맵까지 뽑음\n",
    "\n",
    "### SSD 특징 : Default Box & Aspect Ratio\n",
    "- 하나의 그리드마다 크기가 각기 다른 Default Box들을 먼저 계산\n",
    "- Default Box란 Faster R-CNN의 Anchor개념으로 비율과 크기가 각기 다른 기본 박스를 먼저 설정해놓고 Bounding Box를 추론하는데 도움을 주는 장치\n",
    "\n",
    "![ssd_default_box](img/ssd_default_box.png)\n",
    "- 고양이는 작은 물체, 강아지는 상대적으로 큰 물체일 때, 높은 해상도의 피쳐맵에서는 작은 물체를 더 잘 잡아낼 수 있고, 낮은 해상도에서는 큰 물체를 잘 잡아낼 것.\n",
    "- SSD는 각각의 피쳐맵을 가져와서 비율과 크기가 각기 다른 Default Box를 투영함\n",
    "- 찾아낸 박스들에 Bounding Box Regression을 적용하고, Confidence Level을 계산\n",
    "- 이는 Yolo가 아무런 기본 값없이 2개의 Box를 예측하도록 한 것과 대조적\n",
    "- 다음으로 피쳐맵에 3x3 컨볼루션을 적용하여(패딩을 1로 설정하여 크기 보존) bounding box regression 값을 계산\n",
    "- 이는 각각의 default box들의 x, y, w, h의 조절 값을 나타내므로 4차원 벡터에 해당 \n",
    "\n",
    "### SSD 특징 : Hard Negative Mining\n",
    "- 움직이는 것에 대한 배경부분에 Bounding Box가 그려질 수 있으니까\n",
    "- 배경들을 Negative Sample로 하고 confidence를 구해서 높은 순대로 사용하고\n",
    "- Negative : Positive의 비율을 3:1로 데이터 비율 조정하여 진행\n",
    "\n",
    "![SSD_Hard Negative Mining](img/SSD_Hard Negative Mining.PNG)\n",
    "\n",
    "### Loss Function\n",
    "- Similar to Faster R-CNN\n",
    "- 전체적으로 로스는 Yolo의 로스 펑션과 매우 유사합니다. \n",
    "- 전체 로스는 각 클래스 별로 예측한 값과 실제 값 사이의 차인 Lconf와 바운딩 박스 리그레션 예측 값과 실제 값 사이의 차인 Lloc를 더한 값입니다. Lconf 먼저 더 자세히 들여다 보겠습니다.\n",
    "\n",
    "![SSD_LossFunction2](img/SSD_LossFunction2.png)\n"
   ]
  },
  {
   "cell_type": "markdown",
   "metadata": {},
   "source": [
    "## 참고문헌\n",
    "- https://yeomko.tistory.com/20"
   ]
  }
 ],
 "metadata": {
  "kernelspec": {
   "display_name": "Python 3",
   "language": "python",
   "name": "python3"
  },
  "language_info": {
   "codemirror_mode": {
    "name": "ipython",
    "version": 3
   },
   "file_extension": ".py",
   "mimetype": "text/x-python",
   "name": "python",
   "nbconvert_exporter": "python",
   "pygments_lexer": "ipython3",
   "version": "3.7.5"
  }
 },
 "nbformat": 4,
 "nbformat_minor": 4
}
