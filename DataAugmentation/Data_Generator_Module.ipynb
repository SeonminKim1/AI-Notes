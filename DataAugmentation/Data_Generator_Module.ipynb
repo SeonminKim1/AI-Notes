{
 "cells": [
  {
   "cell_type": "markdown",
   "metadata": {},
   "source": [
    "## 데이터 Augmentation\n",
    "- 데이터가 적은 이미지에서 최대한 많은 정보를 뽑아내서 학습하는 기법\n",
    "- 이미지를 사용할 때마다 임의로 변형을 가하여 더 많은 이미지를 학습하는 것과 같은 효과를 냄\n",
    "- **과적합(overfitting) 방지**\n",
    "- ImageDataGenerator 클래스\n",
    "    - 학습 도중에 이미지에 임의 변형 및 정규화 적용\n",
    "    - generator 생성\n",
    "        - 변형된 이미지를 배치 단위로 불러옴\n",
    "        - flow(data, labels)\n",
    "        - flow_from_directory(directory) 두 가지 함수를 사용\n",
    "    - fir_generator, evaluate_generator 함수를 이용하여 generator로 이미지를 불러와서 모델을 학습"
   ]
  },
  {
   "cell_type": "code",
   "execution_count": 1,
   "metadata": {},
   "outputs": [
    {
     "name": "stdout",
     "output_type": "stream",
     "text": [
      "(1, 112, 112, 3)\n"
     ]
    }
   ],
   "source": [
    "from tensorflow.keras.preprocessing.image import ImageDataGenerator\n",
    "from PIL import Image\n",
    "import numpy as np\n",
    "\n",
    "datagen = ImageDataGenerator(rotation_range=40, #이미지 회전 범위 (degrees)\n",
    "                            width_shift_range=0.2, # 수평, 수직 랜덤 평행이동\n",
    "                            height_shift_range=0.2,\n",
    "                            rescale=1./255, # 입력값을 모델을 효과적으로 학습시키기에 너무 높은 값 255로 나눔\n",
    "                            shear_range = 0.2, #임의 전단 변환 (shearing transformation) 범위\n",
    "                            zoom_range = 0.2, #임의 확대/축소 범위\n",
    "                            horizontal_flip=True, # True로 설정할 경우, 50% 확률로 이미지를 수평으로 뒤집음. \n",
    "                             fill_mode='nearest' #이미지를 회전, 이동하거나 축소할 때 생기는 공간을 채우는 방식\n",
    "                            )\n",
    "\n",
    "# image 읽어오기\n",
    "pil_img = Image.open('data/cat/cat1.jpg')\n",
    "np_img = np.array(pil_img.convert('RGB'))\n",
    "np_img = np_img[np.newaxis, :]\n",
    "print(np_img.shape)\n",
    "\n",
    "# case 1 - datagen.flow() 함수\n",
    "i=0;\n",
    "for batch in datagen.flow(np_img, batch_size=1,\n",
    "                          save_to_dir='data', save_prefix='aug_cat', save_format='jpg'):\n",
    "    i+=1\n",
    "    if i>20:\n",
    "        print('20장 생성완료')\n",
    "        break"
   ]
  }
 ],
 "metadata": {
  "kernelspec": {
   "display_name": "Python 3",
   "language": "python",
   "name": "python3"
  },
  "language_info": {
   "codemirror_mode": {
    "name": "ipython",
    "version": 3
   },
   "file_extension": ".py",
   "mimetype": "text/x-python",
   "name": "python",
   "nbconvert_exporter": "python",
   "pygments_lexer": "ipython3",
   "version": "3.8.5"
  }
 },
 "nbformat": 4,
 "nbformat_minor": 4
}
