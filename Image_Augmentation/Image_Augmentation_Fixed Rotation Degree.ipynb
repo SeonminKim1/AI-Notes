{
 "cells": [
  {
   "cell_type": "markdown",
   "metadata": {},
   "source": [
    "## 고정된 각도로 이미지 회전 증강\n",
    "- Data Augmentation Fixed Rotation degree\n",
    "\n",
    "- PIL Image 라이브러리 사용\n",
    "    - Image.open(path)\n",
    "    - Image.rotate(degree)\n",
    "    - Image.save(filename)"
   ]
  },
  {
   "cell_type": "markdown",
   "metadata": {},
   "source": [
    "### 1. path 설정"
   ]
  },
  {
   "cell_type": "code",
   "execution_count": 20,
   "metadata": {},
   "outputs": [
    {
     "name": "stdout",
     "output_type": "stream",
     "text": [
      "11\n",
      "11\n"
     ]
    }
   ],
   "source": [
    "import os\n",
    "from glob import glob\n",
    "from PIL import Image\n",
    "\n",
    "dir_path = '../data/dirty_mnist_2nd/'\n",
    "glob_path = dir_path + '*.png'\n",
    "rotate_degree = 90 # 270\n",
    "\n",
    "# glob - file dir list\n",
    "data_paths = glob(glob_path)\n",
    "print(len(data_paths))\n",
    "\n",
    "# file name list\n",
    "fname_ls = os.listdir(dir_path)\n",
    "print(len(fname_ls))"
   ]
  },
  {
   "cell_type": "markdown",
   "metadata": {},
   "source": [
    "## 2. Data 회전 및 저장"
   ]
  },
  {
   "cell_type": "code",
   "execution_count": 21,
   "metadata": {},
   "outputs": [
    {
     "name": "stdout",
     "output_type": "stream",
     "text": [
      "0 완료 "
     ]
    }
   ],
   "source": [
    "for i, path in enumerate(data_paths[:5]):\n",
    "    img  = Image.open(path)\n",
    "    rotated = img.rotate(rotate_degree)\n",
    "    # ../data/dirty_mnist_2nd/00037_rotated90.png\n",
    "    rotated.save( dir_path + str(os.path.splitext(fname_ls[i])[0]) \\\n",
    "                 + '_rotated'+ str(rotate_degree)+'.png')\n",
    "    \n",
    "    if i%5000==0:\n",
    "        print(i, '완료', end=' ')\n",
    "        "
   ]
  }
 ],
 "metadata": {
  "kernelspec": {
   "display_name": "Python 3",
   "language": "python",
   "name": "python3"
  },
  "language_info": {
   "codemirror_mode": {
    "name": "ipython",
    "version": 3
   },
   "file_extension": ".py",
   "mimetype": "text/x-python",
   "name": "python",
   "nbconvert_exporter": "python",
   "pygments_lexer": "ipython3",
   "version": "3.7.5"
  }
 },
 "nbformat": 4,
 "nbformat_minor": 4
}
