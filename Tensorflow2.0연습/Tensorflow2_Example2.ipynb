{
 "cells": [
  {
   "cell_type": "markdown",
   "metadata": {},
   "source": [
    "## Tensorflow 랜덤형 상수 만드는 법\n",
    "- 정규분포 : tf.random.normal\n",
    "- 균등분포 : 동일한 확률로 랜덤 tf.random,uniform"
   ]
  },
  {
   "cell_type": "code",
   "execution_count": 3,
   "metadata": {},
   "outputs": [
    {
     "name": "stdout",
     "output_type": "stream",
     "text": [
      "tf.Tensor(\n",
      "[[0.31775302 0.37488127]\n",
      " [1.1640824  1.1290072 ]], shape=(2, 2), dtype=float32)\n",
      "tf.Tensor(\n",
      "[[5 6]\n",
      " [9 2]], shape=(2, 2), dtype=int32)\n"
     ]
    }
   ],
   "source": [
    "# 정규분포\n",
    "print(tf.random.normal(shape=(2,2), mean=0, stddev=1.))\n",
    "\n",
    "# 균등분포 - minval ~ maxval 사이의 값을 동일한 확률로 (uniform) 랜덤\n",
    "print(tf.random.uniform(shape=(2,2), minval=0, maxval=10, dtype='int32'))"
   ]
  },
  {
   "cell_type": "markdown",
   "metadata": {},
   "source": [
    "## Loss 클래스\n",
    "- tf.keras.losses\n",
    "- Keras는 넓은 범위의 손실함수에 대한 Loss클래스를 제공함\n",
    "    - BinaryCrossentropy, CategoricalCrossEntropy, KLDivergence 등\n",
    "    - SparseCategoricalCrossentropy 와 CategoricalCrossentorpy의 차이는 원핫인코딩된 값으로 정답 레이블이 들어오냐 안오냐 차이\n",
    "    - **SpareseCategoricalCrossentropy 는 라벨링된 값이 들어옴**\n",
    "        - 마지막 layers에서 layers.Dense(10, activation='softmax') \n",
    "        - 같은 것 layers.Dense(10), ..... tf.keras.losses.SparseCategoricalCrossentropy(from_logits=True) : from_logits 란 매개변수가 로지스틱 Loss의 인스턴스를 만드는 것\n",
    "    - **CategoricalCrossentropy는 one-hot-encoding된 값이 들어옴**\n",
    "- Loss 클래스는 상태를 가지지 않고, 즉 __call__의 출력은 입력에 대한 함수일 뿐\n"
   ]
  },
  {
   "cell_type": "code",
   "execution_count": 4,
   "metadata": {},
   "outputs": [
    {
     "name": "stdout",
     "output_type": "stream",
     "text": [
      "손실 : 11.522857\n"
     ]
    }
   ],
   "source": [
    "bce = tf.keras.losses.BinaryCrossentropy()\n",
    "\n",
    "y_true = [0., 0., 1., 1.,] # 정답 레이블\n",
    "y_pred = [1., 1., 0., 1.,] # 예측결과\n",
    "\n",
    "# Loss 클래스는 상태를 가지지 않고, 즉 __call__의 출력은 입력에 대한 함수일 뿐\n",
    "loss = bce(y_true, y_pred)\n",
    "print('손실 :', loss.numpy())"
   ]
  },
  {
   "cell_type": "markdown",
   "metadata": {},
   "source": [
    "## Metric 클래스\n",
    "- tf.keras.metrics\n",
    "- Keras는 넓은 범위의 평가지표 함수에대한 Metric 클래스를 제공함. BinaryAccuracy, AUC, FalsePositive 등과 같은 것을 포함함"
   ]
  },
  {
   "cell_type": "code",
   "execution_count": 5,
   "metadata": {},
   "outputs": [
    {
     "name": "stdout",
     "output_type": "stream",
     "text": [
      "중간결과 : 0.6666667\n",
      "최종결과 : 0.71428573\n"
     ]
    }
   ],
   "source": [
    "m = tf.keras.metrics.AUC()\n",
    "m.update_state([0,1,1,1], [0,1,0,0])\n",
    "print('중간결과 :', m.result().numpy())\n",
    "\n",
    "m.update_state([1,1,1,1], [0,1,1,0])\n",
    "print('최종결과 :', m.result().numpy())"
   ]
  }
 ],
 "metadata": {
  "kernelspec": {
   "display_name": "Python 3",
   "language": "python",
   "name": "python3"
  },
  "language_info": {
   "codemirror_mode": {
    "name": "ipython",
    "version": 3
   },
   "file_extension": ".py",
   "mimetype": "text/x-python",
   "name": "python",
   "nbconvert_exporter": "python",
   "pygments_lexer": "ipython3",
   "version": "3.7.5"
  }
 },
 "nbformat": 4,
 "nbformat_minor": 4
}
