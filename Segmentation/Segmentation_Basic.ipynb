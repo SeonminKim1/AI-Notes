{
 "cells": [
  {
   "cell_type": "markdown",
   "metadata": {},
   "source": [
    "## Segmentation\n",
    "- Object Detection : Classificion + Localization\n",
    "- Object Detection + Instance Segmentation\n",
    "- 모양을 중점적으로 보이는데 많이 사용 (아무래도 pixel단위로 보다보니까)\n",
    "- Medical images(의학이미지), Autonomous vehicles(로봇비전, 자율주행), Satelite image analysis(인공위성)\n",
    "\n",
    "![segmentation](readme_img/segmentation.png)\n",
    "- 똑같은 person으로 보거나, 객체 하나하나를 분리하거나\n",
    "\n",
    "![image_processing](readme_img/image_processing.png)\n",
    "\n",
    "### Old-Segmentation\n",
    "- Thresholding \n",
    "- K-means clustering (엣지는 강렬한 성질을 가지기 때문에 엣지 인지 아닌지)\n",
    "- Histogram based image segmentation (그룹화를 통한 보다 대칭적으로 했을때 threshold를 적용하면 가능\n",
    "- Edge detection \n",
    "\n",
    "### 모델 종류\n",
    "- FCN, U-Net, Deep-Lab\n",
    "\n",
    "### 모델들의 공통 부분\n",
    "\n",
    "- Encoder <-> Decoder (Downsampling - Upsampling)\n",
    "    - 이미지를 보다 압축하고\n",
    "\n",
    "- Bottom-up(자잘한 영역을 만들어놓고 점점 묶어나감)\n",
    "    - 너무 많은 영역을 잡지 않는 것이 중요\n",
    "- Top-down(최대한 크게 잡고 세밀하게 잘라나가는)\n",
    "\n",
    "### Segmentation\n",
    "- 1) Region Baesd Segmantation\n",
    "    - Proposal된 Region들에 초점을 맞춰서 진행함\n",
    "    - Object Detection을 base로 함 (즉 object detection으로 찾은것을 기반으로 작업~)\n",
    "    - ROI Align 기법을 통한 Object가 있을 만한 곳을 찾음\n",
    "    - Mask R-CNN, SDS, Hypercolumns\n",
    "    \n",
    "- 2) Fully Convolutional Network-Based Semantic Segmentation\n",
    "    - Encoder와 Decoder와 비슷 (다운샘플링, 업샘플링)\n",
    "    - 전체 픽셀들을 연결시켜 작업하는 것. (좀더 one-shot의 느낌)\n",
    "    - SegNet, DeepLab-CRF, Dilated Convolutions\n",
    "\n",
    "- 3) Weakly Supervised Semantic Segmentation\n",
    "    - annotation이 되어있는 bounding boxes를 통해서 해당 learning을 수행\n",
    "    - Boxsup \n",
    "    - 잘 쓰이지는 않으나 나름 참신했다고 함.\n",
    "    \n"
   ]
  },
  {
   "cell_type": "markdown",
   "metadata": {},
   "source": [
    "## 고전적인 Segmentation 방법\n",
    "- 1) 픽셀 기반 방법\n",
    "    - Thresholding 기법 RGB에서 Gray로 바꾸게 되면 그 픽셀에 대한 강도(intensity)만 남게됨\n",
    "    - Otsu기법 : 그룹내 분산 최소화, 그룹간 분산 최대화\n",
    "    - Lens shading (특정 부분 거울렌즈등 확장해서 보는것\n",
    "    - Banding Noise -> Banding 줄을 그어서 부분 픽셀 캐치\n",
    "- 2) 엣지 기반 방법\n",
    "    - Gradient(변화가 큰 지점이 엣지라는것!!)  , Laplacian, Log, \n",
    "    - 엣지가 좀 떨어져 있을수도 있으니까 Edge연결을 통한 픽셀끼리의 연결 가능\n",
    "    - 1차 미분 : Prewitt, Robert, Sobel\n",
    "    - 2차 미분 : Laplacian \n",
    "    - LoG(Laplacian of Gaussian) : 잡음이 있는 환경에서도 엣지를 잘 찾을수있음 \n",
    "    - Dog(Difference of Gaussian) : Sift같은 연산량이 많은 경우 log 대신 사용\n",
    "    - Gaussian : sigma 값에 따라 smoothing 적용범위가 달라진다.\n",
    "    - Canny detector, SUSAN detector를 통한 후처리 가능\n",
    "\n",
    "- 3) 영역 기반 방법\n",
    "    - Region Growing : 한 지점으로부터 키워나가는 것\n",
    "        - 장점 \n",
    "            - 처리속도가 빠르다 (개념적으로 단순)\n",
    "            - seed의 위치와 영역 확장을 기준으로 기준 선정 선택\n",
    "            - 동시에 여러 기준 설정 가능\n",
    "        - 단점\n",
    "            - 영상 전체를 보는 것이 아닌 일부만 보는 지역적 방식\n",
    "            - 특정부분만 보게되서 잘릴 수 있다.\n",
    "    - Region Merging : 작은 segment를 merge\n",
    "    - Region Spliting : 큰거 잡아서 나눠감\n",
    "    - Split and Merge : (2+3) 나누고 합치기\n",
    "    - WaterShed : 물결모양처럼 나누고 묶어나감.\n",
    "\n"
   ]
  },
  {
   "cell_type": "markdown",
   "metadata": {},
   "source": []
  }
 ],
 "metadata": {
  "kernelspec": {
   "display_name": "Python 3",
   "language": "python",
   "name": "python3"
  },
  "language_info": {
   "codemirror_mode": {
    "name": "ipython",
    "version": 3
   },
   "file_extension": ".py",
   "mimetype": "text/x-python",
   "name": "python",
   "nbconvert_exporter": "python",
   "pygments_lexer": "ipython3",
   "version": "3.8.5"
  }
 },
 "nbformat": 4,
 "nbformat_minor": 4
}
