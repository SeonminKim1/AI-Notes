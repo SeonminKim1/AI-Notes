{
 "cells": [
  {
   "cell_type": "markdown",
   "id": "9cfc36fa",
   "metadata": {},
   "source": [
    "### 좋은 링크\n",
    "\n",
    "- https://yngie-c.github.io/nlp/2020/07/04/nlp_bert/ // bert 설명\n",
    "- https://paul-hyun.github.io/vocab-with-sentencepiece/ // sentencepiece + vocab 만들기\n",
    "- "
   ]
  }
 ],
 "metadata": {
  "kernelspec": {
   "display_name": "Python 3",
   "language": "python",
   "name": "python3"
  },
  "language_info": {
   "codemirror_mode": {
    "name": "ipython",
    "version": 3
   },
   "file_extension": ".py",
   "mimetype": "text/x-python",
   "name": "python",
   "nbconvert_exporter": "python",
   "pygments_lexer": "ipython3",
   "version": "3.8.5"
  }
 },
 "nbformat": 4,
 "nbformat_minor": 5
}
