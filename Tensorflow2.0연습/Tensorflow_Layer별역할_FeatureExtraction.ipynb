{
 "cells": [
  {
   "cell_type": "markdown",
   "metadata": {},
   "source": [
    "## 텐서플로우 Layer별 역할"
   ]
  },
  {
   "cell_type": "markdown",
   "metadata": {},
   "source": [
    "### CNN\n",
    "- Feature extraction 부분과 classificatino 으로 나뉨\n",
    "- Filters : layer에서 나갈 때 몇 개의 filter를 만들 것인지\n",
    "- kernel_size : filter의 사이즈\n",
    "- strides : 몇 개의 pixel을 skip 하면서 훑어나갈 것인지\n",
    "- padding : zero padding만들것인지, valid는 no padding / same은 padding\n",
    "\n",
    "### Convloution Layer 통과시키기"
   ]
  },
  {
   "cell_type": "code",
   "execution_count": 44,
   "metadata": {},
   "outputs": [
    {
     "name": "stdout",
     "output_type": "stream",
     "text": [
      "(60000, 28, 28) (60000,) (10000, 28, 28) (10000,)\n"
     ]
    }
   ],
   "source": [
    "import tensorflow as tf\n",
    "import matplotlib.pyplot as plt\n",
    "import numpy as np\n",
    "from tensorflow.keras import datasets\n",
    "\n",
    "(train_x, train_y), (test_x, test_y) = datasets.mnist.load_data()\n",
    "print(train_x.shape, train_y.shape, test_x.shape, test_y.shape)"
   ]
  },
  {
   "cell_type": "code",
   "execution_count": 24,
   "metadata": {},
   "outputs": [
    {
     "name": "stdout",
     "output_type": "stream",
     "text": [
      "<dtype: 'float32'>\n",
      "(28, 28)\n",
      "(1, 28, 28, 1)\n"
     ]
    }
   ],
   "source": [
    "# img  float 형으로 변환\n",
    "img = train_x[0]\n",
    "img = tf.cast(img, dtype = tf.float32)\n",
    "print(img.dtype)\n",
    "print(img.shape)\n",
    "\n",
    "# img 차원늘려주기\n",
    "img = img[tf.newaxis, ..., tf.newaxis]\n",
    "print(img.shape)\n",
    "\n",
    "# layer"
   ]
  },
  {
   "cell_type": "code",
   "execution_count": 30,
   "metadata": {},
   "outputs": [
    {
     "name": "stdout",
     "output_type": "stream",
     "text": [
      "<tensorflow.python.keras.layers.convolutional.Conv2D object at 0x000002032E545B48>\n",
      "(1, 28, 28, 3)\n"
     ]
    }
   ],
   "source": [
    "# Conv layer 1개 만들고 통과시키기\n",
    "layer = tf.keras.layers.Conv2D(filters=3, kernel_size=(3,3), strides=(1,1), padding='Same')\n",
    "print(layer)\n",
    "\n",
    "output = layer(img)\n",
    "print(output.shape)\n"
   ]
  },
  {
   "cell_type": "code",
   "execution_count": 31,
   "metadata": {},
   "outputs": [
    {
     "data": {
      "image/png": "[encoded data removed]",
      "text/plain": [
       "<Figure size 432x288 with 2 Axes>"
      ]
     },
     "metadata": {
      "needs_background": "light"
     },
     "output_type": "display_data"
    }
   ],
   "source": [
    "# 왼쪽 그림이 오른쪽 그림으로 변한 것\n",
    "plt.subplot(1,2,1)\n",
    "plt.imshow(img[0, :, :, 0], 'gray')\n",
    "\n",
    "plt.subplot(1,2,2)\n",
    "plt.imshow(output[0, :, :, 0], 'gray')\n",
    "plt.show()"
   ]
  },
  {
   "cell_type": "markdown",
   "metadata": {},
   "source": [
    "## Weight 불러오기\n"
   ]
  },
  {
   "cell_type": "code",
   "execution_count": 32,
   "metadata": {},
   "outputs": [
    {
     "name": "stdout",
     "output_type": "stream",
     "text": [
      "2\n",
      "(3, 3, 1, 3) (3,)\n"
     ]
    }
   ],
   "source": [
    "# weight 불러 올시 list 형 반환 - list[0] : weight / list[1] : bias\n",
    "weight = layer.get_weights()\n",
    "print(len(weight)) \n",
    "print(weight[0].shape, weight[1].shape)"
   ]
  },
  {
   "cell_type": "code",
   "execution_count": 40,
   "metadata": {},
   "outputs": [
    {
     "data": {
      "image/png": "[encoded data removed]",
      "text/plain": [
       "<Figure size 432x288 with 4 Axes>"
      ]
     },
     "metadata": {
      "needs_background": "light"
     },
     "output_type": "display_data"
    }
   ],
   "source": [
    "# 왼쪽 그림이 오른쪽 그림으로 변한 것\n",
    "# histogram\n",
    "plt.subplot(221)\n",
    "plt.hist(output.numpy().ravel(), range=[-2, 2])\n",
    "plt.ylim(0, 100)\n",
    "\n",
    "# 가중치파일들\n",
    "plt.subplot(222)\n",
    "plt.title(weight[0].shape) # 가중치 \n",
    "plt.imshow(weight[0][:,:,0,0], 'gray')\n",
    "\n",
    "# conv 연산 전 그림\n",
    "plt.subplot(2,2,3)\n",
    "plt.imshow(img[0, :, :, 0], 'gray')\n",
    "\n",
    "# conv 연산 후 그림\n",
    "plt.subplot(2,2,4)\n",
    "plt.imshow(output[0, :, :, 0], 'gray')\n",
    "plt.show()"
   ]
  },
  {
   "cell_type": "markdown",
   "metadata": {},
   "source": [
    "## Relu 함수 적용 전후 비교"
   ]
  },
  {
   "cell_type": "code",
   "execution_count": 46,
   "metadata": {},
   "outputs": [
    {
     "name": "stdout",
     "output_type": "stream",
     "text": [
      "-286.54202 148.1598\n",
      "0.0 148.1598\n"
     ]
    }
   ],
   "source": [
    "## Relu 함수 적용되었을 떄\n",
    "# activaton 적용 전\n",
    "print(np.min(output), np.max(output))\n",
    "\n",
    "# activation 적용 후\n",
    "act_layer = tf.keras.layers.ReLU()\n",
    "act_output = act_layer(output)\n",
    "\n",
    "print(np.min(act_output), np.max(act_output))"
   ]
  },
  {
   "cell_type": "code",
   "execution_count": 51,
   "metadata": {},
   "outputs": [
    {
     "data": {
      "image/png": "[encoded data removed]",
      "text/plain": [
       "<Figure size 1152x576 with 2 Axes>"
      ]
     },
     "metadata": {
      "needs_background": "light"
     },
     "output_type": "display_data"
    }
   ],
   "source": [
    "# 왼쪽 그림이 오른쪽 그림으로 변한 것\n",
    "# histogram\n",
    "plt.figure(figsize=(16, 8))\n",
    "plt.subplot(121)\n",
    "plt.hist(act_output.numpy().ravel(), range=[-2, 2])\n",
    "plt.ylim(0, 100)\n",
    "\n",
    "# 가중치파일들\n",
    "plt.subplot(122)\n",
    "plt.title(act_output.shape) # 가중치 \n",
    "plt.imshow(act_output[0,:,:,0], 'gray')\n",
    "plt.show()\n",
    "\n",
    "# 0이상이 되는 숫자들만 살아남은 것"
   ]
  },
  {
   "cell_type": "markdown",
   "metadata": {},
   "source": [
    "## Pooling 적용 전 후 비교\n",
    "- 이미지를 반으로 줄여가면서 강조되는 것들만 살려냄\n",
    "- 일반적으로 pooling 은 2x2를 씀"
   ]
  },
  {
   "cell_type": "code",
   "execution_count": 52,
   "metadata": {},
   "outputs": [
    {
     "name": "stdout",
     "output_type": "stream",
     "text": [
      "(1, 28, 28, 3)\n",
      "(1, 14, 14, 3)\n"
     ]
    }
   ],
   "source": [
    "# pooling layer 통과 전\n",
    "pool_layer = tf.keras.layers.MaxPool2D(pool_size=(2,2), strides=(2,2), padding='SAME')\n",
    "print(act_output.shape)\n",
    "\n",
    "# pooling layer 통과 후\n",
    "pool_output = pool_layer(act_output)\n",
    "print(pool_output.shape)"
   ]
  },
  {
   "cell_type": "code",
   "execution_count": 53,
   "metadata": {},
   "outputs": [
    {
     "data": {
      "image/png": "[encoded data removed]",
      "text/plain": [
       "<Figure size 1152x576 with 2 Axes>"
      ]
     },
     "metadata": {
      "needs_background": "light"
     },
     "output_type": "display_data"
    }
   ],
   "source": [
    "# 왼쪽 그림이 오른쪽 그림으로 변한 것\n",
    "# histogram\n",
    "plt.figure(figsize=(16, 8))\n",
    "plt.subplot(121)\n",
    "plt.hist(pool_output.numpy().ravel(), range=[-2, 2])\n",
    "plt.ylim(0, 100)\n",
    "\n",
    "# 가중치파일들\n",
    "plt.subplot(122)\n",
    "plt.title(pool_output.shape) # 가중치 \n",
    "plt.imshow(pool_output[0,:,:,0], 'gray')\n",
    "plt.show()\n",
    "\n",
    "# 0이상이 되는 숫자들만 살아남은 것"
   ]
  }
 ],
 "metadata": {
  "kernelspec": {
   "display_name": "Python 3",
   "language": "python",
   "name": "python3"
  },
  "language_info": {
   "codemirror_mode": {
    "name": "ipython",
    "version": 3
   },
   "file_extension": ".py",
   "mimetype": "text/x-python",
   "name": "python",
   "nbconvert_exporter": "python",
   "pygments_lexer": "ipython3",
   "version": "3.7.5"
  }
 },
 "nbformat": 4,
 "nbformat_minor": 4
}
