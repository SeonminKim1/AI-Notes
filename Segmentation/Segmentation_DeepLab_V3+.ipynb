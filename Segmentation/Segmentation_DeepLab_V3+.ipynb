{
 "cells": [
  {
   "cell_type": "markdown",
   "metadata": {},
   "source": [
    "### Deep Lab\n",
    "- (DeepLab-V1)Semantic Image Segmentation with deep convolutional nets and fully connected crfs\n",
    "- (DeepLab-v2)DeepLab-Semantic Image Segmentation with Deep Convolutional Nets, Atrous Convolution, and Fully Connected CRFs\n",
    "\n",
    "### DeepLab v3+\n",
    "- Atrous Separable convolution 을 사용\n",
    "    - Down sampling, convolution upsampling 한것보다 더 효과가 좋았다.\n",
    "- Spatial pyramid pooling 사용\n",
    "- U-Net아이디어의 Concat 사용\n",
    "\n",
    "![deeplab_v3+](readme_img/deeplab_v3+.png)\n",
    "\n",
    "<hr>"
   ]
  },
  {
   "cell_type": "markdown",
   "metadata": {},
   "source": [
    "### Atrous Separable convolution\n",
    "- Wavelet 신호 분석에서 주로 사용\n",
    "- Expanding Receptive Field with hole convolution\n",
    "- rate 라는 변수를 통해 더 많은 부분의 이미지를 보는 Receptive Field 보기 방식\n",
    "- Receptive field를 개선하기 위해 많이 나옴.\n",
    "\n",
    "![depthwise_pointwise_atrous depthwise](readme_img/depthwise_pointwise_atrous depthwise.png)\n",
    "\n",
    "![astrous](readme_img/astrous.png)\n",
    "\n",
    "<hr>"
   ]
  },
  {
   "cell_type": "markdown",
   "metadata": {},
   "source": [
    "\n",
    "### Spatial pyramid pooling  (v3+)\n",
    "- 기존 v2 이후부터 rate 값에 따른 다양한 receptive field를 테스트 해봄\n",
    "- 최종적으로 Atrous Spatial Pyramid pooling 방식을 통해서 함\n",
    "- pooling에 대해 Spatial Pyramid pooling\n",
    "- **Encoder, decoder하는 방식과 atrous conv를 같이 진행**\n",
    "\n",
    "![atrous_spatial_pyramid_pooling](readme_img/atrous_spatial_pyramid_pooling.png)\n"
   ]
  },
  {
   "cell_type": "markdown",
   "metadata": {},
   "source": [
    "### Backbone\n",
    "- Xception의 Backbone으로 진행하였더니 더 좋았음.\n",
    "\n",
    "- 1) Atrous separable convolution을 적용하기 위해 모든 pooling operation을 depthwise separable convloution으로 대체.\n",
    "\n",
    "- 2) 각각의 3x3 depthwise convolution 이후에 추가적으로 batch normalization과 ReLU 활성화 함수를 추가 (오버피팅과 비선형적인 느낌 부여)\n",
    "\n",
    "- ResNet Backbone보다, Xception Backbone이 더 좋았음.\n",
    "\n",
    "- **Depth-wise Separable Convolution = Depthwise convoluton + Pointwise Convolution**"
   ]
  },
  {
   "cell_type": "markdown",
   "metadata": {},
   "source": [
    "### 결론\n",
    "- Receptive field를 조정해서 작은 Object 큰 Object를 볼 수 있도록 함\n",
    "- 다양한 Receptive field를 Atrous Separable convoluton을 통해서 걸러낼 수 있도록 고안\n",
    "- U-Net의 Concatnation을 통한 up-sampling 방식을 사용하여 Bilinear interpolation보다 효과가 좋음을 확인"
   ]
  }
 ],
 "metadata": {
  "kernelspec": {
   "display_name": "Python 3",
   "language": "python",
   "name": "python3"
  },
  "language_info": {
   "codemirror_mode": {
    "name": "ipython",
    "version": 3
   },
   "file_extension": ".py",
   "mimetype": "text/x-python",
   "name": "python",
   "nbconvert_exporter": "python",
   "pygments_lexer": "ipython3",
   "version": "3.8.5"
  }
 },
 "nbformat": 4,
 "nbformat_minor": 4
}
