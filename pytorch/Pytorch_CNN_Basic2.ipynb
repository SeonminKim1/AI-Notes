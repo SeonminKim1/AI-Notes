{
 "cells": [
  {
   "cell_type": "markdown",
   "metadata": {},
   "source": [
    "## Pytorch - MNIST \n",
    "\n",
    "### 1. Dataset loader 준비"
   ]
  },
  {
   "cell_type": "code",
   "execution_count": 13,
   "metadata": {},
   "outputs": [],
   "source": [
    "import torch\n",
    "import torch.nn as nn\n",
    "import torch.optim as optim\n",
    "import torchvision.datasets as dset\n",
    "import torchvision.transforms as transforms\n",
    "from torch.utils.data import DataLoader\n",
    "\n",
    "batch_size = 128\n",
    "learning_rate = 0.0002\n",
    "epochs = 10\n",
    "\n",
    "\n",
    "mnist_train = dset.MNIST(\"./data/\", train=True, \n",
    "                         transform = transforms.ToTensor(),\n",
    "                         target_transform=None, download=True)\n",
    "\n",
    "mnist_test = dset.MNIST(\"./data/\", train=False, \n",
    "                        transform=transforms.ToTensor(), \n",
    "                        target_transform=None, download=True)\n",
    "\n",
    "train_loader = torch.utils.data.DataLoader(mnist_train, batch_size = batch_size,\n",
    "                                          shuffle = True, num_workers=2, drop_last = True)\n",
    "test_loader = torch.utils.data.DataLoader(mnist_test, batch_size = batch_size,\n",
    "                                          shuffle = False, num_workers=2, drop_last = True)\n"
   ]
  },
  {
   "cell_type": "markdown",
   "metadata": {},
   "source": [
    "## 2. Build Model"
   ]
  },
  {
   "cell_type": "code",
   "execution_count": 14,
   "metadata": {},
   "outputs": [],
   "source": [
    "class CNN(nn.Module):\n",
    "    def __init__(self):\n",
    "        super(CNN, self).__init__()\n",
    "        self.layer = nn.Sequential(\n",
    "            nn.Conv2d(1, 16, 5), # in channels, out channels, kernel_size\n",
    "            nn.ReLU(),\n",
    "            nn.Conv2d(16, 32, 5),\n",
    "            nn.ReLU(),\n",
    "            nn.MaxPool2d(2,2),\n",
    "            nn.Conv2d(32, 64, 5),\n",
    "            nn.ReLU(),\n",
    "            nn.MaxPool2d(2,2)\n",
    "        )\n",
    "        \n",
    "        self.fc_layer = nn.Sequential(\n",
    "            nn.Linear(64*3*3, 100),\n",
    "            nn.ReLU(),\n",
    "            nn.Linear(100,10)\n",
    "        )\n",
    "        \n",
    "    # 순전파 거치면서 결괏값 return\n",
    "    def forward(self, x):\n",
    "        out = self.layer(x)\n",
    "        out = out.view(batch_size, -1) # flatten\n",
    "        out = self.fc_layer(out)\n",
    "        return out\n",
    "    "
   ]
  },
  {
   "cell_type": "markdown",
   "metadata": {},
   "source": [
    "## 3. Train Model"
   ]
  },
  {
   "cell_type": "code",
   "execution_count": 15,
   "metadata": {},
   "outputs": [
    {
     "name": "stdout",
     "output_type": "stream",
     "text": [
      "tensor(2.3074, grad_fn=<NllLossBackward>)\n",
      "tensor(0.2092, grad_fn=<NllLossBackward>)\n",
      "tensor(0.1902, grad_fn=<NllLossBackward>)\n",
      "tensor(0.0529, grad_fn=<NllLossBackward>)\n",
      "tensor(0.1149, grad_fn=<NllLossBackward>)\n",
      "tensor(0.0335, grad_fn=<NllLossBackward>)\n",
      "tensor(0.0572, grad_fn=<NllLossBackward>)\n",
      "tensor(0.0198, grad_fn=<NllLossBackward>)\n",
      "tensor(0.0115, grad_fn=<NllLossBackward>)\n",
      "tensor(0.0096, grad_fn=<NllLossBackward>)\n"
     ]
    }
   ],
   "source": [
    "device = torch.device(\"cuda:0\" if torch.cuda.is_available() else \"cpu\")\n",
    "model = CNN().to(device)\n",
    "loss_func = nn.CrossEntropyLoss() # softmax + Cross Entropy\n",
    "optimizer = torch.optim.Adam(model.parameters(), lr=learning_rate)\n",
    "\n",
    "loss_arr = []\n",
    "for i in range(num_epoch):\n",
    "    # 불러온 train loader (batch size)만큼 학습\n",
    "    for j, [image, label] in enumerate(train_loader): \n",
    "        x = image.to(device)\n",
    "        y_ = label.to(device)\n",
    "\n",
    "        # 기울기 초기화, 순전파 계산, loss 계산, 역전파 반영, 경사하강법 진행\n",
    "        optimizer.zero_grad()\n",
    "        output = model.forward(x)\n",
    "        loss = loss_func(output, y_)\n",
    "        loss.backward()\n",
    "        optimizer.step()\n",
    "\n",
    "        if j%1000==0:\n",
    "            print(loss)\n",
    "            loss_arr.append(loss.cpu().detach().numpy())"
   ]
  },
  {
   "cell_type": "markdown",
   "metadata": {},
   "source": [
    "## 4. Model Validation"
   ]
  },
  {
   "cell_type": "code",
   "execution_count": 16,
   "metadata": {},
   "outputs": [
    {
     "name": "stdout",
     "output_type": "stream",
     "text": [
      "Accuracy of Test Data: 99.12860870361328\n"
     ]
    }
   ],
   "source": [
    "correct = 0\n",
    "total = 0\n",
    "\n",
    "# 기울기 계산 안함 (no_grad())\n",
    "with torch.no_grad():\n",
    "    for image, label in test_loader:\n",
    "        x = image.to(device)\n",
    "        y_ = label.to(device) # 정답 label\n",
    "        \n",
    "        output = model.forward(x)\n",
    "        _, output_index = torch.max(output, 1)\n",
    "        \n",
    "        # total - 전체 test data 갯수, correct - 맞은것갯수\n",
    "        total += label.size(0)\n",
    "        correct += (output_index == y_).sum().float()\n",
    "        \n",
    "    print('Accuracy of Test Data: {}'.format(100*correct/total))\n",
    "    "
   ]
  }
 ],
 "metadata": {
  "kernelspec": {
   "display_name": "Python 3",
   "language": "python",
   "name": "python3"
  },
  "language_info": {
   "codemirror_mode": {
    "name": "ipython",
    "version": 3
   },
   "file_extension": ".py",
   "mimetype": "text/x-python",
   "name": "python",
   "nbconvert_exporter": "python",
   "pygments_lexer": "ipython3",
   "version": "3.7.5"
  }
 },
 "nbformat": 4,
 "nbformat_minor": 4
}
