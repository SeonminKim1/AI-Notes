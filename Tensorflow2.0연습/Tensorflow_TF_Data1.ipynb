{
 "cells": [
  {
   "cell_type": "markdown",
   "metadata": {},
   "source": [
    "## Tensorflow TF_data\n",
    "- Data Generator와 같은 것\n",
    "- 장점 : 좀더 커스터마이징이 좋음\n",
    "- 단점 : 복잡"
   ]
  },
  {
   "cell_type": "code",
   "execution_count": 44,
   "metadata": {},
   "outputs": [
    {
     "name": "stdout",
     "output_type": "stream",
     "text": [
      "50000\n"
     ]
    }
   ],
   "source": [
    "import os\n",
    "from glob import glob\n",
    "\n",
    "import numpy as np\n",
    "import tensorflow as tf\n",
    "\n",
    "import matplotlib.pyplot as plt\n",
    "%matplotlib inline\n",
    "\n",
    "train_paths = glob('../dataset/cifar/train/*.png')\n",
    "data0 = train_paths[0]\n",
    "print(len(train_paths))"
   ]
  },
  {
   "cell_type": "code",
   "execution_count": 45,
   "metadata": {},
   "outputs": [],
   "source": [
    "batch_size = 8"
   ]
  },
  {
   "cell_type": "markdown",
   "metadata": {},
   "source": [
    "## Tensorflow 의 Data 기능\n",
    "- Generator 기능임"
   ]
  },
  {
   "cell_type": "code",
   "execution_count": 46,
   "metadata": {},
   "outputs": [
    {
     "name": "stdout",
     "output_type": "stream",
     "text": [
      "(8, 32, 32, 3)\n"
     ]
    },
    {
     "data": {
      "image/png": "[encoded data removed]",
      "text/plain": [
       "<Figure size 432x288 with 1 Axes>"
      ]
     },
     "metadata": {
      "needs_background": "light"
     },
     "output_type": "display_data"
    }
   ],
   "source": [
    "# path를 주면 image를 읽어주는 함수\n",
    "def read_image(path):\n",
    "    gfile = tf.io.read_file(path)\n",
    "    image = tf.io.decode_image(gfile)\n",
    "    return image\n",
    "\n",
    "# tf의 data에서 dataset tensor로 읽어오기\n",
    "data = tf.data.Dataset.from_tensor_slices(train_paths)\n",
    "data = data.map(read_image) # 이미지 읽어옴 - 함수로\n",
    "data = data.batch(batch_size)\n",
    "data = data.shuffle(buffer_size = len(train_paths)) # shuffle 기능\n",
    "\n",
    "# shuffle 후 한장씩 꺼내옴\n",
    "# 매번 다른이미지 생성됨\n",
    "tf_image = next(iter(data))\n",
    "print(tf_image.shape)\n",
    "\n",
    "plt.imshow(tf_image[0])\n",
    "plt.show()"
   ]
  },
  {
   "cell_type": "markdown",
   "metadata": {},
   "source": [
    "## Label하고 같이 넣기"
   ]
  },
  {
   "cell_type": "code",
   "execution_count": 47,
   "metadata": {},
   "outputs": [
    {
     "name": "stdout",
     "output_type": "stream",
     "text": [
      "../dataset/cifar/train\\0_frog.png frog\n",
      "50000\n",
      "['airplane' 'automobile' 'bird' 'cat' 'deer' 'dog' 'frog' 'horse' 'ship'\n",
      " 'truck']\n"
     ]
    }
   ],
   "source": [
    "def get_label(path):\n",
    "    return path.split('_')[-1].replace('.png','')\n",
    "\n",
    "print(data0, get_label(data0))\n",
    "\n",
    "label_names = [get_label(path) for path in data_paths]\n",
    "print(len(label_names))\n",
    "\n",
    "class_names = np.unique(label_names)\n",
    "print(class_names)"
   ]
  },
  {
   "cell_type": "markdown",
   "metadata": {},
   "source": [
    "## Data Generator 방법1\n",
    "- image 데이터(train_path)와 라벨이름(label_names) 데이터 Generator로 받아오기\n",
    "- 인자 2개로"
   ]
  },
  {
   "cell_type": "code",
   "execution_count": 48,
   "metadata": {},
   "outputs": [
    {
     "name": "stdout",
     "output_type": "stream",
     "text": [
      "(8, 32, 32, 3) (8,)\n"
     ]
    },
    {
     "data": {
      "image/png": "[encoded data removed]",
      "text/plain": [
       "<Figure size 432x288 with 1 Axes>"
      ]
     },
     "metadata": {
      "needs_background": "light"
     },
     "output_type": "display_data"
    }
   ],
   "source": [
    "# path를 주면 image와 label을 읽어주는 함수\n",
    "def read_image_label(path, label):\n",
    "    gfile = tf.io.read_file(path)\n",
    "    image = tf.io.decode_image(gfile)\n",
    "    return image, label\n",
    "\n",
    "# tf의 data에서 dataset tensor로 읽어오기\n",
    "# train data path 와 label names data에 주고 뽑아주세요\n",
    "data = tf.data.Dataset.from_tensor_slices((train_paths, label_names)) \n",
    "data = data.map(read_image_label) # 이미지 읽어옴 - 함수로\n",
    "data = data.batch(batch_size)\n",
    "data = data.repeat()\n",
    "\n",
    "image, label = next(iter(data))\n",
    "print(image.shape, label.shape)\n",
    "\n",
    "plt.imshow(image[0])\n",
    "plt.title(np.array(label[0]))\n",
    "plt.show()"
   ]
  },
  {
   "cell_type": "markdown",
   "metadata": {},
   "source": [
    "## Data Generator 방법2\n",
    "- Tensorflow로 Lable 얻는법 - 방법2\n",
    "- image 데이터(train_path)와 라벨이름(label_names) 데이터 Generator로 받아오기"
   ]
  },
  {
   "cell_type": "code",
   "execution_count": 56,
   "metadata": {},
   "outputs": [],
   "source": [
    "def get_label_ver2(path):\n",
    "    fname = tf.strings.split(path, '_')[-1]\n",
    "    cls_name = tf.strings.regex_replace(fname, '.png', '')\n",
    "    return tf.cast(class_names == cls_name, tf.uint8) # one hot\n",
    "\n",
    "# path를 주면 image와 label을 읽어주는 함수\n",
    "def read_image_label_ver2(path):\n",
    "    # read image\n",
    "    gfile = tf.io.read_file(path)\n",
    "    image = tf.io.decode_image(gfile)\n",
    "    \n",
    "    # get label\n",
    "    label = get_label_ver2(path)\n",
    "    \n",
    "    return image, label"
   ]
  },
  {
   "cell_type": "code",
   "execution_count": 59,
   "metadata": {},
   "outputs": [
    {
     "name": "stdout",
     "output_type": "stream",
     "text": [
      "Tensor(\"args_0:0\", shape=(), dtype=string)\n",
      "(8, 32, 32, 3) (8, 10)\n"
     ]
    },
    {
     "name": "stderr",
     "output_type": "stream",
     "text": [
      "c:\\users\\urse\\anaconda3\\envs\\untitled\\lib\\site-packages\\matplotlib\\text.py:1163: FutureWarning: elementwise comparison failed; returning scalar instead, but in the future will perform elementwise comparison\n",
      "  if s != self._text:\n"
     ]
    },
    {
     "data": {
      "image/png": "[encoded data removed]",
      "text/plain": [
       "<Figure size 432x288 with 1 Axes>"
      ]
     },
     "metadata": {
      "needs_background": "light"
     },
     "output_type": "display_data"
    }
   ],
   "source": [
    "# train data path 와 label names data에 주고 뽑아주세요\n",
    "data = tf.data.Dataset.from_tensor_slices(train_paths) \n",
    "data = data.map(read_image_label_ver2) # 이미지 읽어옴 - 함수로\n",
    "data = data.batch(batch_size)\n",
    "data = data.repeat()\n",
    "\n",
    "# 테스트\n",
    "image, label = next(iter(data))\n",
    "print(image.shape, label.shape)\n",
    "\n",
    "plt.imshow(image[0])\n",
    "plt.title(np.array(label[0]))\n",
    "plt.show()"
   ]
  },
  {
   "cell_type": "markdown",
   "metadata": {},
   "source": [
    "## 최종 필요한 것\n",
    "\n",
    "- data_paths 데이터 리스트를 얻는다.\n",
    "- get_label 를 얻을 수 있다.\n",
    "- dataset 을 넣고 image 를 얻을 수 있고 -> 해당내용에서  get_label로 얻을 수 있다.\n",
    "\n",
    "### 순서 \n",
    "- 1(data_paths) -> 2(dataset) -> 3(map함수) -> 4(read_image_label) -> 5(get_label)"
   ]
  },
  {
   "cell_type": "code",
   "execution_count": null,
   "metadata": {},
   "outputs": [],
   "source": []
  }
 ],
 "metadata": {
  "kernelspec": {
   "display_name": "Python 3",
   "language": "python",
   "name": "python3"
  },
  "language_info": {
   "codemirror_mode": {
    "name": "ipython",
    "version": 3
   },
   "file_extension": ".py",
   "mimetype": "text/x-python",
   "name": "python",
   "nbconvert_exporter": "python",
   "pygments_lexer": "ipython3",
   "version": "3.7.5"
  }
 },
 "nbformat": 4,
 "nbformat_minor": 4
}
