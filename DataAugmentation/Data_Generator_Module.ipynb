{
 "cells": [
  {
   "cell_type": "markdown",
   "metadata": {},
   "source": [
    "## 데이터 Augmentation\n",
    "- 데이터가 적은 이미지에서 최대한 많은 정보를 뽑아내서 학습하는 기법\n",
    "- 이미지를 사용할 때마다 임의로 변형을 가하여 더 많은 이미지를 학습하는 것과 같은 효과를 냄\n",
    "- **과적합(overfitting) 방지**\n",
    "- ImageDataGenerator 클래스\n",
    "    - 학습 도중에 이미지에 임의 변형 및 정규화 적용\n",
    "    - generator 생성\n",
    "        - 변형된 이미지를 배치 단위로 불러옴\n",
    "        - flow(data, labels)\n",
    "        - flow_from_directory(directory) 두 가지 함수를 사용\n",
    "    - fir_generator, evaluate_generator 함수를 이용하여 generator로 이미지를 불러와서 모델을 학습"
   ]
  },
  {
   "cell_type": "markdown",
   "metadata": {},
   "source": [
    "## 단순 이미지 파일 증식\n",
    "- image file Augmentation"
   ]
  },
  {
   "cell_type": "code",
   "execution_count": 1,
   "metadata": {},
   "outputs": [
    {
     "name": "stdout",
     "output_type": "stream",
     "text": [
      "(1, 112, 112, 3)\n"
     ]
    }
   ],
   "source": [
    "from tensorflow.keras.preprocessing.image import ImageDataGenerator\n",
    "from PIL import Image\n",
    "import numpy as np\n",
    "\n",
    "datagen = ImageDataGenerator(rotation_range=40, #이미지 회전 범위 (degrees)\n",
    "                            width_shift_range=0.2, # 수평, 수직 랜덤 평행이동\n",
    "                            height_shift_range=0.2,\n",
    "                            rescale=1./255, # 입력값을 모델을 효과적으로 학습시키기에 너무 높은 값 255로 나눔\n",
    "                            shear_range = 0.2, #임의 전단 변환 (shearing transformation) 범위\n",
    "                            zoom_range = 0.2, #임의 확대/축소 범위\n",
    "                            horizontal_flip=True, # True로 설정할 경우, 50% 확률로 이미지를 수평으로 뒤집음. \n",
    "                             fill_mode='nearest' #이미지를 회전, 이동하거나 축소할 때 생기는 공간을 채우는 방식\n",
    "                            )\n",
    "\n",
    "# image 읽어오기\n",
    "pil_img = Image.open('data/cat/cat1.jpg')\n",
    "np_img = np.array(pil_img.convert('RGB'))\n",
    "np_img = np_img[np.newaxis, :]\n",
    "print(np_img.shape)\n",
    "\n",
    "# case 1 - datagen.flow() 함수\n",
    "i=0;\n",
    "for batch in datagen.flow(np_img, batch_size=1,\n",
    "                          save_to_dir='data', save_prefix='aug_cat', save_format='jpg'):\n",
    "    i+=1\n",
    "    if i>20:\n",
    "        print('20장 생성완료')\n",
    "        break"
   ]
  },
  {
   "cell_type": "markdown",
   "metadata": {},
   "source": [
    "## 해당 폴더에 있는 이미지들 Augmentation\n",
    "- folder file aumentation\n",
    "- flow_from_directory() : 해당 폴더에 있는 이미지갯수와 라벨링 갯수를 알려줌\n",
    "    - Found 7 images belonging to 4 classes.\n",
    "- flow_from_directory는 이미지를 불러올 때 폴더명에 맞춰 자동으로 labeling을 해줌\n",
    "    - cat, cifar, dog 폴더 순이면 => 0, 1 ,2\n",
    "    - **img, label = iter.next() 를 통해서 일정한 배치만큼 받아옴**\n",
    "- 자동으로 \n",
    "\n",
    "- 폴더 형태\n",
    "    - cat\n",
    "        - cat1.jpg\n",
    "    - dog\n",
    "        - dog1.jpg\n",
    "    - cifar\n",
    "    - girin\n"
   ]
  },
  {
   "cell_type": "code",
   "execution_count": 34,
   "metadata": {},
   "outputs": [
    {
     "name": "stdout",
     "output_type": "stream",
     "text": [
      "Found 7 images belonging to 4 classes.\n",
      "한번에 뽑는 이미지 갯수(batch_size) 3\n"
     ]
    }
   ],
   "source": [
    "import cv2\n",
    "from tensorflow.keras.preprocessing.image import ImageDataGenerator\n",
    "from PIL import Image\n",
    "import numpy as np\n",
    "\n",
    "batch_size = 3\n",
    "iterations = 5\n",
    "image_width, image_height, channel = (112,112,3)\n",
    "path = 'data'\n",
    "\n",
    "datagen = ImageDataGenerator(rotation_range=40, #이미지 회전 범위 (degrees)\n",
    "                            width_shift_range=0.2, # 수평, 수직 랜덤 평행이동\n",
    "                            height_shift_range=0.2,\n",
    "                            rescale=1./255, # 입력값을 모델을 효과적으로 학습시키기에 너무 높은 값 255로 나눔\n",
    "                            shear_range = 0.2, #임의 전단 변환 (shearing transformation) 범위\n",
    "                            zoom_range = 0.2, #임의 확대/축소 범위\n",
    "                            horizontal_flip=True, # True로 설정할 경우, 50% 확률로 이미지를 수평으로 뒤집음. \n",
    "                            fill_mode='nearest' #이미지를 회전, 이동하거나 축소할 때 생기는 공간을 채우는 방식\n",
    "                            )\n",
    "\n",
    "obj = datagen.flow_from_directory(\n",
    "    path,\n",
    "    target_size = (image_width, image_height),\n",
    "    batch_size = batch_size,\n",
    "    class_mode = 'binary')\n",
    "\n",
    "all_images = None\n",
    "print('한번에 뽑는 이미지 갯수(batch_size)', batch_size)\n",
    "\n",
    "# 어떤 모양으로 뽑히는지 시각화\n",
    "visualization(obj)\n",
    "\n"
   ]
  },
  {
   "cell_type": "markdown",
   "metadata": {},
   "source": [
    "## OPENCV 이용한 Data Generator 이미지 시각화 모듈"
   ]
  },
  {
   "cell_type": "code",
   "execution_count": null,
   "metadata": {},
   "outputs": [],
   "source": [
    "def visualization(obj):\n",
    "    for i in range(iterations):\n",
    "        img, label = obj.next() # obj는 설정된 경로에서 batch_size에 맞춰 이미지를 불러옴\n",
    "        # label - cat : 0 / cifar : 1 / dog : 2\n",
    "\n",
    "        # 옆으로 붙이기\n",
    "        w_images=None\n",
    "        for idx, i_img in enumerate(img):\n",
    "            i_img = cv2.cvtColor(i_img, cv2.COLOR_RGB2BGR)  # keras는 RGB, openCV는 BGR이라 변경함\n",
    "            if idx==0:\n",
    "                w_images = i_img\n",
    "            else:\n",
    "                w_images = np.concatenate((w_images, i_img),axis=1)\n",
    "\n",
    "        # 부족한 갯수만큼 빈공간으로 채워주기\n",
    "        for i in range(batch_size-len(label)):\n",
    "            w_images=np.concatenate((w_images, \n",
    "                                     np.empty( shape =(image_width,image_height, channel))\n",
    "                                    ),axis=1)    \n",
    "        # 아래로 붙이기\n",
    "        if i==0:\n",
    "            all_images = w_images\n",
    "        else:\n",
    "            all_images = np.concatenate((all_images, w_images),axis=0)\n",
    "    cv2.imshow('result', all_images)\n",
    "    cv2.waitKey(0)\n"
   ]
  },
  {
   "cell_type": "markdown",
   "metadata": {},
   "source": [
    "## history 시각화 모듈"
   ]
  },
  {
   "cell_type": "code",
   "execution_count": 56,
   "metadata": {},
   "outputs": [],
   "source": [
    "# history 시각화 모듈\n",
    "import matplotlib.pyplot as plt\n",
    "\n",
    "def visualization_training(hist):\n",
    "    fig, loss_ax = plt.subplots()\n",
    "    acc_ax = loss_ax.twinx()\n",
    "    loss_ax.plot(hist.history['loss'], 'y', label='train loss')\n",
    "    loss_ax.plot(hist.history['val_loss'], 'r', label='val loss')\n",
    "\n",
    "    acc_ax.plot(hist.history['accuracy'], 'b', label='train acc')\n",
    "    acc_ax.plot(hist.history['val_accuracy'], 'g', label='val acc')\n",
    "\n",
    "    loss_ax.set_xlabel('epoch')\n",
    "    loss_ax.set_ylabel('loss')\n",
    "    acc_ax.set_ylabel('accuray')\n",
    "\n",
    "    loss_ax.legend(loc='upper left')\n",
    "    acc_ax.legend(loc='lower left')\n",
    "#     print(hist.history['loss'])\n",
    "#     print(hist.history['accuracy'])\n",
    "#     print(hist.history['val_loss'])\n",
    "#     print(hist.history['val_accuracy'])\n",
    "    plt.show()"
   ]
  },
  {
   "cell_type": "markdown",
   "metadata": {},
   "source": [
    "## Cifar Example"
   ]
  },
  {
   "cell_type": "code",
   "execution_count": 66,
   "metadata": {},
   "outputs": [
    {
     "name": "stdout",
     "output_type": "stream",
     "text": [
      "(50000, 32, 32, 3) (50000, 10) (10000, 32, 32, 3) (10000, 10)\n",
      "(50000, 32, 32, 3) (50000, 10) (10000, 32, 32, 3) (10000, 10)\n",
      "Model: \"sequential_15\"\n",
      "_________________________________________________________________\n",
      "Layer (type)                 Output Shape              Param #   \n",
      "=================================================================\n",
      "conv2d_43 (Conv2D)           (None, 32, 32, 64)        1792      \n",
      "_________________________________________________________________\n",
      "activation_67 (Activation)   (None, 32, 32, 64)        0         \n",
      "_________________________________________________________________\n",
      "dropout_22 (Dropout)         (None, 32, 32, 64)        0         \n",
      "_________________________________________________________________\n",
      "conv2d_44 (Conv2D)           (None, 32, 32, 64)        36928     \n",
      "_________________________________________________________________\n",
      "activation_68 (Activation)   (None, 32, 32, 64)        0         \n",
      "_________________________________________________________________\n",
      "dropout_23 (Dropout)         (None, 32, 32, 64)        0         \n",
      "_________________________________________________________________\n",
      "max_pooling2d_39 (MaxPooling (None, 16, 16, 64)        0         \n",
      "_________________________________________________________________\n",
      "conv2d_45 (Conv2D)           (None, 16, 16, 128)       73856     \n",
      "_________________________________________________________________\n",
      "activation_69 (Activation)   (None, 16, 16, 128)       0         \n",
      "_________________________________________________________________\n",
      "dropout_24 (Dropout)         (None, 16, 16, 128)       0         \n",
      "_________________________________________________________________\n",
      "max_pooling2d_40 (MaxPooling (None, 8, 8, 128)         0         \n",
      "_________________________________________________________________\n",
      "conv2d_46 (Conv2D)           (None, 8, 8, 256)         295168    \n",
      "_________________________________________________________________\n",
      "activation_70 (Activation)   (None, 8, 8, 256)         0         \n",
      "_________________________________________________________________\n",
      "dropout_25 (Dropout)         (None, 8, 8, 256)         0         \n",
      "_________________________________________________________________\n",
      "max_pooling2d_41 (MaxPooling (None, 4, 4, 256)         0         \n",
      "_________________________________________________________________\n",
      "flatten_11 (Flatten)         (None, 4096)              0         \n",
      "_________________________________________________________________\n",
      "dense_25 (Dense)             (None, 512)               2097664   \n",
      "_________________________________________________________________\n",
      "activation_71 (Activation)   (None, 512)               0         \n",
      "_________________________________________________________________\n",
      "dense_26 (Dense)             (None, 512)               262656    \n",
      "_________________________________________________________________\n",
      "activation_72 (Activation)   (None, 512)               0         \n",
      "_________________________________________________________________\n",
      "dropout_26 (Dropout)         (None, 512)               0         \n",
      "_________________________________________________________________\n",
      "dense_27 (Dense)             (None, 10)                5130      \n",
      "_________________________________________________________________\n",
      "activation_73 (Activation)   (None, 10)                0         \n",
      "=================================================================\n",
      "Total params: 2,773,194\n",
      "Trainable params: 2,773,194\n",
      "Non-trainable params: 0\n",
      "_________________________________________________________________\n",
      "1094/1094 [==============================] - 519s 474ms/step - loss: 1.8290 - accuracy: 0.3185 - val_loss: 1.9489 - val_accuracy: 0.2968\n"
     ]
    },
    {
     "data": {
      "image/png": "[encoded data removed]",
      "text/plain": [
       "<Figure size 432x288 with 2 Axes>"
      ]
     },
     "metadata": {
      "needs_background": "light"
     },
     "output_type": "display_data"
    },
    {
     "name": "stdout",
     "output_type": "stream",
     "text": [
      "313/313 [==============================] - 22s 70ms/step - loss: 2.7152 - accuracy: 0.1003\n",
      "[2.715240955352783, 0.10029999911785126]\n"
     ]
    }
   ],
   "source": [
    "from tensorflow.keras.datasets import cifar10\n",
    "from tensorflow.keras.utils import to_categorical\n",
    "from tensorflow.keras.models import Model, Sequential\n",
    "from tensorflow.keras.layers import Conv2D, ZeroPadding2D, BatchNormalization, \\\n",
    "    MaxPooling2D, Activation, Dense, Add, GlobalAveragePooling2D, Flatten, Dropout\n",
    "from tensorflow.keras.callbacks import EarlyStopping\n",
    "\n",
    "early_stopping = EarlyStopping(patience=10) # 조기종료 콜백함수\n",
    "num_classes = 10\n",
    "epochs = 1\n",
    "batch_size = 32\n",
    "dropout_rate = 0.5\n",
    "image_width, image_height, image_channel = (32,32,3)\n",
    "\n",
    "# 기본 Cifar Image load\n",
    "(x_train, y_train), (x_test, y_test) = cifar10.load_data()\n",
    "\n",
    "# one hot encode target values\n",
    "y_train = to_categorical(y_train, num_classes)\n",
    "y_test = to_categorical(y_test, num_classes)\n",
    "print(x_train.shape, y_train.shape, x_test.shape, y_test.shape)\n",
    "\n",
    "\n",
    "# convert from integers to floats\n",
    "x_train = x_train.astype('float32')/ 255.0\n",
    "x_test = x_test.astype('float32')/ 255.0\n",
    "print(x_train.shape, y_train.shape, x_test.shape, y_test.shape)\n",
    "\n",
    "# data generator\n",
    "datagen = ImageDataGenerator(\n",
    "    featurewise_center=True,\n",
    "    featurewise_std_normalization=True,\n",
    "    rotation_range=20,\n",
    "    width_shift_range=0.2,\n",
    "    height_shift_range=0.2,\n",
    "    horizontal_flip=True,\n",
    "    validation_split=0.3\n",
    ")\n",
    "\n",
    "# 특성별 정규화에 필요한 수치를 계산합니다\n",
    "# 샘플 데이터 배열 기반 데이터 의존적인 변형에 관련된 내적 데이터 통계를 계산\n",
    "# featurewise_center, featurewise_std_normalization, zca_whitening이 참일때만 필요\n",
    "datagen.fit(x_train)\n",
    "\n",
    "train_generator = datagen.flow(x_train, y_train, batch_size=batch_size, subset='training')\n",
    "valid_generator = datagen.flow(x_train, y_train, batch_size=batch_size, subset='validation')\n",
    "\n",
    "# 모델 생성\n",
    "# block 1 - CCM\n",
    "model = Sequential()\n",
    "model.add(Conv2D(64, (3, 3), input_shape=(image_width, image_height, image_channel), padding='same'))\n",
    "model.add(Activation('relu'))\n",
    "model.add(Dropout(dropout_rate))  \n",
    "model.add(Conv2D(64, (3, 3), padding='same'))\n",
    "model.add(Activation('relu'))\n",
    "model.add(Dropout(dropout_rate))  \n",
    "model.add(MaxPooling2D(pool_size=(2, 2)))\n",
    "\n",
    "# block 2 - CM\n",
    "model.add(Conv2D(128, (3, 3), padding='same'))\n",
    "model.add(Activation('relu'))\n",
    "model.add(Dropout(dropout_rate))  \n",
    "model.add(MaxPooling2D(pool_size=(2, 2)))\n",
    "\n",
    "# block 3 - CM\n",
    "model.add(Conv2D(256, (3, 3), padding='same'))\n",
    "model.add(Activation('relu'))\n",
    "model.add(Dropout(dropout_rate))  \n",
    "model.add(MaxPooling2D(pool_size=(2, 2)))\n",
    "\n",
    "# block 4 - FF\n",
    "# classification layer\n",
    "model.add(Flatten()) \n",
    "model.add(Dense(512))\n",
    "model.add(Activation('relu'))\n",
    "model.add(Dense(512))\n",
    "model.add(Activation('relu'))\n",
    "model.add(Dropout(0.5))\n",
    "model.add(Dense(num_classes))\n",
    "model.add(Activation('softmax'))\n",
    "\n",
    "model.summary()\n",
    "\n",
    "model.compile(loss='categorical_crossentropy',\n",
    "              optimizer='adam',\n",
    "              metrics=['accuracy'])\n",
    "\n",
    "# 실시간 데이터 증강을 사용해 배치에 대해서 모델을 학습\n",
    "hist = model.fit_generator(train_generator,\n",
    "                           epochs=epochs,\n",
    "                           steps_per_epoch = len(train_generator), # len(x_train) // batch_size\n",
    "                           validation_data = valid_generator,\n",
    "                           callbacks=[early_stopping])\n",
    "\n",
    "visualization_training(hist)\n",
    "\n",
    "result = model.evaluate(x_test, y_test)\n",
    "print(result)"
   ]
  },
  {
   "cell_type": "code",
   "execution_count": 65,
   "metadata": {},
   "outputs": [
    {
     "name": "stdout",
     "output_type": "stream",
     "text": [
      "313/313 [==============================] - 20s 65ms/step - loss: 2.6610 - accuracy: 0.1866\n",
      "[2.6610171794891357, 0.186599999666214]\n"
     ]
    }
   ],
   "source": [
    "hist.history\n",
    "result = model.evaluate(x_test, y_test)\n",
    "print(result)"
   ]
  },
  {
   "cell_type": "markdown",
   "metadata": {},
   "source": [
    "## 총요약 !!\n",
    "\n",
    "#### 1. from tensorflow.keras.preprocessing.image import ImageDataGenerator 라이브러리 참조\n",
    "#### 2. datagen = ImageDataGenerator 객체 생성 \n",
    "- 어떠한 형태의 변형 augmentation에 대한 정보 가지고 있음\n",
    "- rotation_range=40, width_shift_range=0.2 등\n",
    "    \n",
    "#### 3. datagen.flow() / datagen.flow_from_directory() 사용\n",
    "- datagen.flow를 통해 생성된 이미지 배치 단위로 생성 및 저장\n",
    "- datagen.flow를 통한 학습에 대한 flow 생성 (train, valid 분리 등)\n",
    "- datagen.flow_from_directory()를 통한 이미지 배치 단위로 로드 \n",
    "- train_genertor = datagen.flow_from_directory() 폴더에서 읽어와서 생성 가능\n",
    "- valid_genertor = datagen.flow_from_directory() 폴더에서 읽어와서 생성 가능\n",
    "\n",
    "#### 4. fit_generator\n",
    "- model.fit_generator(train_generator, epochs, steps_per_epoch = len(train_generator) or len(x_train) // batch_size\n",
    "- validation_data = valid_generator, callbacks=[early_stopping])"
   ]
  },
  {
   "cell_type": "markdown",
   "metadata": {},
   "source": [
    "## 참고문헌\n",
    "- https://keras.io/ko/preprocessing/image/ // keras 공식 document"
   ]
  }
 ],
 "metadata": {
  "kernelspec": {
   "display_name": "Python 3",
   "language": "python",
   "name": "python3"
  }
 },
 "nbformat": 4,
 "nbformat_minor": 4
}
