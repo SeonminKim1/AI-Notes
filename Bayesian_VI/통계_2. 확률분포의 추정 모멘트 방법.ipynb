{
 "cells": [
  {
   "cell_type": "markdown",
   "metadata": {},
   "source": [
    "<hr>\n",
    "\n",
    "## 모멘트란\n",
    "- 확률에서 모멘트란 확률분포에 있어서 위치, 모양 등등 많은 것을 나타냄.\n",
    "- 0차 모멘트는 PDF(확률밀도함수)의 면적\n",
    "- 1차 모멘트는 평균\n",
    "- 2차 모멘트는 분산\n",
    "- 3차 모멘트는 비틀림\n",
    "- 4차 모멘트는 첨도 등\n",
    "\n",
    "## 모멘트 방법\n",
    "- 표본 자료에 대한 **표본 모멘트가 확률 분포의 이론적 모멘트와 같다고 가정하여 모수를 구함**\n",
    "\n",
    "![moment](img/moment.PNG)\n",
    "\n",
    "### 1. 베르누이 분포의 모수 추정\n",
    "- 1 또는 0의 값을 가지는 분포\n",
    "- 모수 $μ$를 구하기\n",
    "- $N_1$은 1의 개수를 뜻함\n",
    "\n",
    "![moment_Bernoulli](img/moment_Bernoulli.PNG)\n",
    "\n",
    "### 2. 정규분포의 모수 추정\n",
    "- 모멘트 방법으로 정규분포의 모수 $μ, σ2$를 구하기\n",
    "- 정규 분포는 모수가 아예 모멘트로 정의되어 있기 때문에 모멘트 방법 사용시 쉽게 모수 추정 가능\n",
    "\n",
    "![moment_normal](img/moment_normal.PNG)\n",
    "\n",
    "### 3. 베타 분포의 모수 추정\n",
    "- 베타 분포 : 데이터과 0 과 1사이 \n",
    "- 모멘트 방법으로 베타 분포의 모수 a,b 구하기\n",
    "- 모수와 모멘트 간의 관계를 이용하여 비선형 연립 방정식\n",
    "\n",
    "![moment_beta1](img/moment_beta1.PNG)\n",
    "![moment_beta2](img/moment_beta2.PNG)\n",
    "\n",
    "- **아래 예제는 0 ~ 1 사이의 beta분포**\n",
    "- **예제 결과 베타 분포의 모수인 15, 12에 가깝게 나옴을 알수 있음)**\n",
    "\n",
    "### 3-1) 베타 분포 모수 추정 예제"
   ]
  },
  {
   "cell_type": "code",
   "execution_count": 8,
   "metadata": {},
   "outputs": [
    {
     "data": {
      "image/png": "[encoded data removed]",
      "text/plain": [
       "<Figure size 432x288 with 1 Axes>"
      ]
     },
     "metadata": {
      "needs_background": "light"
     },
     "output_type": "display_data"
    }
   ],
   "source": [
    "## 베타 분포 예제\n",
    "import seaborn as sns\n",
    "import pandas as pd\n",
    "import numpy as np\n",
    "import scipy as sp\n",
    "import matplotlib.pyplot as plt\n",
    "np.random.seed(0)\n",
    "x = sp.stats.beta(15, 12).rvs(10000)\n",
    "\n",
    "sns.distplot(x, kde=False, norm_hist=True)\n",
    "plt.title(\"beta distribution histogram\")\n",
    "plt.show()"
   ]
  },
  {
   "cell_type": "code",
   "execution_count": 12,
   "metadata": {},
   "outputs": [
    {
     "name": "stdout",
     "output_type": "stream",
     "text": [
      "beta 분포 모수 값 (15.346682046700685, 12.2121537049535)\n"
     ]
    }
   ],
   "source": [
    "## 모멘트 방법을 이용한 모수 계산\n",
    "def estimate_beta(x):\n",
    "    x_bar = x.mean()\n",
    "    s2 = x.var()\n",
    "    a = x_bar * (x_bar * (1 - x_bar) / s2 - 1)\n",
    "    b = (1 - x_bar) * (x_bar * (1 - x_bar) / s2 - 1)\n",
    "    return a, b\n",
    "\n",
    "params = estimate_beta(x)\n",
    "print('beta 분포 모수 값', params)"
   ]
  },
  {
   "cell_type": "markdown",
   "metadata": {},
   "source": [
    "## 참고문헌\n",
    "- https://datascienceschool.net/02%20mathematics/09.01%20%ED%99%95%EB%A5%A0%EB%B6%84%ED%8F%AC%EC%9D%98%20%EC%B6%94%EC%A0%95.html"
   ]
  }
 ],
 "metadata": {
  "kernelspec": {
   "display_name": "Python 3",
   "language": "python",
   "name": "python3"
  },
  "language_info": {
   "codemirror_mode": {
    "name": "ipython",
    "version": 3
   },
   "file_extension": ".py",
   "mimetype": "text/x-python",
   "name": "python",
   "nbconvert_exporter": "python",
   "pygments_lexer": "ipython3",
   "version": "3.7.5"
  }
 },
 "nbformat": 4,
 "nbformat_minor": 4
}
