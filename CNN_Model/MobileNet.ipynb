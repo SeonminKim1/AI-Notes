{
 "cells": [
  {
   "cell_type": "markdown",
   "metadata": {},
   "source": [
    "## MobileNet\n",
    "- MobileNet과 SqueezeNet은 다소 가벼운 모델이지만 AlexNet을 넘나드는 정확도를 보여주고 **정확도를 조금 손해보더라도 모델을 최대한 작고 효율적으로 설계**\n",
    "- 경량화 model중 reference가 많이 되는 매우 유명한 모델입니다\n",
    "\n",
    "### MobileNet\n",
    "- Depthwise Seperable Convolution = 3x3 Depthwise Conv + 1x1 Conv\n",
    "\n",
    "- standard convolution , Depthwise Convolution, Pointwise Convolution\n",
    "![mobilenet_standard_depth_point](img/mobilenet_standard_depth_point.png)\n",
    "\n",
    "- Depthwise Convolution\n",
    "    - 채널을 각각 분리해서 Convolution 을 하는 것\n",
    "\n",
    "- Pointwise Convolution (=1x1 conv)\n",
    "    - 채널정보를 합쳐서 Convolution 작업 ( Dimension reduction 효과)\n",
    "\n",
    "### Keyword1. Depthwise Separable Convolution\n",
    "- 처음에는 Depthwise 부터하고, Pointwise를 통한 Convolution 진행\n",
    "![depthwise_separable_conv](img/depthwise_separable_conv.png)\n",
    "\n",
    "![depthwise_separable_conv_operation.png](img/depthwise_separable_conv_operation.png)\n",
    "\n",
    "### Keyword2. 실험적인 model 구조 설계를 위한 parameter조정 실험\n",
    "- 조금 더 작은 네트워크를 만들기 위해 두가지 파라미터를 사용 및 실험비교\n",
    "\n",
    "- Width Multipler\n",
    "    - 채널의 크기를 결정하는 파라미터로, 각 레이어의 인풋채널과 아웃풋 채널 수를 알파 비율(1, 0.75, 0.5, 0.25)만큼 조절\n",
    "- Resolution Multiplier \n",
    "    - input Resolution(인풋 사이즈 크기-height와 width에 곱해지는 상수값)을 결정하는 파라미터 : 224기준 (224, 192, 160, 128)\n",
    "   \n",
    "### 실험 결과\n",
    "![mobilenet_experiment](img/mobilenet_experiment.png)\n",
    "\n",
    "- Table 4 \n",
    "    - depthwise separable conv가 기본 conv연산보다 정확도는 살짝 떨어지지만 네트워크 경량화에는 상당히 효율적인 것을 보여줌\n",
    "- Table 5\n",
    "    - narrow한 네트워크(네트워크의 height, width가 작은 것)과 shallow한 네트워크( 네트워크의 깊이가 얕은 것) 중에 어떤 전략을 적절한가에 대한 실험 -> 실험의 결과를 보면 shallow한 것 보다 narrow한 것이 더 나음\n",
    "    - 즉, 네트워크 경량화를 해야 한다면 깊이를 줄이기 보다는 네트워크의 height, width를 줄이는 게 더 낫다는 것. 즉, 깊이 있게 쌓는 것이 더 낫다라는 실험입니다.\n",
    "\n",
    "- **paramter의 경우 Width Multiplier가 더 많은 영향을 주고, Resolution Multiplier는 연산량에 많은 영향을 준다**\n",
    "- 모바일넷은 정확도가 GoogLeNet이나 VGG16과 비슷한 수준까지 도달할 수 있음\n",
    "- 유사한 성격의 경량화 모델인 스퀴즈넷과도 비교를 하였는데, 스퀴즈넷보다 파라미터 수는 약간 많지만 훨씬 적은 연산량으로 더 높은 정확도를 얻을 수 있음을 보여줌"
   ]
  },
  {
   "cell_type": "markdown",
   "metadata": {},
   "source": [
    "## 참고문헌\n",
    "- https://gaussian37.github.io/dl-concept-mobilenet/"
   ]
  }
 ],
 "metadata": {
  "kernelspec": {
   "display_name": "Python 3",
   "language": "python",
   "name": "python3"
  },
  "language_info": {
   "codemirror_mode": {
    "name": "ipython",
    "version": 3
   },
   "file_extension": ".py",
   "mimetype": "text/x-python",
   "name": "python",
   "nbconvert_exporter": "python",
   "pygments_lexer": "ipython3",
   "version": "3.7.5"
  }
 },
 "nbformat": 4,
 "nbformat_minor": 4
}
