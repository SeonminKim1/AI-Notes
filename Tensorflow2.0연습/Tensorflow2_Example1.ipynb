{
 "cells": [
  {
   "cell_type": "markdown",
   "metadata": {},
   "source": [
    "## Tensorflow 2.0 연습"
   ]
  },
  {
   "cell_type": "code",
   "execution_count": 20,
   "metadata": {},
   "outputs": [
    {
     "name": "stdout",
     "output_type": "stream",
     "text": [
      "2.0.0\n"
     ]
    }
   ],
   "source": [
    "import numpy as np\n",
    "import tensorflow as tf\n",
    "\n",
    "print(tf.__version__)"
   ]
  },
  {
   "cell_type": "markdown",
   "metadata": {},
   "source": [
    "## 1. Defining Tensors"
   ]
  },
  {
   "cell_type": "code",
   "execution_count": 3,
   "metadata": {},
   "outputs": [
    {
     "name": "stdout",
     "output_type": "stream",
     "text": [
      "<class 'list'> <class 'numpy.ndarray'> <class 'tensorflow.python.framework.ops.EagerTensor'>\n",
      "<class 'tensorflow.python.framework.ops.EagerTensor'> <class 'tensorflow.python.framework.ops.EagerTensor'> <class 'tensorflow.python.framework.ops.EagerTensor'>\n"
     ]
    }
   ],
   "source": [
    "m1 = [[1.0, 2.0], [3.0, 4.0]]\n",
    "m2 = np.array([[1.0, 2.0], [3.0, 4.0]], dtype=np.float32)\n",
    "m3 = tf.constant([[1.0, 2.0], [3.0, 4.0]])\n",
    "\n",
    "print(type(m1), type(m2), type(m3))\n",
    "\n",
    "t1 = tf.convert_to_tensor(m1, dtype=tf.float32)\n",
    "t2 = tf.convert_to_tensor(m2, dtype=tf.float32)\n",
    "t3 = tf.convert_to_tensor(m3 , dtype=tf.float32)\n",
    "print(type(t1), type(t2), type(t3)) \n",
    "\n",
    "# eager mode 이기 때문에 바로 print 로 출력가능 (1.0 버전과 다른 것)\n",
    "print(t1)\n"
   ]
  },
  {
   "cell_type": "code",
   "execution_count": 5,
   "metadata": {},
   "outputs": [
    {
     "name": "stdout",
     "output_type": "stream",
     "text": [
      "tf.Tensor(\n",
      "[[42. 42. 42.]\n",
      " [42. 42. 42.]\n",
      " [42. 42. 42.]], shape=(3, 3), dtype=float64)\n",
      "[[43. 43. 43.]\n",
      " [43. 43. 43.]\n",
      " [43. 43. 43.]]\n",
      "<class 'numpy.ndarray'>\n"
     ]
    }
   ],
   "source": [
    "# np.array 와 tensor type 과는 거의 연동됨.\n",
    "\n",
    "ndarray = np.ones([3,3])\n",
    "\n",
    "tensor = tf.multiply(ndarray, 42)\n",
    "print(tensor)\n",
    "\n",
    "# np 전체에다가 1 더하기\n",
    "print(np.add(tensor, 1))\n",
    "\n",
    "# tensor to numpy\n",
    "print(type(tensor.numpy()))"
   ]
  },
  {
   "cell_type": "code",
   "execution_count": 6,
   "metadata": {},
   "outputs": [
    {
     "name": "stdout",
     "output_type": "stream",
     "text": [
      "1.5\n",
      "tf.Tensor(2.5, shape=(), dtype=float32)\n"
     ]
    }
   ],
   "source": [
    "# tf. constant\n",
    "\n",
    "a = tf.constant(1.5)\n",
    "b = tf.constant(2.5) \n",
    "\n",
    "# numpy() 라고 붙이면 그냥 값만, 전체 출력시도 가능\n",
    "print(a.numpy())\n",
    "print(b)"
   ]
  },
  {
   "cell_type": "markdown",
   "metadata": {},
   "source": [
    "## 2. Operations"
   ]
  },
  {
   "cell_type": "code",
   "execution_count": 8,
   "metadata": {},
   "outputs": [
    {
     "name": "stdout",
     "output_type": "stream",
     "text": [
      "tf.Tensor(4.0, shape=(), dtype=float32)\n",
      "tf.Tensor(3.75, shape=(), dtype=float32)\n"
     ]
    }
   ],
   "source": [
    "# 덧셈과 곱셈\n",
    "a_plus_b = tf.add(a,b)\n",
    "print(a_plus_b)\n",
    "\n",
    "a_mul_b = tf.multiply(a,b)\n",
    "print(a_mul_b)"
   ]
  },
  {
   "cell_type": "markdown",
   "metadata": {},
   "source": [
    "## 3. Variables \n",
    "- placeholder 는 없어짐"
   ]
  },
  {
   "cell_type": "code",
   "execution_count": 9,
   "metadata": {},
   "outputs": [
    {
     "name": "stdout",
     "output_type": "stream",
     "text": [
      "<tf.Variable 'Variable:0' shape=(5, 2) dtype=float32, numpy=\n",
      "array([[-0.0204947 ,  0.04981499],\n",
      "       [-0.02288328, -0.15046576],\n",
      "       [ 0.00838564,  0.06883458],\n",
      "       [ 0.10868975, -0.10922921],\n",
      "       [ 0.06711064,  0.06097421]], dtype=float32)>\n"
     ]
    }
   ],
   "source": [
    "weight = tf.Variable(tf.random_normal_initializer(stddev=0.1)([5,2]))\n",
    "print(weight)"
   ]
  },
  {
   "cell_type": "markdown",
   "metadata": {},
   "source": [
    "## 4. Create Dataset\n",
    "- Preprocessing 할 떄 편한 것\n",
    "- iterate 시 비복원추출로 진행 batch가 2이면 2개씩 모~든걸 다뽑을떄까지 진행되는 것\n",
    "- ds_tensor.take(2) -> 2회만 진행"
   ]
  },
  {
   "cell_type": "code",
   "execution_count": 15,
   "metadata": {},
   "outputs": [
    {
     "name": "stdout",
     "output_type": "stream",
     "text": [
      "<TensorSliceDataset shapes: (), types: tf.int32>\n",
      "<BatchDataset shapes: (None,), types: tf.int32>\n"
     ]
    }
   ],
   "source": [
    "a = np.arange(10)\n",
    "ds_tensors = tf.data.Dataset.from_tensor_slices(a)\n",
    "print(ds_tensors)\n",
    "\n",
    "## apply transformations -  한 에폭이 지나갈 때마다 셔플여부, 20은 몇개를 바꿀건지\n",
    "ds_tensors = ds_tensors.map(tf.square).shuffle(20).batch(2)\n",
    "print(ds_tensors)"
   ]
  },
  {
   "cell_type": "code",
   "execution_count": 19,
   "metadata": {},
   "outputs": [
    {
     "name": "stdout",
     "output_type": "stream",
     "text": [
      "Elements of ds_tensors:\n",
      "tf.Tensor([36 64], shape=(2,), dtype=int32) \n",
      "\n",
      "tf.Tensor([ 0 81], shape=(2,), dtype=int32) \n",
      "\n",
      "tf.Tensor([49  1], shape=(2,), dtype=int32) \n",
      "\n",
      "tf.Tensor([ 9 25], shape=(2,), dtype=int32) \n",
      "\n",
      "tf.Tensor([16  4], shape=(2,), dtype=int32) \n",
      "\n",
      "tf.Tensor([64 36], shape=(2,), dtype=int32) \n",
      "\n",
      "tf.Tensor([81 16], shape=(2,), dtype=int32) \n",
      "\n",
      "tf.Tensor([ 1 49], shape=(2,), dtype=int32) \n",
      "\n",
      "tf.Tensor([25  0], shape=(2,), dtype=int32) \n",
      "\n",
      "tf.Tensor([4 9], shape=(2,), dtype=int32) \n",
      "\n",
      "tf.Tensor([81 49], shape=(2,), dtype=int32) \n",
      "\n",
      "tf.Tensor([ 9 16], shape=(2,), dtype=int32) \n",
      "\n",
      "tf.Tensor([25  0], shape=(2,), dtype=int32) \n",
      "\n",
      "tf.Tensor([ 1 36], shape=(2,), dtype=int32) \n",
      "\n",
      "tf.Tensor([64  4], shape=(2,), dtype=int32) \n",
      "\n"
     ]
    }
   ],
   "source": [
    "# 데이터를 공급하는 것\n",
    "# iterate\n",
    "\n",
    "print('Elements of ds_tensors:')\n",
    "for _ in range(3): # 3 epoch이라고 생각\n",
    "    for x in ds_tensors: # batch 로 돌아감 (2라고 설정하면 2개씩 돌아감) \n",
    "        print(x, '\\n')"
   ]
  },
  {
   "cell_type": "code",
   "execution_count": 17,
   "metadata": {},
   "outputs": [
    {
     "name": "stdout",
     "output_type": "stream",
     "text": [
      "Elements of ds_tensors:\n",
      "tf.Tensor([25  0], shape=(2,), dtype=int32)\n",
      "tf.Tensor([16 49], shape=(2,), dtype=int32)\n",
      "tf.Tensor([ 4 16], shape=(2,), dtype=int32)\n",
      "tf.Tensor([ 0 25], shape=(2,), dtype=int32)\n",
      "tf.Tensor([16 64], shape=(2,), dtype=int32)\n",
      "tf.Tensor([25  0], shape=(2,), dtype=int32)\n"
     ]
    }
   ],
   "source": [
    "# 데이터를 공급하는 것\n",
    "# iterate\n",
    "\n",
    "print('Elements of ds_tensors:')\n",
    "for _ in range(3): # 3 epoch이라고 생각\n",
    "    for x in ds_tensors.take(2): # 2번만 가져옴 \n",
    "        print(x)"
   ]
  }
 ],
 "metadata": {
  "kernelspec": {
   "display_name": "Python 3",
   "language": "python",
   "name": "python3"
  },
  "language_info": {
   "codemirror_mode": {
    "name": "ipython",
    "version": 3
   },
   "file_extension": ".py",
   "mimetype": "text/x-python",
   "name": "python",
   "nbconvert_exporter": "python",
   "pygments_lexer": "ipython3",
   "version": "3.7.5"
  }
 },
 "nbformat": 4,
 "nbformat_minor": 4
}
