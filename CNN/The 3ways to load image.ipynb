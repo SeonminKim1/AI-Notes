{
 "cells": [
  {
   "cell_type": "markdown",
   "metadata": {},
   "source": [
    "## 이미지 읽어오는 방법 3가지\n",
    "\n",
    "### (1) PIL \n",
    "- pillow 의 fork 본\n",
    "- from PIL import Image\n",
    "- RGBA 형태로 받아와지기 때문에 convert('rgb')로 변환 필요\n",
    "- Image 객체로 받아옴 numpy 변환 필요\n",
    "\n",
    "### (2) Opencv\n",
    "- import cv2 -> cv2.imread -> cv2.imshow\n",
    "- numpy 형태로 반환\n",
    "\n",
    "### (3) matplotlib.pyplot as plt\n",
    "- plt.imread -> numpy 형태로 반환\n",
    "- 흑백이미지, RGB이미지, RGBA이미지 알아서 리턴함"
   ]
  },
  {
   "cell_type": "code",
   "execution_count": 23,
   "metadata": {},
   "outputs": [
    {
     "name": "stdout",
     "output_type": "stream",
     "text": [
      "<class 'numpy.ndarray'> (42, 48, 3)\n"
     ]
    }
   ],
   "source": [
    "import numpy as np\n",
    "\n",
    "from PIL import Image\n",
    "\n",
    "img = Image.open('traindata/s.PNG')\n",
    "pil_image = img.convert('RGB') # convert RGB\n",
    "\n",
    "pil_image = np.array(pil_image)\n",
    "print(type(pil_image), pil_image.shape)\n",
    "\n",
    "# 둘이 차이 없음 RGBA, RGB\n",
    "# img.show() \n",
    "# pil_image.show()\n"
   ]
  },
  {
   "cell_type": "code",
   "execution_count": 18,
   "metadata": {},
   "outputs": [
    {
     "name": "stdout",
     "output_type": "stream",
     "text": [
      "<class 'numpy.ndarray'> (42, 48, 3)\n"
     ]
    }
   ],
   "source": [
    "import cv2\n",
    "img_cv = cv2.imread('traindata/s.PNG')\n",
    "\n",
    "print(type(img_cv), img_cv.shape)\n"
   ]
  },
  {
   "cell_type": "code",
   "execution_count": 32,
   "metadata": {},
   "outputs": [
    {
     "name": "stdout",
     "output_type": "stream",
     "text": [
      "<class 'numpy.ndarray'> (42, 48, 3)\n"
     ]
    }
   ],
   "source": [
    "import matplotlib.pyplot as plt\n",
    "\n",
    "img_mp = plt.imread('traindata/s.PNG')[:,:,:3] # RGB 형태로 리턴\n",
    "print(type(img_mp), img_mp.shape)\n",
    "\n"
   ]
  }
 ],
 "metadata": {
  "kernelspec": {
   "display_name": "Python 3",
   "language": "python",
   "name": "python3"
  },
  "language_info": {
   "codemirror_mode": {
    "name": "ipython",
    "version": 3
   },
   "file_extension": ".py",
   "mimetype": "text/x-python",
   "name": "python",
   "nbconvert_exporter": "python",
   "pygments_lexer": "ipython3",
   "version": "3.7.5"
  }
 },
 "nbformat": 4,
 "nbformat_minor": 4
}
