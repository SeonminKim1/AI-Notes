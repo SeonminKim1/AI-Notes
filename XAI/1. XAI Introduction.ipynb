{
 "cells": [
  {
   "cell_type": "markdown",
   "metadata": {},
   "source": [
    "## XAI Introduction\n",
    "\n",
    "### 다르파 (DRAPA)의 혁신 프로젝트\n",
    "- 1958년 러시아를 견제하기 위해 ARPA (Advanced Research Projects Agency) 설립\n",
    "- Defense의미의 D가 붙으면서 DRAPA로 성장\n",
    "- **2016년 인공지능 관련 프로젝트 Explainable Artifical Intelligence, XAI가 등장**\n",
    "\n",
    "![darpa_xai](img/darpa_xai.png)\n",
    "\n",
    "<hr>"
   ]
  },
  {
   "cell_type": "markdown",
   "metadata": {},
   "source": [
    "### XAI (2016-2021) 개요\n",
    "- XAI는 **컴퓨터의 의사 결정 과정을 드러내는 연구**로 발전\n",
    "- 연산 모델이 초기 입력과 중간 결정을 거쳐 최종 판단을 투명하게 만들고자 함\n",
    "- XAI 알고리즘 기법들은 서로 상충하는 설명 결과를 내놓기도 함\n",
    "- XAI 알고리즘을 선택하는 안목은 데이터의 특성과 XAI 알고리즘 원리를 잘 이해하고 있는 데이터 과학자의 숙련도에 달림\n",
    "- 인공지능 개선 + 비전문가들과 소통하기 위한 수단이 될 수도 있음\n",
    "\n",
    "### XAI 특징\n",
    "- 일반 머신러닝 모델들은 **평가 함수를 통해 잘 작동하고 있는지 여부를 체크**\n",
    "- 모델이 어떻게 개선되어야 하는지에 대한 직접적인 단서를 제공하지는 못함\n",
    "- XAI는 모델이 구축된 후에 데이터를 어떻게 받아들이고 있는지 해설함\n",
    "\n",
    "<hr>"
   ]
  },
  {
   "cell_type": "markdown",
   "metadata": {},
   "source": [
    "### XAI 구현 방법\n",
    "- (1) 문제 해결의 머신러닝 모델을 만듬\n",
    "- (2) **XAI를 결합**\n",
    "- (3) **모델 결과를 해석하는 인터페이스 연결** (ex UI, Visualization, txt 기반 등)\n",
    "- (4) 모델의 문제점 발견 및 개선\n",
    "- (5) 모델 테스트 및 평가 파이프라인 구축\n",
    "\n",
    "\n",
    "### XAI 기법\n",
    "- 크게 3가지 방향으로 나뉨\n",
    "    - **전통적인 머신러닝 모델에 적용할 수 있는 XAI 기법 (SHAP, LIME)**\n",
    "    - **딥러닝 모델에 적용할 수 있는 XAI 기법 (Filter Visualization, LRP)**\n",
    "    - **모델의 제약 없이 적용할 수 있는 기법**\n",
    "\n",
    "\n",
    "### XAI와 Visualization의 차이\n",
    "- XAI\n",
    "    - **XAI의 핵심은 해석 가능성**\n",
    "    - **왜 모델을 신뢰해야 되고 왜 그러한 특정 결정을 하였는지 관한 근거를 찾기**\n",
    "    - 대리 분석(Surrogate Analysis)\n",
    "    - 부분 의존성 플롯 (Partial Dependence Plots, PDPs)\n",
    "    - 유사도 분석(Similarity Measure)\n",
    "    - 피쳐 중요도 (Feature Importance)\n",
    "- Visualization (=Graphical Method)\n",
    "    - 모델을 분석한 이후에 추가로 수행하는 후처리\n",
    "   \n",
    "<br>"
   ]
  },
  {
   "cell_type": "code",
   "execution_count": null,
   "metadata": {},
   "outputs": [],
   "source": []
  }
 ],
 "metadata": {
  "kernelspec": {
   "display_name": "Python 3",
   "language": "python",
   "name": "python3"
  },
  "language_info": {
   "codemirror_mode": {
    "name": "ipython",
    "version": 3
   },
   "file_extension": ".py",
   "mimetype": "text/x-python",
   "name": "python",
   "nbconvert_exporter": "python",
   "pygments_lexer": "ipython3",
   "version": "3.7.5"
  }
 },
 "nbformat": 4,
 "nbformat_minor": 4
}
