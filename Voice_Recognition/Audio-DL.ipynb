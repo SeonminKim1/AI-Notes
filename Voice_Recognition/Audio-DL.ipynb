{
 "cells": [
  {
   "cell_type": "markdown",
   "metadata": {},
   "source": [
    "## Audio-Deep Learning의 주요 Task Review\n",
    "- 음성인식\n",
    "- 음성 합성\n",
    "\n",
    "\n",
    "## Sound Data의 이해와 전처리와 시각화\n",
    "- Signal Processing\n",
    "- Sound Visualization\n",
    "\n",
    "## Librosa와 TorchAudio\n",
    "\n",
    "\n",
    "## 1. Digital Signal Processing\n",
    "\n",
    "저희의 목적은 소리 signal를 어떠한 데이터 타입으로 표현하며, 소리와 관련된 task를 해결하는데 있습니다. 그렇다면 소리는 어떠한 데이터를 가지고 있을까요?\n",
    "\n",
    "### Sound?\n",
    "\n",
    "소리는 일반적으로 진동으로 인한 공기의 압축으로 생성됩니다. 그렇다면 압축이 얼마나 됬느냐에 따라서 표현되것이 바로 Wave(파동)인데요. 파동은 진동하며 공간/매질을 전파해 나가는 현상입니다. 질량의 이동은 없지만 에너지/운동량의 운반은 존재합니다.\n",
    "\n",
    "Wave에서 저희가 얻을수 있는 정보는 크게 3가지가 있습니다.\n",
    "- Phase(Degress of displacement) : 위상\n",
    "- Amplitude(Intensity) : 진폭\n",
    "- Frequency : 주파수\n",
    "\n",
    "\n",
    "### Sampling\n",
    "\n",
    "샘플링은 무엇일까요?? 아날로그 정보를 잘게 쪼개서 discrete한 디지털 정보로 표현해야합니다. 우리는 무한하게 쪼개서 저장할수 없으니, 어떤 기준을 가지고 아날로그 정보를 쪼개서 대표값을 취하게 됩니다.\n",
    "\n",
    "```Convert into a sqeuence of binary values via Sampling and Quantization```\n",
    "\n",
    "### 1.1. Time domain\n",
    "\n",
    "시간을 기준으로 아날로그 시그널을 쪼개게 되는 것을 의미합니다. Sampling을 통하여 컴퓨터는 소리 sequence를 binary value로 받아드리게 됩니다.\n",
    "\n",
    "__Sampling rate : 얼마나 잘게 쪼갤 것인가?__<br>\n",
    "잘개 쪼갤수록 원본 데이터와 거이 가까워지기 떄문에 좋지만 Data의 양이 증가하게 됩니다. 만약 너무 크게 쪼개게 된다면, 원본 데이터로 reconstruct하기 힘들어 질 것입니다.\n",
    "\n",
    "\n",
    "\n",
    "__Sampling theorem__<br>\n",
    "샘플링 레이트가 최대 frequency의 2배 보다 커져야 한다는 것입니다.\n",
    "$ f_{s} > 2f_{m} $ 여기서 $f_{s}$는 sampling rate, 그리고 $f_{m}$은 maximum frequency를 말합니다.\n",
    "\n",
    "- Nyqusit frequency = $f_{s}/2$, sampling rate의 절반입니다.\n",
    "\n",
    "일반적으로 Sampling은 인간의 청각 영역에 맞게 형성이 됩니다.\n",
    "- Audio CD : 44.1 kHz(44100 sample/second)\n",
    "- Speech communication : 8 kHz(8000 sample/second)"
   ]
  },
  {
   "cell_type": "markdown",
   "metadata": {},
   "source": [
    "\n",
    "### Reference \n",
    "\n",
    "- T아카데미 디지털 신호처리 이해   \n",
    "https://www.youtube.com/watch?v=RxbkEjV7c0o \n",
    "\n",
    "- Digital Signal Processing Lecture\n",
    "https://github.com/spatialaudio/digital-signal-processing-lecture \n",
    "\n",
    "- Python for Signal Processing=(unipingco)   \n",
    "https://github.com/unpingco/Python-for-Signal-Processing \n",
    "\n",
    "- Audio for Deep Learning (남기현님)   \n",
    "https://tykimos.github.io/2019/07/04/ISS_2nd_Deep_Learning_Conference_All_Together/ \n",
    "\n",
    "- 오디오 전처리 작업을 위한 연습 (박수철님)   \n",
    "https://github.com/scpark20/audio-preprocessing-practice \n",
    "\n",
    "- Musical Applications of Machine Learning   \n",
    "https://mac.kaist.ac.kr/~juhan/gct634/ \n",
    "\n",
    "- Awesome audio study materials for Korean (최근우님)   \n",
    "https://github.com/keunwoochoi/awesome-audio-study-materials-for-korean"
   ]
  },
  {
   "cell_type": "code",
   "execution_count": 2,
   "metadata": {},
   "outputs": [
    {
     "name": "stderr",
     "output_type": "stream",
     "text": [
      "ERROR: Could not find a version that satisfies the requirement torchaudio (from versions: none)\n",
      "ERROR: No matching distribution found for torchaudio\n"
     ]
    }
   ],
   "source": [
    "!pip install torchaudio"
   ]
  },
  {
   "cell_type": "code",
   "execution_count": 3,
   "metadata": {},
   "outputs": [
    {
     "name": "stdout",
     "output_type": "stream",
     "text": [
      "^C\n"
     ]
    }
   ],
   "source": [
    "!conda install -c conda-forge librosa"
   ]
  },
  {
   "cell_type": "code",
   "execution_count": null,
   "metadata": {},
   "outputs": [],
   "source": []
  }
 ],
 "metadata": {
  "kernelspec": {
   "display_name": "Python 3",
   "language": "python",
   "name": "python3"
  },
  "language_info": {
   "codemirror_mode": {
    "name": "ipython",
    "version": 3
   },
   "file_extension": ".py",
   "mimetype": "text/x-python",
   "name": "python",
   "nbconvert_exporter": "python",
   "pygments_lexer": "ipython3",
   "version": "3.7.5"
  }
 },
 "nbformat": 4,
 "nbformat_minor": 4
}
