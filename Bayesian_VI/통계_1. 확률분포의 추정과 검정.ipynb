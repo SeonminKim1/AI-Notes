{
 "cells": [
  {
   "cell_type": "markdown",
   "metadata": {},
   "source": [
    "## 확률분포의 추정.\n",
    "- 데이터는 하나의 실현체에 불과한 표본이 아니라 뒤에서 이 데이터를 만들어내는 확률변수의 분포임\n",
    "- **확률론적인 관점에서 볼 때 데이터는 이 확률변수의 분포를 알아내기 위한 일련의 참고 자료**이며,\n",
    "- 따라서 우리는 데이터 즉 표본으로부터 확률변수의 분포를 알아내야 한다.\n",
    "\n",
    "## 모수 (Population Parameter)\n",
    "- 모집단의 특성치 (모평균, 모분산)을 나타내는 갓\n",
    "- 모집단 분포 특성을 규정짓는 척도\n",
    "\n",
    "## 확률 분포의 결정\n",
    "- 확률변수가 **베르누이분포, 이항분포, 정규분포 등의 기본 분포 중 어떤 확률분포를 따르는지 확인**\n",
    "    - 히스토그램이나 데이터의 확률 분포 모양을 살펴보고 힌트를 얻기.\n",
    "    - **베르누이 분포**\n",
    "        - 데이터가 0 또는 1이다 \n",
    "    - **카테고리 분포**\n",
    "        - 데이터는 카테고리 값이어야 한다 \n",
    "    - **베타분포**\n",
    "        - 데이터는 0과 1사이의 실수 값이어야 한다\n",
    "    - **로그정규분포, 감마분포, F분포, 카이제곱분포, 지수분포, 하프코시분포**\n",
    "        - 데이터는 항상 0 또는 양수\n",
    "    - **정규분포, 스튜던트 t분포, 코시분포, 라플라스분포 등**\n",
    "        - 데이터의 크기 제한이 없는 실수\n",
    "    \n",
    "    - **분포를 잘 모르겠다면**\n",
    "        - 정규성 검정이나 KS검정을 사용한 정규분포 확인\n",
    "\n",
    "- 데이터로부터 해당 확률분포의 모수의 값을 구한다.\n",
    "\n",
    "<hr>"
   ]
  },
  {
   "cell_type": "markdown",
   "metadata": {},
   "source": [
    "##  모수 추정 방법\n",
    "- **모수의 값으로 가장 가능성이 높은 하나의 숫자를 찾아내는 작업을 모수 추정(parameter estimation)**\n",
    "- 모수 추정 방법의 3가지 방법\n",
    "    - 모멘트 방법\n",
    "    - 최대가능도 추정법\n",
    "    - 베이즈 추정법\n"
   ]
  },
  {
   "cell_type": "markdown",
   "metadata": {},
   "source": [
    "## 참고문헌\n",
    "- https://datascienceschool.net/02%20mathematics/09.01%20%ED%99%95%EB%A5%A0%EB%B6%84%ED%8F%AC%EC%9D%98%20%EC%B6%94%EC%A0%95.html"
   ]
  }
 ],
 "metadata": {
  "kernelspec": {
   "display_name": "Python 3",
   "language": "python",
   "name": "python3"
  },
  "language_info": {
   "codemirror_mode": {
    "name": "ipython",
    "version": 3
   },
   "file_extension": ".py",
   "mimetype": "text/x-python",
   "name": "python",
   "nbconvert_exporter": "python",
   "pygments_lexer": "ipython3",
   "version": "3.7.5"
  }
 },
 "nbformat": 4,
 "nbformat_minor": 4
}
