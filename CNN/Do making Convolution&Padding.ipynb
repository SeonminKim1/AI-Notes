{
 "cells": [
  {
   "cell_type": "code",
   "execution_count": 88,
   "metadata": {},
   "outputs": [],
   "source": [
    "import numpy as np\n",
    "\n",
    "# padding 만들어주기\n",
    "def padding(data, num):\n",
    "    return np.pad(data, ((num,num),(num,num)), 'constant', constant_values=0)\n",
    "\n",
    "# conv 연산\n",
    "def conv(data, kernel):\n",
    "    mok = kernel.shape[0]//2\n",
    "    result = np.zeros((data.shape[0]-2*mok,data.shape[1]-2*mok))\n",
    "    for i in range(1*mok, data.shape[0]-1*mok):\n",
    "        for j in range(1*mok, data.shape[1]-1*mok):\n",
    "            x = data[i-1*mok:i-1*mok+kernel.shape[0], j-1*mok:j-1*mok+kernel.shape[1]]*kernel\n",
    "            result[i-1*mok,j-1*mok] = x.sum()\n",
    "    return result"
   ]
  },
  {
   "cell_type": "code",
   "execution_count": 89,
   "metadata": {},
   "outputs": [
    {
     "name": "stdout",
     "output_type": "stream",
     "text": [
      "image\n",
      " [[9 4 0 1 9 0 1]\n",
      " [8 9 0 8 6 4 3]\n",
      " [0 4 6 8 1 8 4]\n",
      " [1 3 6 5 3 9 6]\n",
      " [9 1 9 4 2 6 7]\n",
      " [8 8 9 2 0 6 7]\n",
      " [8 1 7 1 4 0 8]]\n"
     ]
    }
   ],
   "source": [
    "np.random.seed(10)\n",
    "\n",
    "x = [np.random.randint(10) for i in range(0,49)]\n",
    "image = np.array(x).reshape(7,7)\n",
    "print('image\\n', image)"
   ]
  },
  {
   "cell_type": "markdown",
   "metadata": {},
   "source": [
    "## 3x3 연산 1번, 2번"
   ]
  },
  {
   "cell_type": "code",
   "execution_count": 90,
   "metadata": {},
   "outputs": [
    {
     "name": "stdout",
     "output_type": "stream",
     "text": [
      "kernel3\n",
      " [[1 0 1]\n",
      " [0 1 0]\n",
      " [1 0 1]]\n",
      "pad_image1\n",
      " [[0 0 0 0 0 0 0 0 0]\n",
      " [0 9 4 0 1 9 0 1 0]\n",
      " [0 8 9 0 8 6 4 3 0]\n",
      " [0 0 4 6 8 1 8 4 0]\n",
      " [0 1 3 6 5 3 9 6 0]\n",
      " [0 9 1 9 4 2 6 7 0]\n",
      " [0 8 8 9 2 0 6 7 0]\n",
      " [0 8 1 7 1 4 0 8 0]\n",
      " [0 0 0 0 0 0 0 0 0]]\n"
     ]
    },
    {
     "data": {
      "text/plain": [
       "array([[18., 12., 17.,  7., 21.,  9.,  5.],\n",
       "       [16., 24., 17., 24., 23., 19., 11.],\n",
       "       [12., 19., 31., 23., 27., 26., 17.],\n",
       "       [ 6., 27., 23., 23., 29., 23., 20.],\n",
       "       [20., 25., 27., 22., 24., 22., 22.],\n",
       "       [10., 41., 16., 24., 11., 27., 13.],\n",
       "       [16., 18., 17., 10., 12.,  7., 14.]])"
      ]
     },
     "execution_count": 90,
     "metadata": {},
     "output_type": "execute_result"
    }
   ],
   "source": [
    "\n",
    "kernel3 = np.array([[1,0,1],[0,1,0],[1,0,1]])\n",
    "print('kernel3\\n',kernel3)\n",
    "\n",
    "pad_image1 = padding(image, 1)\n",
    "print('pad_image1\\n',pad_image1)\n",
    "\n",
    "conv(pad_image1, kernel3)"
   ]
  },
  {
   "cell_type": "code",
   "execution_count": 93,
   "metadata": {},
   "outputs": [
    {
     "name": "stdout",
     "output_type": "stream",
     "text": [
      "kernel3\n",
      " [[1 0 1]\n",
      " [0 1 0]\n",
      " [1 0 1]]\n",
      "padding 첫번째 \n",
      " [[0 0 0 0 0 0 0 0 0]\n",
      " [0 9 4 0 1 9 0 1 0]\n",
      " [0 8 9 0 8 6 4 3 0]\n",
      " [0 0 4 6 8 1 8 4 0]\n",
      " [0 1 3 6 5 3 9 6 0]\n",
      " [0 9 1 9 4 2 6 7 0]\n",
      " [0 8 8 9 2 0 6 7 0]\n",
      " [0 8 1 7 1 4 0 8 0]\n",
      " [0 0 0 0 0 0 0 0 0]]\n",
      "conv33 첫번째 \n",
      " [[18. 12. 17.  7. 21.  9.  5.]\n",
      " [16. 24. 17. 24. 23. 19. 11.]\n",
      " [12. 19. 31. 23. 27. 26. 17.]\n",
      " [ 6. 27. 23. 23. 29. 23. 20.]\n",
      " [20. 25. 27. 22. 24. 22. 22.]\n",
      " [10. 41. 16. 24. 11. 27. 13.]\n",
      " [16. 18. 17. 10. 12.  7. 14.]]\n",
      "padding 두번째 \n",
      " [[ 0.  0.  0.  0.  0.  0.  0.  0.  0.]\n",
      " [ 0. 18. 12. 17.  7. 21.  9.  5.  0.]\n",
      " [ 0. 16. 24. 17. 24. 23. 19. 11.  0.]\n",
      " [ 0. 12. 19. 31. 23. 27. 26. 17.  0.]\n",
      " [ 0.  6. 27. 23. 23. 29. 23. 20.  0.]\n",
      " [ 0. 20. 25. 27. 22. 24. 22. 22.  0.]\n",
      " [ 0. 10. 41. 16. 24. 11. 27. 13.  0.]\n",
      " [ 0. 16. 18. 17. 10. 12.  7. 14.  0.]\n",
      " [ 0.  0.  0.  0.  0.  0.  0.  0.  0.]]\n",
      "conv33 두번째 \n",
      " [[ 42.  45.  65.  47.  64.  43.  24.]\n",
      " [ 47. 102.  78. 120.  88.  89.  46.]\n",
      " [ 63.  81. 129. 115. 116. 109.  59.]\n",
      " [ 50. 117. 112. 132. 122. 113.  68.]\n",
      " [ 88.  80. 142. 101. 121.  95.  72.]\n",
      " [ 53. 121.  91. 104.  72.  99.  42.]\n",
      " [ 57.  44.  82.  37.  63.  31.  41.]]\n"
     ]
    }
   ],
   "source": [
    "kernel3 = np.array([[1,0,1],[0,1,0],[1,0,1]])\n",
    "print('kernel3\\n',kernel3)\n",
    "\n",
    "pad_image1 = padding(image, 1)\n",
    "print('padding 첫번째 \\n',pad_image1)\n",
    "\n",
    "conv1 = conv(pad_image1, kernel3)\n",
    "print('conv33 첫번째 \\n',conv1)\n",
    "\n",
    "pad2 = padding(conv1, 1)\n",
    "print('padding 두번째 \\n',pad2)\n",
    "\n",
    "conv2 = conv(pad2, kernel3)\n",
    "print('conv33 두번째 \\n',conv2)\n"
   ]
  },
  {
   "cell_type": "markdown",
   "metadata": {},
   "source": [
    "## 5x5 컨볼루션 연산"
   ]
  },
  {
   "cell_type": "code",
   "execution_count": 76,
   "metadata": {},
   "outputs": [
    {
     "name": "stdout",
     "output_type": "stream",
     "text": [
      "kernel5\n",
      " [[1 0 0 0 1]\n",
      " [0 1 0 1 0]\n",
      " [0 0 1 0 0]\n",
      " [0 1 0 1 0]\n",
      " [1 0 0 0 1]]\n",
      "pad_image2\n",
      " [[0 0 0 0 0 0 0 0 0 0 0]\n",
      " [0 0 0 0 0 0 0 0 0 0 0]\n",
      " [0 0 9 4 0 1 9 0 1 0 0]\n",
      " [0 0 8 9 0 8 6 4 3 0 0]\n",
      " [0 0 0 4 6 8 1 8 4 0 0]\n",
      " [0 0 1 3 6 5 3 9 6 0 0]\n",
      " [0 0 9 1 9 4 2 6 7 0 0]\n",
      " [0 0 8 8 9 2 0 6 7 0 0]\n",
      " [0 0 8 1 7 1 4 0 8 0 0]\n",
      " [0 0 0 0 0 0 0 0 0 0 0]\n",
      " [0 0 0 0 0 0 0 0 0 0 0]]\n"
     ]
    },
    {
     "data": {
      "text/plain": [
       "array([[24., 20., 18., 19., 31., 17.,  6.],\n",
       "       [22., 29., 21., 36., 35., 24., 14.],\n",
       "       [21., 24., 60., 34., 44., 31., 28.],\n",
       "       [15., 37., 45., 50., 48., 33., 26.],\n",
       "       [33., 34., 40., 35., 49., 31., 27.],\n",
       "       [16., 46., 20., 36., 23., 32., 16.],\n",
       "       [25., 22., 28., 17., 28., 11., 16.]])"
      ]
     },
     "execution_count": 76,
     "metadata": {},
     "output_type": "execute_result"
    }
   ],
   "source": [
    "kernel5 = np.array([[1,0,0,0,1],[0,1,0,1,0],[0,0,1,0,0,],[0,1,0,1,0],[1,0,0,0,1]])\n",
    "print('kernel5\\n',kernel5)\n",
    "\n",
    "pad_image2 = padding(image, 2)\n",
    "print('pad_image2\\n',pad_image2)\n",
    "\n",
    "conv(pad_image2, kernel5)\n"
   ]
  }
 ],
 "metadata": {
  "kernelspec": {
   "display_name": "Python 3",
   "language": "python",
   "name": "python3"
  },
  "language_info": {
   "codemirror_mode": {
    "name": "ipython",
    "version": 3
   },
   "file_extension": ".py",
   "mimetype": "text/x-python",
   "name": "python",
   "nbconvert_exporter": "python",
   "pygments_lexer": "ipython3",
   "version": "3.7.5"
  }
 },
 "nbformat": 4,
 "nbformat_minor": 4
}
