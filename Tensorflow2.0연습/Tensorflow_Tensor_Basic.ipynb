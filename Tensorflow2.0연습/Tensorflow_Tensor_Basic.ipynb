{
 "cells": [
  {
   "cell_type": "code",
   "execution_count": 1,
   "metadata": {},
   "outputs": [],
   "source": [
    "import tensorflow as tf\n",
    "import numpy as np\n",
    "\n",
    "# Tensor 생성\n",
    "## list -> tensor\n",
    "## tuple -> tensor\n",
    "## array -> tensor\n",
    "a = tf.constant([1,2,3])\n",
    "b = tf.constant(((1,2,3),(4,5,6)))\n",
    "c = tf.constant(np.array([[1,2,3],[4,5,6],[7,8,9]]))"
   ]
  },
  {
   "cell_type": "code",
   "execution_count": 2,
   "metadata": {},
   "outputs": [
    {
     "data": {
      "text/plain": [
       "<tf.Tensor: id=0, shape=(3,), dtype=int32, numpy=array([1, 2, 3])>"
      ]
     },
     "execution_count": 2,
     "metadata": {},
     "output_type": "execute_result"
    }
   ],
   "source": [
    "a"
   ]
  },
  {
   "cell_type": "code",
   "execution_count": 3,
   "metadata": {},
   "outputs": [
    {
     "data": {
      "text/plain": [
       "<tf.Tensor: id=1, shape=(2, 3), dtype=int32, numpy=\n",
       "array([[1, 2, 3],\n",
       "       [4, 5, 6]])>"
      ]
     },
     "execution_count": 3,
     "metadata": {},
     "output_type": "execute_result"
    }
   ],
   "source": [
    "b"
   ]
  },
  {
   "cell_type": "code",
   "execution_count": 4,
   "metadata": {},
   "outputs": [
    {
     "data": {
      "text/plain": [
       "<tf.Tensor: id=2, shape=(3, 3), dtype=int32, numpy=\n",
       "array([[1, 2, 3],\n",
       "       [4, 5, 6],\n",
       "       [7, 8, 9]])>"
      ]
     },
     "execution_count": 4,
     "metadata": {},
     "output_type": "execute_result"
    }
   ],
   "source": [
    "c"
   ]
  },
  {
   "cell_type": "code",
   "execution_count": 5,
   "metadata": {},
   "outputs": [
    {
     "name": "stdout",
     "output_type": "stream",
     "text": [
      "tf.Tensor(\n",
      "[[1. 2. 3. 4.]\n",
      " [5. 6. 7. 8.]], shape=(2, 4), dtype=float64)\n",
      "tf.Tensor(\n",
      "[[1 2 3 4]\n",
      " [5 6 7 8]], shape=(2, 4), dtype=uint8)\n"
     ]
    }
   ],
   "source": [
    "# dtype을 미리 정해주거나\n",
    "# tf.cast 을 통해서 변환 가능 ( = np.astype 과 같은것)\n",
    "d = tf.constant([[1,2,3,4],[5,6,7,8]], dtype=tf.float64)\n",
    "print(d)\n",
    "print(tf.cast(d , dtype=tf.uint8))"
   ]
  },
  {
   "cell_type": "code",
   "execution_count": 6,
   "metadata": {},
   "outputs": [
    {
     "name": "stdout",
     "output_type": "stream",
     "text": [
      "[-0.50690588 -0.30184216 -0.59688202  0.27874861  0.48228965 -0.76257444\n",
      "  1.14548709  1.44478691 -2.72444493]\n",
      "tf.Tensor(\n",
      "[[-3.1300404   1.0205297   0.50603086]\n",
      " [ 0.86770856 -0.5073489   0.772137  ]\n",
      " [-1.2822214  -1.2957399   1.360654  ]], shape=(3, 3), dtype=float32)\n",
      "tf.Tensor(\n",
      "[[0.23422503 0.9709836  0.962252  ]\n",
      " [0.58332586 0.2049948  0.05581009]\n",
      " [0.81179404 0.04408777 0.70823014]], shape=(3, 3), dtype=float32)\n"
     ]
    }
   ],
   "source": [
    "# 난수 생성 방법 2가지\n",
    "# (1) uniform distribution - 중심극한 이론에 의한 연속적인 모양\n",
    "# (2) normal distribution - 중심극한이론과는 무관, 불연속적이며 일정한 분포\n",
    "\n",
    "# 가중치 일반적으로 초기화할떄 random 많이 씀\n",
    "# numpy에서는 np.random.randn()\n",
    "# tensorflow 에서는 tf.random.normal\n",
    "\n",
    "print(np.random.randn(9))\n",
    "print(tf.random.normal([3,3])) # 중심 극한정리적으로 생성\n",
    "print(tf.random.uniform([3,3])) # 중심극한정리x 맘대로생성\n"
   ]
  },
  {
   "cell_type": "code",
   "execution_count": null,
   "metadata": {},
   "outputs": [],
   "source": []
  }
 ],
 "metadata": {
  "kernelspec": {
   "display_name": "Python 3",
   "language": "python",
   "name": "python3"
  },
  "language_info": {
   "codemirror_mode": {
    "name": "ipython",
    "version": 3
   },
   "file_extension": ".py",
   "mimetype": "text/x-python",
   "name": "python",
   "nbconvert_exporter": "python",
   "pygments_lexer": "ipython3",
   "version": "3.7.5"
  }
 },
 "nbformat": 4,
 "nbformat_minor": 4
}
