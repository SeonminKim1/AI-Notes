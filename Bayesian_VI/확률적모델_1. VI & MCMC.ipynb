{
 "cells": [
  {
   "cell_type": "markdown",
   "metadata": {},
   "source": [
    "## 개요\n",
    "- 일반적으로 Machine Learning 에서 다루는 **복잡한 Probabilistic Model의 경우 대부분 Variataional Inference(VI)를 통해 Inference를 수행**\n",
    "- Deep Generative Model의 일종인 GAN과 VAE역시 이 방법을 활용\n",
    "\n",
    "## MCMC vs VI\n",
    "- Original Bayesian Problem에서는 여전히 **VI보다 MCMC(Markov Chain Monte CARLO)의 성능에 신뢰를 표하는 편**\n",
    "- **VI는 큰 Dataset과 복잡한 Model의 경우 학습 시간에 대한 큰 장점**\n",
    "- **정확한 Inference를 위해선 MCMC가 더 나은 성능을 보임**\n",
    "- MCMC는 Hamiltonian MC나 NUTS(No U-Turn Sampler)와 같은 알고리즘을 통해 학습시간에 관한 장벽을 해소하려고 하고 있음\n",
    "- VI는 **ADVI(Automatic Differentiation VI)와 BBVI(Black Box VI)등이 좋다고 평가받는 편**이며, **전통적으로는 Mean Field Assumption이 활용되는 Mean Field VI가 꼽히는 편**"
   ]
  },
  {
   "cell_type": "markdown",
   "metadata": {},
   "source": [
    "## 1. MCMC\n",
    "- 마르코프 연쇄 몬테카를로 방법(Markov Chain Monte Carlo, MCMC)\n",
    "- MCMC는 Monte Carlo와 Markov Chain의 개념을 합친 것\n",
    "\n",
    "- '마르코프 연쇄 구성'에 기반한 **확률 분포로부터 원하는 분포의 정적 분포를 갖는 표본을 추출하는 알고리즘**의 한 분류\n",
    "- MCMC 샘플링 알고리즘은 Metropolis 알고리즘"
   ]
  },
  {
   "cell_type": "markdown",
   "metadata": {},
   "source": [
    "### 1.1 Monte Carlo \n",
    "- Monte Carlo는 쉽게 말해 통계적인 수치를 얻기 위해 수행하는 ‘시뮬레이션’ 같은 것\n",
    "- 원의 넓이를 계산시 가로, 세로의 길이가 2인 정사각형 안에 점을 무수히 많이 찍으면서, 중심으로부터의 거리가 1이하면 빨간색, 그렇지 않으면 파란색으로 칠함\n",
    "- 전체적으로 찍은 점의 개수와 빨간색으로 찍힌 점의 개수의 비율을 계산\n",
    "    - 원래의 사각형의 면적인 4를 곱해주면 반지름이 1인 원의 넓이를 추정 가능\n",
    "\n",
    "### 1.2 Markov Chain\n",
    "- Markov Chain은 어떤 상태에서 다른 상태로 넘어갈 때, 바로 전 단계의 상태에만 영향을 받는 확률 과정을 의미\n",
    "\n",
    "- ex) 보통 사람들은 전날 먹은 식사와 유사한 식사를 하지 않으려는 경향이 있다. 가령, 어제 짜장면을 먹었다면 오늘은 면종류의 음식을 먹으려고 하지 않는다.\n",
    "- 음식 선택이라는 확률과정에 대해 오늘의 음식 선택이라는 과정은 어제의 음식 선택에만 영향을 받고, 그저께의 음식 선택에는 영향을 받지 않는다면 이 과정은 마르코프 성질(Markov property)을 가진다고 할 수 있으며, 이 확률 과정은 Markov chain이라고 할 수 있다.\n"
   ]
  },
  {
   "cell_type": "markdown",
   "metadata": {},
   "source": [
    "<hr>\n",
    "\n",
    "\n",
    "## 2. Variational Inference (변분 추론)\n",
    "\n",
    "![vi](img/vi.PNG)\n",
    "\n",
    "- **VI란 사후확률(posterior) 분포 p(z|x)를 다루기 쉬운 확률분포 q(z)로 근사하는 것**\n",
    "    - x란 확률 변수에 잠재 변수 z에 의해 설명 되는 것\n",
    "    - x의 실현 값이 존재할 때 $z$의 분포, 즉 Posteriror $p(z|x)$를 알고자 함\n",
    "    - $p(x)$는 Marginal Probability 또는 Evidence\n",
    "    - $p(z)$는 Prior를 의미\n",
    "    - $p(x|z)$는 Likelihood를 $p(z|x)$는 Posterior를 의미\n",
    "    \n",
    "- 사후확률 분포를 계산하는게 불가능에 가까울 정도로 어려운 경우가 많기 때문\n",
    "    - 예시 1) marginal probability, 사후확률의 분모가 계산하기 힘든 경우\n",
    "    - 예시 2) likelihood 즉 $p(x|z)$를 계산하기 힘든 경우\n",
    "    - 예시 3) prior, 즉 $p(z)$를 더 복잡하게 모델링하고 싶은 경우\n",
    "\n",
    "- 아래 그래프는 사후확률 분포를 정규 분포로 근사한 case\n",
    "\n",
    "![vi_graph](img/vi_graph.PNG)\n",
    "\n"
   ]
  },
  {
   "cell_type": "markdown",
   "metadata": {},
   "source": [
    "\n",
    "### 2.1 Kullback-Leibler Divergence\n",
    "\n",
    "![kld](img/kld.PNG)\n",
    "\n",
    "- **사후확률에 근사한 q(z)를 만들기 위해 쿨백-라이블러 발산 개념을 활용**\n",
    "- **분포의 유사한 정도를 나타내는 척도**\n",
    "- 비대칭적이며, 정보량의 차이를 나타내는 것\n",
    "- 정보이론에서 정보량은 불확실성이 커질수록 많아지는 것으로 정의\n",
    "- Shannon Entropy(모든 사건의 정보량 Expectation)\n",
    "- 쿨백-라이블리 발산을 이용하여 변분 추론을 설명하면, 변분추론은 아래와 같이 쿨백-라이블리 발산 값을 최소화하는 Q 집합 내의 q함수를 찾는 것\n",
    "- ELBO, ADVI, BBVI, CAVI 등\n",
    "\n",
    "- ex) **어떤 확률 분포 $P(x)$가 주어졌을 때 이 분포와 $Q(x)$ 분포와의 차이를 알고 싶을 때 쿨백-라이블리 발산 값을 구하면 됨**\n"
   ]
  },
  {
   "cell_type": "markdown",
   "metadata": {},
   "source": [
    "## 참고문헌\n",
    "- https://angeloyeo.github.io/2020/09/17/MCMC.html\n",
    "- https://medium.com/@kim_hjun/vi%EC%99%80-mcmc-c6ac79341036 // MCMC\n",
    "- https://ratsgo.github.io/generative%20model/2017/12/19/vi/ // VI\n",
    "    "
   ]
  }
 ],
 "metadata": {
  "kernelspec": {
   "display_name": "Python 3",
   "language": "python",
   "name": "python3"
  },
  "language_info": {
   "codemirror_mode": {
    "name": "ipython",
    "version": 3
   },
   "file_extension": ".py",
   "mimetype": "text/x-python",
   "name": "python",
   "nbconvert_exporter": "python",
   "pygments_lexer": "ipython3",
   "version": "3.7.5"
  }
 },
 "nbformat": 4,
 "nbformat_minor": 4
}
