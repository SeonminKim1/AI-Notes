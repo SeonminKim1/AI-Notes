{
 "cells": [
  {
   "cell_type": "markdown",
   "metadata": {},
   "source": [
    "## LeNet\n",
    "\n",
    "## Lenet-1\n",
    "![lenet-1](img/lenet-1.png)\n",
    "\n",
    "- CNN의 최초 모델. \n",
    "- local receptive filed, shared weight, sub-sampling의 개념을 결합 \n",
    "- 모델구조 및 특징\n",
    "    - 입력영상 크기 : 28x28 input iamge\n",
    "    - 1단계 convolution feature-map 갯수 4개\n",
    "    - 2단계 convolution feature-map 크기 12개\n",
    "    - sub-sampling 적용을 통한 feature map 크기 줄이기\n",
    "    - 5x5 convolution kernel을 통한 local receptive field 개념 적용\n",
    "    - fully connected neural network를 classifier로 사용\n",
    "    - 전체 이미지에 대해 같은 kernel을 적용함으로서 shaerd weight 개념 적용\n",
    "- Lenet-1의 경우 10만 번 정도의 multiply/add가 필요 / free parameter 숫자는 3000개 이하\n",
    "## Lenet-4를 거쳐 Lenet-5를 제안\n",
    "![lenet-5](img/lenet-5.png)\n",
    "- 입력 : 32x32 필기체 MNIST \n",
    "- 즉 입력영상 크기 : 32x32\n",
    "- 영상의 작은 부분에 대한 고려가 훨씬 많아짐\n",
    "\n",
    "- 모델구조 및 특징\n",
    "    - 28x28 test image를 32x32 영상의 중앙에 위치시켜 처리를 진행\n",
    "    - 1단계 convolution feature-map 28x28 6개 - kernel(5x5)\n",
    "    - 1단계 averagepooling (2x2)\n",
    "    - 2단계 convolution feature map 10x10 16개 - kerenel(5x5)\n",
    "    - 2단계 averagepooling (2x2)\n",
    "    - FC(120, 84, 10)\n",
    "- 5 계층 구조: Conv - Pool - Conv- Pool - FC(Fully Connected Layer)\n",
    "- 전체적으로 34만개의 connection과 free parameter의 갯수는 6만개\n",
    "- 시그모이드 활성화 함수 사용 / 성능 : 오차율 0.95% (정확도 : 99.05%)"
   ]
  }
 ],
 "metadata": {
  "kernelspec": {
   "display_name": "Python 3",
   "language": "python",
   "name": "python3"
  },
  "language_info": {
   "codemirror_mode": {
    "name": "ipython",
    "version": 3
   },
   "file_extension": ".py",
   "mimetype": "text/x-python",
   "name": "python",
   "nbconvert_exporter": "python",
   "pygments_lexer": "ipython3",
   "version": "3.8.5"
  }
 },
 "nbformat": 4,
 "nbformat_minor": 4
}
