{
 "cells": [
  {
   "cell_type": "markdown",
   "metadata": {},
   "source": [
    "## FCN 모델\n",
    "- 일반적으로 공간의 위치정보를 FC는 잘 나타내지 못한다.\n",
    "\n",
    "![fcn1](readme_img/fcn1.png)\n"
   ]
  },
  {
   "cell_type": "markdown",
   "metadata": {},
   "source": [
    "\n",
    "### FC -> 1x1 convolution\n",
    "- **차라리 Fully Connected Layer를 없애고 1x1 Convolution을 사용 하자**\n",
    "- 1x1 Convolution은 연산 reduction 장점을 가지고 있지만, 그런 목적이 아닌 FC 대신 위치 공간정보를 기억하는 용으로 사용하자\n",
    "\n",
    "### 다운샘플링 & 업샘플링\n",
    "- convolution 작업을 거치며 dimension이 줄었으니까 다시 늘려주는 up-sampling 작업이 필요하다.\n",
    "\n",
    "- downsampling을 하고 upsampling 하는 과정에서 데이터가 유실되니까 deejet 개념을 만듬.\n",
    "\n",
    "- upsampling 에서의 데이터 유실문제\n",
    "    - upsampling을 보완하기 위해 Bilinear interpolation (사이 보간법) 방법 고려 \n",
    "    - Bilinear interpolation은 단순 사이 평균값으로 하는거라 별로 좋지 않았음\n",
    "    - deconvolution (컨볼루션의 반대, 필터 계수 학습을 할 수 있다는 장점이 있음) 방법을 사용 \n",
    "\n",
    "<hr>"
   ]
  },
  {
   "cell_type": "markdown",
   "metadata": {},
   "source": [
    "### Skip connection 구조\n",
    "- resnet의 skip connection과 같은 앞의 컨볼루션 정보를 받게 함.\n",
    "- skip connection을 적용하지 않은 경우 보다 세밀하지 못했음..\n",
    "   \n",
    "![skipconnection_여부](readme_img/skipconnection_여부.png)\n",
    "\n",
    "- FCN-32s, FCN-16s, FCN-8s 등 실험, 번외로 CRF(Conditional Random Field)를 해봤더니 이것도 좋았다고 함.\n",
    "\n",
    "<hr>\n"
   ]
  },
  {
   "cell_type": "markdown",
   "metadata": {},
   "source": [
    "\n",
    "### 정리\n",
    "- down sampling을 앞에서 이용했던 Feature들의 정보를 사용하였고, 업샘플링을할때 deconvolutional layer를 이용해서 upsampling을 하였다.\n",
    "\n",
    "![fcn2](readme_img/fcn2.png)\n",
    "\n",
    "### FCN 문제점\n",
    "- 단지 downsampling을 하고 나중에 maxpooling을 진행하지만 receptied field가 늘어나긴 하지만 결국엔 해상도를 잃어버리게 되고 점점 세밀하지못하게 됨.\n",
    "- 따라서 upsampling에 대한 보완이 필요 => U-Net의 결과"
   ]
  }
 ],
 "metadata": {
  "kernelspec": {
   "display_name": "Python 3",
   "language": "python",
   "name": "python3"
  },
  "language_info": {
   "codemirror_mode": {
    "name": "ipython",
    "version": 3
   },
   "file_extension": ".py",
   "mimetype": "text/x-python",
   "name": "python",
   "nbconvert_exporter": "python",
   "pygments_lexer": "ipython3",
   "version": "3.8.5"
  }
 },
 "nbformat": 4,
 "nbformat_minor": 4
}
