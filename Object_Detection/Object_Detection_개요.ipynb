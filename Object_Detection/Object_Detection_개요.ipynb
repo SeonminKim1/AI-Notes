{
 "cells": [
  {
   "cell_type": "markdown",
   "metadata": {},
   "source": [
    "## Object Detection\n",
    "\n",
    "- Classification + Localization => Object Detection\n",
    "- Multi-Labeled Classification + Bounding Box Regression (Localization)\n",
    "- 기존에는 이미지에서 object detection을 위해 sliding Window 방식을 이용\n",
    "\n",
    "#### Sliding Windo 방식\n",
    "- 이미지에서 모든 영역을 다양한 크기의 window (difference scale & ratio)로 탐색하는 것\n",
    "- 해당 비효율성을 개선하기 위한 '뭋레가 있을만한' 영역을 빠르게 찾아내는 알고리즘이 region proposal (Selective search, Edge boxes 방법 등)\n",
    "- 즉 Regional proposal 은 object의 위치를 찾는 localization 문제\n",
    "\n",
    "\n",
    "## 1 Stage Detector vs 2 Stage Detector \n",
    "\n",
    "![stage_1_2_detector](img/stage_1_2_detector.png)\n",
    "- 해당그림에서 선 위가 2-Stage Detector, 선 아래가 1-Stage Detector\n",
    "- **1-stage Detector는 비교적 빠르지만 2-stage detector는 비교적 느리지만 정확도가 높다**\n",
    "\n",
    "- Stage 2 Detector -> Regional Proposal과 Classification이 **순차적으로** 이루어지는 것.\n",
    "    - R-CNN 계열 (R-CNN, Fast R-CNN, Faster R-CNN, Mask R-CNN)\n",
    "![stage_2](img/stage_2.png)\n",
    "\n",
    "- Stage 1 Detector -> Regional proposal과 Classification이 **동시에** 이루어지는 것\n",
    "    - YOLO 계열, SSD 계열 ( SSD, DSSD, DSOD, RetinaNet, RefineDet, M2Det)\n",
    "![stage_1](img/stage_1.png)\n",
    "\n",
    "![model](img/model.png)\n"
   ]
  },
  {
   "cell_type": "code",
   "execution_count": null,
   "metadata": {},
   "outputs": [],
   "source": []
  }
 ],
 "metadata": {
  "kernelspec": {
   "display_name": "Python 3",
   "language": "python",
   "name": "python3"
  },
  "language_info": {
   "codemirror_mode": {
    "name": "ipython",
    "version": 3
   },
   "file_extension": ".py",
   "mimetype": "text/x-python",
   "name": "python",
   "nbconvert_exporter": "python",
   "pygments_lexer": "ipython3",
   "version": "3.8.5"
  }
 },
 "nbformat": 4,
 "nbformat_minor": 4
}
