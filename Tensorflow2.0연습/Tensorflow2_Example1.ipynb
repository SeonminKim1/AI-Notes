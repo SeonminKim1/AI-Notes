{
 "cells": [
  {
   "cell_type": "markdown",
   "metadata": {},
   "source": [
    "## Tensorflow 2.0 연습\n",
    "- EagerMode로 변환된 Tensorflow 2.0 -> 바로바로 변수 print출력 가능"
   ]
  },
  {
   "cell_type": "code",
   "execution_count": 1,
   "metadata": {},
   "outputs": [
    {
     "name": "stdout",
     "output_type": "stream",
     "text": [
      "2.0.0\n"
     ]
    }
   ],
   "source": [
    "import numpy as np\n",
    "import tensorflow as tf\n",
    "\n",
    "print(tf.__version__)"
   ]
  },
  {
   "cell_type": "markdown",
   "metadata": {},
   "source": [
    "## 1. Defining Tensors\n",
    "- tf.constant (변할 수 없는 상수)\n",
    "    - 상수형 tensor를 생성하는 방법은 ones, zeros 를 생성하는 방법\n",
    "- tf.variables (변할수 있는 상수) - 변수"
   ]
  },
  {
   "cell_type": "code",
   "execution_count": 2,
   "metadata": {},
   "outputs": [
    {
     "name": "stdout",
     "output_type": "stream",
     "text": [
      "<class 'list'> <class 'numpy.ndarray'> <class 'tensorflow.python.framework.ops.EagerTensor'>\n",
      "<class 'tensorflow.python.framework.ops.EagerTensor'> <class 'tensorflow.python.framework.ops.EagerTensor'> <class 'tensorflow.python.framework.ops.EagerTensor'>\n",
      "tf.Tensor(\n",
      "[[1. 2.]\n",
      " [3. 4.]], shape=(2, 2), dtype=float32)\n"
     ]
    }
   ],
   "source": [
    "m1 = [[1.0, 2.0], [3.0, 4.0]]\n",
    "m2 = np.array([[1.0, 2.0], [3.0, 4.0]], dtype=np.float32)\n",
    "m3 = tf.constant([[1.0, 2.0], [3.0, 4.0]])\n",
    "\n",
    "print(type(m1), type(m2), type(m3))\n",
    "\n",
    "t1 = tf.convert_to_tensor(m1, dtype=tf.float32)\n",
    "t2 = tf.convert_to_tensor(m2, dtype=tf.float32)\n",
    "t3 = tf.convert_to_tensor(m3 , dtype=tf.float32)\n",
    "print(type(t1), type(t2), type(t3)) \n",
    "\n",
    "# eager mode 이기 때문에 바로 print 로 출력가능 (1.0 버전과 다른 것)\n",
    "print(t1)\n"
   ]
  },
  {
   "cell_type": "code",
   "execution_count": 3,
   "metadata": {},
   "outputs": [
    {
     "name": "stdout",
     "output_type": "stream",
     "text": [
      "ndarray1\n",
      " [[2. 2. 2.]\n",
      " [2. 2. 2.]\n",
      " [2. 2. 2.]]\n",
      "ndarray2\n",
      " [[3. 3. 3.]\n",
      " [3. 3. 3.]\n",
      " [3. 3. 3.]]\n"
     ]
    }
   ],
   "source": [
    "# np.array 와 tensor type 과는 거의 연동됨.\n",
    "\n",
    "ndarray = np.ones([3,3])*2\n",
    "ndarray2 = np.ones([3,3])*3\n",
    "\n",
    "print('ndarray1\\n', ndarray)\n",
    "print('ndarray2\\n', ndarray2)"
   ]
  },
  {
   "cell_type": "code",
   "execution_count": 4,
   "metadata": {},
   "outputs": [
    {
     "name": "stdout",
     "output_type": "stream",
     "text": [
      "1.5\n",
      "tf.Tensor(2.5, shape=(), dtype=float32)\n"
     ]
    }
   ],
   "source": [
    "# tf. constant\n",
    "\n",
    "a = tf.constant(1.5)\n",
    "b = tf.constant(2.5) \n",
    "\n",
    "# numpy() 라고 붙이면 그냥 값만, 전체 출력시도 가능\n",
    "print(a.numpy())\n",
    "print(b)"
   ]
  },
  {
   "cell_type": "code",
   "execution_count": 5,
   "metadata": {},
   "outputs": [
    {
     "name": "stdout",
     "output_type": "stream",
     "text": [
      "<tf.Variable 'Variable:0' shape=(5, 2) dtype=float32, numpy=\n",
      "array([[ 0.03219075, -0.08574013],\n",
      "       [-0.13154219, -0.10443261],\n",
      "       [ 0.02964348,  0.02962355],\n",
      "       [-0.02480943, -0.02048242],\n",
      "       [-0.16413125, -0.01223512]], dtype=float32)>\n"
     ]
    }
   ],
   "source": [
    "# tf.Variable\n",
    "\n",
    "weight = tf.Variable(tf.random_normal_initializer(stddev=0.1)([5,2]))\n",
    "print(weight)"
   ]
  },
  {
   "cell_type": "markdown",
   "metadata": {},
   "source": [
    "## 2. TF tensor 사칙연산 (Operations)"
   ]
  },
  {
   "cell_type": "code",
   "execution_count": 6,
   "metadata": {},
   "outputs": [
    {
     "name": "stdout",
     "output_type": "stream",
     "text": [
      "tf.Tensor(\n",
      "[[14. 14. 14.]\n",
      " [14. 14. 14.]\n",
      " [14. 14. 14.]], shape=(3, 3), dtype=float64)\n",
      "tf.Tensor(\n",
      "[[6. 6. 6.]\n",
      " [6. 6. 6.]\n",
      " [6. 6. 6.]], shape=(3, 3), dtype=float64)\n",
      "tf.Tensor(\n",
      "[[18. 18. 18.]\n",
      " [18. 18. 18.]\n",
      " [18. 18. 18.]], shape=(3, 3), dtype=float64)\n"
     ]
    }
   ],
   "source": [
    "# tf.multiply -> 각 tensor 원소끼리 곱하기\n",
    "tensor = tf.multiply(ndarray, 7)\n",
    "print(tensor)\n",
    "\n",
    "# tf.multiply 각 tensor 원소끼리 그대로 곱하기\n",
    "tensor = tf.multiply(ndarray, ndarray2)\n",
    "print(tensor)\n",
    "\n",
    "# tf.matmul 행렬 곱 하기\n",
    "tensor = tf.matmul(ndarray, ndarray2)\n",
    "print(tensor)"
   ]
  },
  {
   "cell_type": "code",
   "execution_count": 17,
   "metadata": {},
   "outputs": [
    {
     "name": "stdout",
     "output_type": "stream",
     "text": [
      "tf.Tensor(\n",
      "[[19. 19. 19.]\n",
      " [19. 19. 19.]\n",
      " [19. 19. 19.]], shape=(3, 3), dtype=float64)\n",
      "tf.Tensor(\n",
      "[[16. 16. 16.]\n",
      " [16. 16. 16.]\n",
      " [16. 16. 16.]], shape=(3, 3), dtype=float64)\n",
      "tf.Tensor(\n",
      "[[4.24264069 4.24264069 4.24264069]\n",
      " [4.24264069 4.24264069 4.24264069]\n",
      " [4.24264069 4.24264069 4.24264069]], shape=(3, 3), dtype=float64)\n",
      "tf.Tensor(\n",
      "[[324. 324. 324.]\n",
      " [324. 324. 324.]\n",
      " [324. 324. 324.]], shape=(3, 3), dtype=float64)\n",
      "<class 'numpy.ndarray'>\n"
     ]
    }
   ],
   "source": [
    "# np 전체에다가 1 더하기\n",
    "print(tf.add(tensor, 1))\n",
    "\n",
    "# tensor 전체에다가 1 마이너스\n",
    "print(tf.subtract(tensor, 2))\n",
    "\n",
    "# 루트 연산 적용하는 것.\n",
    "print(tf.sqrt(tensor))\n",
    "\n",
    "# 제곱연산\n",
    "print(tf.square(tensor))\n",
    "\n",
    "# tensor to numpy - tensor.numpy() 함수 하면 됨.\n",
    "print(type(tensor.numpy()))"
   ]
  },
  {
   "cell_type": "markdown",
   "metadata": {},
   "source": [
    "## 3. TF.Variable 에 값 할당, 더해주기\n",
    "- assign : 단순 할당\n",
    "- assign_add : 원래 값에 (값) 더해주는 것\n",
    "- assign_sub : 원래 값에 (값) 빼주는 것"
   ]
  },
  {
   "cell_type": "code",
   "execution_count": 13,
   "metadata": {},
   "outputs": [
    {
     "name": "stdout",
     "output_type": "stream",
     "text": [
      "<tf.Variable 'Variable:0' shape=(2, 2) dtype=float32, numpy=\n",
      "array([[ 0.77083355, -0.79851013],\n",
      "       [-0.51751125,  1.1656736 ]], dtype=float32)>\n",
      "<tf.Variable 'Variable:0' shape=(2, 2) dtype=float32, numpy=\n",
      "array([[-1.7720935 ,  0.26149568],\n",
      "       [-0.48295823,  0.19856483]], dtype=float32)>\n"
     ]
    }
   ],
   "source": [
    "# Varialbe 변수 생성\n",
    "initial_value = tf.random.normal(shape=(2,2))\n",
    "a = tf.Variable(initial_value)\n",
    "print(a)\n",
    "\n",
    "# Variable에 값 할당 // 할시 assign / assign_add / assign_sub\n",
    "new_value = tf.random.normal(shape=(2,2))\n",
    "a.assign(new_value)\n",
    "print(a)"
   ]
  },
  {
   "cell_type": "code",
   "execution_count": 14,
   "metadata": {},
   "outputs": [
    {
     "name": "stdout",
     "output_type": "stream",
     "text": [
      "원본 함수\n",
      "<tf.Variable 'Variable:0' shape=(2, 2) dtype=float32, numpy=\n",
      "array([[-1.7720935 ,  0.26149568],\n",
      "       [-0.48295823,  0.19856483]], dtype=float32)>\n",
      "assign_add 함수\n",
      "<tf.Variable 'Variable:0' shape=(2, 2) dtype=float32, numpy=\n",
      "array([[ 8.227906, 10.261496],\n",
      "       [ 9.517042, 10.198565]], dtype=float32)>\n"
     ]
    }
   ],
   "source": [
    "# 더해줄 값\n",
    "added_value = np.array([[10,10],[10,10]])\n",
    "\n",
    "print('원본 함수')\n",
    "print(a)\n",
    "\n",
    "print('assign_add 함수')\n",
    "a.assign_add(added_value)\n",
    "print(a)"
   ]
  }
 ],
 "metadata": {
  "kernelspec": {
   "display_name": "Python 3",
   "language": "python",
   "name": "python3"
  },
  "language_info": {
   "codemirror_mode": {
    "name": "ipython",
    "version": 3
   },
   "file_extension": ".py",
   "mimetype": "text/x-python",
   "name": "python",
   "nbconvert_exporter": "python",
   "pygments_lexer": "ipython3",
   "version": "3.7.5"
  }
 },
 "nbformat": 4,
 "nbformat_minor": 4
}
