{
 "cells": [
  {
   "cell_type": "markdown",
   "metadata": {},
   "source": [
    "## 실제 이미지 읽어들이기 path 함수\n",
    "- path, os 관련 함수들 사용 이미지 읽어들이기"
   ]
  },
  {
   "cell_type": "code",
   "execution_count": 2,
   "metadata": {},
   "outputs": [
    {
     "name": "stdout",
     "output_type": "stream",
     "text": [
      "50000 10000\n"
     ]
    }
   ],
   "source": [
    "import tensorflow as tf\n",
    "\n",
    "import os\n",
    "from glob import glob\n",
    "\n",
    "import numpy as np\n",
    "import pandas as pd\n",
    "\n",
    "import matplotlib.pyplot as plt\n",
    "\n",
    "train_paths = glob('../dataset/cifar/train/*.png')\n",
    "test_paths = glob('../dataset/cifar/test/*.png')\n",
    "\n",
    "print(len(train_paths), len(test_paths))\n"
   ]
  },
  {
   "cell_type": "markdown",
   "metadata": {},
   "source": [
    "## OS 함수"
   ]
  },
  {
   "cell_type": "code",
   "execution_count": 5,
   "metadata": {},
   "outputs": [
    {
     "name": "stdout",
     "output_type": "stream",
     "text": [
      "path: ../dataset/cifar/train\\0_frog.png\n",
      "join 예제 :  c:python_jupyter\\dl_directory\n",
      "해당 파일만 :  0_frog.png\n",
      "해당 디렉토리만 : ../dataset/cifar/train\n",
      "해당 path가 있냐 없냐 :  True\n"
     ]
    }
   ],
   "source": [
    "path = train_paths[0]\n",
    "print('path:', path)\n",
    "\n",
    "print('join 예제 : ', os.path.join('c:','python_jupyter','dl_directory'))\n",
    "print('해당 파일만 : ',os.path.basename(path))\n",
    "print('해당 디렉토리만 :', os.path.dirname(path)) # 해당 \n",
    "print('해당 path가 있냐 없냐 : ',os.path.exists(path)) # 해당 path가 있냐 없나"
   ]
  },
  {
   "cell_type": "markdown",
   "metadata": {},
   "source": [
    "## 데이터 만 보고 Class 라벨 만들어주기"
   ]
  },
  {
   "cell_type": "code",
   "execution_count": 9,
   "metadata": {},
   "outputs": [
    {
     "name": "stdout",
     "output_type": "stream",
     "text": [
      "../dataset/cifar/train\\0_frog.png\n",
      "frog\n"
     ]
    }
   ],
   "source": [
    "def get_class_name(path):\n",
    "    fname = os.path.basename(path) # 현재 파일명 가져오기\n",
    "    cls_name = fname.replace('.png','').split('_')[-1]\n",
    "    return cls_name\n",
    "\n",
    "print(path) # 현재 파일 name\n",
    "cls_name = get_class_name(path)\n",
    "print(cls_name)\n"
   ]
  },
  {
   "cell_type": "markdown",
   "metadata": {},
   "source": [
    "## Class 갯수 확인"
   ]
  },
  {
   "cell_type": "code",
   "execution_count": 20,
   "metadata": {},
   "outputs": [
    {
     "name": "stdout",
     "output_type": "stream",
     "text": [
      "50000\n",
      "(array(['airplane', 'automobile', 'bird', 'cat', 'deer', 'dog', 'frog',\n",
      "       'horse', 'ship', 'truck'], dtype='<U10'), array([5000, 5000, 5000, 5000, 5000, 5000, 5000, 5000, 5000, 5000],\n",
      "      dtype=int64))\n",
      "10\n"
     ]
    }
   ],
   "source": [
    "# 파일이름 파싱해서 넣기\n",
    "class_names = [get_class_name(path) for path in train_paths]\n",
    "print(len(class_names))\n",
    "print(np.unique(class_names, return_counts= True)) # 각 클래스별로 몇개씩 있나 까지\n",
    "print(len(set(class_names)))"
   ]
  },
  {
   "cell_type": "code",
   "execution_count": 13,
   "metadata": {},
   "outputs": [
    {
     "name": "stdout",
     "output_type": "stream",
     "text": [
      "(array(['airplane', 'automobile', 'bird', 'cat', 'deer', 'dog', 'frog',\n",
      "       'horse', 'ship', 'truck'], dtype='<U10'), array([5000, 5000, 5000, 5000, 5000, 5000, 5000, 5000, 5000, 5000],\n",
      "      dtype=int64))\n"
     ]
    },
    {
     "data": {
      "image/png": "[encoded data removed]",
      "text/plain": [
       "<Figure size 432x288 with 1 Axes>"
      ]
     },
     "metadata": {
      "needs_background": "light"
     },
     "output_type": "display_data"
    }
   ],
   "source": [
    "uniques = np.unique(class_names, return_counts=True)\n",
    "print(uniques)\n",
    "\n",
    "plt.bar(*uniques) # (1,1) 을 풀어서 넣은 것처럼됨\n",
    "plt.xticks(rotation=45)\n",
    "plt.show()"
   ]
  },
  {
   "cell_type": "code",
   "execution_count": 21,
   "metadata": {},
   "outputs": [
    {
     "data": {
      "text/html": [
       "<div>\n",
       "<style scoped>\n",
       "    .dataframe tbody tr th:only-of-type {\n",
       "        vertical-align: middle;\n",
       "    }\n",
       "\n",
       "    .dataframe tbody tr th {\n",
       "        vertical-align: top;\n",
       "    }\n",
       "\n",
       "    .dataframe thead th {\n",
       "        text-align: right;\n",
       "    }\n",
       "</style>\n",
       "<table border=\"1\" class=\"dataframe\">\n",
       "  <thead>\n",
       "    <tr style=\"text-align: right;\">\n",
       "      <th></th>\n",
       "      <th>name</th>\n",
       "      <th>class</th>\n",
       "    </tr>\n",
       "  </thead>\n",
       "  <tbody>\n",
       "    <tr>\n",
       "      <th>0</th>\n",
       "      <td>../dataset/cifar/train\\0_frog.png</td>\n",
       "      <td>frog</td>\n",
       "    </tr>\n",
       "    <tr>\n",
       "      <th>1</th>\n",
       "      <td>../dataset/cifar/train\\10000_automobile.png</td>\n",
       "      <td>automobile</td>\n",
       "    </tr>\n",
       "    <tr>\n",
       "      <th>2</th>\n",
       "      <td>../dataset/cifar/train\\10001_frog.png</td>\n",
       "      <td>frog</td>\n",
       "    </tr>\n",
       "    <tr>\n",
       "      <th>3</th>\n",
       "      <td>../dataset/cifar/train\\10002_frog.png</td>\n",
       "      <td>frog</td>\n",
       "    </tr>\n",
       "    <tr>\n",
       "      <th>4</th>\n",
       "      <td>../dataset/cifar/train\\10003_ship.png</td>\n",
       "      <td>ship</td>\n",
       "    </tr>\n",
       "  </tbody>\n",
       "</table>\n",
       "</div>"
      ],
      "text/plain": [
       "                                          name       class\n",
       "0            ../dataset/cifar/train\\0_frog.png        frog\n",
       "1  ../dataset/cifar/train\\10000_automobile.png  automobile\n",
       "2        ../dataset/cifar/train\\10001_frog.png        frog\n",
       "3        ../dataset/cifar/train\\10002_frog.png        frog\n",
       "4        ../dataset/cifar/train\\10003_ship.png        ship"
      ]
     },
     "execution_count": 21,
     "metadata": {},
     "output_type": "execute_result"
    }
   ],
   "source": [
    "# train data - dataframe 으로 넣기\n",
    "train_df = pd.DataFrame(columns=['name','class'],\n",
    "                    data = {'name':train_paths, 'class':class_names}\n",
    "                   )\n",
    "train_df.head()"
   ]
  },
  {
   "cell_type": "markdown",
   "metadata": {},
   "source": [
    "## Test data에 대해 진행"
   ]
  },
  {
   "cell_type": "code",
   "execution_count": 24,
   "metadata": {},
   "outputs": [
    {
     "name": "stdout",
     "output_type": "stream",
     "text": [
      "10000\n",
      "(array(['airplane', 'automobile', 'bird', 'cat', 'deer', 'dog', 'frog',\n",
      "       'horse', 'ship', 'truck'], dtype='<U10'), array([1000, 1000, 1000, 1000, 1000, 1000, 1000, 1000, 1000, 1000],\n",
      "      dtype=int64))\n",
      "10\n"
     ]
    }
   ],
   "source": [
    "# Test data 에 대해 진행\n",
    "print(len(test_paths))\n",
    "\n",
    "# 파일이름 파싱해서 넣기\n",
    "test_class_names = [get_class_name(path) for path in test_paths]\n",
    "print(np.unique(test_class_names, return_counts= True)) # 각 클래스별로 몇개씩 있나 까지\n",
    "print(len(set(test_class_names)))"
   ]
  },
  {
   "cell_type": "code",
   "execution_count": 23,
   "metadata": {},
   "outputs": [
    {
     "data": {
      "text/html": [
       "<div>\n",
       "<style scoped>\n",
       "    .dataframe tbody tr th:only-of-type {\n",
       "        vertical-align: middle;\n",
       "    }\n",
       "\n",
       "    .dataframe tbody tr th {\n",
       "        vertical-align: top;\n",
       "    }\n",
       "\n",
       "    .dataframe thead th {\n",
       "        text-align: right;\n",
       "    }\n",
       "</style>\n",
       "<table border=\"1\" class=\"dataframe\">\n",
       "  <thead>\n",
       "    <tr style=\"text-align: right;\">\n",
       "      <th></th>\n",
       "      <th>name</th>\n",
       "      <th>class</th>\n",
       "    </tr>\n",
       "  </thead>\n",
       "  <tbody>\n",
       "    <tr>\n",
       "      <th>0</th>\n",
       "      <td>../dataset/cifar/test\\0_cat.png</td>\n",
       "      <td>cat</td>\n",
       "    </tr>\n",
       "    <tr>\n",
       "      <th>1</th>\n",
       "      <td>../dataset/cifar/test\\1000_dog.png</td>\n",
       "      <td>dog</td>\n",
       "    </tr>\n",
       "    <tr>\n",
       "      <th>2</th>\n",
       "      <td>../dataset/cifar/test\\1001_airplane.png</td>\n",
       "      <td>airplane</td>\n",
       "    </tr>\n",
       "    <tr>\n",
       "      <th>3</th>\n",
       "      <td>../dataset/cifar/test\\1002_ship.png</td>\n",
       "      <td>ship</td>\n",
       "    </tr>\n",
       "    <tr>\n",
       "      <th>4</th>\n",
       "      <td>../dataset/cifar/test\\1003_deer.png</td>\n",
       "      <td>deer</td>\n",
       "    </tr>\n",
       "  </tbody>\n",
       "</table>\n",
       "</div>"
      ],
      "text/plain": [
       "                                      name     class\n",
       "0          ../dataset/cifar/test\\0_cat.png       cat\n",
       "1       ../dataset/cifar/test\\1000_dog.png       dog\n",
       "2  ../dataset/cifar/test\\1001_airplane.png  airplane\n",
       "3      ../dataset/cifar/test\\1002_ship.png      ship\n",
       "4      ../dataset/cifar/test\\1003_deer.png      deer"
      ]
     },
     "execution_count": 23,
     "metadata": {},
     "output_type": "execute_result"
    }
   ],
   "source": [
    "# test data - dataframe 으로 넣기\n",
    "test_df = pd.DataFrame(columns=['name','class'],\n",
    "                    data = {'name':test_paths, 'class':test_class_names}\n",
    "                   )\n",
    "test_df.head()"
   ]
  },
  {
   "cell_type": "code",
   "execution_count": 27,
   "metadata": {},
   "outputs": [
    {
     "name": "stdout",
     "output_type": "stream",
     "text": [
      "csv 변환 완료\n"
     ]
    }
   ],
   "source": [
    "## 만들어진 DataFrame 저장\n",
    "train_csv_path = 'cifar_trainset.csv'\n",
    "test_csv_path = 'cifar_testset.csv'\n",
    "\n",
    "train_df.to_csv(train_csv_path, index=False)\n",
    "test_df.to_csv(test_csv_path, index=False)\n",
    "\n",
    "print('csv 변환 완료')"
   ]
  }
 ],
 "metadata": {
  "kernelspec": {
   "display_name": "Python 3",
   "language": "python",
   "name": "python3"
  },
  "language_info": {
   "codemirror_mode": {
    "name": "ipython",
    "version": 3
   },
   "file_extension": ".py",
   "mimetype": "text/x-python",
   "name": "python",
   "nbconvert_exporter": "python",
   "pygments_lexer": "ipython3",
   "version": "3.7.5"
  }
 },
 "nbformat": 4,
 "nbformat_minor": 4
}
