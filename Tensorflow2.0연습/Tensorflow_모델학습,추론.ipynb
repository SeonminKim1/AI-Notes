{
 "cells": [
  {
   "cell_type": "markdown",
   "metadata": {},
   "source": [
    "## mnist data 준비"
   ]
  },
  {
   "cell_type": "code",
   "execution_count": 73,
   "metadata": {},
   "outputs": [
    {
     "name": "stdout",
     "output_type": "stream",
     "text": [
      "스케일링 전\n",
      "0 0 255 255\n",
      "스케일링 후\n",
      "0.0 0.0 1.0 1.0\n",
      "(60000, 28, 28, 1) (10000, 28, 28, 1)\n"
     ]
    }
   ],
   "source": [
    "from tensorflow.keras.datasets import mnist\n",
    "import tensorflow as tf\n",
    "\n",
    "(train_x, train_y), (test_x, test_y) = mnist.load_data()\n",
    "\n",
    "# Channel 차원 추가 - 이유는 gray scale 이라 채널이 표시가 안되서 1채널인지 3채널인지\n",
    "train_x = train_x[..., tf.newaxis]\n",
    "test_x = test_x[..., tf.newaxis]\n",
    "\n",
    "# Data Normalization - 스케일링 하는 작업\n",
    "print('스케일링 전')\n",
    "print(train_x.min(), test_x.min(), train_x.max(), test_x.max() )\n",
    "\n",
    "train_x, test_x = train_x/255.0, test_x/255.0\n",
    "print('스케일링 후')\n",
    "print(train_x.min(), test_x.min(), train_x.max(), test_x.max() )\n",
    "print(train_x.shape, test_x.shape)"
   ]
  },
  {
   "cell_type": "markdown",
   "metadata": {},
   "source": [
    "## 불러온 데이터셋에서 임의로 몇개씩 꺼내오는 것\n",
    "- take / generator"
   ]
  },
  {
   "cell_type": "code",
   "execution_count": 50,
   "metadata": {},
   "outputs": [],
   "source": [
    "# 데이터셋 랜덤으로 불러올 수 있는 것\n",
    "# for문으로 generator 하면 데이터셋이 나옴.\n",
    "\n",
    "# train data 설정\n",
    "train_ds =tf.data.Dataset.from_tensor_slices((train_x, train_y))\n",
    "train_ds = train_ds.shuffle(1000) # 랜덤 설정\n",
    "train_ds = train_ds.batch(32) # batch 설정\n",
    "\n",
    "# test data 설정\n",
    "test_ds = tf.data.Dataset.from_tensor_slices((test_x, test_y))\n",
    "test_ds = test_ds.batch(32)"
   ]
  },
  {
   "cell_type": "code",
   "execution_count": 53,
   "metadata": {},
   "outputs": [
    {
     "name": "stdout",
     "output_type": "stream",
     "text": [
      "(32, 28, 28, 1) (32,)\n"
     ]
    },
    {
     "data": {
      "image/png": "[encoded data removed]",
      "text/plain": [
       "<Figure size 432x288 with 1 Axes>"
      ]
     },
     "metadata": {
      "needs_background": "light"
     },
     "output_type": "display_data"
    },
    {
     "data": {
      "image/png": "[encoded data removed]",
      "text/plain": [
       "<Figure size 432x288 with 1 Axes>"
      ]
     },
     "metadata": {
      "needs_background": "light"
     },
     "output_type": "display_data"
    }
   ],
   "source": [
    "# train_ds -> (32, 28, 28, 1) 일 것\n",
    "image, label = next(iter(train_ds)) # \n",
    "\n",
    "print(image.shape, label.shape) # 32장 가져왔고, 32개 해당 라벨\n",
    "\n",
    "# 데이터 한번 출력해보기\n",
    "import matplotlib.pyplot as plt\n",
    "# take(2) -> 데이터셋 2개만 가져오는 것\n",
    "for image, label in train_ds.take(2): # take 에서 img와 label을 쌍으로 가져옴\n",
    "    plt.imshow(image[0, :, :, 0], 'gray')\n",
    "    plt.show()"
   ]
  },
  {
   "cell_type": "markdown",
   "metadata": {},
   "source": [
    "## 모델 생성"
   ]
  },
  {
   "cell_type": "code",
   "execution_count": 56,
   "metadata": {},
   "outputs": [
    {
     "name": "stdout",
     "output_type": "stream",
     "text": [
      "Model: \"Basic_CNN\"\n",
      "_________________________________________________________________\n",
      "Layer (type)                 Output Shape              Param #   \n",
      "=================================================================\n",
      "input_14 (InputLayer)        [(None, 28, 28, 1)]       0         \n",
      "_________________________________________________________________\n",
      "conv2d_50 (Conv2D)           (None, 28, 28, 32)        320       \n",
      "_________________________________________________________________\n",
      "activation_74 (Activation)   (None, 28, 28, 32)        0         \n",
      "_________________________________________________________________\n",
      "max_pooling2d_25 (MaxPooling (None, 14, 14, 32)        0         \n",
      "_________________________________________________________________\n",
      "dropout_37 (Dropout)         (None, 14, 14, 32)        0         \n",
      "_________________________________________________________________\n",
      "conv2d_51 (Conv2D)           (None, 14, 14, 32)        9248      \n",
      "_________________________________________________________________\n",
      "activation_75 (Activation)   (None, 14, 14, 32)        0         \n",
      "_________________________________________________________________\n",
      "conv2d_52 (Conv2D)           (None, 14, 14, 64)        18496     \n",
      "_________________________________________________________________\n",
      "activation_76 (Activation)   (None, 14, 14, 64)        0         \n",
      "_________________________________________________________________\n",
      "conv2d_53 (Conv2D)           (None, 14, 14, 64)        36928     \n",
      "_________________________________________________________________\n",
      "activation_77 (Activation)   (None, 14, 14, 64)        0         \n",
      "_________________________________________________________________\n",
      "max_pooling2d_26 (MaxPooling (None, 7, 7, 64)          0         \n",
      "_________________________________________________________________\n",
      "dropout_38 (Dropout)         (None, 7, 7, 64)          0         \n",
      "_________________________________________________________________\n",
      "flatten_12 (Flatten)         (None, 3136)              0         \n",
      "_________________________________________________________________\n",
      "dense_24 (Dense)             (None, 512)               1606144   \n",
      "_________________________________________________________________\n",
      "activation_78 (Activation)   (None, 512)               0         \n",
      "_________________________________________________________________\n",
      "dropout_39 (Dropout)         (None, 512)               0         \n",
      "_________________________________________________________________\n",
      "dense_25 (Dense)             (None, 10)                5130      \n",
      "_________________________________________________________________\n",
      "activation_79 (Activation)   (None, 10)                0         \n",
      "=================================================================\n",
      "Total params: 1,676,266\n",
      "Trainable params: 1,676,266\n",
      "Non-trainable params: 0\n",
      "_________________________________________________________________\n"
     ]
    }
   ],
   "source": [
    "from tensorflow.keras import layers\n",
    "\n",
    "input_shape = (28,28,1)\n",
    "num_classes = 10\n",
    "\n",
    "inputs = layers.Input(shape=input_shape)\n",
    "\n",
    "# Extracting Features\n",
    "net = layers.Conv2D(32, 3, padding='SAME')(inputs)\n",
    "net = layers.Activation('relu')(net)\n",
    "net = layers.MaxPool2D((2,2))(net)\n",
    "net = layers.Dropout(0.25)(net)\n",
    "\n",
    "net = layers.Conv2D(32, 3, padding='SAME')(net)\n",
    "net = layers.Activation('relu')(net)\n",
    "\n",
    "net = layers.Conv2D(64, 3, padding='SAME')(net)\n",
    "net = layers.Activation('relu')(net)\n",
    "net = layers.Conv2D(64, 3, padding='SAME')(net)\n",
    "net = layers.Activation('relu')(net)\n",
    "net = layers.MaxPool2D((2,2))(net)\n",
    "net = layers.Dropout(0.25)(net)\n",
    "\n",
    "# Classification layer\n",
    "net = layers.Flatten()(net)\n",
    "net = layers.Dense(512)(net)\n",
    "net = layers.Activation('relu')(net)\n",
    "net = layers.Dropout(0.25)(net)\n",
    "net = layers.Dense(10)(net)\n",
    "net = layers.Activation('softmax')(net) \n",
    "\n",
    "# input과, 마지막 output 모델인 net 넣기\n",
    "model = tf.keras.Model(inputs = inputs, outputs = net, name = 'Basic_CNN')\n",
    "model.summary()"
   ]
  },
  {
   "cell_type": "markdown",
   "metadata": {},
   "source": [
    "## Loss Function \n",
    "### Categorical vs Binary\n",
    "- loss = binary_crossentropy \n",
    "- loss = categorical_crossentropy\n",
    "\n",
    "### sparse_categorical_crossentropy vs categorical_crossentropy\n",
    "- one hot encoding 하고 안하고 차이\n",
    "- sparse_categorical_crossentropy => one hot 안한 것\n",
    "    - ex) [1,3,4] \n",
    "- categorical_crossentropy => one hot 한 것\n",
    "    - ex) [1,0,0], [0,1,0], [0,0,1]\n",
    "    \n",
    "## Metrics\n",
    "- metrics = ['accuracy']\n",
    "- tf.keras.metrics.Accuracy() 요렇게 줘도 됨\n",
    "    - metrics = [tf.keras.metrics.Accuracy()]\n",
    "    \n",
    "## Optimizer\n",
    "- sgd\n",
    "- rmsprop\n",
    "- adam\n",
    "    - ex) tf.keras.optimizers.Adam()\n",
    "    - ex) tf.keras.optimizers.SGD()\n",
    "    - ex) tf.keras.optimizers.RMSProp()\n",
    "    "
   ]
  },
  {
   "cell_type": "markdown",
   "metadata": {},
   "source": [
    "## 모델 컴파일, 훈련"
   ]
  },
  {
   "cell_type": "code",
   "execution_count": 64,
   "metadata": {},
   "outputs": [
    {
     "name": "stdout",
     "output_type": "stream",
     "text": [
      "Train on 60000 samples\n",
      "60000/60000 [==============================] - 228s 4ms/sample - loss: 0.0207\n"
     ]
    }
   ],
   "source": [
    "# 모델 컴파일, 학습\n",
    "num_epochs = 1\n",
    "batch_size = 1000 # 32  # 메모리 가 정해져 있기 때문에 조금씩 넣는 것\n",
    "\n",
    "model.compile(optimizer='adam', loss='sparse_categorical_crossentropy')\n",
    "\n",
    "hist = model.fit(train_x, train_y, \n",
    "         batch_size = batch_size,\n",
    "         shuffle = True,\n",
    "         epochs = num_epochs)"
   ]
  },
  {
   "cell_type": "code",
   "execution_count": 40,
   "metadata": {},
   "outputs": [
    {
     "name": "stdout",
     "output_type": "stream",
     "text": [
      "목적함수 <tensorflow.python.keras.losses.SparseCategoricalCrossentropy object at 0x000001D78006A988>\n",
      "경사하강법-optimizer <tensorflow.python.keras.optimizer_v2.adam.Adam object at 0x000001D7986484C8>\n",
      "학습데이터 loss 평균 <tensorflow.python.keras.metrics.Mean object at 0x000001D78006AA48>\n",
      "학습데이터 정확도 <tensorflow.python.keras.metrics.SparseCategoricalAccuracy object at 0x000001D78015A248>\n",
      "테스트데이터 loss평균 <tensorflow.python.keras.metrics.Mean object at 0x000001D780163388>\n",
      "테스트데이터 정확도 <tensorflow.python.keras.metrics.SparseCategoricalAccuracy object at 0x000001D780163808>\n"
     ]
    }
   ],
   "source": [
    "## 모델 Optimization\n",
    "loss_object = tf.keras.losses.SparseCategoricalCrossentropy()\n",
    "optimizer = tf.keras.optimizers.Adam()\n",
    "\n",
    "print('목적함수', loss_object)\n",
    "print('경사하강법-optimizer', optimizer)\n",
    "\n",
    "# loss가 낮을떄도 있고 높을떄도 있는데, 그대로 로그로 보여주면 좀 너무 구림\n",
    "# 좀더 부드러운 선을 위한 평균 출력 작업\n",
    "train_loss = tf.keras.metrics.Mean(name='train_loss')\n",
    "train_accuracy = tf.keras.metrics.SparseCategoricalAccuracy(name ='train_accuracy')\n",
    "\n",
    "test_loss = tf.keras.metrics.Mean(name='test_loss')\n",
    "test_accuracy = tf.keras.metrics.SparseCategoricalAccuracy(name='test_accruacy')\n",
    "\n",
    "print('학습데이터 loss 평균', train_loss)\n",
    "print('학습데이터 정확도', train_accuracy)\n",
    "print('테스트데이터 loss평균',test_loss)\n",
    "print('테스트데이터 정확도', test_accuracy)"
   ]
  },
  {
   "cell_type": "markdown",
   "metadata": {},
   "source": [
    "## 학습 직접 짜보기 (@tf.function)\n",
    "- tf 1.x 처럼 session 작업으로 분리된 것 처럼 실행\n",
    "- @tf.function 이라고 부름\n",
    "- 그래프 먼저 다 생성하고 그래프 안에서 작업되게 하는 것\n",
    "- 속도가 더 빨라진다"
   ]
  },
  {
   "cell_type": "code",
   "execution_count": 58,
   "metadata": {},
   "outputs": [],
   "source": [
    "\n",
    "# train 함수 직접 짜기\n",
    "@tf.function\n",
    "def train_step(images, labels):\n",
    "    with tf.GradientTape() as tape:\n",
    "        predictions = model(images) # image넣어서 나온 결과\n",
    "        loss = loss_object(labels, predictions) # predict 결과와 정답과의 loss구하기\n",
    "    gradients = tape.gradient(loss, model.trainable_variables) # loss를 바탕으로 기울기 반영\n",
    "    optimizer.apply_gradients(zip(gradients, model.trainable_variables)) # optimizer를 통한 해당 내용 반영\n",
    "    \n",
    "    train_loss(loss)\n",
    "    train_accuracy(labels, predictions)\n",
    "    \n",
    "# test 함수 직접 짜기\n",
    "@ tf.function\n",
    "def test_step(images, labels):\n",
    "    predictions = model(images)\n",
    "    t_loss = loss_object(labels, predictions)\n",
    "    \n",
    "    # test는 train과 달리 graident에 대해 반영하는 내용이 없음\n",
    "    test_loss(t_loss)\n",
    "    test_accuracy(labels, predictions)"
   ]
  },
  {
   "cell_type": "code",
   "execution_count": 59,
   "metadata": {},
   "outputs": [
    {
     "name": "stdout",
     "output_type": "stream",
     "text": [
      "Epoch 1, Loss: 0.09985554218292236, Accuracy: 96.88500213623047, Test Loss0.04205309599637985, Test Accuracy: 98.6500015258789\n",
      "Epoch 2, Loss: 0.06767448037862778, Accuracy: 97.87916564941406, Test Loss0.037907108664512634, Test Accuracy: 98.75\n"
     ]
    }
   ],
   "source": [
    "# 32 batch size 씩 데이터가 넘어옴\n",
    "for epoch in range(2):\n",
    "    for images, labels in train_ds:\n",
    "        train_step(images, labels)\n",
    "        \n",
    "    # 한 에폭 끝나고 다시 테스트 진행\n",
    "    for test_images, test_labels in test_ds:\n",
    "        test_step(test_images, test_labels)\n",
    "        \n",
    "    template = 'Epoch {}, Loss: {}, Accuracy: {}, Test Loss{}, Test Accuracy: {}'\n",
    "    print(template.format(epoch+1,\n",
    "                         train_loss.result(),\n",
    "                         train_accuracy.result() * 100,\n",
    "                         test_loss.result(),\n",
    "                         test_accuracy.result() * 100))\n",
    "    "
   ]
  },
  {
   "cell_type": "markdown",
   "metadata": {},
   "source": [
    "## 결과 확인\n",
    "- test 일반 확인법\n",
    "- test batch 확인법"
   ]
  },
  {
   "cell_type": "code",
   "execution_count": 67,
   "metadata": {},
   "outputs": [
    {
     "data": {
      "image/png": "[encoded data removed]",
      "text/plain": [
       "<Figure size 432x288 with 1 Axes>"
      ]
     },
     "metadata": {
      "needs_background": "light"
     },
     "output_type": "display_data"
    }
   ],
   "source": [
    "import matplotlib.pyplot as plt\n",
    "import numpy as np\n",
    "\n",
    "test_image = test_x[0, :, :, 0]\n",
    "test_image.shape\n",
    "\n",
    "plt.title(test_y[0])\n",
    "plt.imshow(test_image, 'gray')\n",
    "plt.show()"
   ]
  },
  {
   "cell_type": "code",
   "execution_count": 68,
   "metadata": {},
   "outputs": [
    {
     "name": "stdout",
     "output_type": "stream",
     "text": [
      "[[2.74475470e-10 4.07783496e-09 5.29040562e-08 1.06376525e-08\n",
      "  8.88088492e-10 3.60496771e-10 4.64244156e-14 9.99999762e-01\n",
      "  5.59527424e-10 1.70176151e-07]]\n",
      "[7]\n"
     ]
    }
   ],
   "source": [
    "pred = model.predict(test_image.reshape(1,28,28,1))\n",
    "print(pred)\n",
    "\n",
    "result_label = np.argmax(pred, axis=1)\n",
    "print(result_label)"
   ]
  },
  {
   "cell_type": "code",
   "execution_count": 70,
   "metadata": {},
   "outputs": [
    {
     "name": "stdout",
     "output_type": "stream",
     "text": [
      "(32, 28, 28, 1)\n",
      "(32, 10)\n",
      "[7 2 1 0 4 1 4 9 5 9 0 6 9 0 1 5 9 7 3 4 9 6 6 5 4 0 7 4 0 1 3 1]\n",
      "[7 2 1 0 4 1 4 9 5 9 0 6 9 0 1 5 9 7 3 4 9 6 6 5 4 0 7 4 0 1 3 1]\n"
     ]
    }
   ],
   "source": [
    "# Test batch\n",
    "test_batch = test_x[:32]\n",
    "print(test_batch.shape)\n",
    "\n",
    "preds = model.predict(test_batch)\n",
    "print(preds.shape)\n",
    "\n",
    "# 정답 결과\n",
    "print(test_y[:32])\n",
    "print(np.argmax(preds, -1))"
   ]
  }
 ],
 "metadata": {
  "kernelspec": {
   "display_name": "Python 3",
   "language": "python",
   "name": "python3"
  },
  "language_info": {
   "codemirror_mode": {
    "name": "ipython",
    "version": 3
   },
   "file_extension": ".py",
   "mimetype": "text/x-python",
   "name": "python",
   "nbconvert_exporter": "python",
   "pygments_lexer": "ipython3",
   "version": "3.7.5"
  }
 },
 "nbformat": 4,
 "nbformat_minor": 4
}
