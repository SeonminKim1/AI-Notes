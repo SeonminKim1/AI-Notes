{
 "cells": [
  {
   "cell_type": "markdown",
   "metadata": {},
   "source": [
    "## R-CNN과 R-CNN문제점\n",
    "\n",
    "![rcnn](img/rcnn.png)\n",
    "\n",
    "- Input Image를 2000개 까지 Extract 한다.\n",
    "- Warped작업을 통해 CNN Image로 들어가고 Bounding Box Regression 작업과 SVM 작업을 통해 최종 이미지 분류\n",
    "\n",
    "- 문제점\n",
    "    - 1->2에서 시간을 너무 많이 소모되고, 3에서 BackPropagation이 안된다.\n",
    "    - 모든 바운딩 박스마다 CNN을 돌려야 하고, 분류를 위한 SVM, 바운딩 박스를 위한 선형회귀까지 세 가지 모델을 모두 훈련시키기가 어렵다는 점\n",
    "    \n",
    "### Fast RCNN\n",
    "\n",
    "![FastRCNN](img/FastRCNN.png)\n",
    "\n",
    "- CNN에서 Feature Extraction 작업 후\n",
    "- Classifier를 FC를 넣은 Softmax로 변경, BBOX Regresion도 FC로 넣음\n",
    "\n",
    "- Spatial Pyramid Pooling (SPP)\n",
    "    - Wraping에서 일어나는 정보손실을 막으며(기준 이미지 크기에 맞추려고 하다보면 기존 위치정보를 잃게 됨), 이미지의 차원을 맞추기 위한 방법\n",
    "    - 일정 갯수의 지역으로 나눈뒤, 각 지역의 BoW(Bag of Words)를 적용\n",
    "    ![Spatial_Pyramid_Pooling](img/Spatial_Pyramid_Pooling.png)\n",
    "    \n",
    "- SPP를 차용해서 Region of Interest Pooling을 사용\n",
    "- 어떠한 Box등 가로세로를 일정한 Bin으로 나눔, \n",
    "    - ex) 정사각형, 직사각형이든 무조건 6x6으로\n",
    "\n",
    "### 결론\n",
    "- CNN 여러개에서 CNN 1개로 진행함\n",
    "- 남은 병목 : Regional Proposal 부분\n",
    "- **시간을 많이 줄였지만, Training 부분에서 시간이 조금더 걸렸고 Region Proposal Regression 부분이 개선이 필요 ==> Faster R-CNN 등장**\n",
    "\n",
    "![RCNN_VS_FastRCNN](img/RCNN_VS_FastRCNN.PNG)"
   ]
  },
  {
   "cell_type": "markdown",
   "metadata": {},
   "source": [
    "## Faster R-CNN\n",
    "\n",
    "![FasterRCNN2](img/FasterRCNN2.png)\n",
    "\n",
    "- Fast CNN 의 문제점으로 Regional Proposal 단계가 문제가 있엇음\n",
    "- Region Proposal 단계를 CNN 과정에 넣음으로서 문제 해결\n",
    "- CNN을 통과한 특성 맵에서 슬라이딩 윈도우를 이용해 각 지점anchor마다 가능한 바운딩 박스의 좌표와 이 바운딩 박스의 점수를 계산\n",
    "- 대부분 너무 홀쭉하거나 넓은 물체는 많지 않으므로, 2:1, 1:1, 1:2 등의 몇가지 타입으로도 좋음\n",
    "- 해당 Feautre Map에서 Object가 있는지 없는지를 판단함. \n",
    "\n",
    "![FasterRCNN](img/FasterRCNN.png)\n",
    "\n",
    "### Faster R-CNN 문제점\n",
    "- 정확도는 높았으나 연산적인 측면에서 7FPS \n",
    "- 실시간적으로는 활용하는게 불가능했다\n",
    "- 해당과정이 2Stage로 나눠져 있는게 문제이다 -> yolo의 등장\n"
   ]
  }
 ],
 "metadata": {
  "kernelspec": {
   "display_name": "Python 3",
   "language": "python",
   "name": "python3"
  },
  "language_info": {
   "codemirror_mode": {
    "name": "ipython",
    "version": 3
   },
   "file_extension": ".py",
   "mimetype": "text/x-python",
   "name": "python",
   "nbconvert_exporter": "python",
   "pygments_lexer": "ipython3",
   "version": "3.7.5"
  }
 },
 "nbformat": 4,
 "nbformat_minor": 4
}
