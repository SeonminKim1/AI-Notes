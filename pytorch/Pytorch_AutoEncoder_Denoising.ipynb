{
 "cells": [
  {
   "cell_type": "markdown",
   "metadata": {},
   "source": [
    "## 잡음 제거 오토인코더\n",
    "- 잡음 제거 오토인코더 \n",
    "- Paper \n",
    "    - (DAE)_Extracting and Composing Robust Features with Denosing Autoencoders 에서 처음제안\n",
    "   "
   ]
  },
  {
   "cell_type": "code",
   "execution_count": 4,
   "metadata": {},
   "outputs": [
    {
     "name": "stdout",
     "output_type": "stream",
     "text": [
      "Using Device: cpu\n"
     ]
    }
   ],
   "source": [
    "import torch, torchvision\n",
    "import torch.nn.functional as F\n",
    "from torch import nn, optim\n",
    "from torchvision import transforms, datasets\n",
    "\n",
    "# 오토인코더 생성하는 이미지 관찰을 위한 matplotlib, numpy\n",
    "import matplotlib.pyplot as plt\n",
    "from mpl_toolkits.mplot3d import Axes3D\n",
    "from matplotlib import cm\n",
    "import numpy as np\n",
    "\n",
    "# 하이퍼 파라미터\n",
    "epochs = 3\n",
    "batch_size = 64\n",
    "USE_CUDA = torch.cuda.is_available()\n",
    "DEVICE = torch.device(\"cuda\" if USE_CUDA else \"cpu\")\n",
    "print(\"Using Device:\", DEVICE)"
   ]
  },
  {
   "cell_type": "code",
   "execution_count": 5,
   "metadata": {},
   "outputs": [],
   "source": [
    "# Fashion MNIST 데이터셋\n",
    "trainset = datasets.FashionMNIST(\n",
    "    root = 'data/',\n",
    "    train = True,\n",
    "    download = True,\n",
    "    transform = transforms.ToTensor()\n",
    ")\n",
    "\n",
    "train_loader = torch.utils.data.DataLoader(\n",
    "    dataset = trainset,\n",
    "    batch_size = batch_size,\n",
    "    shuffle = True,\n",
    "    num_workers = 2\n",
    ")"
   ]
  },
  {
   "cell_type": "code",
   "execution_count": 6,
   "metadata": {},
   "outputs": [],
   "source": [
    "## 오토인코더 모듈 정의\n",
    "\n",
    "class Autoencoder(nn.Module):\n",
    "    def __init__(self):\n",
    "        super(Autoencoder, self).__init__()\n",
    "        \n",
    "        # self.encoder, self.decoder 정의 및 nn.sequential()을 이용한 묶기\n",
    "        # encoder - FC-FC-FC\n",
    "        self.encoder = nn.Sequential(\n",
    "            nn.Linear(28*28, 128),\n",
    "            nn.ReLU(),\n",
    "            nn.Linear(128, 64),\n",
    "            nn.ReLU(),\n",
    "            nn.Linear(64, 12),\n",
    "            nn.ReLU(),\n",
    "            nn.Linear(12, 3), # 3개여의 특징만 남긴다. (입력의 특징을 3차원 압축)\n",
    "        )\n",
    "        \n",
    "        # decoder - FC-FC-FC 채널 역순\n",
    "        self.decoder = nn.Sequential(\n",
    "            nn.Linear(3, 12),\n",
    "            nn.ReLU(),\n",
    "            nn.Linear(12, 64),\n",
    "            nn.ReLU(),\n",
    "            nn.Linear(64, 128),\n",
    "            nn.ReLU(),\n",
    "            nn.Linear(128, 28*28), # 3개여의 특징만 남긴다.\n",
    "            nn.Sigmoid(), # 마지막 출력값을 0~1사이로 만들어주는 nn.Sigmoid() 함수가 더해진 것\n",
    "        )\n",
    "        \n",
    "    # Forward\n",
    "    def forward(self, x):\n",
    "        encoded = self.encoder(x) # encoder 생성\n",
    "        decoded = self.decoder(encoded) # encoder 바탕으로 decoder \n",
    "\n",
    "        return encoded, decoded # 복원 이미지"
   ]
  },
  {
   "cell_type": "code",
   "execution_count": 7,
   "metadata": {},
   "outputs": [],
   "source": [
    "# noise 추가 함수\n",
    "def add_noise(img):\n",
    "    noise = torch.randn(img.size()) * 0.2\n",
    "    noisy_img = img + noise\n",
    "    return noisy_img\n",
    "\n",
    "# 학습 함수\n",
    "def train(autoencoder, train_loader):\n",
    "    autoencoder.train()\n",
    "    \n",
    "    avg_loss = 0\n",
    "    \n",
    "    # step 마다 train_loader 에서 데이터를 불러옴.\n",
    "    for step, (x, label) in enumerate(train_loader):\n",
    "        x = add_noise(x) # 입력에 노이즈 더하기\n",
    "        x = x.view(-1, 28*28).to(DEVICE) # 입력값도 X \n",
    "        y = x.view(-1, 28*28).to(DEVICE) # 결과값도 X\n",
    "        label = label.to(DEVICE)\n",
    "        \n",
    "        encoded, decoded = autoencoder(x)\n",
    "        \n",
    "        # loss 계산, 미분 및 역전파, 반복\n",
    "        loss = criterion(decoded, y)\n",
    "        optimizer.zero_grad() # 오차에 대해 미분\n",
    "        loss.backward() # 역전파 진행\n",
    "        optimizer.step() # \n",
    "        \n",
    "        # 평균 오찻값을 저장하는 avg_loss 변수\n",
    "        avg_loss +=loss.item() # loss 의 텐서 뽑아서 저장\n",
    "    return avg_loss / len(train_loader)"
   ]
  },
  {
   "cell_type": "code",
   "execution_count": 9,
   "metadata": {},
   "outputs": [
    {
     "name": "stdout",
     "output_type": "stream",
     "text": [
      "[Epoch 1] loss:0.07535816453444932\n",
      "[Epoch 2] loss:0.06542326341957044\n",
      "[Epoch 3] loss:0.06414496157564588\n"
     ]
    },
    {
     "data": {
      "image/png": "[encoded data removed]",
      "text/plain": [
       "<Figure size 1080x1080 with 3 Axes>"
      ]
     },
     "metadata": {
      "needs_background": "light"
     },
     "output_type": "display_data"
    }
   ],
   "source": [
    "# 모델 옵션 설정 및 학습\n",
    "autoencoder = Autoencoder().to(DEVICE)\n",
    "optimizer = torch.optim.Adam(autoencoder.parameters(), lr=0.005) # 최적화 모듈 Adam\n",
    "criterion = nn.MSELoss() # 두 행렬간의 차이제곱\n",
    "\n",
    "# 학습 진행\n",
    "for epoch in range(1, epochs+1):\n",
    "    loss = train(autoencoder, train_loader)\n",
    "    print(\"[Epoch {}] loss:{}\".format(epoch, loss))\n",
    "\n",
    "# Fashion MNIST 데이터셋\n",
    "testset = datasets.FashionMNIST(\n",
    "    root = 'data/',\n",
    "    train = False,\n",
    "    download = True,\n",
    "    transform = transforms.ToTensor()\n",
    ")\n",
    "\n",
    "sample_data = testset.data[0].view(-1, 28*28)\n",
    "sample_data = sample_data.type(torch.FloatTensor)/255.\n",
    "\n",
    "# 이미지를 add_noise로 오염시킨 후 모델에 통과\n",
    "original_x = sample_data[0]\n",
    "noisy_x = add_noise(original_x).to(DEVICE)\n",
    "_, recovered_x = autoencoder(noisy_x)\n",
    "\n",
    "# 원본과 디코딩 비교해보기 - subplot 에 출력\n",
    "f, a = plt.subplots(1, 3, figsize = (15,15))\n",
    "\n",
    "original_img = np.reshape(original_x.data.numpy(), (28,28))\n",
    "noisy_img = np.reshape(noisy_x.data.numpy(), (28,28))\n",
    "recovered_img = np.reshape(recovered_x.data.numpy(), (28,28))\n",
    "\n",
    "# 원본 사진\n",
    "a[0].set_title('Original')\n",
    "a[0].imshow(original_img, cmap='gray')\n",
    "\n",
    "# 오염된 원본 사진\n",
    "a[1].set_title('Noisy')\n",
    "a[1].imshow(noisy_img, cmap='gray')\n",
    "\n",
    "# 복원된 사진\n",
    "a[2].set_title('Recovered')\n",
    "a[2].imshow(recovered_img, cmap='gray')\n",
    "\n",
    "plt.show()"
   ]
  },
  {
   "cell_type": "code",
   "execution_count": null,
   "metadata": {},
   "outputs": [],
   "source": []
  }
 ],
 "metadata": {
  "kernelspec": {
   "display_name": "Python 3",
   "language": "python",
   "name": "python3"
  },
  "language_info": {
   "codemirror_mode": {
    "name": "ipython",
    "version": 3
   },
   "file_extension": ".py",
   "mimetype": "text/x-python",
   "name": "python",
   "nbconvert_exporter": "python",
   "pygments_lexer": "ipython3",
   "version": "3.7.5"
  }
 },
 "nbformat": 4,
 "nbformat_minor": 4
}
