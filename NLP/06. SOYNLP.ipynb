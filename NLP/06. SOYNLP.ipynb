{
 "cells": [
  {
   "cell_type": "markdown",
   "id": "1f405803",
   "metadata": {},
   "source": [
    "## 1. SOYNLP를 이용한 단어 토큰화 (신조어, 학습기반) \n",
    "- !pip install soynlp\n",
    "- soynlp는 품사 태깅, 단어 토큰화 등을 지원하는 단어 토크나이저\n",
    "- 비지도 학습으로 단어 토큰화 / 데이터에 자주 등장하는 단어들을 단어로 분석\n",
    "- soynlp 단어 토크나이저는 내부적으로 단어 점수 표로 동작하며, 이 점수는 응집 확률(cohesion probability)과 브랜칭 엔트로피(branching entropy)를 활용\n",
    "- soynlp는 기본적으로 학습에 기반한 토크나이저이므로 학습에 필요한 한국어 문서를 다운로드\n",
    "- soynlp는 학습 기반의 단어 토크나이저이므로 기존의 KoNLPy에서 제공하는 형태소 분석기들과는 달리 학습 과정을 거쳐야 합\n",
    "- 전체 코퍼스로부터 응집 확률과 브랜칭 엔트로피 단어 점수표를 만드는 과정\n",
    "    - WordExtractor.extract()를 통해서 전체 코퍼스에 대해 단어 점수표를 계산\n"
   ]
  },
  {
   "cell_type": "code",
   "execution_count": 1,
   "id": "858ed497",
   "metadata": {},
   "outputs": [
    {
     "name": "stdout",
     "output_type": "stream",
     "text": [
      "30091\n"
     ]
    }
   ],
   "source": [
    "import urllib.request\n",
    "from soynlp import DoublespaceLineCorpus\n",
    "from soynlp.word import WordExtractor\n",
    "\n",
    "# 한국어 문서 다운로드\n",
    "urllib.request.urlretrieve(\"https://raw.githubusercontent.com/lovit/soynlp/master/tutorials/2016-10-20.txt\", filename=\"2016-10-20.txt\")\n",
    "\n",
    "# 훈련 데이터를 다수의 문서로 분리\n",
    "corpus = DoublespaceLineCorpus(\"2016-10-20.txt\")\n",
    "print(len(corpus))\n"
   ]
  },
  {
   "cell_type": "code",
   "execution_count": 2,
   "id": "fa89f172",
   "metadata": {},
   "outputs": [
    {
     "name": "stdout",
     "output_type": "stream",
     "text": [
      "training was done. used memory 0.785 Gb\n",
      "all cohesion probabilities was computed. # words = 223348\n",
      "all branching entropies was computed # words = 361598\n",
      "all accessor variety was computed # words = 361598\n"
     ]
    }
   ],
   "source": [
    "word_extractor = WordExtractor()\n",
    "word_extractor.train(corpus)\n",
    "word_score_table = word_extractor.extract()"
   ]
  },
  {
   "cell_type": "markdown",
   "id": "d10f7409",
   "metadata": {},
   "source": [
    "    \n",
    "## 2. SOYNLP의 응집 확률(cohesion probability)\n",
    "- 응집 확률은 내부 문자열(substring)이 얼마나 응집하여 자주 등장하는지를 판단하는 척도\n",
    "- 응집 확률은 문자열을 문자 단위로 분리하여 내부 문자열을 만드는 과정에서 왼쪽부터 순서대로 문자를 추가하면서 각 문자열이 주어졌을 때 그 다음 문자가 나올 확률을 계산하여 누적곱을 한 값\n",
    "- 이 값이 높을수록 전체 코퍼스에서 이 문자열 시퀀스는 하나의 단어로 등장할 가능성이 높음"
   ]
  },
  {
   "cell_type": "code",
   "execution_count": 3,
   "id": "66614fd8",
   "metadata": {},
   "outputs": [
    {
     "name": "stdout",
     "output_type": "stream",
     "text": [
      "0.08838002913645132\n",
      "0.19841268168224552\n",
      "0.2972877884078849\n",
      "0.37891487632839754\n",
      "0.33492963377557666\n"
     ]
    }
   ],
   "source": [
    "# 결합도는 '반포한강공원'일 때가 가장 높으며, 응집도를 통해 판단하기에 하나의 단어로 판단하기에 가장 적합한 문자열은 '반포한강공원'\n",
    "print(word_score_table[\"반포한\"].cohesion_forward)\n",
    "print(word_score_table[\"반포한강\"].cohesion_forward)\n",
    "print(word_score_table[\"반포한강공\"].cohesion_forward)\n",
    "print(word_score_table[\"반포한강공원\"].cohesion_forward)\n",
    "print(word_score_table[\"반포한강공원에\"].cohesion_forward)"
   ]
  },
  {
   "cell_type": "markdown",
   "id": "43b4f8c9",
   "metadata": {},
   "source": [
    "## 3. SOYNLP의 브랜칭 엔트로피(branching entropy)\n",
    "- Branching Entropy는 확률 분포의 엔트로피값을 사용\n",
    "- 주어진 문자열에서 얼마나 다음 문자가 등장할 수 있는지를 판단\n",
    "- 브랜칭 엔트로피를 주어진 문자 시퀀스에서 다음 문자 예측을 위해 헷갈리는 정도로 비유해봅시다. 브랜칭 엔트로피의 값은 하나의 완성된 단어에 가까워질수록 문맥으로 인해 점점 정확히 예측할 수 있게 되면서 점점 줄어드는 양상을 보임\n",
    "\n",
    "\n",
    "### 예제 해석\n",
    "- '디스' 다음에는 다양한 문자가 올 수 있으니까 1.63이라는 값을 가지는 반면, '디스플'이라는 문자열 다음에는 다음 문자로 '레'가 오는 것이 너무나 명백하기 때문에 0이란 값을 가집\n",
    "- 갑자기 값이 증가합니다. 그 이유는 문자 시퀀스 '디스플레이'라는 문자 시퀀스 다음에는 조사나 다른 단어와 같은 다양한 경우가 있을 수 있기 때문\n",
    "- 이는 하나의 단어가 끝나면 그 경계 부분부터 다시 브랜칭 엔트로피 값이 증가하게 됨을 의미"
   ]
  },
  {
   "cell_type": "code",
   "execution_count": 4,
   "id": "a289d9e4",
   "metadata": {},
   "outputs": [
    {
     "name": "stdout",
     "output_type": "stream",
     "text": [
      "1.6371694761537934\n",
      "-0.0\n",
      "-0.0\n",
      "3.1400392861792916\n"
     ]
    }
   ],
   "source": [
    "print(word_score_table[\"디스\"].right_branching_entropy)\n",
    "print(word_score_table[\"디스플\"].right_branching_entropy)\n",
    "# '디스' 다음에는 다양한 문자가 올 수 있으니까 1.63이라는 값을 가지는 반면, '디스플'이라는 문자열 다음에는 다음 문자로 '레'가 오는 것이 너무나 명백하기 때문에 0이란 값을 가집\n",
    "print(word_score_table[\"디스플레\"].right_branching_entropy)\n",
    "# 갑자기 값이 증가합니다. 그 이유는 문자 시퀀스 '디스플레이'라는 문자 시퀀스 다음에는 조사나 다른 단어와 같은 다양한 경우가 있을 수 있기 때문\n",
    "print(word_score_table[\"디스플레이\"].right_branching_entropy)\n",
    "# 이는 하나의 단어가 끝나면 그 경계 부분부터 다시 브랜칭 엔트로피 값이 증가하게 됨을 의미"
   ]
  },
  {
   "cell_type": "markdown",
   "id": "7c7d71b4",
   "metadata": {},
   "source": [
    "## 4. SOYNLP의 L tokenizer\n",
    "- 한국어는 띄어쓰기 단위로 나눈 어절 토큰은 주로 L 토큰 + R 토큰의 형식을 가질 때가 많음\n",
    "    - ex) '공원에'는 '공원 + 에'\n",
    "    - ex) '공부하는'은 '공부 + 하는'\n",
    "- L 토크나이저는 L 토큰 + R 토큰으로 나누되, 분리 기준을 점수가 가장 높은 L 토큰을 찾아내는 원리를 가짐\n"
   ]
  },
  {
   "cell_type": "code",
   "execution_count": 5,
   "id": "e942ae6a",
   "metadata": {},
   "outputs": [
    {
     "data": {
      "text/plain": [
       "[('국제사회', '와'), ('우리', '의'), ('노력', '들로'), ('범죄', '를'), ('척결', '하자')]"
      ]
     },
     "execution_count": 5,
     "metadata": {},
     "output_type": "execute_result"
    }
   ],
   "source": [
    "from soynlp.tokenizer import LTokenizer\n",
    "\n",
    "scores = {word:score.cohesion_forward for word, score in word_score_table.items()}\n",
    "l_tokenizer = LTokenizer(scores=scores)\n",
    "l_tokenizer.tokenize(\"국제사회와 우리의 노력들로 범죄를 척결하자\", flatten=False)"
   ]
  },
  {
   "cell_type": "markdown",
   "id": "95acc96b",
   "metadata": {},
   "source": [
    "## 5. SOYNLP의 최대 점수 토크나이저\n",
    "- 최대 점수 토크나이저는 띄어쓰기가 되지 않는 문장에서 점수가 높은 글자 시퀀스를 순차적으로 찾아내는 토크나이저\n",
    "- 띄어쓰기가 되어 있지 않은 문장을 넣어서 점수를 통해 토큰화 된 결과 확인"
   ]
  },
  {
   "cell_type": "code",
   "execution_count": 6,
   "id": "4d50954d",
   "metadata": {},
   "outputs": [
    {
     "data": {
      "text/plain": [
       "['국제사회', '와', '우리', '의', '노력', '들로', '범죄', '를', '척결', '하자']"
      ]
     },
     "execution_count": 6,
     "metadata": {},
     "output_type": "execute_result"
    }
   ],
   "source": [
    "from soynlp.tokenizer import MaxScoreTokenizer\n",
    "\n",
    "maxscore_tokenizer = MaxScoreTokenizer(scores=scores)\n",
    "maxscore_tokenizer.tokenize(\"국제사회와우리의노력들로범죄를척결하자\")"
   ]
  },
  {
   "cell_type": "markdown",
   "id": "30f59c31",
   "metadata": {},
   "source": [
    "## 6. SOYNLP를 이용한 반복되는 문자 정제\n",
    "- NS나 채팅 데이터와 같은 한국어 데이터의 경우에는 ㅋㅋ, ㅎㅎ 등의 이모티콘의 경우 불필요하게 연속되는 경우가 많은데 ㅋㅋ, ㅋㅋㅋ, ㅋㅋㅋㅋ와 같은 경우를 모두 서로 다른 단어로 처리하는 것은 불필요합니다. 이에 반복되는 것은 하나로 정규화"
   ]
  },
  {
   "cell_type": "code",
   "execution_count": 8,
   "id": "b012ae71",
   "metadata": {},
   "outputs": [
    {
     "name": "stdout",
     "output_type": "stream",
     "text": [
      "아ㅋㅋ영화존잼쓰ㅠㅠ\n",
      "아ㅋㅋ영화존잼쓰ㅠㅠ\n",
      "아ㅋㅋ영화존잼쓰ㅠㅠ\n",
      "아ㅋㅋ영화존잼쓰ㅠㅠ\n",
      "와하하핫\n",
      "와하하핫\n",
      "와하하핫\n"
     ]
    }
   ],
   "source": [
    "from soynlp.normalizer import *\n",
    "\n",
    "print(emoticon_normalize('앜ㅋㅋㅋㅋ이영화존잼쓰ㅠㅠㅠㅠㅠ', num_repeats=2))\n",
    "print(emoticon_normalize('앜ㅋㅋㅋㅋㅋㅋㅋㅋㅋ이영화존잼쓰ㅠㅠㅠㅠ', num_repeats=2))\n",
    "print(emoticon_normalize('앜ㅋㅋㅋㅋㅋㅋㅋㅋㅋㅋㅋㅋ이영화존잼쓰ㅠㅠㅠㅠㅠㅠ', num_repeats=2))\n",
    "print(emoticon_normalize('앜ㅋㅋㅋㅋㅋㅋㅋㅋㅋㅋㅋㅋㅋㅋㅋㅋㅋ이영화존잼쓰ㅠㅠㅠㅠㅠㅠㅠㅠ', num_repeats=2))\n",
    "\n",
    "print(repeat_normalize('와하하하하하하하하하핫', num_repeats=2))\n",
    "print(repeat_normalize('와하하하하하하핫', num_repeats=2))\n",
    "print(repeat_normalize('와하하하하핫', num_repeats=2))"
   ]
  }
 ],
 "metadata": {
  "kernelspec": {
   "display_name": "Python 3",
   "language": "python",
   "name": "python3"
  },
  "language_info": {
   "codemirror_mode": {
    "name": "ipython",
    "version": 3
   },
   "file_extension": ".py",
   "mimetype": "text/x-python",
   "name": "python",
   "nbconvert_exporter": "python",
   "pygments_lexer": "ipython3",
   "version": "3.8.5"
  }
 },
 "nbformat": 4,
 "nbformat_minor": 5
}
