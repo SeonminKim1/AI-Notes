{
 "cells": [
  {
   "cell_type": "code",
   "execution_count": 27,
   "metadata": {},
   "outputs": [
    {
     "name": "stdout",
     "output_type": "stream",
     "text": [
      "5958\n",
      "5958\n"
     ]
    }
   ],
   "source": [
    "import os\n",
    "from glob import glob\n",
    "\n",
    "import tensorflow as tf\n",
    "import numpy as np\n",
    "\n",
    "import matplotlib.pyplot as plt\n",
    "%matplotlib inline\n",
    "\n",
    "# glob 사용\n",
    "data_paths = glob('../dataset/mnist/training/2/*.png')\n",
    "print(len(data_paths))\n",
    "\n",
    "# tensorflow 도 같은 기능\n",
    "data_paths_tf = tf.io.matching_files('../dataset/mnist/training/2/*.png')\n",
    "print(len(data_paths_tf))\n"
   ]
  },
  {
   "cell_type": "markdown",
   "metadata": {},
   "source": [
    "## Load Image"
   ]
  },
  {
   "cell_type": "code",
   "execution_count": 28,
   "metadata": {},
   "outputs": [
    {
     "name": "stdout",
     "output_type": "stream",
     "text": [
      "(28, 28, 1)\n"
     ]
    },
    {
     "data": {
      "text/plain": [
       "<matplotlib.image.AxesImage at 0x208241c6b48>"
      ]
     },
     "execution_count": 28,
     "metadata": {},
     "output_type": "execute_result"
    },
    {
     "data": {
      "image/png": "[encoded data removed]",
      "text/plain": [
       "<Figure size 432x288 with 1 Axes>"
      ]
     },
     "metadata": {
      "needs_background": "light"
     },
     "output_type": "display_data"
    }
   ],
   "source": [
    "# Load image\n",
    "gfile = tf.io.read_file(data_paths_tf[0])\n",
    "image = tf.io.decode_image(gfile)\n",
    "print(image.shape)\n",
    "\n",
    "# imshow 할때는 차원 줄여서 \n",
    "plt.imshow(image[:,:,0],'gray')"
   ]
  },
  {
   "cell_type": "markdown",
   "metadata": {},
   "source": [
    "## Set Data Generator\n",
    "- keras 의 DataGenerator 사용"
   ]
  },
  {
   "cell_type": "code",
   "execution_count": 29,
   "metadata": {},
   "outputs": [
    {
     "name": "stdout",
     "output_type": "stream",
     "text": [
      "--- 변환 전 image shape (1, 28, 28, 1)\n",
      "--- 변환 후 image shape (1, 28, 28, 1)\n"
     ]
    },
    {
     "data": {
      "text/plain": [
       "<matplotlib.image.AxesImage at 0x208241a1c88>"
      ]
     },
     "execution_count": 29,
     "metadata": {},
     "output_type": "execute_result"
    },
    {
     "data": {
      "image/png": "[encoded data removed]",
      "text/plain": [
       "<Figure size 432x288 with 2 Axes>"
      ]
     },
     "metadata": {
      "needs_background": "light"
     },
     "output_type": "display_data"
    }
   ],
   "source": [
    "from tensorflow.keras.preprocessing.image import ImageDataGenerator\n",
    "\n",
    "# 데이터 Generator 만들기\n",
    "datagen = ImageDataGenerator(\n",
    "    rotation_range=20, # 회전\n",
    "    width_shift_range=0.2, # 왼 오른쪽 shift 랜덤\n",
    "    height_shift_range=0.2, # 위쪽 shift\n",
    "    horizontal_flip=True # 수평으로 뒤집기\n",
    ")\n",
    "\n",
    "# DataGenerator 는 4차원으로 넣어주어야 함\n",
    "image = image[tf.newaxis, ...] # 차원늘려주기\n",
    "print('--- 변환 전 image shape' , image.shape)\n",
    "\n",
    "\n",
    "# DataGenerator 거친 image\n",
    "gen_image = next(iter(datagen.flow(image)))\n",
    "print('--- 변환 후 image shape' , gen_image.shape)\n",
    "\n",
    "plt.subplot(121)\n",
    "plt.title('Original')\n",
    "plt.imshow(np.squeeze(image), 'gray')\n",
    "\n",
    "plt.subplot(122)\n",
    "plt.title('Transformed Image')\n",
    "plt.imshow(np.squeeze(gen_image),'gray')"
   ]
  },
  {
   "cell_type": "markdown",
   "metadata": {},
   "source": [
    "## Transformatinon 종류\n",
    "- width_shift_range\n",
    "- height_shift_range\n",
    "- brightness_range\n",
    "- zoom_range : 0.3 커지거나 작아지거나\n",
    "- horizontal_flip : 좌 우 뒤집기\n",
    "- vertical_flip : 상, 하 뒤집기\n",
    "- rescale\n",
    "- preprocessing_function : 사용자 정의 함수 - lambda 등 임의 함수 사용"
   ]
  },
  {
   "cell_type": "code",
   "execution_count": 30,
   "metadata": {},
   "outputs": [
    {
     "name": "stdout",
     "output_type": "stream",
     "text": [
      "--- 변환 전 image shape (1, 28, 28, 1)\n",
      "--- 변환 후 image shape (1, 28, 28, 1)\n"
     ]
    },
    {
     "data": {
      "text/plain": [
       "<matplotlib.image.AxesImage at 0x208262fcbc8>"
      ]
     },
     "execution_count": 30,
     "metadata": {},
     "output_type": "execute_result"
    },
    {
     "data": {
      "image/png": "[encoded data removed]",
      "text/plain": [
       "<Figure size 432x288 with 2 Axes>"
      ]
     },
     "metadata": {
      "needs_background": "light"
     },
     "output_type": "display_data"
    }
   ],
   "source": [
    "# width_shift_range, height_shift_range\n",
    "datagen = ImageDataGenerator(\n",
    "    width_shift_range = 0.5, # 왼쪽 오른쪽 랜덤으로\n",
    "    height_shift_range = 0.5 # 위 아래 랜덤으로\n",
    "\n",
    ")\n",
    "\n",
    "# DataGenerator 거친 image\n",
    "print('--- 변환 전 image shape' , image.shape)\n",
    "gen_image = next(iter(datagen.flow(image)))\n",
    "print('--- 변환 후 image shape' , gen_image.shape)\n",
    "\n",
    "plt.subplot(121)\n",
    "plt.title('Original')\n",
    "plt.imshow(np.squeeze(image), 'gray')\n",
    "\n",
    "plt.subplot(122)\n",
    "plt.title('Transformed Image')\n",
    "plt.imshow(np.squeeze(gen_image),'gray')"
   ]
  },
  {
   "cell_type": "code",
   "execution_count": 37,
   "metadata": {},
   "outputs": [
    {
     "name": "stdout",
     "output_type": "stream",
     "text": [
      "--- 변환 전 image shape (1, 28, 28, 1)\n",
      "--- 변환 후 image shape (1, 28, 28, 1)\n"
     ]
    },
    {
     "data": {
      "text/plain": [
       "<matplotlib.image.AxesImage at 0x20827725bc8>"
      ]
     },
     "execution_count": 37,
     "metadata": {},
     "output_type": "execute_result"
    },
    {
     "data": {
      "image/png": "[encoded data removed]",
      "text/plain": [
       "<Figure size 432x288 with 2 Axes>"
      ]
     },
     "metadata": {
      "needs_background": "light"
     },
     "output_type": "display_data"
    }
   ],
   "source": [
    "# zoom_range, brightness_range\n",
    "datagen = ImageDataGenerator(\n",
    "    zoom_range=0.4, # 0.4배 커졌다, 작아졌다\n",
    "    brightness_range = [0.3, 0.7]\n",
    ")\n",
    "\n",
    "# DataGenerator 거친 image\n",
    "print('--- 변환 전 image shape' , image.shape)\n",
    "gen_image = next(iter(datagen.flow(image)))\n",
    "print('--- 변환 후 image shape' , gen_image.shape)\n",
    "\n",
    "plt.subplot(121)\n",
    "plt.title('Original')\n",
    "plt.imshow(np.squeeze(image), 'gray')\n",
    "\n",
    "plt.subplot(122)\n",
    "plt.title('Transformed Image')\n",
    "plt.imshow(np.squeeze(gen_image),'gray')"
   ]
  },
  {
   "cell_type": "code",
   "execution_count": 45,
   "metadata": {},
   "outputs": [
    {
     "name": "stdout",
     "output_type": "stream",
     "text": [
      "--- 변환 전 image shape (1, 28, 28, 1)\n",
      "--- 변환 후 image shape (1, 28, 28, 1)\n"
     ]
    },
    {
     "data": {
      "text/plain": [
       "<matplotlib.image.AxesImage at 0x20827cbfc08>"
      ]
     },
     "execution_count": 45,
     "metadata": {},
     "output_type": "execute_result"
    },
    {
     "data": {
      "image/png": "[encoded data removed]",
      "text/plain": [
       "<Figure size 432x288 with 2 Axes>"
      ]
     },
     "metadata": {
      "needs_background": "light"
     },
     "output_type": "display_data"
    }
   ],
   "source": [
    "# horizontal_flip, vrtical_flip\n",
    "datagen = ImageDataGenerator(\n",
    "    horizontal_flip=True, # 좌, 우 뒤집기\n",
    "    vertical_flip = True, # 상, 하 뒤집기\n",
    ")\n",
    "\n",
    "# DataGenerator 거친 image\n",
    "print('--- 변환 전 image shape' , image.shape)\n",
    "gen_image = next(iter(datagen.flow(image)))\n",
    "print('--- 변환 후 image shape' , gen_image.shape)\n",
    "\n",
    "plt.subplot(121)\n",
    "plt.title('Original')\n",
    "plt.imshow(np.squeeze(image), 'gray')\n",
    "\n",
    "plt.subplot(122)\n",
    "plt.title('Transformed Image')\n",
    "plt.imshow(np.squeeze(gen_image),'gray')"
   ]
  },
  {
   "cell_type": "markdown",
   "metadata": {},
   "source": [
    "## Rescale시 주의사항\n",
    "- Train에게 실수형으로 바꿔주거나 normalize 등을 했으면 Test 경우도 Rescale 적용 필용 해주어야 함\n",
    "- flip, rotation, zoom 등은 Test경우에 해줄 필요없음"
   ]
  },
  {
   "cell_type": "code",
   "execution_count": 47,
   "metadata": {},
   "outputs": [],
   "source": [
    "# Rescale\n",
    "train_datagen = ImageDataGenerator(\n",
    "    zoom_range = 0.7,\n",
    "    rescale = 1./255\n",
    ")\n",
    "\n",
    "test_datagen = ImageDataGenerator(\n",
    "    rescale = 1./255.\n",
    ")"
   ]
  }
 ],
 "metadata": {
  "kernelspec": {
   "display_name": "Python 3",
   "language": "python",
   "name": "python3"
  },
  "language_info": {
   "codemirror_mode": {
    "name": "ipython",
    "version": 3
   },
   "file_extension": ".py",
   "mimetype": "text/x-python",
   "name": "python",
   "nbconvert_exporter": "python",
   "pygments_lexer": "ipython3",
   "version": "3.7.5"
  }
 },
 "nbformat": 4,
 "nbformat_minor": 4
}
