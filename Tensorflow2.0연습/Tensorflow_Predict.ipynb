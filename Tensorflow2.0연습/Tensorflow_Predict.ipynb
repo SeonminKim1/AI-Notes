{
 "cells": [
  {
   "cell_type": "markdown",
   "metadata": {},
   "source": [
    "## Predict"
   ]
  },
  {
   "cell_type": "code",
   "execution_count": 1,
   "metadata": {},
   "outputs": [],
   "source": [
    "import os\n",
    "from glob import glob\n",
    "\n",
    "import numpy as np\n",
    "import tensorflow as tf\n",
    "from tensorflow.keras import layers\n",
    "from tensorflow.keras import datasets\n",
    "\n",
    "import matplotlib.pyplot as plt\n",
    "\n",
    "%matplotlib inline"
   ]
  },
  {
   "cell_type": "markdown",
   "metadata": {},
   "source": [
    "## Hyper parameter Tunning"
   ]
  },
  {
   "cell_type": "code",
   "execution_count": 2,
   "metadata": {},
   "outputs": [],
   "source": [
    "num_epochs = 10 \n",
    "batch_size = 32\n",
    "learning_rate = 0.001\n",
    "\n",
    "dropout_rate = 0.5\n",
    "\n",
    "input_shape = (32, 32, 3)\n",
    "num_classes = 10"
   ]
  },
  {
   "cell_type": "markdown",
   "metadata": {},
   "source": [
    "## Build Model"
   ]
  },
  {
   "cell_type": "code",
   "execution_count": 3,
   "metadata": {},
   "outputs": [
    {
     "name": "stdout",
     "output_type": "stream",
     "text": [
      "Model: \"model\"\n",
      "_________________________________________________________________\n",
      "Layer (type)                 Output Shape              Param #   \n",
      "=================================================================\n",
      "input_1 (InputLayer)         [(None, 32, 32, 3)]       0         \n",
      "_________________________________________________________________\n",
      "conv2d (Conv2D)              (None, 32, 32, 32)        896       \n",
      "_________________________________________________________________\n",
      "activation (Activation)      (None, 32, 32, 32)        0         \n",
      "_________________________________________________________________\n",
      "conv2d_1 (Conv2D)            (None, 32, 32, 32)        9248      \n",
      "_________________________________________________________________\n",
      "activation_1 (Activation)    (None, 32, 32, 32)        0         \n",
      "_________________________________________________________________\n",
      "max_pooling2d (MaxPooling2D) (None, 16, 16, 32)        0         \n",
      "_________________________________________________________________\n",
      "dropout (Dropout)            (None, 16, 16, 32)        0         \n",
      "_________________________________________________________________\n",
      "conv2d_2 (Conv2D)            (None, 16, 16, 64)        18496     \n",
      "_________________________________________________________________\n",
      "activation_2 (Activation)    (None, 16, 16, 64)        0         \n",
      "_________________________________________________________________\n",
      "conv2d_3 (Conv2D)            (None, 16, 16, 32)        18464     \n",
      "_________________________________________________________________\n",
      "activation_3 (Activation)    (None, 16, 16, 32)        0         \n",
      "_________________________________________________________________\n",
      "max_pooling2d_1 (MaxPooling2 (None, 8, 8, 32)          0         \n",
      "_________________________________________________________________\n",
      "dropout_1 (Dropout)          (None, 8, 8, 32)          0         \n",
      "_________________________________________________________________\n",
      "flatten (Flatten)            (None, 2048)              0         \n",
      "_________________________________________________________________\n",
      "dense (Dense)                (None, 512)               1049088   \n",
      "_________________________________________________________________\n",
      "activation_4 (Activation)    (None, 512)               0         \n",
      "_________________________________________________________________\n",
      "dropout_2 (Dropout)          (None, 512)               0         \n",
      "_________________________________________________________________\n",
      "dense_1 (Dense)              (None, 10)                5130      \n",
      "_________________________________________________________________\n",
      "activation_5 (Activation)    (None, 10)                0         \n",
      "=================================================================\n",
      "Total params: 1,101,322\n",
      "Trainable params: 1,101,322\n",
      "Non-trainable params: 0\n",
      "_________________________________________________________________\n"
     ]
    }
   ],
   "source": [
    "inputs = layers.Input(input_shape)\n",
    "\n",
    "net = layers.Conv2D(32, (3,3), padding='SAME')(inputs)\n",
    "net = layers.Activation('relu')(net)\n",
    "net = layers.Conv2D(32, (3,3), padding='SAME')(net)\n",
    "net = layers.Activation('relu')(net)\n",
    "net = layers.MaxPooling2D(pool_size=(2,2))(net)\n",
    "net = layers.Dropout(dropout_rate)(net)\n",
    "\n",
    "net = layers.Conv2D(64, (3,3), padding='SAME')(net)\n",
    "net = layers.Activation('relu')(net)\n",
    "net = layers.Conv2D(32, (3,3), padding='SAME')(net)\n",
    "net = layers.Activation('relu')(net)\n",
    "net = layers.MaxPooling2D(pool_size=(2,2))(net)\n",
    "net = layers.Dropout(dropout_rate)(net)\n",
    "\n",
    "net = layers.Flatten()(net)\n",
    "net = layers.Dense(512)(net)\n",
    "net = layers.Activation('relu')(net)\n",
    "net = layers.Dropout(dropout_rate)(net)\n",
    "net = layers.Dense(num_classes)(net)\n",
    "net = layers.Activation('softmax')(net)\n",
    "\n",
    "model = tf.keras.Model(inputs = inputs, outputs = net)\n",
    "model.summary()\n",
    "\n",
    "model.compile(optimizer = tf.keras.optimizers.Adam(learning_rate),\n",
    "             loss = 'sparse_categorical_crossentropy',\n",
    "             metrics = ['accuracy'])"
   ]
  },
  {
   "cell_type": "markdown",
   "metadata": {},
   "source": [
    "## Data Process"
   ]
  },
  {
   "cell_type": "code",
   "execution_count": 4,
   "metadata": {},
   "outputs": [
    {
     "name": "stdout",
     "output_type": "stream",
     "text": [
      "['labels.txt', 'test', 'train']\n",
      "1000 1000\n"
     ]
    }
   ],
   "source": [
    "## (1) train, test 데이터 읽어오기\n",
    "print(os.listdir('../dataset/cifar/'))\n",
    "\n",
    "train_paths = glob('../dataset/cifar/train/*.png')[:1000]\n",
    "test_paths = glob('../dataset/cifar/test/*.png')[:1000]\n",
    "\n",
    "print(len(train_paths), len(test_paths))\n",
    "\n",
    "## (2) label name 반환\n",
    "def get_class_name(path):\n",
    "    return path.split('_')[-1].replace('.png','')\n",
    "\n",
    "## (3) label name 고유값 list - class_names\n",
    "train_labels = [get_class_name(path) for path in train_paths] # 50000개\n",
    "class_names = np.unique(train_labels) # 해당 class 개로 줄여짐\n",
    "\n",
    "# (4) label 반환 onehot encoding 된 형태로 or argmax 로 해당 index\n",
    "def get_label(path):\n",
    "    fname = tf.strings.split(path, '_')[-1]\n",
    "    lbl_name = tf.strings.regex_replace(fname, '.png', '')\n",
    "    onehot = tf.cast(lbl_name == class_names, tf.uint8)\n",
    "    return tf.argmax(onehot) \n",
    "\n",
    "# (5) 최종 image, label 반환\n",
    "def load_image_label(path):\n",
    "    gfile = tf.io.read_file(path)\n",
    "    image = tf.io.decode_image(gfile)\n",
    "    image = tf.cast(image, tf.float32)/.255 # rescale\n",
    "    \n",
    "    label = get_label(path)\n",
    "    return image, label\n",
    "\n",
    "# (6) image preprocess (랜덤 Generator)\n",
    "def image_preprocess(image, label):\n",
    "    image = tf.image.random_flip_up_down(image)\n",
    "    image = tf.image.random_flip_left_right(image)\n",
    "    return image, label\n",
    "\n",
    "AUTOTUNE = tf.data.experimental.AUTOTUNE # 작동하는 Network가 스스로 설정하고 Dataset을 잘 불러올 수 있게 결정하라는 것\n",
    "\n",
    "\n",
    "# train dataset 뽑기\n",
    "train_dataset = tf.data.Dataset.from_tensor_slices(train_paths)\n",
    "train_dataset = train_dataset.map(load_image_label, num_parallel_calls = AUTOTUNE)\n",
    "train_dataset = train_dataset.map(image_preprocess, num_parallel_calls = AUTOTUNE)\n",
    "train_dataset = train_dataset.batch(batch_size)\n",
    "train_dataset = train_dataset.shuffle(buffer_size = len(train_paths))\n",
    "train_dataset = train_dataset.repeat()\n",
    "\n",
    "# test set 데이터 뽑기\n",
    "test_dataset = tf.data.Dataset.from_tensor_slices(test_paths)\n",
    "test_dataset = test_dataset.map(load_image_label, num_parallel_calls=AUTOTUNE)\n",
    "test_dataset = test_dataset.batch(batch_size)\n",
    "test_dataset = test_dataset.repeat()\n",
    "      "
   ]
  },
  {
   "cell_type": "markdown",
   "metadata": {},
   "source": [
    "## Training"
   ]
  },
  {
   "cell_type": "code",
   "execution_count": 5,
   "metadata": {},
   "outputs": [
    {
     "name": "stdout",
     "output_type": "stream",
     "text": [
      "WARNING:tensorflow:From <ipython-input-5-86ce8a34f7e7>:4: Model.fit_generator (from tensorflow.python.keras.engine.training) is deprecated and will be removed in a future version.\n",
      "Instructions for updating:\n",
      "Please use Model.fit, which supports generators.\n",
      "Epoch 1/10\n",
      "31/31 [==============================] - 10s 318ms/step - loss: 37.1151 - accuracy: 0.0950 - val_loss: 2.2973 - val_accuracy: 0.1230\n",
      "Epoch 2/10\n",
      "31/31 [==============================] - 11s 349ms/step - loss: 2.3343 - accuracy: 0.1095 - val_loss: 2.2997 - val_accuracy: 0.1159\n",
      "Epoch 3/10\n",
      "31/31 [==============================] - 9s 280ms/step - loss: 2.3157 - accuracy: 0.1116 - val_loss: 2.2994 - val_accuracy: 0.1200\n",
      "Epoch 4/10\n",
      "31/31 [==============================] - 7s 213ms/step - loss: 2.3032 - accuracy: 0.1200 - val_loss: 2.2998 - val_accuracy: 0.1290\n",
      "Epoch 5/10\n",
      "31/31 [==============================] - 6s 180ms/step - loss: 2.3044 - accuracy: 0.1133 - val_loss: 2.2980 - val_accuracy: 0.1310\n",
      "Epoch 6/10\n",
      "31/31 [==============================] - 6s 181ms/step - loss: 2.3040 - accuracy: 0.1220 - val_loss: 2.3001 - val_accuracy: 0.1069\n",
      "Epoch 7/10\n",
      "31/31 [==============================] - 6s 186ms/step - loss: 2.3007 - accuracy: 0.1281 - val_loss: 2.2988 - val_accuracy: 0.1109\n",
      "Epoch 8/10\n",
      "31/31 [==============================] - 7s 212ms/step - loss: 2.3133 - accuracy: 0.1208 - val_loss: 2.3037 - val_accuracy: 0.0897\n",
      "Epoch 9/10\n",
      "31/31 [==============================] - 11s 347ms/step - loss: 2.2996 - accuracy: 0.1064 - val_loss: 2.3013 - val_accuracy: 0.0887\n",
      "Epoch 10/10\n",
      "31/31 [==============================] - 11s 346ms/step - loss: 2.2992 - accuracy: 0.1190 - val_loss: 2.2961 - val_accuracy: 0.0887\n"
     ]
    }
   ],
   "source": [
    "steps_per_epoch = len(train_paths) // batch_size\n",
    "validation_steps = len(test_paths) // batch_size\n",
    "\n",
    "history = model.fit_generator(\n",
    "    train_dataset,\n",
    "    steps_per_epoch = steps_per_epoch,\n",
    "    validation_data = test_dataset,\n",
    "    validation_steps = validation_steps,\n",
    "    epochs = num_epochs,\n",
    ")"
   ]
  },
  {
   "cell_type": "markdown",
   "metadata": {},
   "source": [
    "## Predict\n",
    "- 방법1 이미지를 Load 직접 Load 해서 넣는 방법\n",
    "- 방법2 generator에서 데이터를 가져오는 방법\n",
    "- 방법3 generator. take 로  넣는 방법  \n"
   ]
  },
  {
   "cell_type": "code",
   "execution_count": 8,
   "metadata": {},
   "outputs": [
    {
     "name": "stdout",
     "output_type": "stream",
     "text": [
      "(1, 32, 32, 3)\n",
      "[[0.09860038 0.09980676 0.08974691 0.09830822 0.10321076 0.09639487\n",
      "  0.10063316 0.11138067 0.10345271 0.09846556]]\n",
      "7\n"
     ]
    }
   ],
   "source": [
    "# 방법 1 이미지를 직접 Load 해서 넣는 방법\n",
    "\n",
    "# image 1장 가져옴.\n",
    "path = test_paths[0]\n",
    "\n",
    "gfile = tf.io.read_file(path)\n",
    "image = tf.io.decode_image(gfile, dtype=tf.float32)\n",
    "\n",
    "# image 4차원으로 늘려줌\n",
    "image = image[tf.newaxis, ...]\n",
    "print(image.shape)\n",
    "\n",
    "pred = model.predict(image)\n",
    "print(pred)\n",
    "print(np.argmax(pred))"
   ]
  },
  {
   "cell_type": "code",
   "execution_count": 10,
   "metadata": {},
   "outputs": [
    {
     "name": "stdout",
     "output_type": "stream",
     "text": [
      "(32, 32, 32, 3)\n",
      "(10,)\n",
      "7\n"
     ]
    }
   ],
   "source": [
    "## 방법2 generator에서 데이터를 가져오는 방법\n",
    "# 차원수를 직접 늘리거나 필요가 없음\n",
    "test_image, test_label = next(iter(test_dataset))\n",
    "print(test_image.shape)\n",
    "\n",
    "pred2 = model.predict(test_image)\n",
    "print(pred2[0].shape) # label 10개 - 첫번째 이미지\n",
    "print(np.argmax(pred2[0]))"
   ]
  },
  {
   "cell_type": "code",
   "execution_count": 14,
   "metadata": {},
   "outputs": [
    {
     "name": "stdout",
     "output_type": "stream",
     "text": [
      "(96, 10)\n",
      "7\n"
     ]
    }
   ],
   "source": [
    "## 방법3 generaotr에 넣는 방법  \n",
    "pred3 = model.predict_generator(test_dataset.take(3))\n",
    "print(pred3.shape)\n",
    "print(np.argmax(pred3[0]))"
   ]
  }
 ],
 "metadata": {
  "kernelspec": {
   "display_name": "Python 3",
   "language": "python",
   "name": "python3"
  },
  "language_info": {
   "codemirror_mode": {
    "name": "ipython",
    "version": 3
   },
   "file_extension": ".py",
   "mimetype": "text/x-python",
   "name": "python",
   "nbconvert_exporter": "python",
   "pygments_lexer": "ipython3",
   "version": "3.8.5"
  }
 },
 "nbformat": 4,
 "nbformat_minor": 4
}
