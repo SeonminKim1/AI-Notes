{
 "cells": [
  {
   "cell_type": "code",
   "execution_count": null,
   "metadata": {},
   "outputs": [],
   "source": [
    "## Save & Load"
   ]
  },
  {
   "cell_type": "code",
   "execution_count": 1,
   "metadata": {},
   "outputs": [],
   "source": [
    "import os\n",
    "from glob import glob\n",
    "\n",
    "import numpy as np\n",
    "import tensorflow as tf\n",
    "from tensorflow.keras import layers\n",
    "from tensorflow.keras import datasets"
   ]
  },
  {
   "cell_type": "markdown",
   "metadata": {},
   "source": [
    "## Hyper parameter Tunning"
   ]
  },
  {
   "cell_type": "code",
   "execution_count": 2,
   "metadata": {},
   "outputs": [],
   "source": [
    "num_epochs = 1\n",
    "batch_size = 32\n",
    "learning_rate = 0.001\n",
    "\n",
    "dropout_rate = 0.5\n",
    "\n",
    "input_shape = (32, 32, 3)\n",
    "num_classes = 10"
   ]
  },
  {
   "cell_type": "markdown",
   "metadata": {},
   "source": [
    "## Build Model"
   ]
  },
  {
   "cell_type": "code",
   "execution_count": 3,
   "metadata": {},
   "outputs": [
    {
     "name": "stdout",
     "output_type": "stream",
     "text": [
      "Model: \"model\"\n",
      "_________________________________________________________________\n",
      "Layer (type)                 Output Shape              Param #   \n",
      "=================================================================\n",
      "input_1 (InputLayer)         [(None, 32, 32, 3)]       0         \n",
      "_________________________________________________________________\n",
      "conv2d (Conv2D)              (None, 32, 32, 32)        896       \n",
      "_________________________________________________________________\n",
      "activation (Activation)      (None, 32, 32, 32)        0         \n",
      "_________________________________________________________________\n",
      "conv2d_1 (Conv2D)            (None, 32, 32, 32)        9248      \n",
      "_________________________________________________________________\n",
      "activation_1 (Activation)    (None, 32, 32, 32)        0         \n",
      "_________________________________________________________________\n",
      "max_pooling2d (MaxPooling2D) (None, 16, 16, 32)        0         \n",
      "_________________________________________________________________\n",
      "dropout (Dropout)            (None, 16, 16, 32)        0         \n",
      "_________________________________________________________________\n",
      "conv2d_2 (Conv2D)            (None, 16, 16, 64)        18496     \n",
      "_________________________________________________________________\n",
      "activation_2 (Activation)    (None, 16, 16, 64)        0         \n",
      "_________________________________________________________________\n",
      "conv2d_3 (Conv2D)            (None, 16, 16, 32)        18464     \n",
      "_________________________________________________________________\n",
      "activation_3 (Activation)    (None, 16, 16, 32)        0         \n",
      "_________________________________________________________________\n",
      "max_pooling2d_1 (MaxPooling2 (None, 8, 8, 32)          0         \n",
      "_________________________________________________________________\n",
      "dropout_1 (Dropout)          (None, 8, 8, 32)          0         \n",
      "_________________________________________________________________\n",
      "flatten (Flatten)            (None, 2048)              0         \n",
      "_________________________________________________________________\n",
      "dense (Dense)                (None, 512)               1049088   \n",
      "_________________________________________________________________\n",
      "activation_4 (Activation)    (None, 512)               0         \n",
      "_________________________________________________________________\n",
      "dropout_2 (Dropout)          (None, 512)               0         \n",
      "_________________________________________________________________\n",
      "dense_1 (Dense)              (None, 10)                5130      \n",
      "_________________________________________________________________\n",
      "activation_5 (Activation)    (None, 10)                0         \n",
      "=================================================================\n",
      "Total params: 1,101,322\n",
      "Trainable params: 1,101,322\n",
      "Non-trainable params: 0\n",
      "_________________________________________________________________\n"
     ]
    }
   ],
   "source": [
    "inputs = layers.Input(input_shape)\n",
    "\n",
    "net = layers.Conv2D(32, (3,3), padding='SAME')(inputs)\n",
    "net = layers.Activation('relu')(net)\n",
    "net = layers.Conv2D(32, (3,3), padding='SAME')(net)\n",
    "net = layers.Activation('relu')(net)\n",
    "net = layers.MaxPooling2D(pool_size=(2,2))(net)\n",
    "net = layers.Dropout(dropout_rate)(net)\n",
    "\n",
    "net = layers.Conv2D(64, (3,3), padding='SAME')(net)\n",
    "net = layers.Activation('relu')(net)\n",
    "net = layers.Conv2D(32, (3,3), padding='SAME')(net)\n",
    "net = layers.Activation('relu')(net)\n",
    "net = layers.MaxPooling2D(pool_size=(2,2))(net)\n",
    "net = layers.Dropout(dropout_rate)(net)\n",
    "\n",
    "net = layers.Flatten()(net)\n",
    "net = layers.Dense(512)(net)\n",
    "net = layers.Activation('relu')(net)\n",
    "net = layers.Dropout(dropout_rate)(net)\n",
    "net = layers.Dense(num_classes)(net)\n",
    "net = layers.Activation('softmax')(net)\n",
    "\n",
    "model = tf.keras.Model(inputs = inputs, outputs = net)\n",
    "model.summary()\n",
    "\n",
    "model.compile(optimizer = tf.keras.optimizers.Adam(learning_rate),\n",
    "             loss = 'sparse_categorical_crossentropy',\n",
    "             metrics = ['accuracy'])"
   ]
  },
  {
   "cell_type": "markdown",
   "metadata": {},
   "source": [
    "## Data Process"
   ]
  },
  {
   "cell_type": "code",
   "execution_count": 4,
   "metadata": {},
   "outputs": [
    {
     "name": "stdout",
     "output_type": "stream",
     "text": [
      "['labels.txt', 'test', 'train']\n",
      "1000 1000\n"
     ]
    }
   ],
   "source": [
    "## (1) train, test 데이터 읽어오기\n",
    "print(os.listdir('../dataset/cifar/'))\n",
    "\n",
    "train_paths = glob('../dataset/cifar/train/*.png')[:1000]\n",
    "test_paths = glob('../dataset/cifar/test/*.png')[:1000]\n",
    "\n",
    "print(len(train_paths), len(test_paths))\n",
    "\n",
    "## (2) label name 반환\n",
    "def get_class_name(path):\n",
    "    return path.split('_')[-1].replace('.png','')\n",
    "\n",
    "## (3) label name 고유값 list - class_names\n",
    "train_labels = [get_class_name(path) for path in train_paths] # 50000개\n",
    "class_names = np.unique(train_labels) # 해당 class 개로 줄여짐\n",
    "\n",
    "# (4) label 반환 onehot encoding 된 형태로 or argmax 로 해당 index\n",
    "def get_label(path):\n",
    "    fname = tf.strings.split(path, '_')[-1]\n",
    "    lbl_name = tf.strings.regex_replace(fname, '.png', '')\n",
    "    onehot = tf.cast(lbl_name == class_names, tf.uint8)\n",
    "    return tf.argmax(onehot) \n",
    "\n",
    "# (5) 최종 image, label 반환\n",
    "def load_image_label(path):\n",
    "    gfile = tf.io.read_file(path)\n",
    "    image = tf.io.decode_image(gfile)\n",
    "    image = tf.cast(image, tf.float32)/.255 # rescale\n",
    "    \n",
    "    label = get_label(path)\n",
    "    return image, label\n",
    "\n",
    "# (6) image preprocess (랜덤 Generator)\n",
    "def image_preprocess(image, label):\n",
    "    image = tf.image.random_flip_up_down(image)\n",
    "    image = tf.image.random_flip_left_right(image)\n",
    "    return image, label\n",
    "\n",
    "AUTOTUNE = tf.data.experimental.AUTOTUNE # 작동하는 Network가 스스로 설정하고 Dataset을 잘 불러올 수 있게 결정하라는 것\n",
    "\n",
    "\n",
    "# train dataset 뽑기\n",
    "train_dataset = tf.data.Dataset.from_tensor_slices(train_paths)\n",
    "train_dataset = train_dataset.map(load_image_label, num_parallel_calls = AUTOTUNE)\n",
    "train_dataset = train_dataset.map(image_preprocess, num_parallel_calls = AUTOTUNE)\n",
    "train_dataset = train_dataset.batch(batch_size)\n",
    "train_dataset = train_dataset.shuffle(buffer_size = len(train_paths))\n",
    "train_dataset = train_dataset.repeat()\n",
    "\n",
    "# test set 데이터 뽑기\n",
    "test_dataset = tf.data.Dataset.from_tensor_slices(test_paths)\n",
    "test_dataset = test_dataset.map(load_image_label, num_parallel_calls=AUTOTUNE)\n",
    "test_dataset = test_dataset.batch(batch_size)\n",
    "test_dataset = test_dataset.repeat()\n",
    "      "
   ]
  },
  {
   "cell_type": "markdown",
   "metadata": {},
   "source": [
    "## Training"
   ]
  },
  {
   "cell_type": "code",
   "execution_count": 5,
   "metadata": {},
   "outputs": [
    {
     "name": "stdout",
     "output_type": "stream",
     "text": [
      "WARNING:tensorflow:From <ipython-input-5-86ce8a34f7e7>:4: Model.fit_generator (from tensorflow.python.keras.engine.training) is deprecated and will be removed in a future version.\n",
      "Instructions for updating:\n",
      "Please use Model.fit, which supports generators.\n",
      "31/31 [==============================] - 4s 141ms/step - loss: 38.8377 - accuracy: 0.1023 - val_loss: 2.3001 - val_accuracy: 0.1210\n"
     ]
    }
   ],
   "source": [
    "steps_per_epoch = len(train_paths) // batch_size\n",
    "validation_steps = len(test_paths) // batch_size\n",
    "\n",
    "history = model.fit_generator(\n",
    "    train_dataset,\n",
    "    steps_per_epoch = steps_per_epoch,\n",
    "    validation_data = test_dataset,\n",
    "    validation_steps = validation_steps,\n",
    "    epochs = num_epochs,\n",
    ")"
   ]
  },
  {
   "cell_type": "markdown",
   "metadata": {},
   "source": [
    "## Saving Model\n",
    "- 모델 구조는 json 으로 저장 가능"
   ]
  },
  {
   "cell_type": "code",
   "execution_count": 6,
   "metadata": {},
   "outputs": [],
   "source": [
    "save_path = 'my_model.h5'\n",
    "model.save(save_path, include_optimizer=True) # optimizer 정보들 (compile 정보들)"
   ]
  },
  {
   "cell_type": "markdown",
   "metadata": {},
   "source": [
    "## Load Model 분석하기"
   ]
  },
  {
   "cell_type": "code",
   "execution_count": 7,
   "metadata": {},
   "outputs": [
    {
     "name": "stdout",
     "output_type": "stream",
     "text": [
      "<class 'h5py._hl.files.File'>\n",
      "<KeysViewHDF5 ['model_weights', 'optimizer_weights']>\n",
      "<KeysViewHDF5 ['activation', 'activation_1', 'activation_2', 'activation_3', 'activation_4', 'activation_5', 'conv2d', 'conv2d_1', 'conv2d_2', 'conv2d_3', 'dense', 'dense_1', 'dropout', 'dropout_1', 'dropout_2', 'flatten', 'input_1', 'max_pooling2d', 'max_pooling2d_1']>\n"
     ]
    }
   ],
   "source": [
    "import h5py\n",
    "model_file = h5py.File('my_model.h5','r+')\n",
    "print(type(model_file))\n",
    "print(model_file.keys())\n",
    "print(model_file['model_weights'].keys())\n"
   ]
  },
  {
   "cell_type": "code",
   "execution_count": 8,
   "metadata": {},
   "outputs": [
    {
     "name": "stdout",
     "output_type": "stream",
     "text": [
      "<HDF5 dataset \"bias:0\": shape (32,), type \"<f4\">\n",
      "<HDF5 dataset \"kernel:0\": shape (3, 3, 3, 32), type \"<f4\">\n",
      "(32,)\n",
      "(3, 3, 3, 32)\n"
     ]
    }
   ],
   "source": [
    "print(model_file['model_weights']['conv2d']['conv2d']['bias:0'])\n",
    "print(model_file['model_weights']['conv2d']['conv2d']['kernel:0'])\n",
    "\n",
    "print(model_file['model_weights']['conv2d']['conv2d']['bias:0'].shape)\n",
    "print(model_file['model_weights']['conv2d']['conv2d']['kernel:0'].shape)"
   ]
  },
  {
   "cell_type": "code",
   "execution_count": 10,
   "metadata": {},
   "outputs": [
    {
     "data": {
      "text/plain": [
       "array([[[-0.11628272,  0.04443438, -0.1051142 ,  0.09131569,\n",
       "         -0.04325047, -0.07531124, -0.02744057, -0.08719209,\n",
       "         -0.03929242, -0.13524082,  0.05178919,  0.07031562,\n",
       "          0.08606918, -0.11791819,  0.03716299, -0.10904998,\n",
       "         -0.09573398,  0.0043032 ,  0.1360523 ,  0.01598894,\n",
       "         -0.04175979, -0.02842781,  0.11513054,  0.04651206,\n",
       "         -0.05695517,  0.02731065, -0.07074099,  0.11237109,\n",
       "          0.06783808,  0.12595841, -0.12178364,  0.04286348],\n",
       "        [ 0.01431291, -0.10566497,  0.05810326,  0.06199744,\n",
       "         -0.10325361,  0.08371942, -0.1255439 , -0.11343787,\n",
       "          0.00311637,  0.01732994,  0.09915306,  0.03831234,\n",
       "         -0.04876991,  0.11916008, -0.01433842,  0.0801892 ,\n",
       "         -0.10447582,  0.08245142,  0.07485044,  0.01187762,\n",
       "         -0.03805762,  0.04243518, -0.03199923, -0.09041011,\n",
       "          0.05651764, -0.04712895, -0.07127952, -0.06949459,\n",
       "          0.07123994,  0.11279991, -0.01579679, -0.05093192],\n",
       "        [-0.06934155,  0.12048171,  0.00744044, -0.08600569,\n",
       "          0.07097179, -0.06795963,  0.01741595,  0.02093939,\n",
       "          0.10322203, -0.00981993, -0.12559713, -0.00741788,\n",
       "         -0.03294319, -0.03814834,  0.02254306,  0.08525185,\n",
       "         -0.11128294, -0.14398268,  0.01725815, -0.04834001,\n",
       "          0.06091964, -0.0726869 , -0.05345468,  0.02847146,\n",
       "         -0.01247279, -0.12423989, -0.05155489, -0.03954276,\n",
       "          0.08096362,  0.10290735, -0.09048737,  0.06258979]],\n",
       "\n",
       "       [[-0.09341265,  0.07229226, -0.04412571,  0.10873356,\n",
       "          0.07222971, -0.0765529 ,  0.03221076,  0.02412755,\n",
       "          0.01025068, -0.05078566, -0.04048172,  0.02946982,\n",
       "          0.05853347, -0.02999929, -0.07351334,  0.07534882,\n",
       "         -0.05899164,  0.01687507, -0.04543311,  0.05245003,\n",
       "          0.07399366,  0.0960867 ,  0.08620612, -0.14459132,\n",
       "         -0.0851905 ,  0.04010042, -0.13830082,  0.11476964,\n",
       "          0.07894345, -0.106203  , -0.080267  , -0.04248619],\n",
       "        [-0.02367758, -0.04301186,  0.12677021,  0.06284681,\n",
       "         -0.06418682, -0.03145468,  0.03495688,  0.02848027,\n",
       "          0.03380571,  0.02898321,  0.10994231, -0.09110544,\n",
       "          0.10576601, -0.04685005,  0.03463168, -0.06061826,\n",
       "          0.12827988, -0.14394756,  0.108916  , -0.10126817,\n",
       "          0.10776413, -0.1254333 , -0.03465003,  0.05181948,\n",
       "          0.07914721,  0.06463888, -0.07319266, -0.1080998 ,\n",
       "         -0.08085496,  0.11693949,  0.12956572,  0.03892686],\n",
       "        [ 0.07589317, -0.01997183, -0.10262281,  0.02404192,\n",
       "         -0.00350921, -0.13255401, -0.05308748, -0.1120431 ,\n",
       "          0.0620967 , -0.0292404 ,  0.00364464,  0.05124044,\n",
       "          0.03430957,  0.10469311, -0.080911  , -0.04508326,\n",
       "          0.00074793,  0.059696  ,  0.08602657, -0.07773788,\n",
       "          0.10556448,  0.01876475,  0.07576903,  0.00759422,\n",
       "         -0.01626472, -0.0313889 ,  0.0060849 ,  0.01778442,\n",
       "         -0.06128308, -0.02445387,  0.11244333, -0.00900531]],\n",
       "\n",
       "       [[-0.11671884,  0.11099267, -0.00860692, -0.04839063,\n",
       "         -0.05499061,  0.06895628,  0.02712068, -0.02866588,\n",
       "          0.10892947,  0.06113977, -0.02201652, -0.12540169,\n",
       "          0.0471006 ,  0.14335334,  0.09044197, -0.09934023,\n",
       "          0.02265121,  0.09186125,  0.09787888,  0.0442346 ,\n",
       "          0.07115851,  0.10722689,  0.0812977 , -0.13585167,\n",
       "          0.12580499, -0.11614469, -0.05211049,  0.12822162,\n",
       "          0.04162174, -0.04895145, -0.03282014,  0.10572759],\n",
       "        [-0.04983508, -0.09723572,  0.02684087, -0.01046623,\n",
       "          0.08226589,  0.02881149, -0.09470433,  0.08737167,\n",
       "         -0.03421139,  0.10172278,  0.09482829,  0.06777743,\n",
       "         -0.0739281 ,  0.00750278, -0.02612861, -0.04778669,\n",
       "         -0.11852897, -0.14369361,  0.00203732,  0.02010288,\n",
       "         -0.08257634,  0.03188274, -0.01436672, -0.07895778,\n",
       "         -0.03137679,  0.09870979,  0.0919381 , -0.06724154,\n",
       "         -0.04920165, -0.04090869,  0.05256199,  0.07357418],\n",
       "        [ 0.05752813, -0.02815242,  0.00107148,  0.08156968,\n",
       "          0.10461102, -0.06753145, -0.01789805, -0.03903964,\n",
       "          0.01388136,  0.1014984 , -0.05440117,  0.10389284,\n",
       "         -0.08240908,  0.12368376, -0.13927987,  0.09859264,\n",
       "          0.09465276,  0.01769262,  0.0916043 ,  0.05390402,\n",
       "         -0.10278434, -0.03059709, -0.08728894,  0.1258004 ,\n",
       "         -0.10938534, -0.13254671, -0.02611621, -0.11058704,\n",
       "         -0.08004729,  0.10692377, -0.1065653 , -0.11521166]]],\n",
       "      dtype=float32)"
      ]
     },
     "execution_count": 10,
     "metadata": {},
     "output_type": "execute_result"
    }
   ],
   "source": [
    "# 가중치 저장 파일들도 나올수 있음\n",
    "np.array(model_file['model_weights']['conv2d']['conv2d']['kernel:0'])[0]"
   ]
  }
 ],
 "metadata": {
  "kernelspec": {
   "display_name": "Python 3",
   "language": "python",
   "name": "python3"
  },
  "language_info": {
   "codemirror_mode": {
    "name": "ipython",
    "version": 3
   },
   "file_extension": ".py",
   "mimetype": "text/x-python",
   "name": "python",
   "nbconvert_exporter": "python",
   "pygments_lexer": "ipython3",
   "version": "3.8.5"
  }
 },
 "nbformat": 4,
 "nbformat_minor": 4
}
