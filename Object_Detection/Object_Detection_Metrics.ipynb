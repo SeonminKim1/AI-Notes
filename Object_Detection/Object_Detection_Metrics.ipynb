{
 "cells": [
  {
   "cell_type": "markdown",
   "metadata": {},
   "source": [
    "## COCO Metrics\n",
    "- The following 12 metrics are used for characterizing the performance of an object detector on COCO:\n",
    "\n",
    "-  Average Precision (AP): (평균정밀도)\n",
    "    - AP\n",
    "        - AP at IoU=.50:.05:.95 (1차 챌린지 Metric)\n",
    "    - APIoU=.50 (IOU Threshold =0.5)\n",
    "        - AP at IoU=.50 (PASCAL VOC metric) \n",
    "    - APIoU=.75 (IOU Threshold =0.75)\n",
    "        - AP at IoU=.75 (strict metric)\n",
    "\n",
    "- AP Across Scales:\n",
    "    - APsmall (작은객체)\n",
    "        - AP for small objects: area < 32^2\n",
    "    - APmedium (중간객체)\n",
    "        - AP for medium objects: 32^2 < area < 96^2 \n",
    "    - APlarge (큰객체)\n",
    "        - AP for large objects: area > 96^2\n",
    "\n",
    "- Average Recall (AR):\n",
    "    - ARmax=1 (이미지당 1회 감지시)\n",
    "        - AR given 1 detection per image \n",
    "    - ARmax=10 (이미지당 10회 감지시)\n",
    "        - AR given 10 detections per image\n",
    "    - ARmax=100 (이미지당 100회 탐지)\n",
    "        - AR given 100 detections per image\n",
    "- AR Across Scales:\n",
    "    - ARsmall (작은객체)\n",
    "        - AR for small objects: area < 32^2 \n",
    "    - ARmedium (중간객체)\n",
    "        - AR for medium objects: 32^2 < area < 96^2\n",
    "    - ARlarge (큰객체)\n",
    "        - AR for large objects: area > 96^2"
   ]
  }
 ],
 "metadata": {
  "kernelspec": {
   "display_name": "Python 3",
   "language": "python",
   "name": "python3"
  },
  "language_info": {
   "codemirror_mode": {
    "name": "ipython",
    "version": 3
   },
   "file_extension": ".py",
   "mimetype": "text/x-python",
   "name": "python",
   "nbconvert_exporter": "python",
   "pygments_lexer": "ipython3",
   "version": "3.7.5"
  }
 },
 "nbformat": 4,
 "nbformat_minor": 4
}
