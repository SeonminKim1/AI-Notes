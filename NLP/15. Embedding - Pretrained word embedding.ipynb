{
 "cells": [
  {
   "cell_type": "markdown",
   "id": "a94d5097",
   "metadata": {},
   "source": [
    "## 15. 사전 훈련된 워드 임베딩\n",
    "### 15.1 케라스의 임베딩 층(embedding layer) 사용\n",
    "- 훈련 데이터의 단어들에 대해 워드 임베딩을 수행하는 Embedding() 도구 제공\n",
    "- v = Embedding(20000, 128, input_length=500) / vocab_size = 20000 / output_dim = 128 /input_length = 500\n",
    "- vocab_size : 텍스트 데이터의 전체 단어 집합의 크기 / output_dim : 워드 임베딩 후의 임베딩 벡터의 차원 / input_length : 입력 시퀀스의 길이\n",
    "\n",
    "### 15.2 사전 훈련된 워드 임베딩(pre-trained word embedding) 사용\n",
    "- 위키피디아 등과 같은 방대한 코퍼스를 가지고 Word2vec, FastText, GloVe 등을 통해서 이미 미리 훈련된 임베딩 벡터를 불러오는 방법\n",
    "- 임베딩 층은 룩업 테이블\n",
    "    - 입력 정수에 대해 밀집 벡터(dense vector)로 맵핑\n",
    "    - 이 밀집 벡터는 인공 신경망의 학습 과정에서 가중치가 학습되는 것과 같은 방식으로 훈련\n",
    "    - 훈련 과정에서 단어는 모델이 풀고자하는 작업에 맞는 값으로 업데이트\n",
    "\n",
    "![embedding_vector](img/embedding_vector.png)"
   ]
  },
  {
   "cell_type": "markdown",
   "id": "9bbd63c4",
   "metadata": {},
   "source": [
    "### 15.3 문장의 긍,부정을 판단하는 감성 분석 모델 - Keras"
   ]
  },
  {
   "cell_type": "code",
   "execution_count": 2,
   "id": "928ee643",
   "metadata": {},
   "outputs": [
    {
     "name": "stdout",
     "output_type": "stream",
     "text": [
      "16\n",
      "[[1, 2, 3, 4], [5, 6], [7, 8], [9, 10], [11, 12], [13], [14, 15]]\n",
      "4\n",
      "[[ 1  2  3  4]\n",
      " [ 5  6  0  0]\n",
      " [ 7  8  0  0]\n",
      " [ 9 10  0  0]\n",
      " [11 12  0  0]\n",
      " [13  0  0  0]\n",
      " [14 15  0  0]]\n"
     ]
    }
   ],
   "source": [
    "# 문장의 긍, 부정을 판단하는 감성 분류 모델\n",
    "from tensorflow.keras.preprocessing.text import Tokenizer\n",
    "from tensorflow.keras.preprocessing.sequence import pad_sequences\n",
    "import numpy as np\n",
    "\n",
    "# (1) 문장과 레이블 데이터\n",
    "sentences = ['nice great best amazing', 'stop lies', 'pitiful nerd', 'excellent work', 'supreme quality', 'bad', 'highly respectable']\n",
    "y_train = [1, 0, 0, 1, 1, 0, 1]\n",
    "\n",
    "# (2) keras token화\n",
    "t = Tokenizer()\n",
    "t.fit_on_texts(sentences)\n",
    "vocab_size = len(t.word_index) + 1\n",
    "print(vocab_size)\n",
    "\n",
    "# (3) 정수인코딩 수행\n",
    "X_encoded = t.texts_to_sequences(sentences)\n",
    "print(X_encoded)\n",
    "\n",
    "# (4) 가장 긴문장 체크\n",
    "max_len=max(len(l) for l in X_encoded)\n",
    "print(max_len)\n",
    "\n",
    "# (5) 가장 긴 문장의 길이로 맞춰줌 - padding\n",
    "X_train=pad_sequences(X_encoded, maxlen=max_len, padding='post')\n",
    "y_train=np.array(y_train)\n",
    "print(X_train)"
   ]
  },
  {
   "cell_type": "code",
   "execution_count": 3,
   "id": "402013dc",
   "metadata": {},
   "outputs": [
    {
     "name": "stdout",
     "output_type": "stream",
     "text": [
      "Epoch 1/20\n",
      "1/1 - 0s - loss: 0.6912 - acc: 0.4286\n",
      "Epoch 2/20\n",
      "1/1 - 0s - loss: 0.6895 - acc: 0.4286\n",
      "Epoch 3/20\n",
      "1/1 - 0s - loss: 0.6877 - acc: 0.4286\n",
      "Epoch 4/20\n",
      "1/1 - 0s - loss: 0.6860 - acc: 0.4286\n",
      "Epoch 5/20\n",
      "1/1 - 0s - loss: 0.6843 - acc: 0.4286\n",
      "Epoch 6/20\n",
      "1/1 - 0s - loss: 0.6826 - acc: 0.5714\n",
      "Epoch 7/20\n",
      "1/1 - 0s - loss: 0.6808 - acc: 0.5714\n",
      "Epoch 8/20\n",
      "1/1 - 0s - loss: 0.6791 - acc: 0.5714\n",
      "Epoch 9/20\n",
      "1/1 - 0s - loss: 0.6774 - acc: 0.5714\n",
      "Epoch 10/20\n",
      "1/1 - 0s - loss: 0.6757 - acc: 0.5714\n",
      "Epoch 11/20\n",
      "1/1 - 0s - loss: 0.6739 - acc: 0.5714\n",
      "Epoch 12/20\n",
      "1/1 - 0s - loss: 0.6722 - acc: 0.5714\n",
      "Epoch 13/20\n",
      "1/1 - 0s - loss: 0.6705 - acc: 0.5714\n",
      "Epoch 14/20\n",
      "1/1 - 0s - loss: 0.6687 - acc: 0.5714\n",
      "Epoch 15/20\n",
      "1/1 - 0s - loss: 0.6670 - acc: 0.7143\n",
      "Epoch 16/20\n",
      "1/1 - 0s - loss: 0.6653 - acc: 0.7143\n",
      "Epoch 17/20\n",
      "1/1 - 0s - loss: 0.6635 - acc: 0.8571\n",
      "Epoch 18/20\n",
      "1/1 - 0s - loss: 0.6618 - acc: 0.8571\n",
      "Epoch 19/20\n",
      "1/1 - 0s - loss: 0.6600 - acc: 1.0000\n",
      "Epoch 20/20\n",
      "1/1 - 0s - loss: 0.6583 - acc: 1.0000\n"
     ]
    },
    {
     "data": {
      "text/plain": [
       "<keras.callbacks.History at 0x22034f147c0>"
      ]
     },
     "execution_count": 3,
     "metadata": {},
     "output_type": "execute_result"
    }
   ],
   "source": [
    "# (6) 학습\n",
    "from tensorflow.keras.models import Sequential\n",
    "from tensorflow.keras.layers import Dense, Embedding, Flatten\n",
    "\n",
    "model = Sequential()\n",
    "model.add(Embedding(vocab_size, 4, input_length=max_len)) # 모든 임베딩 벡터는 4차원.\n",
    "model.add(Flatten()) # Dense의 입력으로 넣기위함.\n",
    "model.add(Dense(1, activation='sigmoid'))\n",
    "\n",
    "model.compile(optimizer='adam', loss='binary_crossentropy', metrics=['acc'])\n",
    "model.fit(X_train, y_train, epochs=20, verbose=2)"
   ]
  },
  {
   "cell_type": "markdown",
   "id": "29fb9a24",
   "metadata": {},
   "source": [
    "### 15.4 사전 훈련된 워드 임베딩(Pre-Trained Word Embedding) 사용\n",
    "- 훈련 데이터가 적다면 케라스의 Embedding()으로 해당 문제에 충분히 특화된 임베딩 벡터를 만들어내는 것이 쉽지 않음\n",
    "- 훈련 데이터가 적은 상황이라면 모델에 케라스의 Embedding()을 사용하는 것보다 다른 텍스트 데이터로 사전 훈련되어 있는 임베딩 벡터를 불러오는 것이 나은 선택\n",
    "- Word2Vec이나 GloVe 등으로 학습되어져 있는 임베딩 벡터들을 사용하는 것이 성능의 개선 가능\n",
    "- Glove 다운로드 링크 : http://nlp.stanford.edu/data/glove.6B.zip\n",
    "- Word2Vec 다운로드 링크 : https://drive.google.com/file/d/0B7XkCwpI5KDYNlNUTTlSS21pQmM\n",
    "\n"
   ]
  },
  {
   "cell_type": "markdown",
   "id": "2c976ba4",
   "metadata": {},
   "source": [
    "### 15.4.1 사전 훈련된 GloVe 사용\n",
    "- glove.6B.100d.txt는 수많은 단어에 대해서 100개의 차원을 가지는 임베딩 벡터로 제공\n",
    "- 위의 출력 결과는 단어 'the'에 대해서 100개의 차원을 가지는 임베딩 벡터와 단어 ','에 대해서 100개의 차원을 가지는 임베딩 벡터"
   ]
  },
  {
   "cell_type": "code",
   "execution_count": 14,
   "id": "e2c177d8",
   "metadata": {},
   "outputs": [
    {
     "name": "stdout",
     "output_type": "stream",
     "text": [
      "['the', '-0.038194', '-0.24487', '0.72812', '-0.39961', '0.083172', '0.043953', '-0.39141', '0.3344', '-0.57545', '0.087459', '0.28787', '-0.06731', '0.30906', '-0.26384', '-0.13231', '-0.20757', '0.33395', '-0.33848', '-0.31743', '-0.48336', '0.1464', '-0.37304', '0.34577', '0.052041', '0.44946', '-0.46971', '0.02628', '-0.54155', '-0.15518', '-0.14107', '-0.039722', '0.28277', '0.14393', '0.23464', '-0.31021', '0.086173', '0.20397', '0.52624', '0.17164', '-0.082378', '-0.71787', '-0.41531', '0.20335', '-0.12763', '0.41367', '0.55187', '0.57908', '-0.33477', '-0.36559', '-0.54857', '-0.062892', '0.26584', '0.30205', '0.99775', '-0.80481', '-3.0243', '0.01254', '-0.36942', '2.2167', '0.72201', '-0.24978', '0.92136', '0.034514', '0.46745', '1.1079', '-0.19358', '-0.074575', '0.23353', '-0.052062', '-0.22044', '0.057162', '-0.15806', '-0.30798', '-0.41625', '0.37972', '0.15006', '-0.53212', '-0.2055', '-1.2526', '0.071624', '0.70565', '0.49744', '-0.42063', '0.26148', '-1.538', '-0.30223', '-0.073438', '-0.28312', '0.37104', '-0.25217', '0.016215', '-0.017099', '-0.38984', '0.87424', '-0.72569', '-0.51058', '-0.52028', '-0.1459', '0.8278', '0.27062']\n",
      "the\n",
      "[',', '-0.10767', '0.11053', '0.59812', '-0.54361', '0.67396', '0.10663', '0.038867', '0.35481', '0.06351', '-0.094189', '0.15786', '-0.81665', '0.14172', '0.21939', '0.58505', '-0.52158', '0.22783', '-0.16642', '-0.68228', '0.3587', '0.42568', '0.19021', '0.91963', '0.57555', '0.46185', '0.42363', '-0.095399', '-0.42749', '-0.16567', '-0.056842', '-0.29595', '0.26037', '-0.26606', '-0.070404', '-0.27662', '0.15821', '0.69825', '0.43081', '0.27952', '-0.45437', '-0.33801', '-0.58184', '0.22364', '-0.5778', '-0.26862', '-0.20425', '0.56394', '-0.58524', '-0.14365', '-0.64218', '0.0054697', '-0.35248', '0.16162', '1.1796', '-0.47674', '-2.7553', '-0.1321', '-0.047729', '1.0655', '1.1034', '-0.2208', '0.18669', '0.13177', '0.15117', '0.7131', '-0.35215', '0.91348', '0.61783', '0.70992', '0.23955', '-0.14571', '-0.37859', '-0.045959', '-0.47368', '0.2385', '0.20536', '-0.18996', '0.32507', '-1.1112', '-0.36341', '0.98679', '-0.084776', '-0.54008', '0.11726', '-1.0194', '-0.24424', '0.12771', '0.013884', '0.080374', '-0.35414', '0.34951', '-0.7226', '0.37549', '0.4441', '-0.99059', '0.61214', '-0.35111', '-0.83155', '0.45293', '0.082577']\n",
      ",\n",
      "<class 'list'>\n",
      "101\n"
     ]
    }
   ],
   "source": [
    "\n",
    "# glove.6B.100d.txt는 수많은 단어에 대해서 100개의 차원을 가지는 임베딩 벡터로 제공\n",
    "n=0\n",
    "f = open('glove.6B/glove.6B.100d.txt', encoding=\"utf8\")\n",
    "\n",
    "for line in f:\n",
    "    word_vector = line.split() # 각 줄을 읽어와서 word_vector에 저장.\n",
    "    print(word_vector) # 각 줄을 출력\n",
    "    word = word_vector[0] # word_vector에서 첫번째 값만 저장\n",
    "    print(word) # word_vector의 첫번째 값만 출력\n",
    "    n=n+1\n",
    "    if n==2:\n",
    "        break\n",
    "f.close()\n",
    "\n",
    "print(type(word_vector))\n",
    "print(len(word_vector))"
   ]
  },
  {
   "cell_type": "code",
   "execution_count": 16,
   "id": "73f1d00d",
   "metadata": {},
   "outputs": [
    {
     "name": "stdout",
     "output_type": "stream",
     "text": [
      "400000개의 Embedding vector가 있습니다.\n",
      "[-0.049773   0.19903    0.10585    0.1391    -0.32395    0.44053\n",
      "  0.3947    -0.22805   -0.25793    0.49768    0.15384   -0.08831\n",
      "  0.0782    -0.8299    -0.037788   0.16772   -0.45197   -0.17085\n",
      "  0.74756    0.98256    0.81872    0.28507    0.16178   -0.48626\n",
      " -0.006265  -0.92469   -0.30625   -0.067318  -0.046762  -0.76291\n",
      " -0.0025264 -0.018795   0.12882   -0.52457    0.3586     0.43119\n",
      " -0.89477   -0.057421  -0.53724    0.25587    0.55195    0.44698\n",
      " -0.24252    0.29946    0.25776   -0.8717     0.68426   -0.05688\n",
      " -0.1848    -0.59352   -0.11227   -0.57692   -0.013593   0.18488\n",
      " -0.32507   -0.90171    0.17672    0.075601   0.54896   -0.21488\n",
      " -0.54018   -0.45882   -0.79536    0.26331    0.18879   -0.16363\n",
      "  0.3975     0.1099     0.1164    -0.083499   0.50159    0.35802\n",
      "  0.25677    0.088546   0.42108    0.28674   -0.71285   -0.82915\n",
      "  0.15297   -0.82712    0.022112   1.067     -0.31776    0.1211\n",
      " -0.069755  -0.61327    0.27308   -0.42638   -0.085084  -0.17694\n",
      " -0.0090944  0.1109     0.62543   -0.23682   -0.44928   -0.3667\n",
      " -0.21616   -0.19187   -0.032502   0.38025  ]\n",
      "100\n",
      "(16, 100)\n",
      "dict_items([('nice', 1), ('great', 2), ('best', 3), ('amazing', 4), ('stop', 5), ('lies', 6), ('pitiful', 7), ('nerd', 8), ('excellent', 9), ('work', 10), ('supreme', 11), ('quality', 12), ('bad', 13), ('highly', 14), ('respectable', 15)])\n"
     ]
    }
   ],
   "source": [
    "import numpy as np\n",
    "embedding_dict = dict()\n",
    "f = open('glove.6B/glove.6B.100d.txt', encoding=\"utf8\")\n",
    "\n",
    "# 형식은 키(key)와 값(value)의 쌍(pair)를 가지는 파이썬의 사전형 구조를 사용\n",
    "for line in f:\n",
    "    word_vector = line.split()\n",
    "    word = word_vector[0]\n",
    "    word_vector_arr = np.asarray(word_vector[1:], dtype='float32') # 100개의 값을 가지는 array로 변환\n",
    "    embedding_dict[word] = word_vector_arr\n",
    "f.close()\n",
    "print('%s개의 Embedding vector가 있습니다.' % len(embedding_dict))\n",
    "\n",
    "print(embedding_dict['respectable'])\n",
    "print(len(embedding_dict['respectable']))\n",
    "embedding_matrix = np.zeros((vocab_size, 100))\n",
    "# 단어 집합 크기의 행과 100개의 열을 가지는 행렬 생성. 값은 전부 0으로 채워진다.\n",
    "print(np.shape(embedding_matrix))\n",
    "print(t.word_index.items())\n",
    "\n",
    "# 사전 훈련된 GloVe의 임베딩 벡터들을 맵핑\n",
    "for word, i in t.word_index.items(): # 훈련 데이터의 단어 집합에서 단어를 1개씩 꺼내온다.\n",
    "    temp = embedding_dict.get(word) # 단어(key) 해당되는 임베딩 벡터의 100개의 값(value)를 임시 변수에 저장\n",
    "    if temp is not None:\n",
    "        embedding_matrix[i] = temp # 임수 변수의 값을 단어와 맵핑되는 인덱스의 행에 삽입\n",
    "        \n",
    "    "
   ]
  },
  {
   "cell_type": "code",
   "execution_count": 17,
   "id": "7d3588f5",
   "metadata": {},
   "outputs": [
    {
     "name": "stdout",
     "output_type": "stream",
     "text": [
      "Epoch 1/10\n",
      "1/1 - 0s - loss: 0.6051 - acc: 0.5714\n",
      "Epoch 2/10\n",
      "1/1 - 0s - loss: 0.5875 - acc: 0.7143\n",
      "Epoch 3/10\n",
      "1/1 - 0s - loss: 0.5706 - acc: 0.7143\n",
      "Epoch 4/10\n",
      "1/1 - 0s - loss: 0.5544 - acc: 0.7143\n",
      "Epoch 5/10\n",
      "1/1 - 0s - loss: 0.5388 - acc: 0.7143\n",
      "Epoch 6/10\n",
      "1/1 - 0s - loss: 0.5239 - acc: 0.7143\n",
      "Epoch 7/10\n",
      "1/1 - 0s - loss: 0.5095 - acc: 0.7143\n",
      "Epoch 8/10\n",
      "1/1 - 0s - loss: 0.4957 - acc: 0.8571\n",
      "Epoch 9/10\n",
      "1/1 - 0s - loss: 0.4825 - acc: 0.8571\n",
      "Epoch 10/10\n",
      "1/1 - 0s - loss: 0.4698 - acc: 0.8571\n"
     ]
    },
    {
     "data": {
      "text/plain": [
       "<keras.callbacks.History at 0x2203d76f460>"
      ]
     },
     "execution_count": 17,
     "metadata": {},
     "output_type": "execute_result"
    }
   ],
   "source": [
    "from tensorflow.keras.models import Sequential\n",
    "from tensorflow.keras.layers import Dense, Embedding, Flatten\n",
    "\n",
    "model = Sequential()\n",
    "e = Embedding(vocab_size, 100, weights=[embedding_matrix], input_length=max_len, trainable=False)\n",
    "\n",
    "# 현재 실습에서 사전 훈련된 워드 임베딩을 100차원의 값인 것으로 사용하고 있기 때문에 임베딩 층의 output_dim의 인자값으로 100\n",
    "model.add(e)\n",
    "model.add(Flatten())\n",
    "model.add(Dense(1, activation='sigmoid'))\n",
    "model.compile(optimizer='adam', loss='binary_crossentropy', metrics=['acc'])\n",
    "model.fit(X_train, y_train, epochs=10, verbose=2)"
   ]
  },
  {
   "cell_type": "markdown",
   "id": "8c5a316c",
   "metadata": {},
   "source": [
    "### 15.4.1 사전 훈련된 Word2Vec 사용\n",
    "- glove.6B.100d.txt는 수많은 단어에 대해서 100개의 차원을 가지는 임베딩 벡터로 제공\n",
    "- 위의 출력 결과는 단어 'the'에 대해서 100개의 차원을 가지는 임베딩 벡터와 단어 ','에 대해서 100개의 차원을 가지는 임베딩 벡터\n",
    "- 링크 : https://wikidocs.net/33793\n",
    "- https://s3.amazonaws.com/dl4j-distribution/GoogleNews-vectors-negative300.bin.gz\n"
   ]
  }
 ],
 "metadata": {
  "kernelspec": {
   "display_name": "Python 3 (ipykernel)",
   "language": "python",
   "name": "python3"
  },
  "language_info": {
   "codemirror_mode": {
    "name": "ipython",
    "version": 3
   },
   "file_extension": ".py",
   "mimetype": "text/x-python",
   "name": "python",
   "nbconvert_exporter": "python",
   "pygments_lexer": "ipython3",
   "version": "3.8.11"
  }
 },
 "nbformat": 4,
 "nbformat_minor": 5
}
