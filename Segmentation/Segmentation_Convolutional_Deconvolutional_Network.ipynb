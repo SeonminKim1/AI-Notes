{
 "cells": [
  {
   "cell_type": "markdown",
   "metadata": {},
   "source": [
    "## Convolutional Deconvolutional Network\n",
    "- VGG-16의 좌우 대칭적 구조\n",
    "- Switch variables을 이용한 FCN 보다 나은 결과를 보임\n",
    "\n",
    "![conv_deconv](readme_img/conv_deconv.png)\n",
    "\n",
    "<hr>\n"
   ]
  },
  {
   "cell_type": "markdown",
   "metadata": {},
   "source": [
    "### Switch Varialbes\n",
    "- UPsampling을 하면서 switch 방법을 사용 (max pooling)\n",
    "- Maxpooling시 최대 지점 저장 switch (ZFNet)\n",
    "- pooling을 할 떄 unpooling간의 switch variables을 기억\n",
    "- convolution과 deconvolution간의 switch variables을 기억하고 있으면 더 정보를 보존 할 수 있음.\n",
    "\n",
    "![switch_unpooling_deconvolutional](readme_img/switch_unpooling_deconvolutional.jpg)\n"
   ]
  },
  {
   "cell_type": "markdown",
   "metadata": {},
   "source": [
    "\n",
    "### VGG 모델 두개\n",
    "- 초기 모델이였고 많은 파라미터와 깊은 네트워크를 가지고 있음.\n",
    "- 많은 파라미터를 가진채 학습시키면 오버피팅이 발생\n",
    "    - Batch Normalization \n",
    "    - Data Augmentation (데이터에 variation을 주는 법) 하여 학습을 진행\n",
    "        - Pascal voc 데이터 이용 (약 300만장)\n",
    "- 굉장히 헤비해지는 문제 발생 => 2개의 stage를 나누어 학습을 시킴.\n",
    "    - 쉬운것들 먼저 학습하고, 어려운 것들을 나중에 학습하면서 Fine-tuning 진행\n",
    "    - Easy Image(20만장) : centered 위치, small object size variance 한 것들\n",
    "    - Hard Image(270만장) : Various position, size variance\n"
   ]
  },
  {
   "cell_type": "markdown",
   "metadata": {},
   "source": [
    "### 결론\n",
    "- Upsampling과 Downsampling을 진행하는 과정에서 switch variables을 이용하여 진행\n",
    "- FCN 보다 세밀한 Feautre들을 잘 잡아낸다\n",
    "\n"
   ]
  },
  {
   "cell_type": "markdown",
   "metadata": {},
   "source": []
  }
 ],
 "metadata": {
  "kernelspec": {
   "display_name": "Python 3",
   "language": "python",
   "name": "python3"
  },
  "language_info": {
   "codemirror_mode": {
    "name": "ipython",
    "version": 3
   },
   "file_extension": ".py",
   "mimetype": "text/x-python",
   "name": "python",
   "nbconvert_exporter": "python",
   "pygments_lexer": "ipython3",
   "version": "3.8.5"
  }
 },
 "nbformat": 4,
 "nbformat_minor": 4
}
