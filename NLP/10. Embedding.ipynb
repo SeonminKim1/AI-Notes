{
 "cells": [
  {
   "cell_type": "markdown",
   "id": "b7589582",
   "metadata": {},
   "source": [
    "## 10.  임베딩(Embedding)\n",
    "\n",
    "### 10.1 희소 표현(Sparse Representation)\n",
    "- 원-핫 인코딩 / 벡터 또는 행렬(matrix)의 값이 대부분이 0으로 표현되는 방법\n",
    "- 단점\n",
    "    - 각 단어간 유사성을 표현할 수 없음. -> 단어의 '의미'를 다차원 공간에 벡터화(분산표현, distributed representation)\n",
    "    - 단어의 유사도를 벡터화 하는 작업은 워드 임베딩(embedding) 작업에 속함\n",
    "\n",
    "### 10.2 밀집 표현(Dense Representation)\n",
    "- 밀집 표현은 벡터의 차원을 단어 집합의 크기로 상정 X\n",
    "- 사용자가 설정한 값으로 모든 단어의 벡터 표현의 차원을 맞춤\n",
    "- 0과 1만 가진 값이 아니라 실수값을 가지게 됨\n",
    "\n",
    "\n",
    "### 10.3 워드 임베딩(Word Embedding)\n",
    "- 단어를 밀집 벡터(dense vector)의 형태로 표현하는 방법을 워드 임베딩(word embedding)\n",
    "- 밀집 벡터를 워드 임베딩 과정을 통해 나온 결과라고 하여 임베딩 벡터(embedding vector)\n",
    "- 예시) 강아지 = [0.2 1.8 1.1 -2.1 1.1 2.8 ... 중략 ...] : 뜻 각 단어에 비슷한 유사도란 뜻\n",
    "    - 희소 표현이 고차원에 각 차원이 분리된 표현 방법이었다면, 분산 표현은 저차원에 단어의 의미를 여러 차원에다가 분산하여 표현합니다. ==> 단어 간 유사도를 계산\n",
    "\n",
    "- 주요방법론\n",
    "    - LSA, Word2Vec, FastText, Glove\n",
    "    \n",
    "![embedding](img/embedding.PNG)\n"
   ]
  }
 ],
 "metadata": {
  "kernelspec": {
   "display_name": "Python 3 (ipykernel)",
   "language": "python",
   "name": "python3"
  },
  "language_info": {
   "codemirror_mode": {
    "name": "ipython",
    "version": 3
   },
   "file_extension": ".py",
   "mimetype": "text/x-python",
   "name": "python",
   "nbconvert_exporter": "python",
   "pygments_lexer": "ipython3",
   "version": "3.8.11"
  }
 },
 "nbformat": 4,
 "nbformat_minor": 5
}
