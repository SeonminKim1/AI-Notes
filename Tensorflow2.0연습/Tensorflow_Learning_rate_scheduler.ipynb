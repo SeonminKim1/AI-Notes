{
 "cells": [
  {
   "cell_type": "markdown",
   "metadata": {},
   "source": [
    "## Learning rate \n",
    "- Learning rate 를 처음에는 높게 하다가 나중에는 낮게 하는것\n",
    "- 팁\n",
    "    - **학습을 하다가 처음에는 0.1로 하다가 learning curve를 보다보니 특정 epochs 에서 좀 학습이 안된다 그러면 기억해 뒀다가 0.01 또 학습하다가 학습이 잘 안된다 그러면 0.001 로 이런식으로 하기**"
   ]
  },
  {
   "cell_type": "code",
   "execution_count": 1,
   "metadata": {},
   "outputs": [],
   "source": [
    "import os\n",
    "from glob import glob\n",
    "\n",
    "from datetime import datetime\n",
    "\n",
    "import numpy as np\n",
    "import tensorflow as tf\n",
    "from tensorflow.keras import layers\n",
    "from tensorflow.keras import datasets\n",
    "\n",
    "import matplotlib.pyplot as plt\n",
    "\n",
    "%matplotlib inline"
   ]
  },
  {
   "cell_type": "markdown",
   "metadata": {},
   "source": [
    "## Hyper parameter Tunning"
   ]
  },
  {
   "cell_type": "code",
   "execution_count": 2,
   "metadata": {},
   "outputs": [],
   "source": [
    "num_epochs = 20\n",
    "batch_size = 32\n",
    "learning_rate = 0.001\n",
    "\n",
    "dropout_rate = 0.5\n",
    "\n",
    "input_shape = (32, 32, 3)\n",
    "num_classes = 10"
   ]
  },
  {
   "cell_type": "markdown",
   "metadata": {},
   "source": [
    "## Build Model"
   ]
  },
  {
   "cell_type": "code",
   "execution_count": 15,
   "metadata": {},
   "outputs": [
    {
     "name": "stdout",
     "output_type": "stream",
     "text": [
      "Model: \"model_2\"\n",
      "_________________________________________________________________\n",
      "Layer (type)                 Output Shape              Param #   \n",
      "=================================================================\n",
      "input_3 (InputLayer)         [(None, 32, 32, 3)]       0         \n",
      "_________________________________________________________________\n",
      "conv2d_8 (Conv2D)            (None, 32, 32, 32)        896       \n",
      "_________________________________________________________________\n",
      "activation_12 (Activation)   (None, 32, 32, 32)        0         \n",
      "_________________________________________________________________\n",
      "conv2d_9 (Conv2D)            (None, 32, 32, 32)        9248      \n",
      "_________________________________________________________________\n",
      "activation_13 (Activation)   (None, 32, 32, 32)        0         \n",
      "_________________________________________________________________\n",
      "max_pooling2d_4 (MaxPooling2 (None, 16, 16, 32)        0         \n",
      "_________________________________________________________________\n",
      "dropout_6 (Dropout)          (None, 16, 16, 32)        0         \n",
      "_________________________________________________________________\n",
      "conv2d_10 (Conv2D)           (None, 16, 16, 64)        18496     \n",
      "_________________________________________________________________\n",
      "activation_14 (Activation)   (None, 16, 16, 64)        0         \n",
      "_________________________________________________________________\n",
      "conv2d_11 (Conv2D)           (None, 16, 16, 32)        18464     \n",
      "_________________________________________________________________\n",
      "activation_15 (Activation)   (None, 16, 16, 32)        0         \n",
      "_________________________________________________________________\n",
      "max_pooling2d_5 (MaxPooling2 (None, 8, 8, 32)          0         \n",
      "_________________________________________________________________\n",
      "dropout_7 (Dropout)          (None, 8, 8, 32)          0         \n",
      "_________________________________________________________________\n",
      "flatten_2 (Flatten)          (None, 2048)              0         \n",
      "_________________________________________________________________\n",
      "dense_4 (Dense)              (None, 512)               1049088   \n",
      "_________________________________________________________________\n",
      "activation_16 (Activation)   (None, 512)               0         \n",
      "_________________________________________________________________\n",
      "dropout_8 (Dropout)          (None, 512)               0         \n",
      "_________________________________________________________________\n",
      "dense_5 (Dense)              (None, 10)                5130      \n",
      "_________________________________________________________________\n",
      "activation_17 (Activation)   (None, 10)                0         \n",
      "=================================================================\n",
      "Total params: 1,101,322\n",
      "Trainable params: 1,101,322\n",
      "Non-trainable params: 0\n",
      "_________________________________________________________________\n"
     ]
    }
   ],
   "source": [
    "inputs = layers.Input(input_shape)\n",
    "\n",
    "net = layers.Conv2D(32, (3,3), padding='SAME')(inputs)\n",
    "net = layers.Activation('relu')(net)\n",
    "net = layers.Conv2D(32, (3,3), padding='SAME')(net)\n",
    "net = layers.Activation('relu')(net)\n",
    "net = layers.MaxPooling2D(pool_size=(2,2))(net)\n",
    "net = layers.Dropout(dropout_rate)(net)\n",
    "\n",
    "net = layers.Conv2D(64, (3,3), padding='SAME')(net)\n",
    "net = layers.Activation('relu')(net)\n",
    "net = layers.Conv2D(32, (3,3), padding='SAME')(net)\n",
    "net = layers.Activation('relu')(net)\n",
    "net = layers.MaxPooling2D(pool_size=(2,2))(net)\n",
    "net = layers.Dropout(dropout_rate)(net)\n",
    "\n",
    "net = layers.Flatten()(net)\n",
    "net = layers.Dense(512)(net)\n",
    "net = layers.Activation('relu')(net)\n",
    "net = layers.Dropout(dropout_rate)(net)\n",
    "net = layers.Dense(num_classes)(net)\n",
    "net = layers.Activation('softmax')(net)\n",
    "\n",
    "model = tf.keras.Model(inputs = inputs, outputs = net)\n",
    "model.summary()\n",
    "\n",
    "model.compile(optimizer = tf.keras.optimizers.Adam(learning_rate),\n",
    "             loss = 'sparse_categorical_crossentropy',\n",
    "             metrics = ['accuracy'])"
   ]
  },
  {
   "cell_type": "markdown",
   "metadata": {},
   "source": [
    "## Data Process"
   ]
  },
  {
   "cell_type": "code",
   "execution_count": 4,
   "metadata": {},
   "outputs": [
    {
     "name": "stdout",
     "output_type": "stream",
     "text": [
      "['labels.txt', 'test', 'train']\n",
      "1000 1000\n"
     ]
    }
   ],
   "source": [
    "## (1) train, test 데이터 읽어오기\n",
    "print(os.listdir('../dataset/cifar/'))\n",
    "\n",
    "train_paths = glob('../dataset/cifar/train/*.png')[:1000]\n",
    "test_paths = glob('../dataset/cifar/test/*.png')[:1000]\n",
    "\n",
    "print(len(train_paths), len(test_paths))\n",
    "\n",
    "## (2) label name 반환\n",
    "def get_class_name(path):\n",
    "    return path.split('_')[-1].replace('.png','')\n",
    "\n",
    "## (3) label name 고유값 list - class_names\n",
    "train_labels = [get_class_name(path) for path in train_paths] # 50000개\n",
    "class_names = np.unique(train_labels) # 해당 class 개로 줄여짐\n",
    "\n",
    "# (4) label 반환 onehot encoding 된 형태로 or argmax 로 해당 index\n",
    "def get_label(path):\n",
    "    fname = tf.strings.split(path, '_')[-1]\n",
    "    lbl_name = tf.strings.regex_replace(fname, '.png', '')\n",
    "    onehot = tf.cast(lbl_name == class_names, tf.uint8)\n",
    "    return tf.argmax(onehot) \n",
    "\n",
    "# (5) 최종 image, label 반환\n",
    "def load_image_label(path):\n",
    "    gfile = tf.io.read_file(path)\n",
    "    image = tf.io.decode_image(gfile)\n",
    "    image = tf.cast(image, tf.float32)/.255 # rescale\n",
    "    \n",
    "    label = get_label(path)\n",
    "    return image, label\n",
    "\n",
    "# (6) image preprocess (랜덤 Generator)\n",
    "def image_preprocess(image, label):\n",
    "    image = tf.image.random_flip_up_down(image)\n",
    "    image = tf.image.random_flip_left_right(image)\n",
    "    return image, label\n",
    "\n",
    "AUTOTUNE = tf.data.experimental.AUTOTUNE # 작동하는 Network가 스스로 설정하고 Dataset을 잘 불러올 수 있게 결정하라는 것\n",
    "\n",
    "\n",
    "# train dataset 뽑기\n",
    "train_dataset = tf.data.Dataset.from_tensor_slices(train_paths)\n",
    "train_dataset = train_dataset.map(load_image_label, num_parallel_calls = AUTOTUNE)\n",
    "train_dataset = train_dataset.map(image_preprocess, num_parallel_calls = AUTOTUNE)\n",
    "train_dataset = train_dataset.batch(batch_size)\n",
    "train_dataset = train_dataset.shuffle(buffer_size = len(train_paths))\n",
    "train_dataset = train_dataset.repeat()\n",
    "\n",
    "# test set 데이터 뽑기\n",
    "test_dataset = tf.data.Dataset.from_tensor_slices(test_paths)\n",
    "test_dataset = test_dataset.map(load_image_label, num_parallel_calls=AUTOTUNE)\n",
    "test_dataset = test_dataset.batch(batch_size)\n",
    "test_dataset = test_dataset.repeat()\n",
    "      "
   ]
  },
  {
   "cell_type": "markdown",
   "metadata": {},
   "source": [
    "## Learning Rate Scheduler"
   ]
  },
  {
   "cell_type": "code",
   "execution_count": 12,
   "metadata": {},
   "outputs": [
    {
     "name": "stdout",
     "output_type": "stream",
     "text": [
      "0.001\n",
      "0.0009048374180359595\n",
      "0.0008187307530779819\n",
      "0.0007408182206817179\n",
      "0.0006703200460356394\n",
      "0.0006065306597126335\n",
      "0.0005488116360940264\n",
      "0.0004965853037914095\n",
      "0.0004493289641172216\n",
      "0.00040656965974059914\n"
     ]
    }
   ],
   "source": [
    "import math\n",
    "\n",
    "def scheduler(epoch):\n",
    "    if epoch<10:\n",
    "        return 0.001\n",
    "    else:\n",
    "        return 0.001 * math.exp(0.1 * (10-epoch))\n",
    "    \n",
    "for epoch in range(10, 20):\n",
    "    print(scheduler(epoch))\n"
   ]
  },
  {
   "cell_type": "code",
   "execution_count": 13,
   "metadata": {},
   "outputs": [
    {
     "name": "stdout",
     "output_type": "stream",
     "text": [
      "<tensorflow.python.keras.callbacks.LearningRateScheduler object at 0x00000251639AE580>\n"
     ]
    }
   ],
   "source": [
    "learning_rate_scheduler = tf.keras.callbacks.LearningRateScheduler(scheduler)\n",
    "print(learning_rate_scheduler)"
   ]
  },
  {
   "cell_type": "markdown",
   "metadata": {},
   "source": [
    "## Training"
   ]
  },
  {
   "cell_type": "code",
   "execution_count": 16,
   "metadata": {},
   "outputs": [
    {
     "name": "stdout",
     "output_type": "stream",
     "text": [
      "Epoch 1/20\n",
      "31/31 [==============================] - 4s 120ms/step - loss: 51.4288 - accuracy: 0.1126 - lr: 0.0010\n",
      "Epoch 2/20\n",
      "31/31 [==============================] - 6s 209ms/step - loss: 2.3746 - accuracy: 0.1129 - lr: 0.0010\n",
      "Epoch 3/20\n",
      "31/31 [==============================] - 7s 236ms/step - loss: 2.3602 - accuracy: 0.0900 - lr: 0.0010\n",
      "Epoch 4/20\n",
      "31/31 [==============================] - 8s 250ms/step - loss: 2.3327 - accuracy: 0.0950 - lr: 0.0010\n",
      "Epoch 5/20\n",
      "31/31 [==============================] - 7s 235ms/step - loss: 2.3179 - accuracy: 0.1343 - lr: 0.0010\n",
      "Epoch 6/20\n",
      "31/31 [==============================] - 8s 267ms/step - loss: 2.3090 - accuracy: 0.1169 - lr: 0.0010\n",
      "Epoch 7/20\n",
      "31/31 [==============================] - 6s 202ms/step - loss: 2.3165 - accuracy: 0.0985 - lr: 0.0010\n",
      "Epoch 8/20\n",
      "31/31 [==============================] - 6s 183ms/step - loss: 2.3172 - accuracy: 0.1064 - lr: 0.0010\n",
      "Epoch 9/20\n",
      "31/31 [==============================] - 5s 174ms/step - loss: 2.3096 - accuracy: 0.1157 - lr: 0.0010\n",
      "Epoch 10/20\n",
      "31/31 [==============================] - 6s 180ms/step - loss: 2.3074 - accuracy: 0.1220 - lr: 0.0010\n",
      "Epoch 11/20\n",
      "31/31 [==============================] - 8s 244ms/step - loss: 2.3006 - accuracy: 0.1188 - lr: 0.0010\n",
      "Epoch 12/20\n",
      "31/31 [==============================] - 8s 259ms/step - loss: 2.3091 - accuracy: 0.1240 - lr: 9.0484e-04\n",
      "Epoch 13/20\n",
      "31/31 [==============================] - 8s 269ms/step - loss: 2.3046 - accuracy: 0.1157 - lr: 8.1873e-04\n",
      "Epoch 14/20\n",
      "31/31 [==============================] - 8s 269ms/step - loss: 2.3021 - accuracy: 0.1136 - lr: 7.4082e-04\n",
      "Epoch 15/20\n",
      "31/31 [==============================] - 5s 160ms/step - loss: 2.2957 - accuracy: 0.1302 - lr: 6.7032e-04\n",
      "Epoch 16/20\n",
      "31/31 [==============================] - 4s 139ms/step - loss: 2.3062 - accuracy: 0.1176 - lr: 6.0653e-04\n",
      "Epoch 17/20\n",
      "31/31 [==============================] - 4s 142ms/step - loss: 2.3055 - accuracy: 0.1028 - lr: 5.4881e-04\n",
      "Epoch 18/20\n",
      "31/31 [==============================] - 4s 141ms/step - loss: 2.2964 - accuracy: 0.1384 - lr: 4.9659e-04\n",
      "Epoch 19/20\n",
      "31/31 [==============================] - 4s 133ms/step - loss: 2.2979 - accuracy: 0.1335 - lr: 4.4933e-04\n",
      "Epoch 20/20\n",
      "31/31 [==============================] - 8s 268ms/step - loss: 2.2927 - accuracy: 0.1219 - lr: 4.0657e-04\n"
     ]
    },
    {
     "data": {
      "text/plain": [
       "<tensorflow.python.keras.callbacks.History at 0x251639ae3a0>"
      ]
     },
     "execution_count": 16,
     "metadata": {},
     "output_type": "execute_result"
    }
   ],
   "source": [
    "steps_per_epoch = len(train_paths) // batch_size\n",
    "validation_steps = len(test_paths) // batch_size\n",
    "\n",
    "model.fit_generator(\n",
    "    train_dataset,\n",
    "    steps_per_epoch = steps_per_epoch,\n",
    "    validation_steps = validation_steps,\n",
    "    epochs = num_epochs,\n",
    "    callbacks = [learning_rate_scheduler]\n",
    ")"
   ]
  }
 ],
 "metadata": {
  "kernelspec": {
   "display_name": "Python 3",
   "language": "python",
   "name": "python3"
  },
  "language_info": {
   "codemirror_mode": {
    "name": "ipython",
    "version": 3
   },
   "file_extension": ".py",
   "mimetype": "text/x-python",
   "name": "python",
   "nbconvert_exporter": "python",
   "pygments_lexer": "ipython3",
   "version": "3.8.5"
  }
 },
 "nbformat": 4,
 "nbformat_minor": 4
}
