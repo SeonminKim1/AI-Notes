{
 "cells": [
  {
   "cell_type": "markdown",
   "id": "93063628",
   "metadata": {},
   "source": [
    "## 16. ELMO (Embeddings from Language Model, ELMo)\n",
    "- 논문 링크 : https://aclweb.org/anthology/N18-1202\n",
    "- 2018년에 제안된 새로운 워드 임베딩 방법론\n",
    "- ELMo의 가장 큰 특징은 사전 훈련된 언어 모델(Pre-trained language model)을 사용한다는 점\n",
    "- 텐서플로우 2.0에서는 TF-Hub의 ELMo를 사용 x / 사용하려면 텐서플로우 버전을 1버전으로 낮추어야 합\n",
    "\n",
    "- Bank Account(은행 계좌)와 River Bank(강둑)에서의 Bank는 전혀 다른 의미를 가지는데, Word2Vec이나 GloVe 등으로 표현된 임베딩 벡터들은 이를 제대로 반영하지 못한다는 단점이 존재\n",
    "-  같은 표기의 단어라도 문맥에 따라서 다르게 워드 임베딩을 할 수 있으면 자연어 처리의 성능이 더 올라갈 것임 ==> 단어를 임베딩하기 전에 전체 문장을 고려해서 임베딩을 하겠다는 것 ==> 탄생한 것이 문맥을 반영한 워드 임베딩(Contextualized Word Embedding)"
   ]
  },
  {
   "cell_type": "markdown",
   "id": "59ebbdd7",
   "metadata": {},
   "source": [
    "### 16.1 BILM(Bidirectional Language Model) 모델의 사전 훈련\n",
    "- https://wikidocs.net/33930\n",
    "- CharCNN\n",
    "    - biLM의 입력이 되는 워드 임베딩 방법\n",
    "    - 임베딩 방법은 글자(character) 단위로 계산\n",
    "    - 마치 서브단어(subword)의 정보를 참고하는 것처럼 문맥과 상관없이 dog란 단어와 doggy란 단어의 연관성을 찾아낼 수 있음\n",
    "    - OOV에도 견고한다는 장점\n",
    "    \n",
    "![BILM](img/BILM.png)\n",
    "\n",
    "- BILM (ELMo Representation)\n",
    "    - play라는 단어를 임베딩 하기위해서 ELMo는 위의 점선의 사각형 내부의 각 층의 결과값(출력값)을 재료로 사용\n",
    "    - 순방향 언어 모델과 역방향 언어 모델의 각 층의 출력값을 연결(concatenate)하고 추가 작업을 진행\n",
    "    - ELMo의 직관적인 아이디어는 각 층의 출력값이 가진 정보는 전부 서로 다른 종류의 정보를 갖고 있을 것이므로, 이들을 모두 활용한다는 점\n",
    "    \n",
    "![elmo](img/elmo.PNG)\n",
    "\n",
    "\n",
    "- ELMo Representation 활용\n",
    "    - ELMo 표현은 기존의 임베딩 벡터와 함께 사용할 수 있음\n",
    "    - 텍스트 분류 작업을 위해서 GloVe 임베딩 벡터를 준비\n",
    "    - ELMo 표현을 GloVe 임베딩 벡터와 연결(concatenate)해서 입력으로 사용\n",
    "    \n",
    "![elmorepresentation](img/elmorepresentation.png)"
   ]
  }
 ],
 "metadata": {
  "kernelspec": {
   "display_name": "Python 3 (ipykernel)",
   "language": "python",
   "name": "python3"
  },
  "language_info": {
   "codemirror_mode": {
    "name": "ipython",
    "version": 3
   },
   "file_extension": ".py",
   "mimetype": "text/x-python",
   "name": "python",
   "nbconvert_exporter": "python",
   "pygments_lexer": "ipython3",
   "version": "3.8.11"
  }
 },
 "nbformat": 4,
 "nbformat_minor": 5
}
