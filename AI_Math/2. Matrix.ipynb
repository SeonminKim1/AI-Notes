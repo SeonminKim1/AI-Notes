{
 "cells": [
  {
   "cell_type": "markdown",
   "id": "f7e62d0c",
   "metadata": {},
   "source": [
    "### 1. Matrix\n",
    "- 행렬(matrix)는 벡터를 원소로 가지는 2차원 배열\n",
    "- 행(row), 열(column)이라는 인덱스를 가짐\n",
    "- 같은 모양을 가지면 덧셈, 뺄셈 가능\n",
    "\n",
    "<hr>\n",
    "\n",
    "### 2. Matrix Multiplication\n",
    "- **i번째 행백터와 j번째 열벡터 사이의 내적**을 성분으로 가지는 행렬을 계산\n",
    "- X의 열 의 갯수와 Y의 행의 갯수가 같아야 계산 가능\n",
    "\n",
    "- $XY = (∑_k x_ik*y_kj)$\n",
    "\n",
    "<hr>"
   ]
  },
  {
   "cell_type": "code",
   "execution_count": 14,
   "id": "5da9ece0",
   "metadata": {},
   "outputs": [
    {
     "name": "stdout",
     "output_type": "stream",
     "text": [
      "x:\n",
      "[[1 2]\n",
      " [3 4]]\n",
      "y:\n",
      "[[4 3]\n",
      " [2 1]]\n",
      "X*Y:\n",
      "[[ 8  5]\n",
      " [20 13]]\n",
      "inner X*Y:\n",
      "[[ 8  5]\n",
      " [20 13]]\n"
     ]
    }
   ],
   "source": [
    "import numpy as np\n",
    "\n",
    "# 일반 행렬 곱\n",
    "X = np.array([[1,2],[3,4]])\n",
    "Y = np.array([[4,3],[2,1]])\n",
    "print(f'x:\\n{X}')\n",
    "print(f'y:\\n{Y}')\n",
    "print(f'X*Y:\\n{X.dot(Y)}')\n",
    "\n",
    "# 내적을 이용한 행렬 곱\n",
    "# np.inner 함수를 사용하여 계산 하는법\n",
    "print(f'inner X*Y:\\n{np.inner(X, Y.T)}')"
   ]
  },
  {
   "cell_type": "markdown",
   "id": "ae75b679",
   "metadata": {},
   "source": [
    "## 3. Inverse Matrix\n",
    "- 어떤 행렬 A의 연산을 거꾸로 되돌리는 행렬을 역행렬(Inverse Matrix)라고 함\n",
    "- 좌표평면에서의 역행렬이라면 어떤 점들을 행렬식에 의해 다른 점들로 이동하는 경우\n",
    "- 역행렬은 행과 열 숫자가 같고 행렬식이 0이 아닌 경우(ad-bc)만 계산 가능\n",
    "- 역행렬을 계산할 수 없다면\n",
    "    - 유사 역행렬(pseudo-inverse)\n",
    "    - 무어펜로즈(Moore-Penrose)역행렬 ($A^+)$)\n"
   ]
  },
  {
   "cell_type": "code",
   "execution_count": 22,
   "id": "6a66a1ae",
   "metadata": {},
   "outputs": [
    {
     "name": "stdout",
     "output_type": "stream",
     "text": [
      "X:\n",
      "[[1 2]\n",
      " [3 4]]\n",
      "X_inv:\n",
      "[[-2.   1. ]\n",
      " [ 1.5 -0.5]]\n",
      "p_inv:\n",
      "[[-2.   1. ]\n",
      " [ 1.5 -0.5]]\n",
      "X*X_INV:\n",
      "[[1.00000000e+00 1.11022302e-16]\n",
      " [0.00000000e+00 1.00000000e+00]]\n"
     ]
    }
   ],
   "source": [
    "## 역행렬, 유사역행렬\n",
    "X_INV = np.linalg.inv(X)\n",
    "print(f'X:\\n{X}')\n",
    "print(f'X_inv:\\n{X_INV}') # 유사역행렬\n",
    "print(f'p_inv:\\n{np.linalg.pinv(X)}')\n",
    "print(f'X*X_INV:\\n{X.dot(X_INV)}')\n"
   ]
  }
 ],
 "metadata": {
  "kernelspec": {
   "display_name": "Python 3",
   "language": "python",
   "name": "python3"
  },
  "language_info": {
   "codemirror_mode": {
    "name": "ipython",
    "version": 3
   },
   "file_extension": ".py",
   "mimetype": "text/x-python",
   "name": "python",
   "nbconvert_exporter": "python",
   "pygments_lexer": "ipython3",
   "version": "3.8.5"
  }
 },
 "nbformat": 4,
 "nbformat_minor": 5
}
