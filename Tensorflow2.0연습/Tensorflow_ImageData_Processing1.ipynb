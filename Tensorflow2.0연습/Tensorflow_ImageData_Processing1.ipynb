{
 "cells": [
  {
   "cell_type": "code",
   "execution_count": 3,
   "metadata": {},
   "outputs": [],
   "source": [
    "# Basic\n",
    "import os\n",
    "import numpy as np\n",
    "import tensorflow as tf\n",
    "\n",
    "# Image \n",
    "from glob import glob\n",
    "from PIL import Image\n",
    "\n",
    "# Visualize\n",
    "import matplotlib.pyplot as plt\n",
    "%matplotlib inline"
   ]
  },
  {
   "cell_type": "markdown",
   "metadata": {},
   "source": [
    "## Real Image 파일 사용해보기"
   ]
  },
  {
   "cell_type": "code",
   "execution_count": 13,
   "metadata": {},
   "outputs": [
    {
     "name": "stdout",
     "output_type": "stream",
     "text": [
      "10\n",
      "['0', '1', '2', '3', '4', '5', '6', '7', '8', '9']\n",
      "5923 ['../dataset/mnist/training/0\\\\1.png', '../dataset/mnist/training/0\\\\1000.png', '../dataset/mnist/training/0\\\\10005.png']\n"
     ]
    }
   ],
   "source": [
    "# os listdir로 dataset 위치 찾아가기\n",
    "print(len(os.listdir('../dataset/mnist/training')))\n",
    "data_path_os = os.listdir('../dataset/mnist/training')\n",
    "print(data_path_os)\n",
    "\n",
    "# glob을 이용한 dataset 위치 찾아가기\n",
    "data_path = glob('../dataset/mnist/training/0/*.png') # png 포함된 파일들 전체 링크 가져오기\n",
    "print(len(data_path), data_path[:3])"
   ]
  },
  {
   "cell_type": "code",
   "execution_count": 17,
   "metadata": {},
   "outputs": [
    {
     "name": "stdout",
     "output_type": "stream",
     "text": [
      "[5923, 6742, 5958, 6131, 5842, 5421, 5918, 6265, 5851, 5949]\n"
     ]
    },
    {
     "data": {
      "image/png": "[encoded data removed]",
      "text/plain": [
       "<Figure size 432x288 with 1 Axes>"
      ]
     },
     "metadata": {
      "needs_background": "light"
     },
     "output_type": "display_data"
    }
   ],
   "source": [
    "label_nums = data_path_os \n",
    "\n",
    "nums_dataset = []\n",
    "\n",
    "# label 별로 이미지가 몇개가 있는지\n",
    "for lbl_n in label_nums:\n",
    "    data_per_class = os.listdir('../dataset/mnist/training/'+lbl_n)\n",
    "    nums_dataset.append(len(data_per_class))\n",
    "print(nums_dataset)\n",
    "\n",
    "plt.bar(label_nums, nums_dataset)\n",
    "plt.title('Number of Dataset per class')\n",
    "plt.show()"
   ]
  },
  {
   "cell_type": "markdown",
   "metadata": {},
   "source": [
    "## Pillow 를 활용한 열기"
   ]
  },
  {
   "cell_type": "code",
   "execution_count": 20,
   "metadata": {},
   "outputs": [
    {
     "data": {
      "image/png": "[encoded data removed]",
      "text/plain": [
       "<PIL.PngImagePlugin.PngImageFile image mode=L size=28x28 at 0x1A70DC545C8>"
      ]
     },
     "execution_count": 20,
     "metadata": {},
     "output_type": "execute_result"
    }
   ],
   "source": [
    "image_pil = Image.open(data_path[0])\n",
    "image_pil"
   ]
  },
  {
   "cell_type": "code",
   "execution_count": 21,
   "metadata": {},
   "outputs": [
    {
     "name": "stdout",
     "output_type": "stream",
     "text": [
      "(28, 28)\n"
     ]
    },
    {
     "data": {
      "image/png": "[encoded data removed]",
      "text/plain": [
       "<Figure size 432x288 with 1 Axes>"
      ]
     },
     "metadata": {
      "needs_background": "light"
     },
     "output_type": "display_data"
    }
   ],
   "source": [
    "img = np.array(image_pil)\n",
    "print(img.shape)\n",
    "\n",
    "plt.imshow(img, 'gray')\n",
    "plt.show()"
   ]
  },
  {
   "cell_type": "markdown",
   "metadata": {},
   "source": [
    "## TensorFlow 로 열기\n",
    "- shape적으로 gray 이미지는 1이 붙어서 들어감 (차원 증가 전처리 해줄필요x)"
   ]
  },
  {
   "cell_type": "code",
   "execution_count": 24,
   "metadata": {},
   "outputs": [
    {
     "name": "stdout",
     "output_type": "stream",
     "text": [
      "(28, 28, 1)\n"
     ]
    },
    {
     "data": {
      "text/plain": [
       "<matplotlib.image.AxesImage at 0x1a70f5e4a08>"
      ]
     },
     "execution_count": 24,
     "metadata": {},
     "output_type": "execute_result"
    },
    {
     "data": {
      "image/png": "[encoded data removed]",
      "text/plain": [
       "<Figure size 432x288 with 1 Axes>"
      ]
     },
     "metadata": {
      "needs_background": "light"
     },
     "output_type": "display_data"
    }
   ],
   "source": [
    "gfile = tf.io.read_file(data_path[0])\n",
    "tf_image = tf.io.decode_image(gfile)\n",
    "\n",
    "print(tf_image.shape)\n",
    "\n",
    "plt.imshow(tf_image[:, :, 0], 'gray')"
   ]
  },
  {
   "cell_type": "markdown",
   "metadata": {},
   "source": [
    "## Label 얻기"
   ]
  },
  {
   "cell_type": "code",
   "execution_count": 29,
   "metadata": {},
   "outputs": [
    {
     "data": {
      "text/plain": [
       "[0, 1, 2, 3, 4, 5, 6, 7, 8, 9]"
      ]
     },
     "execution_count": 29,
     "metadata": {},
     "output_type": "execute_result"
    }
   ],
   "source": [
    "label = list(map(int, label_nums))\n",
    "label"
   ]
  },
  {
   "cell_type": "markdown",
   "metadata": {},
   "source": [
    "## 데이터 이미지 사이즈 알기"
   ]
  },
  {
   "cell_type": "code",
   "execution_count": 37,
   "metadata": {},
   "outputs": [
    {
     "name": "stderr",
     "output_type": "stream",
     "text": [
      "100%|██████████████████████████████████████████████████████████████████████████████████████████████████████████████████████████████████████████████████████████████████████████| 5923/5923 [00:38<00:00, 153.27it/s]"
     ]
    },
    {
     "name": "stdout",
     "output_type": "stream",
     "text": [
      "{28} [28]\n",
      "{28} [28]\n"
     ]
    },
    {
     "name": "stderr",
     "output_type": "stream",
     "text": [
      "\n"
     ]
    }
   ],
   "source": [
    "from tqdm import tqdm\n",
    "\n",
    "heights, widths = [], []\n",
    "\n",
    "data_path[:10]\n",
    "\n",
    "for path in tqdm(data_path):\n",
    "    img_pil = Image.open(path)\n",
    "    img = np.array(img_pil)\n",
    "    h, w = img.shape\n",
    "    \n",
    "    heights.append(h)\n",
    "    widths.append(w)\n",
    "\n",
    "print(set(heights), np.unique(heights))\n",
    "print(set(widths), np.unique(widths))"
   ]
  }
 ],
 "metadata": {
  "kernelspec": {
   "display_name": "Python 3",
   "language": "python",
   "name": "python3"
  },
  "language_info": {
   "codemirror_mode": {
    "name": "ipython",
    "version": 3
   },
   "file_extension": ".py",
   "mimetype": "text/x-python",
   "name": "python",
   "nbconvert_exporter": "python",
   "pygments_lexer": "ipython3",
   "version": "3.7.5"
  }
 },
 "nbformat": 4,
 "nbformat_minor": 4
}
