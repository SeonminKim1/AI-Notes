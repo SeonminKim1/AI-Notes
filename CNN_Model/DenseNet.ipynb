{
 "cells": [
  {
   "cell_type": "markdown",
   "metadata": {},
   "source": [
    "## DenseNet\n",
    "- Densely Connected ConvNet\n",
    "- 각 층은 모든 앞 단계에서 올 수 있는 지름길 연결 구성 (모든 층은 연결되어 있다)\n",
    "- ReseNet의 아이디어를 계승함\n",
    "\n",
    "![densenet.png](img/densenet.png)\n",
    "\n",
    "## DenseNet 큰 특징\n",
    "- (1) **Dense Block 내에서는 ResNet과 같이 Pre-Activation 구조 사용**\n",
    "    - Preactivation = BatchNorm - ReLU - Conv 과정을 거침\n",
    "    \n",
    "- **(2) Growth rate**\n",
    "    - Dense Block Growth rate 에 따라서\n",
    "        - ex) growth rate k = 4 이면 3x3xcx4 / 3x3x(c+4)x4 / 3x3x(c+8)x4 / 3x3x(c+12)x4\n",
    "        - l번째 layer는 k0 + k*(l-1) 개의 feature map 을 가짐\n",
    "    - 다른 관점에서 보면 이전 특징 맵에 누적해서 Conacatenate 하는 결과와 같다\n",
    "    - growth rate 값이 클경우 진행하다가 1x1로 conv로 한번 연산량을 줄여주고 다시 3x3 진행\n",
    "\n",
    "- **(3) Pooling layers + Convolution = Trainsition layer\n",
    "    - Concatenation은 feature map 사이즈가 변하면 연산이 불가능하다. \n",
    "    - 같은 feature map size를 가지는 레이어들은 같은 dense block내로 묶는다\n",
    "    - 아래 그림의 Convolution부분과 Pooling 부분을 trainsition layer라고 부른다.\n",
    "    - 이 Transition layer는 BN , 1x1 Convloution layer, 2x2 average pooling layer가 위치.\n",
    "- **(4) Densenet bottleneck\n",
    "    - BN -> ReLU -> 3x3 Conv 구조에서 -> BN -> ReLU -> 1x1Conv -> BN -> ReLU -> 3x3Conv의 Bottleneck구조를 적용\n",
    "    - 계산 복잡성을 줄여줌\n",
    "![densenet_Bottleneck](img/densenet_Bottleneck.PNG)\n",
    "    \n",
    "\n",
    "### Difference Between Resnet and Densenet\n",
    "- **둘다 Bottleneck 구조를 가짐** \n",
    "- 두 Bottleneck구조의 차이점은 Resnet처럼 1x1로 expansion 하는 대신 concatenate 하여(이어붙이는 것처럼) feature를 growth rate만큼씩 키운다\n",
    "- Resnet은 (1x1, 64) 으로 dimension reduction 해주고  / (1x1, 256)으로 expand dimension을 거치는 과정을 거쳤는데, \n",
    "- Densenet은 1x1, 4*k 로 줄이기만함. 단 concatenate를 이용한 등차수열적인 이용\n",
    "\n",
    "![resnet_vs_densenet](img/resnet_vs_densenet.PNG)\n",
    "\n",
    "\n",
    "- 각 층은 입력 특징맵과 같은 차원의 특징 지도 생성\n",
    "- 병목층 : 1x1 컨볼루션, 출력되는 특징맵의 채널 수 측소\n",
    "- 병목층이 있는 층 ( BN -> ReLU -> 1x1 컨볼루션 -> BN -> ReLU -> 3x3 컨볼루션\n",
    "- 특징맵의 크기를 줄이기 우해 풀링 연산 적용 필요\n",
    "- 밀집 블록(Dense block)과 전이층 (transition layer)(1x1 컨볼루션과 평균값 풀링 APool)으로 구성\n",
    "\n",
    "- Conv1 input channel = 6\n",
    "- Conv2 input channel = 6+4\n",
    "- Conv3 input Channel = 6+4+4\n",
    "- Conv4 input Channel = 6+4+4+4\n",
    "\n",
    "![densenet_block](img/densenet_block.png)\n"
   ]
  }
 ],
 "metadata": {
  "kernelspec": {
   "display_name": "Python 3",
   "language": "python",
   "name": "python3"
  },
  "language_info": {
   "codemirror_mode": {
    "name": "ipython",
    "version": 3
   },
   "file_extension": ".py",
   "mimetype": "text/x-python",
   "name": "python",
   "nbconvert_exporter": "python",
   "pygments_lexer": "ipython3",
   "version": "3.8.5"
  }
 },
 "nbformat": 4,
 "nbformat_minor": 4
}
