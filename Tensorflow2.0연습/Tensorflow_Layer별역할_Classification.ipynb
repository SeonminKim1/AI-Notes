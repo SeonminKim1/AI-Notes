{
 "cells": [
  {
   "cell_type": "code",
   "execution_count": 1,
   "metadata": {},
   "outputs": [
    {
     "name": "stdout",
     "output_type": "stream",
     "text": [
      "<tensorflow.python.keras.layers.core.Flatten object at 0x00000223593355C8>\n",
      "(28, 28)\n"
     ]
    }
   ],
   "source": [
    "import tensorflow as tf\n",
    "print(tf.keras.layers.Flatten())\n",
    "\n",
    "from tensorflow.keras import datasets\n",
    "\n",
    "(train_x, train_y), (test_x, test_y) = datasets.mnist.load_data()\n",
    "\n",
    "image = train_x[1]\n",
    "print(image.shape)"
   ]
  },
  {
   "cell_type": "code",
   "execution_count": 2,
   "metadata": {},
   "outputs": [
    {
     "name": "stdout",
     "output_type": "stream",
     "text": [
      "(1, 28, 28, 1)\n",
      "<dtype: 'float64'>\n"
     ]
    }
   ],
   "source": [
    "# image 축 늘려줌\n",
    "image = image[tf.newaxis, ..., tf.newaxis]\n",
    "print(image.shape)\n",
    "\n",
    "image = tf.cast(image, tf.float64)\n",
    "print(image.dtype)"
   ]
  },
  {
   "cell_type": "code",
   "execution_count": 3,
   "metadata": {},
   "outputs": [
    {
     "name": "stdout",
     "output_type": "stream",
     "text": [
      "<tensorflow.python.keras.layers.convolutional.Conv2D object at 0x00000223671C1548>\n",
      "WARNING:tensorflow:Layer conv2d is casting an input tensor from dtype float64 to the layer's dtype of float32, which is new behavior in TensorFlow 2.  The layer has dtype float32 because it's dtype defaults to floatx.\n",
      "\n",
      "If you intended to run this layer in float32, you can safely ignore this warning. If in doubt, this warning is likely only an issue if you are porting a TensorFlow 1.X model to TensorFlow 2.\n",
      "\n",
      "To change all layers to have dtype float64 by default, call `tf.keras.backend.set_floatx('float64')`. To change just this layer, pass dtype='float64' to the layer constructor. If you are the author of this layer, you can disable autocasting by passing autocast=False to the base Layer constructor.\n",
      "\n",
      "(1, 28, 28, 3)\n",
      "(1, 2352)\n"
     ]
    }
   ],
   "source": [
    "# Conv layer 1개 만들고 통과시키기\n",
    "layer = tf.keras.layers.Conv2D(filters=3, kernel_size=(3,3), strides=(1,1), padding='Same')\n",
    "print(layer)\n",
    "\n",
    "output = layer(image)\n",
    "print(output.shape)\n",
    "\n",
    "flatten = tf.keras.layers.Flatten()\n",
    "flatten = flatten(output)\n",
    "print(flatten.shape)"
   ]
  },
  {
   "cell_type": "code",
   "execution_count": 4,
   "metadata": {},
   "outputs": [
    {
     "name": "stderr",
     "output_type": "stream",
     "text": [
      "In c:\\users\\urse\\anaconda3\\envs\\untitled\\lib\\site-packages\\matplotlib\\mpl-data\\stylelib\\_classic_test.mplstyle: \n",
      "The text.latex.preview rcparam was deprecated in Matplotlib 3.3 and will be removed two minor releases later.\n",
      "In c:\\users\\urse\\anaconda3\\envs\\untitled\\lib\\site-packages\\matplotlib\\mpl-data\\stylelib\\_classic_test.mplstyle: \n",
      "The mathtext.fallback_to_cm rcparam was deprecated in Matplotlib 3.3 and will be removed two minor releases later.\n",
      "In c:\\users\\urse\\anaconda3\\envs\\untitled\\lib\\site-packages\\matplotlib\\mpl-data\\stylelib\\_classic_test.mplstyle: Support for setting the 'mathtext.fallback_to_cm' rcParam is deprecated since 3.3 and will be removed two minor releases later; use 'mathtext.fallback : 'cm' instead.\n",
      "In c:\\users\\urse\\anaconda3\\envs\\untitled\\lib\\site-packages\\matplotlib\\mpl-data\\stylelib\\_classic_test.mplstyle: \n",
      "The validate_bool_maybe_none function was deprecated in Matplotlib 3.3 and will be removed two minor releases later.\n",
      "In c:\\users\\urse\\anaconda3\\envs\\untitled\\lib\\site-packages\\matplotlib\\mpl-data\\stylelib\\_classic_test.mplstyle: \n",
      "The savefig.jpeg_quality rcparam was deprecated in Matplotlib 3.3 and will be removed two minor releases later.\n",
      "In c:\\users\\urse\\anaconda3\\envs\\untitled\\lib\\site-packages\\matplotlib\\mpl-data\\stylelib\\_classic_test.mplstyle: \n",
      "The keymap.all_axes rcparam was deprecated in Matplotlib 3.3 and will be removed two minor releases later.\n",
      "In c:\\users\\urse\\anaconda3\\envs\\untitled\\lib\\site-packages\\matplotlib\\mpl-data\\stylelib\\_classic_test.mplstyle: \n",
      "The animation.avconv_path rcparam was deprecated in Matplotlib 3.3 and will be removed two minor releases later.\n",
      "In c:\\users\\urse\\anaconda3\\envs\\untitled\\lib\\site-packages\\matplotlib\\mpl-data\\stylelib\\_classic_test.mplstyle: \n",
      "The animation.avconv_args rcparam was deprecated in Matplotlib 3.3 and will be removed two minor releases later.\n"
     ]
    },
    {
     "data": {
      "text/plain": [
       "(array([  23.,   81.,  112.,  159., 1706.,  151.,   71.,   21.,   19.,\n",
       "           9.]),\n",
       " array([-192.64438 , -148.74527 , -104.84615 ,  -60.947037,  -17.047924,\n",
       "          26.851189,   70.750305,  114.649414,  158.54852 ,  202.44765 ,\n",
       "         246.34676 ], dtype=float32),\n",
       " <BarContainer object of 10 artists>)"
      ]
     },
     "execution_count": 4,
     "metadata": {},
     "output_type": "execute_result"
    },
    {
     "data": {
      "image/png": "[encoded data removed]",
      "text/plain": [
       "<Figure size 720x360 with 1 Axes>"
      ]
     },
     "metadata": {
      "needs_background": "light"
     },
     "output_type": "display_data"
    }
   ],
   "source": [
    "import matplotlib.pyplot as plt\n",
    " \n",
    "plt.figure(figsize=(10,5))\n",
    "plt.subplot(211)\n",
    "plt.hist(flatten.numpy().ravel())"
   ]
  },
  {
   "cell_type": "code",
   "execution_count": 5,
   "metadata": {},
   "outputs": [
    {
     "name": "stdout",
     "output_type": "stream",
     "text": [
      "(1, 32)\n",
      "(1, 10)\n"
     ]
    }
   ],
   "source": [
    "layer = tf.keras.layers.Dense(32, activation='relu')\n",
    "layer2 = tf.keras.layers.Dense(10, activation='relu')\n",
    "\n",
    "# dense_output\n",
    "dense_output = layer(flatten)\n",
    "print(dense_output.shape) # (1,32) - 1은 batchsize\n",
    "\n",
    "dense_output = layer2(dense_output)\n",
    "print(dense_output.shape) # (1, 10) - 1은 batchsize"
   ]
  },
  {
   "cell_type": "markdown",
   "metadata": {},
   "source": [
    "## Dropout\n",
    "- 학습할때만 끊어주기 떄문에 가중치 모양의 변화는 없음\n",
    "- 추론할떄는 결국 또 전체 가중치선들사용"
   ]
  },
  {
   "cell_type": "code",
   "execution_count": 6,
   "metadata": {},
   "outputs": [
    {
     "name": "stdout",
     "output_type": "stream",
     "text": [
      "(1, 10)\n"
     ]
    }
   ],
   "source": [
    "dropout_layer = tf.keras.layers.Dropout(0.7)\n",
    "\n",
    "dropout_output = dropout_layer(dense_output)\n",
    "print(dropout_output.shape)"
   ]
  }
 ],
 "metadata": {
  "kernelspec": {
   "display_name": "Python 3",
   "language": "python",
   "name": "python3"
  },
  "language_info": {
   "codemirror_mode": {
    "name": "ipython",
    "version": 3
   },
   "file_extension": ".py",
   "mimetype": "text/x-python",
   "name": "python",
   "nbconvert_exporter": "python",
   "pygments_lexer": "ipython3",
   "version": "3.7.5"
  }
 },
 "nbformat": 4,
 "nbformat_minor": 4
}
