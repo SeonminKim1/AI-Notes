{
 "cells": [
  {
   "cell_type": "markdown",
   "id": "7e7d3a40",
   "metadata": {},
   "source": [
    "## 0. 형태소, 형태학, 형태소 종류\n",
    "- 형태소란 '의미를 가진 가장 작은 단위'를 뜻함\n",
    "- 형태학(morphology)이란, 형태소로부터 단어들을 만들어가는 학문을 뜻함\n",
    "- 형태소 두 가지 종류\n",
    "    - 1) 어간(stem) : 단어의 의미를 담고 있는 단어의 핵심 부분.\n",
    "    - 2) 접사(affix) : 단어에 추가적인 의미를 주는 부분.\n",
    "- 형태학적 파싱은 이 두 가지 구성 요소를 분리하는 작업\n",
    "\n",
    "## 0. 한국어 품사 (5언 9품사)\n",
    "- 언\t: 체언 / 품사 : 명사, 대명사, 수사\n",
    "- 언\t: 수식언 / 품사 : 관형사, 부사\n",
    "- 언\t: 관계언 / 품사 : 조사\n",
    "- 언\t: 독립언 / 품사 : 감탄사\n",
    "- 언\t: 용언 / 품사 : 동사, 형용사"
   ]
  },
  {
   "cell_type": "markdown",
   "id": "8cb9c91e",
   "metadata": {},
   "source": [
    "# 1. 정제(Cleaning) & 정규화(Normalization)\n",
    "- 토큰화 작업 전, 후에는 텍스트 데이터를 용도에 맞게 정제(cleaning) 및 정규화(normalization) 필요\n",
    "- 사실 완벽한 정제 작업은 어려운 편이라서, 대부분의 경우 이 정도면 됐다. 라는 일종의 합의점을 찾기도 합\n",
    "\n",
    "## 1-1 규칙에 기반한 표기가 다른 단어들의 통합\n",
    "- 정규화 규칙, 같은 의미를 갖고있음에도, 표기가 다른 단어들을 하나의 단어로 정규화\n",
    "    - ex) uh-huh와 uhhuh\n",
    "- 표기가 다른 단어들을 통합하는 방법\n",
    "    - 어간 추출(stemming)과 표제어 추출(lemmatizaiton)\n",
    "    \n",
    "## 1-2 불필요 단어 제거 \n",
    "- 등장 빈도가 적은 단어 (Removing Rare words)\n",
    "- 길이가 짧은 단어(Removing words with a very short length)"
   ]
  },
  {
   "cell_type": "markdown",
   "id": "dc658924",
   "metadata": {},
   "source": [
    "## 2-1 표제어 추출(Lemmatization) \n",
    "- 눈으로 봤을 때는 서로 다른 단어들이지만, 하나의 단어로 일반화시켜서 문서 내의 단어 수를 줄이겠다는 것\n",
    "- 기본 사전형 단어' 정도의 의미, 뿌리 단어를 찾아가서 단어의 개수를 줄일 수 있는지 판단\n",
    "- 표제어 추출을 하는 가장 섬세한 방법은 단어의 형태학적 파싱을 먼저 진행\n",
    "\n",
    "### 2-1-1 NLTK에서는 표제어 추출\n",
    "- WordNetLemmatizer를 지원\n",
    "- 표제어 추출은 어간 추출과는 달리 단어의 형태가 적절히 보존되는 양상을 보이는 특징\n",
    "- 표제어 추출기(lemmatizer)가 본래 단어의 품사 정보를 알아야만 정확한 결과를 얻을 수 있음\n",
    "- 표제어 추출은 문맥을 고려하며 수행했을 때의 해당 단어의 품사 정보를 보존(=POS 태그를 보존)"
   ]
  },
  {
   "cell_type": "code",
   "execution_count": 5,
   "id": "56128e37",
   "metadata": {},
   "outputs": [
    {
     "name": "stdout",
     "output_type": "stream",
     "text": [
      "['policy', 'doing', 'organization', 'have', 'going', 'love', 'life', 'fly', 'dy', 'watched', 'ha', 'starting']\n",
      "die\n",
      "watch\n",
      "have\n"
     ]
    }
   ],
   "source": [
    "# WordNetLemmatizer\n",
    "from nltk.stem import WordNetLemmatizer\n",
    "n = WordNetLemmatizer()\n",
    "words=['policy', 'doing', 'organization', 'have', 'going', 'love', 'lives', 'fly', 'dies', 'watched', 'has', 'starting']\n",
    "print([n.lemmatize(w) for w in words])\n",
    "print(n.lemmatize('dies', 'v'))\n",
    "print(n.lemmatize('watched', 'v'))\n",
    "print(n.lemmatize('has', 'v'))"
   ]
  },
  {
   "cell_type": "markdown",
   "id": "323ed9eb",
   "metadata": {},
   "source": [
    "## 2-2 어간 추출(Stemming)\n",
    "- 눈으로 봤을 때는 서로 다른 단어들이지만, 하나의 단어로 일반화시켜서 문서 내의 단어 수를 줄이겠다는 것\n",
    "- 어간 추출은 형태학적 분석을 단순화한 버전 / 섬세한 작업이 아니며, 어간 추출 후에 나오는 결과 단어는 사전에 존재하지 않는 단어일 수도 있음"
   ]
  },
  {
   "cell_type": "code",
   "execution_count": 6,
   "id": "c9c749a3",
   "metadata": {},
   "outputs": [
    {
     "name": "stdout",
     "output_type": "stream",
     "text": [
      "['This', 'was', 'not', 'the', 'map', 'we', 'found', 'in', 'Billy', 'Bones', \"'s\", 'chest', ',', 'but', 'an', 'accurate', 'copy', ',', 'complete', 'in', 'all', 'things', '--', 'names', 'and', 'heights', 'and', 'soundings', '--', 'with', 'the', 'single', 'exception', 'of', 'the', 'red', 'crosses', 'and', 'the', 'written', 'notes', '.']\n"
     ]
    }
   ],
   "source": [
    "from nltk.stem import PorterStemmer # 어간 추출 알고리즘\n",
    "from nltk.tokenize import word_tokenize\n",
    "s = PorterStemmer()\n",
    "text=\"This was not the map we found in Billy Bones's chest, but an accurate copy, complete in all things--names and heights and soundings--with the single exception of the red crosses and the written notes.\"\n",
    "words=word_tokenize(text)\n",
    "print(words)"
   ]
  }
 ],
 "metadata": {
  "kernelspec": {
   "display_name": "Python 3 (ipykernel)",
   "language": "python",
   "name": "python3"
  },
  "language_info": {
   "codemirror_mode": {
    "name": "ipython",
    "version": 3
   },
   "file_extension": ".py",
   "mimetype": "text/x-python",
   "name": "python",
   "nbconvert_exporter": "python",
   "pygments_lexer": "ipython3",
   "version": "3.8.0"
  }
 },
 "nbformat": 4,
 "nbformat_minor": 5
}
