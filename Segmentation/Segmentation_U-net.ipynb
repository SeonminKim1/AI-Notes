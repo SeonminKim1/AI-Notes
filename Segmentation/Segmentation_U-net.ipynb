{
 "cells": [
  {
   "cell_type": "markdown",
   "metadata": {},
   "source": [
    "### U-Net (2015)\n",
    "- Constracting Path : Context를 확인 (대략적인 느낌을 이해하는)\n",
    "\n",
    "- Upsampling 부분\n",
    "    - Expanding Path : Localization\n",
    "    - 정확한 위치를 판별해야 하기 때문에 보다 세부적으로\n",
    "    - 해상도를 천천히 높여가는 것\n",
    "    \n",
    "![unet1](readme_img/unet1.png)\n",
    "\n",
    "<hr>"
   ]
  },
  {
   "cell_type": "markdown",
   "metadata": {},
   "source": [
    "\n",
    "### Overlap-tile\n",
    "- Patch : Image recognition unit, 한번에 많은 부분을 보기 어려우니 이미지를 Patch로 나눠서 보자\n",
    "- Input(572x572) => Patch로 뽑아낸건 388x388 => 나머지 padding부분을 어쩔것인가\n",
    "    - 일반적으론 zeropadding을 쓰는데, Mirror Padding 사용 (해당 부분을 대칭으로 채움)\n",
    "- Mirror padding작업시 다음 타일에서 이전 타일의 부분이 겹쳐져있어서 속도적인 부분도 개선 됨.\n",
    "![unet_mirroring](readme_img/unet_mirroring.jpg)\n"
   ]
  },
  {
   "cell_type": "markdown",
   "metadata": {},
   "source": [
    "<hr>\n",
    "\n",
    "### Constracting Path\n",
    "- 3x3 convolution, ReLU\n",
    "- 2x2 ma pooling stride 2\n",
    "- Downsampling 2x feature channel\n",
    "\n",
    "### Expanding Path\n",
    "- 2x2 convolution (up-convolution)\n",
    "- feature channel / 2\n",
    "- Contracting Path의 Feature들을 Copy and Crop\n",
    "- Expanding Path Concatenation (ResNet은 더하기, DenseNet은 Concatenation)\n",
    "- sum이 아닌 Concatenation\n",
    "\n",
    "### Weighted Cross Entropy\n",
    "- 같은 클래스가 서로 인접해 있는 경우 잘 분류하고자 사용\n",
    "- 두개의 거리가 굉장히 인접해 있는데, 같은 클래스일때 Weighted Cross Entropy 이 크게 학습되어서 경계값을 분류할 수 있다고 함.\n",
    "\n",
    "### Data Augmentation\n",
    "- 3 by 3 elastic 변환 행렬을 사용하여 진행\n",
    "- Affine Transform (Rotation, Shearing, Translation, Scailing)\n",
    "- Elastic Distortion (벡터맵의 크기와 방향에 따라서 조절)\n",
    "![elastic distortion](readme_img/elastic distortion.jpg)\n"
   ]
  },
  {
   "cell_type": "markdown",
   "metadata": {},
   "source": [
    "<hr>\n",
    "\n",
    "### 결과\n",
    "- Stochastic Gradient Descent 사용, batch size를 좀 작게 학습 -> overlap-tile 방식을 통해서 큰 Receptied Field를 확보하는 것이 좋다라는 생각\n"
   ]
  }
 ],
 "metadata": {
  "kernelspec": {
   "display_name": "Python 3",
   "language": "python",
   "name": "python3"
  },
  "language_info": {
   "codemirror_mode": {
    "name": "ipython",
    "version": 3
   },
   "file_extension": ".py",
   "mimetype": "text/x-python",
   "name": "python",
   "nbconvert_exporter": "python",
   "pygments_lexer": "ipython3",
   "version": "3.8.5"
  }
 },
 "nbformat": 4,
 "nbformat_minor": 4
}
