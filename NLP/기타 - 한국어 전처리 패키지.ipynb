{
 "cells": [
  {
   "cell_type": "markdown",
   "id": "7169f252",
   "metadata": {},
   "source": [
    "## 자연어 처리를 위한 KoNLPy 패키지\n",
    "- KoNLPy를 통해서 사용할 수 있는 형태소 분석기\n",
    "    - Okt(Open Korea Text), 메캅(Mecab), 코모란(Komoran), 한나눔(Hannanum), 꼬꼬마(Kkma)가 존재\n",
    "    \n",
    "\n",
    "## 한국어에 대한 문장 토큰화 도구\n",
    "- 박상길님이 개발한 KSS(Korean Sentence Splitter)\n",
    "\n",
    "## PyKoSpacing\n",
    "- 전희원님이 개발한 PyKoSpacing은 한국어 띄어쓰기 패키지로 띄어쓰기가 되어있지 않은 문장을 띄어쓰기를 한 문장으로 변환해주는 패키지\n",
    "- !pip install git+https://github.com/haven-jeon/PyKoSpacing.git\n",
    "\n",
    "## Py-Hanspell\n",
    "- !pip install git+https://github.com/ssut/py-hanspell.git\n",
    "- 네이버 한글 맞춤법 검사기를 바탕으로 만들어진 패키지"
   ]
  },
  {
   "cell_type": "markdown",
   "id": "b956705a",
   "metadata": {},
   "source": [
    "## SOYNLP를 이용한 단어 토큰화 (신조어, 학습기반) \n",
    "- !pip install soynlp\n",
    "- soynlp는 품사 태깅, 단어 토큰화 등을 지원하는 단어 토크나이저\n",
    "- 비지도 학습으로 단어 토큰화 / 데이터에 자주 등장하는 단어들을 단어로 분석\n",
    "- soynlp 단어 토크나이저는 내부적으로 단어 점수 표로 동작하며, 이 점수는 응집 확률(cohesion probability)과 브랜칭 엔트로피(branching entropy)를 활용\n",
    "- soynlp는 기본적으로 학습에 기반한 토크나이저이므로 학습에 필요한 한국어 문서를 다운로드\n",
    "- soynlp는 학습 기반의 단어 토크나이저이므로 기존의 KoNLPy에서 제공하는 형태소 분석기들과는 달리 학습 과정을 거쳐야 합\n",
    "- 전체 코퍼스로부터 응집 확률과 브랜칭 엔트로피 단어 점수표를 만드는 과정\n",
    "    - WordExtractor.extract()를 통해서 전체 코퍼스에 대해 단어 점수표를 계산\n"
   ]
  }
 ],
 "metadata": {
  "kernelspec": {
   "display_name": "Python 3 (ipykernel)",
   "language": "python",
   "name": "python3"
  },
  "language_info": {
   "codemirror_mode": {
    "name": "ipython",
    "version": 3
   },
   "file_extension": ".py",
   "mimetype": "text/x-python",
   "name": "python",
   "nbconvert_exporter": "python",
   "pygments_lexer": "ipython3",
   "version": "3.8.0"
  }
 },
 "nbformat": 4,
 "nbformat_minor": 5
}
