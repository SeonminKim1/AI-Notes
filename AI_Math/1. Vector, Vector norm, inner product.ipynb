{
 "cells": [
  {
   "cell_type": "markdown",
   "id": "4d03d3ea",
   "metadata": {},
   "source": [
    "### 1. Vector 란\n",
    "-  벡터(Vector)란 크기(magnitude)와 방향(direction)을 모두 가진 수량(quantity)을 이르는 말\n",
    "- 원점으로부터 상대적 위치를 표현하며, 벡터에 Scalar를 곱해주면 길이가 변함\n",
    "- 1차원은 열벡터, 행백터라 지칭하며 2차원은 행렬이 존재.\n",
    "<hr>\n",
    "\n",
    "### 2. Vector의 연산\n",
    "- 벡터는 숫자를 원소를 가지는 list나 배열(array), 벡터끼리 같은 모양이면 덧셈, 뺄셈 등 가능\n",
    "\n",
    "<hr>"
   ]
  },
  {
   "cell_type": "markdown",
   "id": "a63a36b1",
   "metadata": {},
   "source": [
    "### 3. Vecotr Norm(노름)\n",
    "- 노름이란 벡터 혹은 행렬의 길이 혹은 크기를 계산할 때 사용 되는 개념이며 임의의 차원 d에 대해 성립\n",
    "- 노름의 종류에 따라 기하학적 성질이 달라지며, 각 성질들이 필요할 때 사용\n",
    "![vector_norm](img/vector_norm.png)\n",
    "\n",
    "![vector_norm2](img/vector_norm2.png)\n",
    "\n",
    "- $||·||$ : 일반적인 노름 표현 방법\n",
    "- $||x||_1$ : 1-노름, x요소들의 변화량의 절대값의 합\n",
    "    - Robust 학습 / Lasso 회귀\n",
    "- $||x||_2$ : 2-노름, x요소들의 제곱값들을 모두 더한 후 제곱근\n",
    "    - 일반적으로 유클리디언 거리 계산시 많이 사용되서 유클리디언이라고 불림\n",
    "    - Laplace 근사, Ridge 회귀"
   ]
  },
  {
   "cell_type": "markdown",
   "id": "bcaf2dd3",
   "metadata": {},
   "source": [
    "<hr>"
   ]
  },
  {
   "cell_type": "code",
   "execution_count": 4,
   "id": "98a2d5dc",
   "metadata": {},
   "outputs": [
    {
     "name": "stdout",
     "output_type": "stream",
     "text": [
      "l1_norm : 45\n",
      "l2_norm : 16.881943016134134\n"
     ]
    }
   ],
   "source": [
    "import numpy as np\n",
    "\n",
    "# l1 norm , l2 norm\n",
    "def l1_norm(x):\n",
    "    return np.sum(np.abs(x)) # 절댓값들의 모든 합\n",
    "\n",
    "def l2_norm(x):\n",
    "    return np.sqrt(np.sum(x*x))\n",
    "\n",
    "x = np.array([[1,2,3],[4,5,6],[7,8,9]])\n",
    "\n",
    "print('l1_norm :', l1_norm(x))\n",
    "print('l2_norm :', l2_norm(x))"
   ]
  },
  {
   "cell_type": "markdown",
   "id": "3bbd1d45",
   "metadata": {},
   "source": [
    "### 4. 벡터 내적 (Inner Product. Dot Product)\n",
    "\n",
    "- 벡터 내적이란 두 벡터간 대응하는 원소들의 곱을 모두 더한 것\n",
    "![vector_dotproduct0](img/vector_dotproduct0.png)\n",
    "\n",
    "\n",
    "- 일반적인 벡터의 내적: 일반적으로 두 벡터간 유사도를 측정하는데 많이 사용됨\n",
    "- 딥러닝의 벡터의 내적: 신경망의 각 '뉴런 노드의 입력'과 '가중치'의 계산에 사용\n",
    "\n",
    "![vector_dotproduct](img/vector_dotproduct.png)\n",
    "- 정사영된 벡터를, 스칼라 곱을 취해 기존 벡터와 유사도 비교\n",
    "- input vector와 weight vector 2개 벡터의 dot product 작업임\n",
    "\n",
    "<hr>"
   ]
  },
  {
   "cell_type": "markdown",
   "id": "faee55d0",
   "metadata": {},
   "source": [
    "### 5. 두 벡터간 각도(Θ) 구하기\n",
    "\n",
    "![cosine_rule](img/cosine_rule.png)\n",
    "\n",
    "- 제 1 코사인 법칙\n",
    "    - $a = b*cosC + c*cosB$\n",
    "    - $b = a*cosC + c*cosA$\n",
    "    - $c = a*cosB + b*cosA$\n",
    "\n",
    "\n",
    "- 제 2 코사인 법칙\n",
    "    - $c^2 = a^2 + b^2 -2cosΘ*a*b$\n",
    "    - 삼각형의 세 변과 한 각의 코사인 사이에 성립하는 정리, 피타고라스의 정리에 대한 일반화\n",
    "    - 삼각형의 두 변의 제곱합에서 사잇각의 코사인과 그 두 변의 곱의 2배를 빼면, 남은 변의 제곱과 같아짐 \n",
    "    "
   ]
  },
  {
   "cell_type": "code",
   "execution_count": 10,
   "id": "9a49fce1",
   "metadata": {},
   "outputs": [
    {
     "name": "stdout",
     "output_type": "stream",
     "text": [
      "각도는 : 0.26625204915092515\n"
     ]
    }
   ],
   "source": [
    "def angle(x, y):\n",
    "    # 벡터 내적 / l2_norm(x)*l2_norm(y)\n",
    "    theta = np.arccos(np.inner(x, y) / (l2_norm(x) * l2_norm(y)))\n",
    "    return theta\n",
    "\n",
    "x = np.array([1,5])\n",
    "y = np.array([1,2])\n",
    "\n",
    "# 각도\n",
    "print('각도는 :', angle(x,y))"
   ]
  },
  {
   "cell_type": "markdown",
   "id": "412edee1",
   "metadata": {},
   "source": [
    "## 참고문헌\n",
    "- https://www.aitimes.kr/news/articleView.html?idxno=17314"
   ]
  }
 ],
 "metadata": {
  "kernelspec": {
   "display_name": "Python 3",
   "language": "python",
   "name": "python3"
  },
  "language_info": {
   "codemirror_mode": {
    "name": "ipython",
    "version": 3
   },
   "file_extension": ".py",
   "mimetype": "text/x-python",
   "name": "python",
   "nbconvert_exporter": "python",
   "pygments_lexer": "ipython3",
   "version": "3.8.5"
  }
 },
 "nbformat": 4,
 "nbformat_minor": 5
}
