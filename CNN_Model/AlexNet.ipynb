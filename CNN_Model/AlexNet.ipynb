{
 "cells": [
  {
   "cell_type": "markdown",
   "metadata": {},
   "source": [
    "## AlexNet\n",
    "- 토론토 대학 Geoffery E.Hinton 팀이 제안 2012 우승\n",
    "- GPU-1 에서는 주로 컬러와 상관없는 정보를 추출하기 위한 Kernel이 학습\n",
    "- GPU-2 에서는 주로 컬러에 관련된 정보를 추출하기 위한 Kernel 학습\n",
    "- GPU GTX580 2개 사용\n",
    "- 65만개의 뉴런, 6000만개의 free parameter, 6억 3000만개의 connection 으로 구성\n",
    "\n",
    "<hr>\n",
    "\n",
    "#### AlexNet 구조\n",
    "- 전체적으로 2개의 GPU 기반한 병렬 구조인 점을 빼면 Lenet5와 크게 다르지 않음\n",
    "- 8계층의 구조(5개의 컨볼루션 레이어와, 3개의 fully-connected 레이어로 구성)\n",
    "- 기존 Lenet은 흑백영상이라 5x5 kernel을 사용 -> imagenet은 depth가 3\n",
    "- 풀링들은 최대풀링을 overlapping 하여 사용 (lenet-5은 평균 풀링을 non-overlapping 하여 사용) / 신호가 강한 것들을 살리자는 느낌\n",
    "- 첫번째 Convolutional layer의 Kernel의 크기가 11x11x3 크기로 비교적 큰 receptive field를 사용\n",
    "- 첫번째 convolutional layer에서는 stride의 크기를 4로 적용 연산결과 55x55x96이 됨\n",
    "- 두번쨰 convolution layer의 kernel = 5x5x48\n",
    "- 세번째 convolution layer연산전 response normalization과 pooling과정을 거쳐 영상의 크기를 27x27x256으로 줄인다.\n",
    "- 세번째 convolution 후 3x3x256의 kernel을 사용하여 convolution 연산 수행 및 384개의 feature-map을 가지며 이때 GPU-1, 2 의 결과를 모두 섞어 사용한다.\n",
    "- 세번째 GPU-1,2 섞은 후 Response normalization과 pooling 과정을 거쳐 영상의 크기를 13x13x384크기의 영상을 얻으며\n",
    "- 네번째와 다섯번째는 첫번쨰 두번쨰와 똑같이 진행\n",
    "- Fully Connected layer에서는 4096(2048x2) -> 4096(2048x2) -> 1000\n",
    "\n",
    "![alexnet](img/alexnet.png)\n",
    "\n",
    "<hr>\n",
    "\n",
    "#### AlexNet 성능개선을 위한 고려\n",
    "- AlexNet의 등장은 딥러닝, 특히 CNN이 본격적으로 주목 받게되는 계기가 되었고 여기서 소개된 ReLU, Dropout 등은 지금도 표준으로 사용되고 있음\n",
    "- **(1) ReLU함수를 사용한 첫 모델 / FC 층에 드롭아웃(dropout) 기법 사용**\n",
    "- (2) 2개의 GPU로 병렬연산을 수행하기 위해서 병렬적인 구조로 설계되었음. -> 이후 연구자들이 GPU를 사용하는것이 대세가 되었음\n",
    "- **(3) Overfitting을 방지가히위한 dropout 방법 사용**\n",
    "- (4) data aumentation 방법을 통해 데이터의 양을 늘렸음\n",
    "- **(5) local response normalization (LRN) : 활성화된 뉴런들 중 강한 자극들이 보이고 약한 자극들은 더 안보이게 하는 Normalization 방법을 사용하였음**\n",
    "- 논문에서는 224x224이나 완전체 구현을 위해선 227x227이 맞음"
   ]
  },
  {
   "cell_type": "code",
   "execution_count": null,
   "metadata": {},
   "outputs": [],
   "source": []
  }
 ],
 "metadata": {
  "kernelspec": {
   "display_name": "Python 3",
   "language": "python",
   "name": "python3"
  },
  "language_info": {
   "codemirror_mode": {
    "name": "ipython",
    "version": 3
   },
   "file_extension": ".py",
   "mimetype": "text/x-python",
   "name": "python",
   "nbconvert_exporter": "python",
   "pygments_lexer": "ipython3",
   "version": "3.8.5"
  }
 },
 "nbformat": 4,
 "nbformat_minor": 4
}
