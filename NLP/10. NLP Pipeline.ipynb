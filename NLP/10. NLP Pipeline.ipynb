{
 "cells": [
  {
   "cell_type": "markdown",
   "id": "46dbe713",
   "metadata": {},
   "source": [
    "## NLP Pipeline\n",
    "\n",
    "### 1. 코퍼스 수집 \n",
    "- 데이터셋 수집\n",
    "\n",
    "### 2. 정제\n",
    "- 수집한 데이터 말 뭉치 문장 단위 정렬\n",
    "- 특수 문자 노이즈 제거 등\n",
    "\n",
    "### 3. 분절\n",
    "- 각 언어별 형태소 분석기 또는 분절기(tokenizer, segmenter)를 사용 띄어쓰기를 정제\n",
    "- 영어의 경우 대소문자 이슈\n",
    "- KoNLPY, Mecab등 형태소 분석기 사용\n",
    "- 띄어쓰기 정제된 이후, Subword, WordPiece와 같은 공개 툴 사용 BPE(Byte pair encoding) 수행, 추가적인 분절 및 어휘 목록 구성\n",
    "- BPE 분절을 위해 학습한 분절 모델은 추후 사용을 위해 잘 보관\n",
    "\n",
    "### 4. 미니배치 구성\n",
    "- 미니배치 내 문장들의 길이를 최대한 같도록 통일 -> 훈련 시간의 낭비를 최소화 가능 \n",
    "- 5단어짜리 문장과 70단어 짜리 문장이 공존시, 5단어 짜리의 문장에는 65 time-step을 더 진행해야 함\n",
    "- 5단어와 비슷한 길이의 문장끼리 모아 미니배치 구성하여 훈련 시간을 줄임\n",
    "\n",
    "### 5. 훈련\n",
    "-준비된 데이터셋을 사용해 seq2seq 모델 훈련\n",
    "\n",
    "### 6. 추론\n",
    "- 성능 평가(evaluation)을 위한 추론 수행, 사전에 잘 준비된 테스트셋 사용 추론 수행\n",
    "\n",
    "### 7. 분절 복원\n",
    "- 추론 과정이 종료 후 분절이 되어있는 데이터는 실제 사용하는 문장 구성과는 아직 다름\n",
    "-분절 복원 작업 (detokenization)을 수행하여 실제 사용하는 문장의 형태로 반환\n",
    "\n",
    "### 8. 성능 평가\n",
    "- 정량 평가 수행\n",
    "- 기계번역용 정량 평가방법은 BLEU\n"
   ]
  }
 ],
 "metadata": {
  "kernelspec": {
   "display_name": "Python 3",
   "language": "python",
   "name": "python3"
  },
  "language_info": {
   "codemirror_mode": {
    "name": "ipython",
    "version": 3
   },
   "file_extension": ".py",
   "mimetype": "text/x-python",
   "name": "python",
   "nbconvert_exporter": "python",
   "pygments_lexer": "ipython3",
   "version": "3.8.5"
  }
 },
 "nbformat": 4,
 "nbformat_minor": 5
}
