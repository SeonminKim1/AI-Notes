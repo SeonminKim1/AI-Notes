{
 "cells": [
  {
   "cell_type": "markdown",
   "id": "b2c3cc26",
   "metadata": {},
   "source": [
    "## 1. 감성분석 관련 연구 방향\n",
    "- 1. Fine-grained Sentiment Analysis\n",
    "    - 긍정(positive), 중립(neutral), 부정(negative)과 같은 극성을 분석\n",
    "    - 1) 감성사전이 갖고 있는 단어들의 기본 감성극성을 이용하는 방법,\n",
    "    - 2) 감성사전으로 학습된 모델을 통한 임베딩을 이용하는 방법\n",
    "    - 3) 인공신경망 구조를 변형하는 방법 (미래)\n",
    "\n",
    "- 2. Emotion Detection\n",
    "    - 기쁨(hippiness), 분노(anger), 두려움(fear), 슬픔(sadness), 놀람(surprise)과 같은 감정을 분석\n",
    "- 3. Aspect-based Sentiment Analysis\n",
    "    - 어떤 단어나 문장이 감성 분석에 있어서 가장 큰 영향을 미쳤는지 판단\n",
    "\n",
    "<hr>"
   ]
  },
  {
   "cell_type": "markdown",
   "id": "55488e1a",
   "metadata": {},
   "source": [
    "## 2. 감성분석 방법론\n",
    "\n",
    "![sentiment_analysis](img/sentiment_analysis.png)\n",
    "\n",
    "### 2.1 어휘기반 (Lexicon-based approach)\n",
    "- 감성 텍스트를 좋음, 나쁨, 기쁨, 슬픔 등과 같은 효과단어에 기반을 두어 카테고리 분류\n",
    "- 2.1.1 Manual\n",
    "    - 감성 사전을 수동(Manual)으로 구축하는 방법\n",
    "    - 문서의 각 단어가 가지는 긍정(1) 부정(-1)정도를 사이점수로 레이블링한 것\n",
    "    - 감성이 들어갈 수 있는 품사인 명사, 형용사, 동사 키워드를 추출한 뒤 긍/부정 레이블링\n",
    "    - 단점\n",
    "        - 도메인에 따라 사용하는 어휘가 달라지고 긍/부정 점수도 달라질 수 있음\n",
    "        - 모든 도메인에 적용할 수 있는 감성 사전을 구축하는 것이 매우 어려움\n",
    "\n",
    "- 2.2.2 사전기반 접근 방법\n",
    "    - 매 분석마다 새로운 사전을 쓰는 것이 아닌, 기존에 잘 구축되어 있는 외부 사전을 차용\n",
    "    - 단점\n",
    "        - 도메인 확장성이 없다는 단점\n",
    "        - 영화리뷰/침대리뷰 데이터에서 '졸리다' 라는 단어가 서로 긍/부정이 다름\n",
    "\n",
    "- 2.2.3 말뭉치 기반 접근방법(Corpus-based)\n",
    "    - 해당 말뭉치에 맞는 적절한 감성 어휘를 재구축하는 말뭉치 기반(Corpus-based)의 접근 방법\n",
    "    - 도메인 의존성을 극복가능 but. 많은 데이터가 필요\n",
    "    \n",
    "    \n",
    "### 2.2 기계학습 기반 (ML Approach)\n",
    "-  RNTN(Recursive Neural Tensor Network) /  RecursiveNN / MV-RNN\n",
    "- 한글 텍스트에서는 띄어쓰기 기준(어절 기반 분석)을 할 때 분석하기 어려운 단어 혹은 미학습 단어가 등장하는 문제 발생\n",
    "- 한글 텍스트 분석에서는 의미를 가지는 가장 작은 단위인 형태소를 가장 많이 사용\n",
    "\n",
    "<hr>"
   ]
  },
  {
   "cell_type": "markdown",
   "id": "6fe57882",
   "metadata": {},
   "source": [
    "## 3. 감성 사전 종류\n",
    "\n",
    "### 3.1 KNU 한국어 단어사전\n",
    "- 인간의 보편적인 도메인의 기본 감정을 표현하는 감성 어휘들로 구성\n",
    "\n",
    "### 3.2 서울대 KOSAC\n",
    "- 말뭉치를 활용하여 한국어 감정 어휘 목록을 구축\n",
    "- 도메인 코퍼스의 형태소 분석을 통해 감성을 표현하는 품사를 지니는 어휘 추출\n",
    "- 모든 어휘 간 유사도를 글로브 벡터활용 계산, 유사도 행렬로 구축\n",
    "- 표준국어대사전, SentiWordNet, SenticNet-5.0 등 에서 주로 사용되는 긍/부정어를 추출\n",
    "- 온라인에서 많이 사용되는 축약어, 긍/부정 이모티콘 목록을 통해 각 단어의 뜻풀이를 분석하여 구축됨\n",
    "- 1-gram, 2-gram, n-gram, 축약어, 이모티콘 등의 다양한 종류의 긍 /부정어가 포함된 것이 특징\n",
    "- 표준국어대사전을 구성하는 모든 단어의 긍/부정 판별은 극성에 따라 매우 부정, 부정, 중립, 긍정, 매우 긍정으로 5단계로 나뉨\n",
    "\n",
    "<hr>"
   ]
  },
  {
   "cell_type": "markdown",
   "id": "60f7b6cf",
   "metadata": {},
   "source": [
    "## 참고문헌\n",
    "- https://yngie-c.github.io/nlp/2020/07/31/sentiment_analysis/ : 감성분석 방법론\n"
   ]
  }
 ],
 "metadata": {
  "kernelspec": {
   "display_name": "Python 3",
   "language": "python",
   "name": "python3"
  },
  "language_info": {
   "codemirror_mode": {
    "name": "ipython",
    "version": 3
   },
   "file_extension": ".py",
   "mimetype": "text/x-python",
   "name": "python",
   "nbconvert_exporter": "python",
   "pygments_lexer": "ipython3",
   "version": "3.8.5"
  }
 },
 "nbformat": 4,
 "nbformat_minor": 5
}
