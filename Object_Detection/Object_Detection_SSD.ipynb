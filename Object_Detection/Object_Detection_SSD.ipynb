{
 "cells": [
  {
   "cell_type": "markdown",
   "metadata": {},
   "source": [
    "## Object Detection Model 비교\n",
    "\n",
    "- R-CNN 계열들은 높은 정밀도를 가지지만, FPS가 받쳐주지 못함\n",
    "- 2 Stage Detector에서 -> 1 Stage Detector로 가면서 YOLO, YOLO V2, SSD 등이 등장\n",
    "\n",
    "![object_detection_flow](img/object_detection_flow.PNG)\n",
    "\n",
    "\n",
    "## YOLO 문제점 및 한계\n",
    "- Yolo는 속도를 Faster R-CNN(7FPS) -> YOLO(45FPS)까지 올리는 비약적인 발전을 이룸\n",
    "- 하지만, YOLO의 7x7 그리드 크기보다 작은 물체들은 잘 잡아내지 못한다는 한계점 존재\n",
    "- 신경망을 모두 통과하며 컨볼루션과 풀링을 거치다보니 Coarse한 마지막 단 피쳐맵만 사용하여 정확도 하락\n",
    "\n",
    "\n",
    "<hr>\n"
   ]
  },
  {
   "cell_type": "markdown",
   "metadata": {},
   "source": [
    "\n",
    "## SSD 특징 (1) Multi Scale Feature Maps for Detection\n",
    "- SSD: Single Shot MultiBox Detector\n",
    "- SSD는 Yolo와 달리 컨볼루션 과정을 거치는 중간 중간 피쳐맵들에서 모두 Object Detection을 진행함\n",
    "- SSD는 input 300x300 크기의 이미지를 입력 및 ImageNet pretrained된 VGG-16 통과\n",
    "- **컨볼루션을 거치면서 디테일한 정보들이 사라지는 문제점을 앞단의 피쳐맵들을 끌어오는 방식으로 해결**\n",
    "- **최종적으로 1x1 크기의 피쳐맵까지 뽑음**\n",
    "\n",
    "![SSD_VS_YOLO](img/SSD_VS_YOLO.png)\n",
    "\n",
    "<hr>"
   ]
  },
  {
   "cell_type": "markdown",
   "metadata": {},
   "source": [
    "## SSD 특징 (2) Detector & Classifier\n",
    "\n",
    "![detector_classifier](img/detector_classifier.png)\n",
    "\n",
    "- (1) Default Box Generator\n",
    "    - Default Box란 Faster R-CNN의 Anchor와 같은 개념.\n",
    "    - 비율과 크기가 각기 다른 기본 박스를 설정하고, Bbox추론에 도움주는 장치\n",
    "    - 그리드마다 크기가 각기 다른 75 default boxes 생성\n",
    "    - **높은 해상도의 피쳐맵에서는 작은 물체를 더 잘잡아낼 수 있고, 낮은 해상도의 피쳐맵에서는 큰 물체를 더 잘 잡아낼 수 있기에 비율과 크기가 각기 다른 Default Box를 투영**\n",
    "    - 각각의 찾아낸 박스들의 Bbox Regression 적용 및 Confidence Level계산\n",
    "\n",
    "![ssd_default_box.png](img/ssd_default_box.png)\n",
    "\n",
    "- (2) Conv 3x3 (localization)\n",
    "    - 3x3 conv 적용을 통한 Bounding box regression 계산\n",
    "    - 각각의 default box들의 x,y,w,h의 조절값을 나타내며 4차원 벡터에 해당\n",
    "    \n",
    "- (3) Conv 3x3 (Confidence)\n",
    "    - 각각의 Default Box마다 모든 클래스에 대하여 Classification 진행\n",
    "    - 20개의 클래스 + 1(배경클래스) x Default Box\n",
    "    \n",
    "<hr>\n"
   ]
  },
  {
   "cell_type": "markdown",
   "metadata": {},
   "source": [
    "## SSD 특징 : Hard Negative Mining\n",
    "- Matching 단계가 지난 후 대부분의 Default box들은 negative(background) 일 것\n",
    "- 이것은 positive와 negative 학습 데이터의 언밸런스 문제로 이어지며 해당 비율을 (n)3:1(p)로 사용.\n",
    "\n",
    "![SSD_Hard Negative Mining](img/SSD_Hard Negative Mining.PNG)\n",
    "\n"
   ]
  },
  {
   "cell_type": "markdown",
   "metadata": {},
   "source": [
    "\n",
    "## Loss Function\n",
    "- 전체적으로 로스는 Yolo의 로스 펑션과 매우 유사합니다. \n",
    "- 전체 로스는 각 클래스 별로 예측한 값과 실제 값 사이의 차인 Lconf와 바운딩 박스 리그레션 예측 값과 실제 값 사이의 차인 Lloc를 더한 값입니다. Lconf 먼저 더 자세히 들여다 보겠습니다.\n",
    "\n",
    "![SSD_LossFunction2](img/SSD_LossFunction2.png)\n"
   ]
  },
  {
   "cell_type": "markdown",
   "metadata": {},
   "source": [
    "## 결론\n",
    "- multiple categories 1-stage detector\n",
    "- Data Augmentation 성능 8% 증가\n",
    "- 많은 Default box모양을 사용\n",
    "    - 많은 종류의 box사용시 더 box를 잘예측함\n",
    "- **층을 거치며 여러 개의 featuremap으로부터 다양한 크기의 bounding box를 가져오는 것**\n"
   ]
  },
  {
   "cell_type": "markdown",
   "metadata": {},
   "source": [
    "## 참고문헌\n",
    "- https://yeomko.tistory.com/20\n",
    "- https://hohodu.tistory.com/8\n"
   ]
  }
 ],
 "metadata": {
  "kernelspec": {
   "display_name": "Python 3",
   "language": "python",
   "name": "python3"
  },
  "language_info": {
   "codemirror_mode": {
    "name": "ipython",
    "version": 3
   },
   "file_extension": ".py",
   "mimetype": "text/x-python",
   "name": "python",
   "nbconvert_exporter": "python",
   "pygments_lexer": "ipython3",
   "version": "3.7.5"
  }
 },
 "nbformat": 4,
 "nbformat_minor": 4
}
