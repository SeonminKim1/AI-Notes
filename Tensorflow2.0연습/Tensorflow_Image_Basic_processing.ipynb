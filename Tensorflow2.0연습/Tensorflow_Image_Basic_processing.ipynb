{
 "cells": [
  {
   "cell_type": "markdown",
   "metadata": {},
   "source": [
    "## dataset 목록\n",
    "- tf.keras.dataset import keras\n",
    "    - boston_housing\n",
    "    - cifar10\n",
    "    - cifar100\n",
    "    - fashion_mnist\n",
    "    - mnist\n",
    "    - imdb\n",
    "    - reuters"
   ]
  },
  {
   "cell_type": "code",
   "execution_count": 2,
   "metadata": {},
   "outputs": [
    {
     "name": "stdout",
     "output_type": "stream",
     "text": [
      "(60000, 28, 28) (60000,) (10000, 28, 28) (10000,)\n"
     ]
    }
   ],
   "source": [
    "import tensorflow as tf\n",
    "import matplotlib.pyplot as plt\n",
    "\n",
    "import numpy as np\n",
    "\n",
    "from tensorflow.keras import datasets\n",
    "\n",
    "mnist = datasets.mnist\n",
    "(train_x, train_y), (test_x, test_y) = datasets.mnist.load_data()\n",
    "print(train_x.shape, train_y.shape, test_x.shape, test_y.shape)"
   ]
  },
  {
   "cell_type": "markdown",
   "metadata": {},
   "source": [
    "## Image Dataset 들여다보기\n",
    "- 단 시각화시에는 2차원이여야함"
   ]
  },
  {
   "cell_type": "code",
   "execution_count": 7,
   "metadata": {},
   "outputs": [
    {
     "name": "stdout",
     "output_type": "stream",
     "text": [
      "(28, 28)\n"
     ]
    },
    {
     "data": {
      "text/plain": [
       "<matplotlib.image.AxesImage at 0x28fe11f1248>"
      ]
     },
     "execution_count": 7,
     "metadata": {},
     "output_type": "execute_result"
    },
    {
     "data": {
      "image/png": "[encoded data removed]",
      "text/plain": [
       "<Figure size 432x288 with 1 Axes>"
      ]
     },
     "metadata": {
      "needs_background": "light"
     },
     "output_type": "display_data"
    }
   ],
   "source": [
    "image = train_x[0]\n",
    "print(image.shape)\n",
    "plt.imshow(image, 'gray')"
   ]
  },
  {
   "cell_type": "markdown",
   "metadata": {},
   "source": [
    "## Channel 축소, 증가\n",
    "- 데이터 차원수 늘리기(numpy)\n",
    "- (1) numpy 함수 : np.expand_dims\n",
    "- (2) tensorflow 함수 : tf.expand_dims\n",
    "- 0이면 맨 앞에 차원수 늘림 / -1이면 맨 뒤에 차원수 늘림\n",
    "- (3) newaxis 사용방법\n",
    "- (4) reshape 사용방법\n",
    "- 축소 방법 : np.squeeze"
   ]
  },
  {
   "cell_type": "code",
   "execution_count": 11,
   "metadata": {},
   "outputs": [
    {
     "name": "stdout",
     "output_type": "stream",
     "text": [
      "(1, 60000, 28, 28)\n",
      "(60000, 28, 28, 1)\n",
      "(60000, 28, 28, 1)\n",
      "(1, 28, 28, 60000)\n"
     ]
    }
   ],
   "source": [
    "\n",
    "# numpy 방법\n",
    "expanded_data = np.expand_dims(train_x, 0) # 0이면 맨 앞에 차원수 늘리는 것)\n",
    "print(expanded_data.shape)\n",
    "\n",
    "# Tesnorflow 방법으로 늘리는 법\n",
    "tf_expanded_data = tf.expand_dims(train_x, -1) # -1이면 맨 뒤에 차원수 늘리는 것\n",
    "print(tf_expanded_data.shape)\n",
    "\n",
    "# Tensorflow 방법 2\n",
    "print(train_x[..., tf.newaxis].shape)\n",
    "\n",
    "# reshape 방법\n",
    "print(train_x.reshape([1,28,28,60000]).shape)"
   ]
  },
  {
   "cell_type": "code",
   "execution_count": 16,
   "metadata": {},
   "outputs": [
    {
     "name": "stdout",
     "output_type": "stream",
     "text": [
      "(60000, 28, 28, 1)\n",
      "(28, 28, 1)\n"
     ]
    },
    {
     "data": {
      "text/plain": [
       "<matplotlib.image.AxesImage at 0x28fe6f84048>"
      ]
     },
     "execution_count": 16,
     "metadata": {},
     "output_type": "execute_result"
    },
    {
     "data": {
      "image/png": "[encoded data removed]",
      "text/plain": [
       "<Figure size 432x288 with 1 Axes>"
      ]
     },
     "metadata": {
      "needs_background": "light"
     },
     "output_type": "display_data"
    }
   ],
   "source": [
    "# 3차원으로 이미지 show 시 오류 뜸\n",
    "expanded_image = tf_expanded_data\n",
    "print(expanded_image.shape)\n",
    "print(expanded_image[0].shape)\n",
    "\n",
    "# np.squeeze 함수로 이미지 차원 축소\n",
    "disp = np.squeeze(expanded_image[0])\n",
    "plt.imshow(disp, 'gray')"
   ]
  },
  {
   "cell_type": "markdown",
   "metadata": {},
   "source": [
    "## one hot encoding \n",
    "- Classification 이니까 펼치는 것\n",
    "- 1, 2, 3, 4 이렇게가면 linear 하게 인식 할 수 있음\n",
    "- tensorflow.keras.utils.to_categorical"
   ]
  },
  {
   "cell_type": "code",
   "execution_count": 20,
   "metadata": {},
   "outputs": [
    {
     "name": "stdout",
     "output_type": "stream",
     "text": [
      "[0. 1. 0. 0. 0. 0. 0. 0. 0. 0.]\n",
      "[0. 0. 0. 1. 0. 0. 0. 0. 0. 0.]\n",
      "onehot encoding\n",
      "5\n",
      "[0. 0. 0. 0. 0. 1. 0. 0. 0. 0.]\n"
     ]
    }
   ],
   "source": [
    "from tensorflow.keras.utils import to_categorical\n",
    "\n",
    "# 10개 중에서 5를 1로 변경 (6번째임)\n",
    "print(to_categorical(1,10)) # y, num_category\n",
    "print(to_categorical(3,10))\n",
    "\n",
    "print('--onehot encoding--')\n",
    "label = train_y[0]\n",
    "print(label)\n",
    "label_onehot = to_categorical(label, 10)\n",
    "print(label_onehot)"
   ]
  }
 ],
 "metadata": {
  "kernelspec": {
   "display_name": "Python 3",
   "language": "python",
   "name": "python3"
  },
  "language_info": {
   "codemirror_mode": {
    "name": "ipython",
    "version": 3
   },
   "file_extension": ".py",
   "mimetype": "text/x-python",
   "name": "python",
   "nbconvert_exporter": "python",
   "pygments_lexer": "ipython3",
   "version": "3.7.5"
  }
 },
 "nbformat": 4,
 "nbformat_minor": 4
}
